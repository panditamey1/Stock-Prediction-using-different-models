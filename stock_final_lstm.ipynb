{
  "nbformat": 4,
  "nbformat_minor": 0,
  "metadata": {
    "colab": {
      "provenance": [],
      "authorship_tag": "ABX9TyNPeoYu31FhbMuXtNc0qWTa",
      "include_colab_link": true
    },
    "kernelspec": {
      "name": "python3",
      "display_name": "Python 3"
    },
    "language_info": {
      "name": "python"
    },
    "accelerator": "GPU",
    "gpuClass": "standard"
  },
  "cells": [
    {
      "cell_type": "markdown",
      "metadata": {
        "id": "view-in-github",
        "colab_type": "text"
      },
      "source": [
        "<a href=\"https://colab.research.google.com/github/panditamey1/Stock-Prediction-using-different-models/blob/main/stock_final_lstm.ipynb\" target=\"_parent\"><img src=\"https://colab.research.google.com/assets/colab-badge.svg\" alt=\"Open In Colab\"/></a>"
      ]
    },
    {
      "cell_type": "code",
      "execution_count": null,
      "metadata": {
        "id": "709ejQNFwAaE"
      },
      "outputs": [],
      "source": []
    },
    {
      "cell_type": "markdown",
      "source": [
        "## create classes\n"
      ],
      "metadata": {
        "id": "4dY1FUlPYFqD"
      }
    },
    {
      "cell_type": "code",
      "source": [
        "! pip install yfinance\n"
      ],
      "metadata": {
        "colab": {
          "base_uri": "https://localhost:8080/"
        },
        "id": "6iMFPXPQzKOx",
        "outputId": "c677b280-e9ab-467f-eaa6-ef6af14d870f"
      },
      "execution_count": 1,
      "outputs": [
        {
          "output_type": "stream",
          "name": "stdout",
          "text": [
            "Looking in indexes: https://pypi.org/simple, https://us-python.pkg.dev/colab-wheels/public/simple/\n",
            "Collecting yfinance\n",
            "  Downloading yfinance-0.2.3-py2.py3-none-any.whl (50 kB)\n",
            "\u001b[K     |████████████████████████████████| 50 kB 3.3 MB/s \n",
            "\u001b[?25hRequirement already satisfied: numpy>=1.16.5 in /usr/local/lib/python3.8/dist-packages (from yfinance) (1.21.6)\n",
            "Collecting cryptography>=3.3.2\n",
            "  Downloading cryptography-38.0.4-cp36-abi3-manylinux_2_24_x86_64.whl (4.0 MB)\n",
            "\u001b[K     |████████████████████████████████| 4.0 MB 9.4 MB/s \n",
            "\u001b[?25hRequirement already satisfied: pandas>=1.3.0 in /usr/local/lib/python3.8/dist-packages (from yfinance) (1.3.5)\n",
            "Collecting beautifulsoup4>=4.11.1\n",
            "  Downloading beautifulsoup4-4.11.1-py3-none-any.whl (128 kB)\n",
            "\u001b[K     |████████████████████████████████| 128 kB 14.9 MB/s \n",
            "\u001b[?25hRequirement already satisfied: appdirs>=1.4.4 in /usr/local/lib/python3.8/dist-packages (from yfinance) (1.4.4)\n",
            "Requirement already satisfied: multitasking>=0.0.7 in /usr/local/lib/python3.8/dist-packages (from yfinance) (0.0.11)\n",
            "Collecting html5lib>=1.1\n",
            "  Downloading html5lib-1.1-py2.py3-none-any.whl (112 kB)\n",
            "\u001b[K     |████████████████████████████████| 112 kB 60.1 MB/s \n",
            "\u001b[?25hCollecting frozendict>=2.3.4\n",
            "  Downloading frozendict-2.3.4-cp38-cp38-manylinux_2_17_x86_64.manylinux2014_x86_64.whl (110 kB)\n",
            "\u001b[K     |████████████████████████████████| 110 kB 4.5 MB/s \n",
            "\u001b[?25hRequirement already satisfied: lxml>=4.9.1 in /usr/local/lib/python3.8/dist-packages (from yfinance) (4.9.2)\n",
            "Requirement already satisfied: pytz>=2022.5 in /usr/local/lib/python3.8/dist-packages (from yfinance) (2022.6)\n",
            "Collecting requests>=2.26\n",
            "  Downloading requests-2.28.1-py3-none-any.whl (62 kB)\n",
            "\u001b[K     |████████████████████████████████| 62 kB 1.6 MB/s \n",
            "\u001b[?25hCollecting soupsieve>1.2\n",
            "  Downloading soupsieve-2.3.2.post1-py3-none-any.whl (37 kB)\n",
            "Requirement already satisfied: cffi>=1.12 in /usr/local/lib/python3.8/dist-packages (from cryptography>=3.3.2->yfinance) (1.15.1)\n",
            "Requirement already satisfied: pycparser in /usr/local/lib/python3.8/dist-packages (from cffi>=1.12->cryptography>=3.3.2->yfinance) (2.21)\n",
            "Requirement already satisfied: six>=1.9 in /usr/local/lib/python3.8/dist-packages (from html5lib>=1.1->yfinance) (1.15.0)\n",
            "Requirement already satisfied: webencodings in /usr/local/lib/python3.8/dist-packages (from html5lib>=1.1->yfinance) (0.5.1)\n",
            "Requirement already satisfied: python-dateutil>=2.7.3 in /usr/local/lib/python3.8/dist-packages (from pandas>=1.3.0->yfinance) (2.8.2)\n",
            "Requirement already satisfied: certifi>=2017.4.17 in /usr/local/lib/python3.8/dist-packages (from requests>=2.26->yfinance) (2022.12.7)\n",
            "Requirement already satisfied: urllib3<1.27,>=1.21.1 in /usr/local/lib/python3.8/dist-packages (from requests>=2.26->yfinance) (1.24.3)\n",
            "Requirement already satisfied: idna<4,>=2.5 in /usr/local/lib/python3.8/dist-packages (from requests>=2.26->yfinance) (2.10)\n",
            "Requirement already satisfied: charset-normalizer<3,>=2 in /usr/local/lib/python3.8/dist-packages (from requests>=2.26->yfinance) (2.1.1)\n",
            "Installing collected packages: soupsieve, requests, html5lib, frozendict, cryptography, beautifulsoup4, yfinance\n",
            "  Attempting uninstall: requests\n",
            "    Found existing installation: requests 2.23.0\n",
            "    Uninstalling requests-2.23.0:\n",
            "      Successfully uninstalled requests-2.23.0\n",
            "  Attempting uninstall: html5lib\n",
            "    Found existing installation: html5lib 1.0.1\n",
            "    Uninstalling html5lib-1.0.1:\n",
            "      Successfully uninstalled html5lib-1.0.1\n",
            "  Attempting uninstall: beautifulsoup4\n",
            "    Found existing installation: beautifulsoup4 4.6.3\n",
            "    Uninstalling beautifulsoup4-4.6.3:\n",
            "      Successfully uninstalled beautifulsoup4-4.6.3\n",
            "Successfully installed beautifulsoup4-4.11.1 cryptography-38.0.4 frozendict-2.3.4 html5lib-1.1 requests-2.28.1 soupsieve-2.3.2.post1 yfinance-0.2.3\n"
          ]
        }
      ]
    },
    {
      "cell_type": "code",
      "source": [],
      "metadata": {
        "id": "bT_1SjDsMYHq"
      },
      "execution_count": 2,
      "outputs": []
    },
    {
      "cell_type": "code",
      "source": [
        "import numpy as np\n",
        "import pandas as pd\n",
        "import matplotlib.pyplot as plt\n",
        "import tensorflow as tf\n",
        "import seaborn as sns\n",
        "import yfinance as yf\n",
        "import random\n",
        "from sklearn.preprocessing import MinMaxScaler\n",
        "\n",
        "keras = tf.keras\n",
        "\n",
        "# set style of charts\n",
        "sns.set(style=\"darkgrid\")\n",
        "plt.rcParams['figure.figsize'] = [10, 10]\n",
        "\n"
      ],
      "metadata": {
        "id": "dQ5UEVZcvwPm"
      },
      "execution_count": 2,
      "outputs": []
    },
    {
      "cell_type": "code",
      "source": [
        " \n",
        " \n"
      ],
      "metadata": {
        "id": "3bhdq3bO1-_3"
      },
      "execution_count": null,
      "outputs": []
    },
    {
      "cell_type": "code",
      "source": [
        "from pandas.core import window\n",
        "from sklearn.preprocessing import StandardScaler\n",
        "class StockData():\n",
        "  def __init__(self, ticker, window_size = 26, batch_size = 1):\n",
        "    self.ticker = ticker\n",
        "    self.window_size = window_size\n",
        "    self.batch_size = batch_size\n",
        "\n",
        "\n",
        "  def sequential_window_dataset(self, series):\n",
        "    ds = tf.data.Dataset.from_tensor_slices(series)\n",
        "    ds = ds.window(self.window_size + 1, shift=self.window_size, drop_remainder=True)\n",
        "    ds = ds.flat_map(lambda window: window.batch(self.window_size + 1))\n",
        "    ds = ds.map(lambda window: (window[:-1], window[1:]))\n",
        "    return ds.repeat().batch(self.batch_size).prefetch(1)\n",
        "\n",
        "  def prepareData(self):\n",
        "    ticker = self.ticker\n",
        "    data = yf.download(ticker + '.ns', group_by=\"ticker\", start = '1990-01-01', end = '2022-12-20')\n",
        "\n",
        "    data['Date'] = data.index\n",
        "    data['ticker'] = ticker \n",
        "    data.reset_index(drop=True, inplace=True)\n",
        "    data['Date'] = pd.to_datetime(data['Date'])\n",
        "\n",
        "    # Save target series\n",
        "    series = data['Close']\n",
        "    startIndex = len(data) - 90\n",
        "    \n",
        "    # Create train data set\n",
        "    train_split_date = data.iloc[startIndex]['Date']\n",
        "    train_split_index = np.where(data.Date == train_split_date)[0][0]\n",
        "    x_train = data.loc[data['Date'] <= train_split_date]['Close']\n",
        "\n",
        "    # Create test data set\n",
        "    test_split_date = data.iloc[startIndex]['Date']\n",
        "    test_split_index = np.where(data.Date == test_split_date)[0][0]\n",
        "    self.x_test = data.loc[data['Date'] >= test_split_date]['Close']\n",
        "    self.x_test_dates = data.loc[data['Date'] >= test_split_date]['Date']\n",
        "    # Create valid data set\n",
        "    #valid_split_index = (train_split_index.max(),test_split_index.min())\n",
        "    #x_valid = data.loc[(data['Date'] < test_split_date) & (data['Date'] > train_split_date)]['Close']\n",
        "\n",
        "    rem = len(x_train) % self.window_size\n",
        "    x_train = x_train[rem:]\n",
        "\n",
        "\n",
        "\n",
        "\n",
        "    # Reshape values\n",
        "    x_train_values = x_train.values.reshape(-1, 1)\n",
        "    self.x_test_values = self.x_test.values.reshape(-1, 1)\n",
        "\n",
        "    #  Create Scaler Object\n",
        "    self.x_train_scaler = StandardScaler()\n",
        "\n",
        "    # Fit x_train values\n",
        "    self.normalized_x_train = self.x_train_scaler.fit_transform(x_train_values)\n",
        "\n",
        "    # Fit x_valid values\n",
        "\n",
        "    # Fit x_test values\n",
        "    self.normalized_x_test = self.x_train_scaler.transform(self.x_test_values)\n",
        "\n",
        "    self.steps_per_epoch = len(x_train)//self.batch_size\n",
        "\n",
        "    self.validation_steps = len(self.x_test)//self.batch_size # if you have validation data \n",
        "    # All values normalized to training data\n",
        "    #data_normalized_to_traindata = x_train_scaler.transform(series.values.reshape(-1, 1))\n",
        "  def get_training_set(self):\n",
        "    self.train_set =  self.sequential_window_dataset(self.normalized_x_train)\n",
        "    return self.train_set\n",
        "  def get_validation_set(self):\n",
        "    self.validation_set =  self.sequential_window_dataset(self.normalized_x_test)\n",
        "    return self.validation_set\n",
        "  def get_testing_set(self):\n",
        "    return self.normalized_x_test[np.newaxis,:]\n",
        "\n",
        "    return self.testing_set\n",
        "  def get_numpy_train_data(self):\n",
        "    return list(self.train_set.as_numpy_iterator())\n",
        "\n",
        "  def plot_series(self, time, series, format=\"-\", start=0, end=None, label=None):\n",
        "    plt.plot(time[start:end], series[start:end], format, label=label)\n",
        "    plt.xlabel(\"Time\")\n",
        "    plt.ylabel(\"Value\")\n",
        "    if label:\n",
        "        plt.legend(fontsize=14)\n",
        "    plt.grid(True)"
      ],
      "metadata": {
        "id": "YmxivE1UYIcW"
      },
      "execution_count": null,
      "outputs": []
    },
    {
      "cell_type": "code",
      "source": [
        "class ResetStatesCallback(keras.callbacks.Callback):\n",
        "    def on_epoch_begin(self, epoch, logs):\n",
        "        self.model.reset_states()"
      ],
      "metadata": {
        "id": "45o6MA5cv-9i"
      },
      "execution_count": null,
      "outputs": []
    },
    {
      "cell_type": "code",
      "source": [
        "class StockModel():\n",
        "  def __init__(self, lstm_nodes = [100, 100] , first_model = False, prev_ticker = \"\", ticker = \"\", window_size = 26, batch_size = 1):\n",
        "    self.lstm_nodes = lstm_nodes\n",
        "    self.prev_ticker = prev_ticker\n",
        "    self.ticker = ticker\n",
        "    self.batch_size = batch_size\n",
        "    self.window_size = window_size  \n",
        "    self.model_name = \"PrevTicker_\"+self.prev_ticker +\"_checkpoint_\"+str(self.window_size)+\"_BS_\"+str(self.batch_size)\n",
        "  \n",
        "    if first_model:\n",
        "\n",
        "      model_list = []\n",
        "      model_list.append(keras.layers.LSTM(self.lstm_nodes[0], return_sequences=True, stateful=True,\n",
        "                              batch_input_shape=[self.batch_size, None, 1]))\n",
        "      for nodes in lstm_nodes[1:]:\n",
        "        model_list.append(keras.layers.LSTM(nodes, return_sequences=True, stateful=True))\n",
        "        \n",
        "      \n",
        "      model_list.append(keras.layers.Dense(1))\n",
        "      self.model = keras.models.Sequential(model_list)\n",
        "      \n",
        "      # set optimizer\n",
        "      optimizer = keras.optimizers.Nadam(lr=1e-3)\n",
        "\n",
        "      # compile model\n",
        "      self.model.compile(loss=keras.losses.Huber(),\n",
        "                    optimizer=optimizer,\n",
        "                    metrics=[\"mae\"])\n",
        "    else:\n",
        "      self.model = keras.models.load_model(self.model_name)\n",
        "\n",
        "    self.Stockdata = StockData(self.ticker,self.window_size, self.batch_size)\n",
        "\n",
        "     \n",
        "  def prepare_data(self):\n",
        "    self.Stockdata.prepareData( )\n",
        "    self.training_set = self.Stockdata.get_training_set()\n",
        "    self.validation_set = self.Stockdata.get_validation_set()\n",
        "    self.test_set = self.Stockdata.get_testing_set()\n",
        "    self.steps_per_epoch = self.Stockdata.steps_per_epoch\n",
        "    self.validation_steps = self.Stockdata.steps_per_epoch\n",
        "\n",
        "  def train(self, epochs, patience):\n",
        "    self.model_name = \"PrevTicker_\"+self.ticker +\"_checkpoint_\"+str(self.window_size)+\"_BS_\"+str(self.batch_size)\n",
        "    # reset states\n",
        "    reset_states = ResetStatesCallback()\n",
        "    #set up save best only checkpoint\n",
        "    # model_checkpoint = keras.callbacks.ModelCheckpoint(\n",
        "      #  self.model_name, save_best_only=True)\n",
        "\n",
        "    early_stopping = keras.callbacks.EarlyStopping(patience=patience)\n",
        "\n",
        "    # fit model\n",
        "    history = self.model.fit(self.training_set, epochs=epochs,\n",
        "        steps_per_epoch=self.steps_per_epoch,\n",
        "        validation_steps=self.validation_steps,\n",
        "              validation_data=self.validation_set,\n",
        "              # callbacks=[early_stopping, model_checkpoint ,reset_states])\n",
        "              callbacks=[early_stopping ,reset_states])\n",
        "    print(\"Training finished\")\n",
        "    self.model.save(self.model_name)\n",
        "    return history\n",
        "  def evaluate(self):\n",
        "    # make predictions\n",
        "    rnn_forecast = self.model.predict(self.test_set)\n",
        "    self.Stockdata.rnn_forecast = rnn_forecast.flatten()\n",
        "    self.Stockdata.rnn_unscaled_forecast = self.Stockdata.x_train_scaler.inverse_transform(self.Stockdata.rnn_forecast.reshape(-1,1)).flatten()\n",
        "\n",
        "  def test_evaluate(self):\n",
        "    # make predictions\n",
        "    rnn_forecast = self.model.predict(self.testing_set)\n",
        "    self.Stockdata.rnn_forecast_test = rnn_forecast.flatten()\n",
        "    self.Stockdata.rnn_unscaled_forecast_test = self.Stockdata.x_train_scaler.inverse_transform(self.Stockdata.rnn_forecast_test.reshape(-1,1)).flatten()\n",
        "    \n",
        "  def show_result_test(self,start_win_size, offset):\n",
        "    # plot results\n",
        "    plt.figure(figsize=(10,6))\n",
        "\n",
        "    plt.ylabel('Rupees ')\n",
        "    plt.xlabel('Timestep in Days')\n",
        "    plt.title(f'LSTM { start_win_size } Forecast')\n",
        "    self.Stockdata.plot_series(self.Stockdata.x_test_dates[start_win_size:start_win_size + offset], self.Stockdata.x_test[start_win_size:start_win_size + offset], label=\"Actual\")\n",
        "    self.Stockdata.plot_series(self.Stockdata.x_test_dates[start_win_size:start_win_size + offset], self.Stockdata.rnn_unscaled_forecast_test[start_win_size :start_win_size + offset], label=\"Forecast\")\n",
        "    plt.show()\n",
        "\n",
        "  def show_result(self,start_win_size, offset):\n",
        "    # plot results\n",
        "    plt.figure(figsize=(10,6))\n",
        "\n",
        "    plt.ylabel('Rupees ')\n",
        "    plt.xlabel('Timestep in Days')\n",
        "    plt.title(f'LSTM { start_win_size } Forecast')\n",
        "    self.Stockdata.plot_series(self.Stockdata.x_test_dates[start_win_size:start_win_size + offset], self.Stockdata.x_test[start_win_size:start_win_size + offset], label=\"Actual\")\n",
        "    self.Stockdata.plot_series(self.Stockdata.x_test_dates[start_win_size:start_win_size + offset], self.Stockdata.rnn_unscaled_forecast[start_win_size :start_win_size + offset], label=\"Forecast\")\n",
        "    plt.show()\n",
        "  def load_current_model(self):\n",
        "    self.model = keras.models.load_model(\"PrevTicker_\"+self.prev_ticker +\"_checkpoint_\"+str(self.window_size)+\"_BS_\"+str(self.batch_size))\n",
        "\n",
        "  def show_train_data(self):\n",
        "    return self.Stockdata.get_numpy_train_data()\n",
        "\n",
        "  def save_model(self):\n",
        "    self.model.save(self.model_name)\n"
      ],
      "metadata": {
        "id": "eXJUQL9ea7ug"
      },
      "execution_count": null,
      "outputs": []
    },
    {
      "cell_type": "code",
      "source": [
        "reliance_stock_model = StockModel(lstm_nodes = [100, 100] , first_model = True, prev_ticker = \"\", ticker = \"RELIANCE\", window_size = 30, batch_size = 1)"
      ],
      "metadata": {
        "colab": {
          "base_uri": "https://localhost:8080/"
        },
        "id": "ps98tzWjxUXz",
        "outputId": "1e29894e-d46c-48b7-b1f1-49742958bee2"
      },
      "execution_count": null,
      "outputs": [
        {
          "output_type": "stream",
          "name": "stderr",
          "text": [
            "/usr/local/lib/python3.8/dist-packages/keras/optimizers/optimizer_v2/nadam.py:78: UserWarning: The `lr` argument is deprecated, use `learning_rate` instead.\n",
            "  super(Nadam, self).__init__(name, **kwargs)\n"
          ]
        }
      ]
    },
    {
      "cell_type": "code",
      "source": [
        "reliance_stock_model.prepare_data()\n"
      ],
      "metadata": {
        "colab": {
          "base_uri": "https://localhost:8080/"
        },
        "id": "jr3BI6Z2051Y",
        "outputId": "2e98f093-8804-4d3f-ad7e-434ea529f087"
      },
      "execution_count": null,
      "outputs": [
        {
          "output_type": "stream",
          "name": "stdout",
          "text": [
            "\r[*********************100%***********************]  1 of 1 completed\n"
          ]
        }
      ]
    },
    {
      "cell_type": "code",
      "source": [],
      "metadata": {
        "id": "KgOVwrle2AjV"
      },
      "execution_count": null,
      "outputs": []
    },
    {
      "cell_type": "code",
      "source": [
        "reliance_stock_model.train(3,10) "
      ],
      "metadata": {
        "colab": {
          "base_uri": "https://localhost:8080/"
        },
        "id": "xfEnHeUIy-BW",
        "outputId": "8747b296-4b3a-4c7d-e04a-627f58c59c78"
      },
      "execution_count": null,
      "outputs": [
        {
          "output_type": "stream",
          "name": "stdout",
          "text": [
            "Epoch 1/3\n",
            "6690/6690 [==============================] - 94s 14ms/step - loss: 0.0021 - mae: 0.0238 - val_loss: 0.0039 - val_mae: 0.0708\n",
            "Epoch 2/3\n",
            "6690/6690 [==============================] - 90s 14ms/step - loss: 5.4996e-04 - mae: 0.0152 - val_loss: 0.0021 - val_mae: 0.0514\n",
            "Epoch 3/3\n",
            "6690/6690 [==============================] - 91s 14ms/step - loss: 4.4115e-04 - mae: 0.0143 - val_loss: 0.0024 - val_mae: 0.0541\n",
            "Training finished\n"
          ]
        },
        {
          "output_type": "stream",
          "name": "stderr",
          "text": [
            "WARNING:absl:Found untraced functions such as lstm_cell_6_layer_call_fn, lstm_cell_6_layer_call_and_return_conditional_losses, lstm_cell_7_layer_call_fn, lstm_cell_7_layer_call_and_return_conditional_losses while saving (showing 4 of 4). These functions will not be directly callable after loading.\n"
          ]
        },
        {
          "output_type": "execute_result",
          "data": {
            "text/plain": [
              "<keras.callbacks.History at 0x7ff3ce8e3400>"
            ]
          },
          "metadata": {},
          "execution_count": 82
        }
      ]
    },
    {
      "cell_type": "code",
      "source": [
        "reliance_stock_model.evaluate()\n",
        "\n",
        "reliance_stock_model.show_result(0,5)"
      ],
      "metadata": {
        "colab": {
          "base_uri": "https://localhost:8080/",
          "height": 427
        },
        "id": "rlcB_1u66xxZ",
        "outputId": "bb70621c-32fc-4217-a126-a2a290aea8e7"
      },
      "execution_count": null,
      "outputs": [
        {
          "output_type": "stream",
          "name": "stdout",
          "text": [
            "1/1 [==============================] - 0s 21ms/step\n"
          ]
        },
        {
          "output_type": "display_data",
          "data": {
            "text/plain": [
              "<Figure size 720x432 with 1 Axes>"
            ],
            "image/png": "[encoded data removed]"
          },
          "metadata": {}
        }
      ]
    },
    {
      "cell_type": "code",
      "source": [
        "reliance_stock_model.show_result(7,7)"
      ],
      "metadata": {
        "colab": {
          "base_uri": "https://localhost:8080/",
          "height": 410
        },
        "id": "vKmD2_Wl2SxP",
        "outputId": "2459afcf-ddde-4e66-81e6-5c011f2c9105"
      },
      "execution_count": null,
      "outputs": [
        {
          "output_type": "display_data",
          "data": {
            "text/plain": [
              "<Figure size 720x432 with 1 Axes>"
            ],
            "image/png": "[encoded data removed]"
          },
          "metadata": {}
        }
      ]
    },
    {
      "cell_type": "code",
      "source": [
        "reliance_stock_model.Stockdata.normalized_x_test[-30:].shape"
      ],
      "metadata": {
        "colab": {
          "base_uri": "https://localhost:8080/"
        },
        "id": "OAxnwwl0bnMA",
        "outputId": "26ec4950-a448-4544-b907-b9f29a0ef558"
      },
      "execution_count": null,
      "outputs": [
        {
          "output_type": "execute_result",
          "data": {
            "text/plain": [
              "(30, 1)"
            ]
          },
          "metadata": {},
          "execution_count": 88
        }
      ]
    },
    {
      "cell_type": "code",
      "source": [
        "reliance_stock_model.model.predict(reliance_stock_model.Stockdata.normalized_x_test[-2:][np.newaxis,:]).shape"
      ],
      "metadata": {
        "colab": {
          "base_uri": "https://localhost:8080/"
        },
        "id": "wtvNzfqWYhTb",
        "outputId": "51a37331-e92f-4fab-eb1a-3f5ac93ae54e"
      },
      "execution_count": null,
      "outputs": [
        {
          "output_type": "stream",
          "name": "stdout",
          "text": [
            "1/1 [==============================] - 0s 15ms/step\n"
          ]
        },
        {
          "output_type": "execute_result",
          "data": {
            "text/plain": [
              "(1, 2, 1)"
            ]
          },
          "metadata": {},
          "execution_count": 97
        }
      ]
    },
    {
      "cell_type": "code",
      "source": [
        "reliance_stock_model.Stockdata.rnn_unscaled_forecast.shape"
      ],
      "metadata": {
        "colab": {
          "base_uri": "https://localhost:8080/"
        },
        "id": "V4rKBuMRbTld",
        "outputId": "5a6b67ce-bb70-4172-c0a6-abe0fe7efa3f"
      },
      "execution_count": null,
      "outputs": [
        {
          "output_type": "execute_result",
          "data": {
            "text/plain": [
              "(90,)"
            ]
          },
          "metadata": {},
          "execution_count": 92
        }
      ]
    },
    {
      "cell_type": "code",
      "source": [
        "keras.backend.clear_session()\n",
        "tf.random.set_seed(42)\n",
        "np.random.seed(42)\n",
        "import numpy as np\n",
        "import pandas as pd\n",
        "import yfinance as yf\n",
        "import tensorflow as tf\n",
        "from tensorflow.keras.layers import Dense, LSTM\n",
        "from tensorflow.keras.models import Sequential\n",
        "from sklearn.preprocessing import MinMaxScaler\n",
        "pd.options.mode.chained_assignment = None\n",
        "tf.random.set_seed(0)\n",
        "import os\n",
        "import datetime\n",
        "\n",
        "import IPython\n",
        "import IPython.display\n",
        "import matplotlib as mpl\n",
        "import matplotlib.pyplot as plt\n",
        "import numpy as np\n",
        "import pandas as pd\n",
        "import seaborn as sns\n",
        "import tensorflow as tf\n",
        "\n",
        "mpl.rcParams['figure.figsize'] = (8, 6)\n",
        "mpl.rcParams['axes.grid'] = False\n",
        "\n"
      ],
      "metadata": {
        "colab": {
          "base_uri": "https://localhost:8080/",
          "height": 235
        },
        "id": "EiI113xScWYQ",
        "outputId": "8bcca2a4-3fd6-4f79-b07f-c5086d0b0d93"
      },
      "execution_count": 1,
      "outputs": [
        {
          "output_type": "error",
          "ename": "NameError",
          "evalue": "ignored",
          "traceback": [
            "\u001b[0;31m---------------------------------------------------------------------------\u001b[0m",
            "\u001b[0;31mNameError\u001b[0m                                 Traceback (most recent call last)",
            "\u001b[0;32m<ipython-input-1-4e50ac0457f5>\u001b[0m in \u001b[0;36m<module>\u001b[0;34m\u001b[0m\n\u001b[0;32m----> 1\u001b[0;31m \u001b[0mkeras\u001b[0m\u001b[0;34m.\u001b[0m\u001b[0mbackend\u001b[0m\u001b[0;34m.\u001b[0m\u001b[0mclear_session\u001b[0m\u001b[0;34m(\u001b[0m\u001b[0;34m)\u001b[0m\u001b[0;34m\u001b[0m\u001b[0;34m\u001b[0m\u001b[0m\n\u001b[0m\u001b[1;32m      2\u001b[0m \u001b[0mtf\u001b[0m\u001b[0;34m.\u001b[0m\u001b[0mrandom\u001b[0m\u001b[0;34m.\u001b[0m\u001b[0mset_seed\u001b[0m\u001b[0;34m(\u001b[0m\u001b[0;36m42\u001b[0m\u001b[0;34m)\u001b[0m\u001b[0;34m\u001b[0m\u001b[0;34m\u001b[0m\u001b[0m\n\u001b[1;32m      3\u001b[0m \u001b[0mnp\u001b[0m\u001b[0;34m.\u001b[0m\u001b[0mrandom\u001b[0m\u001b[0;34m.\u001b[0m\u001b[0mseed\u001b[0m\u001b[0;34m(\u001b[0m\u001b[0;36m42\u001b[0m\u001b[0;34m)\u001b[0m\u001b[0;34m\u001b[0m\u001b[0;34m\u001b[0m\u001b[0m\n\u001b[1;32m      4\u001b[0m \u001b[0;32mimport\u001b[0m \u001b[0mnumpy\u001b[0m \u001b[0;32mas\u001b[0m \u001b[0mnp\u001b[0m\u001b[0;34m\u001b[0m\u001b[0;34m\u001b[0m\u001b[0m\n\u001b[1;32m      5\u001b[0m \u001b[0;32mimport\u001b[0m \u001b[0mpandas\u001b[0m \u001b[0;32mas\u001b[0m \u001b[0mpd\u001b[0m\u001b[0;34m\u001b[0m\u001b[0;34m\u001b[0m\u001b[0m\n",
            "\u001b[0;31mNameError\u001b[0m: name 'keras' is not defined"
          ]
        }
      ]
    },
    {
      "cell_type": "code",
      "source": [
        "ticker = \"RELIANCE\"\n",
        "# download the data\n",
        "data = yf.download(ticker + '.ns', group_by=\"ticker\", start = '1990-01-01', end = '2022-12-01')\n",
        "data['Date'] = data.index\n",
        "data.reset_index(drop=True, inplace=True)\n",
        "data.drop(['Open', 'High','Low','Adj Close','Volume'], axis = 1, inplace = True)\n",
        "\n",
        "data['Date'] = pd.to_datetime(data['Date'])\n",
        "date_time = data.pop('Date')\n",
        "\n",
        "# Save target series\n",
        "series = data['Close']\n",
        "  \n",
        "# Create train data set\n",
        "n = len(data)\n",
        "train_df = data[0:int(n*0.85)]\n",
        "val_df = data[int(n*0.85):int(n*0.9)]\n",
        "test_df = data[int(n*0.9):]"
      ],
      "metadata": {
        "id": "Lj-0lSIYncb6",
        "outputId": "3bd2e1a6-2fe4-4616-c338-ef4a6e154dd7",
        "colab": {
          "base_uri": "https://localhost:8080/"
        }
      },
      "execution_count": 17,
      "outputs": [
        {
          "output_type": "stream",
          "name": "stdout",
          "text": [
            "\r[*********************100%***********************]  1 of 1 completed\n"
          ]
        }
      ]
    },
    {
      "cell_type": "code",
      "source": [
        "from sklearn.preprocessing import StandardScaler\n",
        "\n",
        "class WindowGenerator():\n",
        "  def __init__(self, input_width, label_width, shift,\n",
        "              #  train_df, val_df, test_df,\n",
        "               label_columns=['Close']):\n",
        "\n",
        "    train_mean = train_df.mean()\n",
        "    train_std = train_df.std()\n",
        "\n",
        "    scaler = StandardScaler()\n",
        "    \n",
        "    self.train_df['Close'] = scaler.fit_transform(train_df['Close'])  # - train_mean) / train_std\n",
        "    self.val_df['Close'] = scaler.transform(val_df['Close']) \n",
        "    self.test_df['Close'] = scaler.transform(test_df['Close'])\n",
        "    self.scaler = scaler \n",
        "\n",
        "\n",
        "\n",
        "\n",
        "    # Work out the label column indices.\n",
        "    self.label_columns = label_columns\n",
        "    if label_columns is not None:\n",
        "      self.label_columns_indices = {name: i for i, name in\n",
        "                                    enumerate(label_columns)}\n",
        "    self.column_indices = {name: i for i, name in\n",
        "                           enumerate(self.train_df.columns)}\n",
        "\n",
        "    # Work out the window parameters.\n",
        "    self.input_width = input_width\n",
        "    self.label_width = label_width\n",
        "    self.shift = shift\n",
        "\n",
        "    self.total_window_size = input_width + shift\n",
        "\n",
        "    self.input_slice = slice(0, input_width)\n",
        "    self.input_indices = np.arange(self.total_window_size)[self.input_slice]\n",
        "\n",
        "    self.label_start = self.total_window_size - self.label_width\n",
        "    self.labels_slice = slice(self.label_start, None)\n",
        "    self.label_indices = np.arange(self.total_window_size)[self.labels_slice]\n",
        "\n",
        "  def __repr__(self):\n",
        "    return '\\n'.join([\n",
        "        f'Total window size: {self.total_window_size}',\n",
        "        f'Input indices: {self.input_indices}',\n",
        "        f'Label indices: {self.label_indices}',\n",
        "        f'Label column name(s): {self.label_columns}'])\n",
        "  def plot(self, model=None, plot_col='Close', max_subplots=3):\n",
        "    inputs, labels = self.example\n",
        "    plt.figure(figsize=(12, 8))\n",
        "    plot_col_index = self.column_indices[plot_col]\n",
        "    max_n = min(max_subplots, len(inputs))\n",
        "    for n in range(max_n):\n",
        "      plt.subplot(max_n, 1, n+1)\n",
        "      plt.ylabel(f'{plot_col} [normed]')\n",
        "      plt.plot(self.input_indices, inputs[n, :, plot_col_index],\n",
        "              label='Inputs', marker='.', zorder=-10)\n",
        "\n",
        "      if self.label_columns:\n",
        "        label_col_index = self.label_columns_indices.get(plot_col, None)\n",
        "      else:\n",
        "        label_col_index = plot_col_index\n",
        "\n",
        "      if label_col_index is None:\n",
        "        continue\n",
        "\n",
        "      plt.scatter(self.label_indices, labels[n, :, label_col_index],\n",
        "                  edgecolors='k', label='Labels', c='#2ca02c', s=64)\n",
        "      if model is not None:\n",
        "        predictions = model(inputs)\n",
        "        plt.scatter(self.label_indices, predictions[n, :, label_col_index],\n",
        "                    marker='X', edgecolors='k', label='Predictions',\n",
        "                    c='#ff7f0e', s=64)\n",
        "\n",
        "      if n == 0:\n",
        "        plt.legend()\n",
        "\n",
        "    plt.xlabel('Time [h]')\n",
        "\n"
      ],
      "metadata": {
        "id": "6Pkc5nADIC2O"
      },
      "execution_count": 19,
      "outputs": []
    },
    {
      "cell_type": "code",
      "source": [
        "def split_window(self, features):\n",
        "  inputs = features[:, self.input_slice, :]\n",
        "  labels = features[:, self.labels_slice, :]\n",
        "  if self.label_columns is not None:\n",
        "    labels = tf.stack(\n",
        "        [labels[:, :, self.column_indices[name]] for name in self.label_columns],\n",
        "        axis=-1)\n",
        "\n",
        "  # Slicing doesn't preserve static shape information, so set the shapes\n",
        "  # manually. This way the `tf.data.Datasets` are easier to inspect.\n",
        "  inputs.set_shape([None, self.input_width, None])\n",
        "  labels.set_shape([None, self.label_width, None])\n",
        "\n",
        "  return inputs, labels\n",
        "\n",
        "WindowGenerator.split_window = split_window"
      ],
      "metadata": {
        "id": "evbJdkC6oIq0"
      },
      "execution_count": null,
      "outputs": []
    },
    {
      "cell_type": "code",
      "source": [
        "def make_dataset(self, data):\n",
        "  data = np.array(data, dtype=np.float32)\n",
        "  ds = tf.keras.utils.timeseries_dataset_from_array(\n",
        "      data=data,\n",
        "      targets=None,\n",
        "      sequence_length=self.total_window_size,\n",
        "      sequence_stride=1,\n",
        "      shuffle=True,\n",
        "      batch_size=32,)\n",
        "\n",
        "  ds = ds.map(self.split_window)\n",
        "\n",
        "  return ds\n",
        "\n",
        "WindowGenerator.make_dataset = make_dataset"
      ],
      "metadata": {
        "id": "zLcVztpFoIoN"
      },
      "execution_count": null,
      "outputs": []
    },
    {
      "cell_type": "code",
      "source": [
        "@property\n",
        "def train(self):\n",
        "  return self.make_dataset(self.train_df)\n",
        "\n",
        "@property\n",
        "def val(self):\n",
        "  return self.make_dataset(self.val_df)\n",
        "\n",
        "@property\n",
        "def test(self):\n",
        "  return self.make_dataset(self.test_df)\n",
        "\n",
        "@property\n",
        "def example(self):\n",
        "  \"\"\"Get and cache an example batch of `inputs, labels` for plotting.\"\"\"\n",
        "  result = getattr(self, '_example', None)\n",
        "  if result is None:\n",
        "    # No example batch was found, so get one from the `.train` dataset\n",
        "    result = next(iter(self.train))\n",
        "    # And cache it for next time\n",
        "    self._example = result\n",
        "  return result\n",
        "\n",
        "WindowGenerator.train = train\n",
        "WindowGenerator.val = val\n",
        "WindowGenerator.test = test\n",
        "WindowGenerator.example = example"
      ],
      "metadata": {
        "id": "sxlvnMNToMEo"
      },
      "execution_count": null,
      "outputs": []
    },
    {
      "cell_type": "code",
      "source": [],
      "metadata": {
        "id": "hZJKcrajoMCD"
      },
      "execution_count": null,
      "outputs": []
    },
    {
      "cell_type": "code",
      "source": [],
      "metadata": {
        "colab": {
          "base_uri": "https://localhost:8080/"
        },
        "id": "hDGW56uBHqGV",
        "outputId": "c341700a-3bb9-4eb0-907b-544d4254fc73"
      },
      "execution_count": 4,
      "outputs": [
        {
          "output_type": "stream",
          "name": "stdout",
          "text": [
            "\r[*********************100%***********************]  1 of 1 completed\n"
          ]
        },
        {
          "output_type": "execute_result",
          "data": {
            "text/plain": [
              "Total window size: 37\n",
              "Input indices: [ 0  1  2  3  4  5  6  7  8  9 10 11 12 13 14 15 16 17 18 19 20 21 22 23\n",
              " 24 25 26 27 28 29]\n",
              "Label indices: [30 31 32 33 34 35 36]\n",
              "Label column name(s): ['Close']"
            ]
          },
          "metadata": {},
          "execution_count": 4
        }
      ]
    },
    {
      "cell_type": "code",
      "source": [
        "MAX_EPOCHS = 100\n",
        "\n",
        "def compile_and_fit(model, window, patience=10):\n",
        "  early_stopping = tf.keras.callbacks.EarlyStopping(monitor='val_loss',\n",
        "                                                    patience=patience,\n",
        "                                                    mode='min')\n",
        "  optimizer = keras.optimizers.Nadam(lr=1e-3)\n",
        "\n",
        "        # compile model\n",
        "  model.compile(loss=keras.losses.Huber(),\n",
        "                      optimizer=optimizer,\n",
        "                      metrics=[\"mae\"])\n",
        "  # model.compile(loss=tf.keras.losses.MeanSquaredError(),\n",
        "  #               optimizer=tf.keras.optimizers.Adam(),\n",
        "  #               metrics=[tf.keras.metrics.MeanAbsoluteError()])\n",
        "\n",
        "  history = model.fit(window.train, epochs=MAX_EPOCHS,\n",
        "                      validation_data=window.val,\n",
        "                      callbacks=[early_stopping])\n",
        "  return history"
      ],
      "metadata": {
        "id": "q6zYhHcq0KQ8"
      },
      "execution_count": 5,
      "outputs": []
    },
    {
      "cell_type": "code",
      "source": [
        "%%time\n",
        "wide_window = WindowGenerator(\n",
        "    input_width=24, label_width=24, shift=1)\n",
        "\n",
        "lstm_model = tf.keras.models.Sequential([\n",
        "    # Shape [batch, time, features] => [batch, time, lstm_units]\n",
        "    tf.keras.layers.LSTM(32, return_sequences=True),\n",
        "    # Shape => [batch, time, features]\n",
        "    tf.keras.layers.Dense(units=24)\n",
        "])\n",
        "\n",
        "history = compile_and_fit(lstm_model, wide_window)\n",
        "\n",
        "IPython.display.clear_output()\n",
        "val_performance['LSTM'] = lstm_model.evaluate( wide_window.val)\n",
        "performance['LSTM'] = lstm_model.evaluate( wide_window.test, verbose=0)\n",
        "\n",
        "print()"
      ],
      "metadata": {
        "id": "Lk3P0sC00MSd"
      },
      "execution_count": 6,
      "outputs": []
    },
    {
      "cell_type": "code",
      "source": [
        "OUT_STEPS = 7\n",
        "multi_window = WindowGenerator(input_width=30,\n",
        "                               label_width=OUT_STEPS,\n",
        "                               shift=OUT_STEPS)\n",
        "\n",
        "multi_window\n",
        "multi_val_performance = {}\n",
        "multi_performance = {}"
      ],
      "metadata": {
        "id": "CB67kaxj0MQC"
      },
      "execution_count": 7,
      "outputs": []
    },
    {
      "cell_type": "code",
      "source": [
        "keras.backend.clear_session()\n",
        "tf.random.set_seed(42)\n",
        "np.random.seed(42)\n",
        "multi_lstm_model = tf.keras.Sequential([\n",
        "    # Shape [batch, time, features] => [batch, lstm_units].\n",
        "    # Adding more `lstm_units` just overfits more quickly.\n",
        "    tf.keras.layers.LSTM(100, return_sequences=True),\n",
        "    tf.keras.layers.LSTM(100, return_sequences=True),\n",
        "    tf.keras.layers.LSTM(100, return_sequences=False),\n",
        "\n",
        "    # Shape => [batch, out_steps*features].\n",
        "    tf.keras.layers.Dense(OUT_STEPS*1,\n",
        "                          kernel_initializer=tf.initializers.zeros()),\n",
        "    # Shape => [batch, out_steps, features].\n",
        "    tf.keras.layers.Reshape([OUT_STEPS, 1])\n",
        "])\n",
        "\n",
        "history = compile_and_fit(multi_lstm_model, multi_window)\n",
        "\n",
        "IPython.display.clear_output()\n",
        "\n",
        "multi_val_performance['LSTM'] = multi_lstm_model.evaluate(multi_window.val)\n",
        "multi_performance['LSTM'] = multi_lstm_model.evaluate(multi_window.test, verbose=0)\n",
        "multi_window.plot(multi_lstm_model)"
      ],
      "metadata": {
        "id": "_h5mZyR-0MNh"
      },
      "execution_count": 8,
      "outputs": []
    },
    {
      "cell_type": "code",
      "source": [],
      "metadata": {
        "id": "-kyDnBze0L27"
      },
      "execution_count": 63,
      "outputs": []
    },
    {
      "cell_type": "code",
      "source": [],
      "metadata": {
        "colab": {
          "base_uri": "https://localhost:8080/"
        },
        "id": "Gec89TUL14dP",
        "outputId": "ae4f7008-b924-4a50-9229-498478c00ca0"
      },
      "execution_count": 48,
      "outputs": [
        {
          "output_type": "stream",
          "name": "stdout",
          "text": [
            "\r[*********************100%***********************]  1 of 1 completed\n",
            "          Open      High       Low     Close  Adj Close    Volume\n",
            "5752  3.015234  2.983078  2.872298  2.842665   2.964151 -0.369511\n",
            "5753  2.802098  2.798750  2.820624  2.813041   2.933944 -0.419932\n",
            "5754  2.884560  2.840141  2.774418  2.779691   2.899936 -0.359983\n",
            "5755  2.739740  2.710265  2.717841  2.723984   2.843131 -0.351405\n",
            "5756  2.728199  2.770420  2.738963  2.776524   2.896706 -0.446995\n",
            "...        ...       ...       ...       ...        ...       ...\n",
            "6086  3.833152  3.862776  3.870520  3.886764   4.057073 -0.381957\n",
            "6087  3.916172  3.862408  3.817337  3.875026   4.045039 -0.429036\n",
            "6088  3.916917  3.877677  3.810171  3.768641   3.935957 -0.354283\n",
            "6089  3.610896  3.620868  3.565377  3.619032   3.782556 -0.325612\n",
            "6090  3.499395  3.447394  3.014309  3.034568   3.183277  0.158679\n",
            "\n",
            "[339 rows x 6 columns]\n"
          ]
        },
        {
          "output_type": "execute_result",
          "data": {
            "text/plain": [
              "<MapDataset element_spec=(TensorSpec(shape=(None, 30, 6), dtype=tf.float32, name=None), TensorSpec(shape=(None, 7, 1), dtype=tf.float32, name=None))>"
            ]
          },
          "metadata": {},
          "execution_count": 48
        }
      ]
    },
    {
      "cell_type": "code",
      "source": [
        "column_indices = {name: i for i, name in enumerate(single_step_window.train_df.columns)}\n",
        "\n",
        "column_indices['Close']"
      ],
      "metadata": {
        "colab": {
          "base_uri": "https://localhost:8080/"
        },
        "id": "8Gl-W9ru2zWN",
        "outputId": "e4111ab8-3a00-4775-bacc-164ebaf69d64"
      },
      "execution_count": 23,
      "outputs": [
        {
          "output_type": "execute_result",
          "data": {
            "text/plain": [
              "3"
            ]
          },
          "metadata": {},
          "execution_count": 23
        }
      ]
    },
    {
      "cell_type": "code",
      "source": [],
      "metadata": {
        "id": "7JVyfwsk1twN"
      },
      "execution_count": null,
      "outputs": []
    },
    {
      "cell_type": "code",
      "source": [],
      "metadata": {
        "colab": {
          "base_uri": "https://localhost:8080/"
        },
        "id": "OoLg46Z51tqR",
        "outputId": "17ac61fd-e6ac-441e-f10c-feafec9476ea"
      },
      "execution_count": 50,
      "outputs": [
        {
          "output_type": "stream",
          "name": "stdout",
          "text": [
            "\r[*********************100%***********************]  1 of 1 completed\n"
          ]
        }
      ]
    },
    {
      "cell_type": "code",
      "source": [],
      "metadata": {
        "id": "rJy_rO5kZ2v0"
      },
      "execution_count": 9,
      "outputs": []
    },
    {
      "cell_type": "code",
      "source": [],
      "metadata": {
        "id": "4Th6snH_1tLp"
      },
      "execution_count": null,
      "outputs": []
    },
    {
      "cell_type": "code",
      "source": [
        "\n",
        "class MultiStepLastBaseline(tf.keras.Model):\n",
        "  def call(self, inputs):\n",
        "    print(inputs.shape)\n",
        "    print(tf.tile(inputs[:, -1:, :], [1, OUT_STEPS, 1]).shape)\n",
        "    return tf.tile(inputs[:, -1:, :], [1, OUT_STEPS, 1])\n",
        "\n",
        "last_baseline = MultiStepLastBaseline()\n",
        "last_baseline.compile(loss=tf.keras.losses.MeanSquaredError(),\n",
        "                      metrics=[tf.keras.metrics.MeanAbsoluteError()])\n",
        "\n",
        "\n",
        "multi_val_performance['Last'] = last_baseline.evaluate(multi_window.val)\n",
        "multi_performance['Last'] = last_baseline.evaluate(multi_window.test, verbose=0)\n",
        "multi_window.plot(last_baseline)"
      ],
      "metadata": {
        "colab": {
          "base_uri": "https://localhost:8080/",
          "height": 606
        },
        "id": "pf1vWjQWadSQ",
        "outputId": "824aa0dc-793a-4ad8-a52f-f11c2829ab67"
      },
      "execution_count": 12,
      "outputs": [
        {
          "output_type": "stream",
          "name": "stdout",
          "text": [
            "(None, 200, 1)\n",
            "(None, 3, 1)\n",
            "5/5 [==============================] - 0s 3ms/step - loss: 0.0145 - mean_absolute_error: 0.0892\n",
            "(32, 200, 1)\n",
            "(32, 3, 1)\n",
            "(32, 200, 1)\n",
            "(32, 3, 1)\n",
            "(32, 200, 1)\n",
            "(32, 3, 1)\n"
          ]
        },
        {
          "output_type": "display_data",
          "data": {
            "text/plain": [
              "<Figure size 864x576 with 3 Axes>"
            ],
            "image/png": "[encoded data removed]"
          },
          "metadata": {}
        }
      ]
    },
    {
      "cell_type": "code",
      "source": [],
      "metadata": {
        "id": "XTwntyD_kVF2"
      },
      "execution_count": null,
      "outputs": []
    },
    {
      "cell_type": "code",
      "source": [],
      "metadata": {
        "colab": {
          "base_uri": "https://localhost:8080/",
          "height": 444
        },
        "id": "iNI8DLxWcn91",
        "outputId": "01aa76b9-0894-4705-b853-e49831d0665b"
      },
      "execution_count": 14,
      "outputs": [
        {
          "output_type": "stream",
          "name": "stdout",
          "text": [
            "5/5 [==============================] - 0s 12ms/step - loss: 0.1932 - mae: 0.5367\n"
          ]
        },
        {
          "output_type": "display_data",
          "data": {
            "text/plain": [
              "<Figure size 864x576 with 3 Axes>"
            ],
            "image/png": "[encoded data removed]"
          },
          "metadata": {}
        }
      ]
    },
    {
      "cell_type": "code",
      "source": [],
      "metadata": {
        "id": "36hrnU3YwFbT"
      },
      "execution_count": null,
      "outputs": []
    },
    {
      "cell_type": "code",
      "source": [],
      "metadata": {
        "id": "xXI_f_7G3U0g"
      },
      "execution_count": null,
      "outputs": []
    },
    {
      "cell_type": "code",
      "source": [],
      "metadata": {
        "id": "1_VFdpoCvNb7"
      },
      "execution_count": null,
      "outputs": []
    },
    {
      "cell_type": "code",
      "source": [],
      "metadata": {
        "colab": {
          "base_uri": "https://localhost:8080/"
        },
        "id": "XTUh78-UtY3j",
        "outputId": "61feef86-804d-49c8-b08d-565a51c135ca"
      },
      "execution_count": null,
      "outputs": [
        {
          "output_type": "stream",
          "name": "stdout",
          "text": [
            "(20,)\n",
            "(20,)\n"
          ]
        }
      ]
    },
    {
      "cell_type": "code",
      "source": [],
      "metadata": {
        "id": "7kuduimpiauZ"
      },
      "execution_count": null,
      "outputs": []
    },
    {
      "cell_type": "code",
      "source": [],
      "metadata": {
        "colab": {
          "base_uri": "https://localhost:8080/",
          "height": 269
        },
        "id": "cOteVSP7e6RB",
        "outputId": "116e6769-ea03-4e55-af01-c1a086e8d6fa"
      },
      "execution_count": null,
      "outputs": [
        {
          "output_type": "execute_result",
          "data": {
            "text/plain": [
              "        Date  Actual     Forecast\n",
              "0 2022-12-20     NaN  2603.447754\n",
              "1 2022-12-21     NaN  2605.114990\n",
              "2 2022-12-22     NaN  2602.030762\n",
              "3 2022-12-23     NaN  2612.487061\n",
              "4 2022-12-24     NaN  2599.490967\n",
              "5 2022-12-25     NaN  2613.791748\n",
              "6 2022-12-26     NaN  2592.664062"
            ],
            "text/html": [
              "\n",
              "  <div id=\"df-c3f32a90-fffa-4d98-b220-236429cef6ae\">\n",
              "    <div class=\"colab-df-container\">\n",
              "      <div>\n",
              "<style scoped>\n",
              "    .dataframe tbody tr th:only-of-type {\n",
              "        vertical-align: middle;\n",
              "    }\n",
              "\n",
              "    .dataframe tbody tr th {\n",
              "        vertical-align: top;\n",
              "    }\n",
              "\n",
              "    .dataframe thead th {\n",
              "        text-align: right;\n",
              "    }\n",
              "</style>\n",
              "<table border=\"1\" class=\"dataframe\">\n",
              "  <thead>\n",
              "    <tr style=\"text-align: right;\">\n",
              "      <th></th>\n",
              "      <th>Date</th>\n",
              "      <th>Actual</th>\n",
              "      <th>Forecast</th>\n",
              "    </tr>\n",
              "  </thead>\n",
              "  <tbody>\n",
              "    <tr>\n",
              "      <th>0</th>\n",
              "      <td>2022-12-20</td>\n",
              "      <td>NaN</td>\n",
              "      <td>2603.447754</td>\n",
              "    </tr>\n",
              "    <tr>\n",
              "      <th>1</th>\n",
              "      <td>2022-12-21</td>\n",
              "      <td>NaN</td>\n",
              "      <td>2605.114990</td>\n",
              "    </tr>\n",
              "    <tr>\n",
              "      <th>2</th>\n",
              "      <td>2022-12-22</td>\n",
              "      <td>NaN</td>\n",
              "      <td>2602.030762</td>\n",
              "    </tr>\n",
              "    <tr>\n",
              "      <th>3</th>\n",
              "      <td>2022-12-23</td>\n",
              "      <td>NaN</td>\n",
              "      <td>2612.487061</td>\n",
              "    </tr>\n",
              "    <tr>\n",
              "      <th>4</th>\n",
              "      <td>2022-12-24</td>\n",
              "      <td>NaN</td>\n",
              "      <td>2599.490967</td>\n",
              "    </tr>\n",
              "    <tr>\n",
              "      <th>5</th>\n",
              "      <td>2022-12-25</td>\n",
              "      <td>NaN</td>\n",
              "      <td>2613.791748</td>\n",
              "    </tr>\n",
              "    <tr>\n",
              "      <th>6</th>\n",
              "      <td>2022-12-26</td>\n",
              "      <td>NaN</td>\n",
              "      <td>2592.664062</td>\n",
              "    </tr>\n",
              "  </tbody>\n",
              "</table>\n",
              "</div>\n",
              "      <button class=\"colab-df-convert\" onclick=\"convertToInteractive('df-c3f32a90-fffa-4d98-b220-236429cef6ae')\"\n",
              "              title=\"Convert this dataframe to an interactive table.\"\n",
              "              style=\"display:none;\">\n",
              "        \n",
              "  <svg xmlns=\"http://www.w3.org/2000/svg\" height=\"24px\"viewBox=\"0 0 24 24\"\n",
              "       width=\"24px\">\n",
              "    <path d=\"M0 0h24v24H0V0z\" fill=\"none\"/>\n",
              "    <path d=\"M18.56 5.44l.94 2.06.94-2.06 2.06-.94-2.06-.94-.94-2.06-.94 2.06-2.06.94zm-11 1L8.5 8.5l.94-2.06 2.06-.94-2.06-.94L8.5 2.5l-.94 2.06-2.06.94zm10 10l.94 2.06.94-2.06 2.06-.94-2.06-.94-.94-2.06-.94 2.06-2.06.94z\"/><path d=\"M17.41 7.96l-1.37-1.37c-.4-.4-.92-.59-1.43-.59-.52 0-1.04.2-1.43.59L10.3 9.45l-7.72 7.72c-.78.78-.78 2.05 0 2.83L4 21.41c.39.39.9.59 1.41.59.51 0 1.02-.2 1.41-.59l7.78-7.78 2.81-2.81c.8-.78.8-2.07 0-2.86zM5.41 20L4 18.59l7.72-7.72 1.47 1.35L5.41 20z\"/>\n",
              "  </svg>\n",
              "      </button>\n",
              "      \n",
              "  <style>\n",
              "    .colab-df-container {\n",
              "      display:flex;\n",
              "      flex-wrap:wrap;\n",
              "      gap: 12px;\n",
              "    }\n",
              "\n",
              "    .colab-df-convert {\n",
              "      background-color: #E8F0FE;\n",
              "      border: none;\n",
              "      border-radius: 50%;\n",
              "      cursor: pointer;\n",
              "      display: none;\n",
              "      fill: #1967D2;\n",
              "      height: 32px;\n",
              "      padding: 0 0 0 0;\n",
              "      width: 32px;\n",
              "    }\n",
              "\n",
              "    .colab-df-convert:hover {\n",
              "      background-color: #E2EBFA;\n",
              "      box-shadow: 0px 1px 2px rgba(60, 64, 67, 0.3), 0px 1px 3px 1px rgba(60, 64, 67, 0.15);\n",
              "      fill: #174EA6;\n",
              "    }\n",
              "\n",
              "    [theme=dark] .colab-df-convert {\n",
              "      background-color: #3B4455;\n",
              "      fill: #D2E3FC;\n",
              "    }\n",
              "\n",
              "    [theme=dark] .colab-df-convert:hover {\n",
              "      background-color: #434B5C;\n",
              "      box-shadow: 0px 1px 3px 1px rgba(0, 0, 0, 0.15);\n",
              "      filter: drop-shadow(0px 1px 2px rgba(0, 0, 0, 0.3));\n",
              "      fill: #FFFFFF;\n",
              "    }\n",
              "  </style>\n",
              "\n",
              "      <script>\n",
              "        const buttonEl =\n",
              "          document.querySelector('#df-c3f32a90-fffa-4d98-b220-236429cef6ae button.colab-df-convert');\n",
              "        buttonEl.style.display =\n",
              "          google.colab.kernel.accessAllowed ? 'block' : 'none';\n",
              "\n",
              "        async function convertToInteractive(key) {\n",
              "          const element = document.querySelector('#df-c3f32a90-fffa-4d98-b220-236429cef6ae');\n",
              "          const dataTable =\n",
              "            await google.colab.kernel.invokeFunction('convertToInteractive',\n",
              "                                                     [key], {});\n",
              "          if (!dataTable) return;\n",
              "\n",
              "          const docLinkHtml = 'Like what you see? Visit the ' +\n",
              "            '<a target=\"_blank\" href=https://colab.research.google.com/notebooks/data_table.ipynb>data table notebook</a>'\n",
              "            + ' to learn more about interactive tables.';\n",
              "          element.innerHTML = '';\n",
              "          dataTable['output_type'] = 'display_data';\n",
              "          await google.colab.output.renderOutput(dataTable, element);\n",
              "          const docLink = document.createElement('div');\n",
              "          docLink.innerHTML = docLinkHtml;\n",
              "          element.appendChild(docLink);\n",
              "        }\n",
              "      </script>\n",
              "    </div>\n",
              "  </div>\n",
              "  "
            ]
          },
          "metadata": {},
          "execution_count": 103
        }
      ]
    },
    {
      "cell_type": "code",
      "source": [],
      "metadata": {
        "colab": {
          "base_uri": "https://localhost:8080/",
          "height": 667
        },
        "id": "4EfcKgCmgWR-",
        "outputId": "b7a61a86-7606-4e49-c849-fb733bfe205a"
      },
      "execution_count": null,
      "outputs": [
        {
          "output_type": "execute_result",
          "data": {
            "text/plain": [
              "<matplotlib.axes._subplots.AxesSubplot at 0x7ff377bc9460>"
            ]
          },
          "metadata": {},
          "execution_count": 106
        },
        {
          "output_type": "display_data",
          "data": {
            "text/plain": [
              "<Figure size 720x720 with 1 Axes>"
            ],
            "image/png": "[encoded data removed]"
          },
          "metadata": {}
        }
      ]
    },
    {
      "cell_type": "code",
      "source": [],
      "metadata": {
        "colab": {
          "base_uri": "https://localhost:8080/",
          "height": 620
        },
        "id": "qJKOUy0PhJ0E",
        "outputId": "cd0832f7-7bbc-4849-f985-edf24b37277f"
      },
      "execution_count": null,
      "outputs": [
        {
          "output_type": "execute_result",
          "data": {
            "text/plain": [
              "<matplotlib.axes._subplots.AxesSubplot at 0x7ff3d6167a60>"
            ]
          },
          "metadata": {},
          "execution_count": 107
        },
        {
          "output_type": "display_data",
          "data": {
            "text/plain": [
              "<Figure size 720x720 with 1 Axes>"
            ],
            "image/png": "[encoded data removed]"
          },
          "metadata": {}
        }
      ]
    },
    {
      "cell_type": "markdown",
      "source": [
        "## New model CNN + LSTM"
      ],
      "metadata": {
        "id": "pCKIFdk2iREL"
      }
    },
    {
      "cell_type": "code",
      "source": [
        "!pip install yfinance"
      ],
      "metadata": {
        "id": "Sldm061XWhkt",
        "outputId": "3aa87994-676e-4b85-b90b-402b853fe7da",
        "colab": {
          "base_uri": "https://localhost:8080/",
          "height": 991
        }
      },
      "execution_count": 2,
      "outputs": [
        {
          "output_type": "stream",
          "name": "stdout",
          "text": [
            "Looking in indexes: https://pypi.org/simple, https://us-python.pkg.dev/colab-wheels/public/simple/\n",
            "Collecting yfinance\n",
            "  Downloading yfinance-0.2.3-py2.py3-none-any.whl (50 kB)\n",
            "\u001b[K     |████████████████████████████████| 50 kB 3.4 MB/s \n",
            "\u001b[?25hCollecting requests>=2.26\n",
            "  Downloading requests-2.28.1-py3-none-any.whl (62 kB)\n",
            "\u001b[K     |████████████████████████████████| 62 kB 1.9 MB/s \n",
            "\u001b[?25hCollecting beautifulsoup4>=4.11.1\n",
            "  Downloading beautifulsoup4-4.11.1-py3-none-any.whl (128 kB)\n",
            "\u001b[K     |████████████████████████████████| 128 kB 25.2 MB/s \n",
            "\u001b[?25hCollecting html5lib>=1.1\n",
            "  Downloading html5lib-1.1-py2.py3-none-any.whl (112 kB)\n",
            "\u001b[K     |████████████████████████████████| 112 kB 78.8 MB/s \n",
            "\u001b[?25hRequirement already satisfied: multitasking>=0.0.7 in /usr/local/lib/python3.8/dist-packages (from yfinance) (0.0.11)\n",
            "Requirement already satisfied: pytz>=2022.5 in /usr/local/lib/python3.8/dist-packages (from yfinance) (2022.6)\n",
            "Collecting frozendict>=2.3.4\n",
            "  Downloading frozendict-2.3.4-cp38-cp38-manylinux_2_17_x86_64.manylinux2014_x86_64.whl (110 kB)\n",
            "\u001b[K     |████████████████████████████████| 110 kB 76.7 MB/s \n",
            "\u001b[?25hRequirement already satisfied: numpy>=1.16.5 in /usr/local/lib/python3.8/dist-packages (from yfinance) (1.21.6)\n",
            "Requirement already satisfied: lxml>=4.9.1 in /usr/local/lib/python3.8/dist-packages (from yfinance) (4.9.2)\n",
            "Requirement already satisfied: pandas>=1.3.0 in /usr/local/lib/python3.8/dist-packages (from yfinance) (1.3.5)\n",
            "Requirement already satisfied: appdirs>=1.4.4 in /usr/local/lib/python3.8/dist-packages (from yfinance) (1.4.4)\n",
            "Collecting cryptography>=3.3.2\n",
            "  Downloading cryptography-38.0.4-cp36-abi3-manylinux_2_24_x86_64.whl (4.0 MB)\n",
            "\u001b[K     |████████████████████████████████| 4.0 MB 61.7 MB/s \n",
            "\u001b[?25hCollecting soupsieve>1.2\n",
            "  Downloading soupsieve-2.3.2.post1-py3-none-any.whl (37 kB)\n",
            "Requirement already satisfied: cffi>=1.12 in /usr/local/lib/python3.8/dist-packages (from cryptography>=3.3.2->yfinance) (1.15.1)\n",
            "Requirement already satisfied: pycparser in /usr/local/lib/python3.8/dist-packages (from cffi>=1.12->cryptography>=3.3.2->yfinance) (2.21)\n",
            "Requirement already satisfied: six>=1.9 in /usr/local/lib/python3.8/dist-packages (from html5lib>=1.1->yfinance) (1.15.0)\n",
            "Requirement already satisfied: webencodings in /usr/local/lib/python3.8/dist-packages (from html5lib>=1.1->yfinance) (0.5.1)\n",
            "Requirement already satisfied: python-dateutil>=2.7.3 in /usr/local/lib/python3.8/dist-packages (from pandas>=1.3.0->yfinance) (2.8.2)\n",
            "Requirement already satisfied: certifi>=2017.4.17 in /usr/local/lib/python3.8/dist-packages (from requests>=2.26->yfinance) (2022.12.7)\n",
            "Requirement already satisfied: charset-normalizer<3,>=2 in /usr/local/lib/python3.8/dist-packages (from requests>=2.26->yfinance) (2.1.1)\n",
            "Requirement already satisfied: idna<4,>=2.5 in /usr/local/lib/python3.8/dist-packages (from requests>=2.26->yfinance) (2.10)\n",
            "Requirement already satisfied: urllib3<1.27,>=1.21.1 in /usr/local/lib/python3.8/dist-packages (from requests>=2.26->yfinance) (1.24.3)\n",
            "Installing collected packages: soupsieve, requests, html5lib, frozendict, cryptography, beautifulsoup4, yfinance\n",
            "  Attempting uninstall: requests\n",
            "    Found existing installation: requests 2.23.0\n",
            "    Uninstalling requests-2.23.0:\n",
            "      Successfully uninstalled requests-2.23.0\n",
            "  Attempting uninstall: html5lib\n",
            "    Found existing installation: html5lib 1.0.1\n",
            "    Uninstalling html5lib-1.0.1:\n",
            "      Successfully uninstalled html5lib-1.0.1\n",
            "  Attempting uninstall: beautifulsoup4\n",
            "    Found existing installation: beautifulsoup4 4.6.3\n",
            "    Uninstalling beautifulsoup4-4.6.3:\n",
            "      Successfully uninstalled beautifulsoup4-4.6.3\n",
            "Successfully installed beautifulsoup4-4.11.1 cryptography-38.0.4 frozendict-2.3.4 html5lib-1.1 requests-2.28.1 soupsieve-2.3.2.post1 yfinance-0.2.3\n"
          ]
        },
        {
          "output_type": "display_data",
          "data": {
            "application/vnd.colab-display-data+json": {
              "pip_warning": {
                "packages": [
                  "requests"
                ]
              }
            }
          },
          "metadata": {}
        }
      ]
    },
    {
      "cell_type": "code",
      "source": [
        "import numpy as np\n",
        "import pandas as pd\n",
        "import matplotlib.pyplot as plt\n",
        "import tensorflow as tf\n",
        "import seaborn as sns\n",
        "import yfinance as yf\n",
        "import random\n",
        "from sklearn.preprocessing import MinMaxScaler\n",
        "\n",
        "keras = tf.keras\n",
        "\n",
        "# set style of charts\n",
        "sns.set(style=\"darkgrid\")\n",
        "plt.rcParams['figure.figsize'] = [10, 10]\n",
        "\n",
        "keras.backend.clear_session()\n"
      ],
      "metadata": {
        "id": "fATHmUZqVXO1"
      },
      "execution_count": 3,
      "outputs": []
    },
    {
      "cell_type": "code",
      "source": [
        "def windowed_dataset(series, window_size, batch_size, shuffle_buffer):\n",
        "  dataset = tf.data.Dataset.from_tensor_slices(series)\n",
        "  dataset = dataset.window(window_size + 1, shift=1, drop_remainder=True)\n",
        "  dataset = dataset.flat_map(lambda window: window.batch(window_size + 1))\n",
        "  dataset = dataset.shuffle(shuffle_buffer).map(lambda window: (window[:-1], window[-1]))\n",
        "  dataset = dataset.batch(batch_size).prefetch(1)\n",
        "  return dataset"
      ],
      "metadata": {
        "id": "jL5xdogtVXLR"
      },
      "execution_count": 32,
      "outputs": []
    },
    {
      "cell_type": "code",
      "source": [
        "window_size = 4\n",
        "batch_size = 3\n",
        "shuffle_buffer_size = 10\n",
        "split_time = 30\n"
      ],
      "metadata": {
        "id": "aIBY9ugvXL-p"
      },
      "execution_count": 25,
      "outputs": []
    },
    {
      "cell_type": "code",
      "source": [
        "series = np.array(list(range(100)))\n",
        "time = np.array(list(range(100)))\n",
        "\n",
        "time_train = time[:split_time]\n",
        "x_train = series[:split_time]\n",
        "time_valid = time[split_time:]\n",
        "x_valid = series[split_time:]\n",
        "\n",
        "data = windowed_dataset(x_train,window_size, batch_size,shuffle_buffer_size)"
      ],
      "metadata": {
        "id": "r9yqJhwGVXIb"
      },
      "execution_count": 37,
      "outputs": []
    },
    {
      "cell_type": "code",
      "source": [
        "keras.backend.clear_session()\n",
        "tf.random.set_seed(42)\n",
        "np.random.seed(42)\n",
        "model = keras.models.Sequential()\n",
        "model.add(keras.layers.Conv1D(filters = 32, kernel_size = 5, strides=1, padding='causal',\n",
        "activation='relu', input_shape = [None,1]))\n",
        "model.add(keras.layers.Bidirectional(keras.layers.LSTM(32,return_sequences=True)))\n",
        "model.add(keras.layers.Bidirectional(keras.layers.LSTM(32,return_sequences=True)))\n",
        "model.add(keras.layers.Dense(1))\n",
        "\n",
        "model.compile(loss = 'mse', optimizer = keras.optimizers.SGD(lr = 1e-6, momentum=0.9))\n",
        "history = model.fit(data, epochs = 100)"
      ],
      "metadata": {
        "id": "LrA1yHqgXTop",
        "outputId": "c9f26300-5fc8-4490-c960-cc8b5f758f6f",
        "colab": {
          "base_uri": "https://localhost:8080/"
        }
      },
      "execution_count": 38,
      "outputs": [
        {
          "output_type": "stream",
          "name": "stdout",
          "text": [
            "Epoch 1/100\n"
          ]
        },
        {
          "output_type": "stream",
          "name": "stderr",
          "text": [
            "/usr/local/lib/python3.8/dist-packages/keras/optimizers/optimizer_v2/gradient_descent.py:108: UserWarning: The `lr` argument is deprecated, use `learning_rate` instead.\n",
            "  super(SGD, self).__init__(name, **kwargs)\n"
          ]
        },
        {
          "output_type": "stream",
          "name": "stdout",
          "text": [
            "9/9 [==============================] - 5s 10ms/step - loss: 332.6494\n",
            "Epoch 2/100\n",
            "9/9 [==============================] - 0s 8ms/step - loss: 332.2349\n",
            "Epoch 3/100\n",
            "9/9 [==============================] - 0s 8ms/step - loss: 331.5485\n",
            "Epoch 4/100\n",
            "9/9 [==============================] - 0s 9ms/step - loss: 330.9238\n",
            "Epoch 5/100\n",
            "9/9 [==============================] - 0s 9ms/step - loss: 330.0410\n",
            "Epoch 6/100\n",
            "9/9 [==============================] - 0s 9ms/step - loss: 329.2673\n",
            "Epoch 7/100\n",
            "9/9 [==============================] - 0s 8ms/step - loss: 328.4907\n",
            "Epoch 8/100\n",
            "9/9 [==============================] - 0s 8ms/step - loss: 327.6834\n",
            "Epoch 9/100\n",
            "9/9 [==============================] - 0s 8ms/step - loss: 326.8361\n",
            "Epoch 10/100\n",
            "9/9 [==============================] - 0s 9ms/step - loss: 325.9523\n",
            "Epoch 11/100\n",
            "9/9 [==============================] - 0s 8ms/step - loss: 325.1022\n",
            "Epoch 12/100\n",
            "9/9 [==============================] - 0s 9ms/step - loss: 324.3807\n",
            "Epoch 13/100\n",
            "9/9 [==============================] - 0s 8ms/step - loss: 323.4215\n",
            "Epoch 14/100\n",
            "9/9 [==============================] - 0s 8ms/step - loss: 322.5484\n",
            "Epoch 15/100\n",
            "9/9 [==============================] - 0s 8ms/step - loss: 321.6419\n",
            "Epoch 16/100\n",
            "9/9 [==============================] - 0s 8ms/step - loss: 320.8986\n",
            "Epoch 17/100\n",
            "9/9 [==============================] - 0s 8ms/step - loss: 320.2619\n",
            "Epoch 18/100\n",
            "9/9 [==============================] - 0s 8ms/step - loss: 319.2489\n",
            "Epoch 19/100\n",
            "9/9 [==============================] - 0s 9ms/step - loss: 318.5368\n",
            "Epoch 20/100\n",
            "9/9 [==============================] - 0s 8ms/step - loss: 317.9609\n",
            "Epoch 21/100\n",
            "9/9 [==============================] - 0s 8ms/step - loss: 316.9665\n",
            "Epoch 22/100\n",
            "9/9 [==============================] - 0s 8ms/step - loss: 316.2620\n",
            "Epoch 23/100\n",
            "9/9 [==============================] - 0s 8ms/step - loss: 315.8588\n",
            "Epoch 24/100\n",
            "9/9 [==============================] - 0s 8ms/step - loss: 315.1126\n",
            "Epoch 25/100\n",
            "9/9 [==============================] - 0s 8ms/step - loss: 314.4319\n",
            "Epoch 26/100\n",
            "9/9 [==============================] - 0s 8ms/step - loss: 313.4300\n",
            "Epoch 27/100\n",
            "9/9 [==============================] - 0s 8ms/step - loss: 312.3911\n",
            "Epoch 28/100\n",
            "9/9 [==============================] - 0s 8ms/step - loss: 312.5025\n",
            "Epoch 29/100\n",
            "9/9 [==============================] - 0s 8ms/step - loss: 311.6613\n",
            "Epoch 30/100\n",
            "9/9 [==============================] - 0s 9ms/step - loss: 310.6299\n",
            "Epoch 31/100\n",
            "9/9 [==============================] - 0s 8ms/step - loss: 309.9059\n",
            "Epoch 32/100\n",
            "9/9 [==============================] - 0s 8ms/step - loss: 309.4688\n",
            "Epoch 33/100\n",
            "9/9 [==============================] - 0s 8ms/step - loss: 308.7483\n",
            "Epoch 34/100\n",
            "9/9 [==============================] - 0s 8ms/step - loss: 308.1436\n",
            "Epoch 35/100\n",
            "9/9 [==============================] - 0s 8ms/step - loss: 307.3794\n",
            "Epoch 36/100\n",
            "9/9 [==============================] - 0s 8ms/step - loss: 306.9302\n",
            "Epoch 37/100\n",
            "9/9 [==============================] - 0s 8ms/step - loss: 305.8150\n",
            "Epoch 38/100\n",
            "9/9 [==============================] - 0s 10ms/step - loss: 305.8973\n",
            "Epoch 39/100\n",
            "9/9 [==============================] - 0s 8ms/step - loss: 304.4397\n",
            "Epoch 40/100\n",
            "9/9 [==============================] - 0s 8ms/step - loss: 303.9414\n",
            "Epoch 41/100\n",
            "9/9 [==============================] - 0s 8ms/step - loss: 304.2990\n",
            "Epoch 42/100\n",
            "9/9 [==============================] - 0s 9ms/step - loss: 302.8527\n",
            "Epoch 43/100\n",
            "9/9 [==============================] - 0s 8ms/step - loss: 302.1629\n",
            "Epoch 44/100\n",
            "9/9 [==============================] - 0s 8ms/step - loss: 301.8865\n",
            "Epoch 45/100\n",
            "9/9 [==============================] - 0s 8ms/step - loss: 300.5629\n",
            "Epoch 46/100\n",
            "9/9 [==============================] - 0s 8ms/step - loss: 300.3681\n",
            "Epoch 47/100\n",
            "9/9 [==============================] - 0s 8ms/step - loss: 299.2653\n",
            "Epoch 48/100\n",
            "9/9 [==============================] - 0s 8ms/step - loss: 298.6321\n",
            "Epoch 49/100\n",
            "9/9 [==============================] - 0s 7ms/step - loss: 297.2180\n",
            "Epoch 50/100\n",
            "9/9 [==============================] - 0s 8ms/step - loss: 298.4608\n",
            "Epoch 51/100\n",
            "9/9 [==============================] - 0s 8ms/step - loss: 296.3321\n",
            "Epoch 52/100\n",
            "9/9 [==============================] - 0s 8ms/step - loss: 295.4113\n",
            "Epoch 53/100\n",
            "9/9 [==============================] - 0s 8ms/step - loss: 295.3337\n",
            "Epoch 54/100\n",
            "9/9 [==============================] - 0s 8ms/step - loss: 294.7974\n",
            "Epoch 55/100\n",
            "9/9 [==============================] - 0s 8ms/step - loss: 294.4001\n",
            "Epoch 56/100\n",
            "9/9 [==============================] - 0s 8ms/step - loss: 293.2707\n",
            "Epoch 57/100\n",
            "9/9 [==============================] - 0s 8ms/step - loss: 292.5163\n",
            "Epoch 58/100\n",
            "9/9 [==============================] - 0s 8ms/step - loss: 292.4888\n",
            "Epoch 59/100\n",
            "9/9 [==============================] - 0s 8ms/step - loss: 290.6048\n",
            "Epoch 60/100\n",
            "9/9 [==============================] - 0s 8ms/step - loss: 290.2905\n",
            "Epoch 61/100\n",
            "9/9 [==============================] - 0s 8ms/step - loss: 289.3058\n",
            "Epoch 62/100\n",
            "9/9 [==============================] - 0s 8ms/step - loss: 288.6497\n",
            "Epoch 63/100\n",
            "9/9 [==============================] - 0s 8ms/step - loss: 289.3116\n",
            "Epoch 64/100\n",
            "9/9 [==============================] - 0s 8ms/step - loss: 287.4001\n",
            "Epoch 65/100\n",
            "9/9 [==============================] - 0s 8ms/step - loss: 286.3061\n",
            "Epoch 66/100\n",
            "9/9 [==============================] - 0s 9ms/step - loss: 285.8921\n",
            "Epoch 67/100\n",
            "9/9 [==============================] - 0s 8ms/step - loss: 284.5750\n",
            "Epoch 68/100\n",
            "9/9 [==============================] - 0s 7ms/step - loss: 284.7444\n",
            "Epoch 69/100\n",
            "9/9 [==============================] - 0s 8ms/step - loss: 283.8024\n",
            "Epoch 70/100\n",
            "9/9 [==============================] - 0s 8ms/step - loss: 283.6519\n",
            "Epoch 71/100\n",
            "9/9 [==============================] - 0s 8ms/step - loss: 282.2589\n",
            "Epoch 72/100\n",
            "9/9 [==============================] - 0s 9ms/step - loss: 281.2772\n",
            "Epoch 73/100\n",
            "9/9 [==============================] - 0s 8ms/step - loss: 281.1837\n",
            "Epoch 74/100\n",
            "9/9 [==============================] - 0s 9ms/step - loss: 281.0489\n",
            "Epoch 75/100\n",
            "9/9 [==============================] - 0s 8ms/step - loss: 279.0479\n",
            "Epoch 76/100\n",
            "9/9 [==============================] - 0s 8ms/step - loss: 278.6601\n",
            "Epoch 77/100\n",
            "9/9 [==============================] - 0s 8ms/step - loss: 279.6853\n",
            "Epoch 78/100\n",
            "9/9 [==============================] - 0s 8ms/step - loss: 276.7720\n",
            "Epoch 79/100\n",
            "9/9 [==============================] - 0s 8ms/step - loss: 278.7630\n",
            "Epoch 80/100\n",
            "9/9 [==============================] - 0s 8ms/step - loss: 277.1737\n",
            "Epoch 81/100\n",
            "9/9 [==============================] - 0s 9ms/step - loss: 276.4614\n",
            "Epoch 82/100\n",
            "9/9 [==============================] - 0s 8ms/step - loss: 276.4700\n",
            "Epoch 83/100\n",
            "9/9 [==============================] - 0s 9ms/step - loss: 274.0463\n",
            "Epoch 84/100\n",
            "9/9 [==============================] - 0s 9ms/step - loss: 275.5954\n",
            "Epoch 85/100\n",
            "9/9 [==============================] - 0s 8ms/step - loss: 272.3509\n",
            "Epoch 86/100\n",
            "9/9 [==============================] - 0s 8ms/step - loss: 273.8872\n",
            "Epoch 87/100\n",
            "9/9 [==============================] - 0s 8ms/step - loss: 272.8499\n",
            "Epoch 88/100\n",
            "9/9 [==============================] - 0s 8ms/step - loss: 271.2001\n",
            "Epoch 89/100\n",
            "9/9 [==============================] - 0s 9ms/step - loss: 270.7736\n",
            "Epoch 90/100\n",
            "9/9 [==============================] - 0s 7ms/step - loss: 271.1540\n",
            "Epoch 91/100\n",
            "9/9 [==============================] - 0s 8ms/step - loss: 268.4008\n",
            "Epoch 92/100\n",
            "9/9 [==============================] - 0s 8ms/step - loss: 267.8828\n",
            "Epoch 93/100\n",
            "9/9 [==============================] - 0s 8ms/step - loss: 268.4988\n",
            "Epoch 94/100\n",
            "9/9 [==============================] - 0s 8ms/step - loss: 267.7732\n",
            "Epoch 95/100\n",
            "9/9 [==============================] - 0s 8ms/step - loss: 266.2139\n",
            "Epoch 96/100\n",
            "9/9 [==============================] - 0s 8ms/step - loss: 265.6605\n",
            "Epoch 97/100\n",
            "9/9 [==============================] - 0s 8ms/step - loss: 265.4299\n",
            "Epoch 98/100\n",
            "9/9 [==============================] - 0s 8ms/step - loss: 265.4284\n",
            "Epoch 99/100\n",
            "9/9 [==============================] - 0s 9ms/step - loss: 262.9151\n",
            "Epoch 100/100\n",
            "9/9 [==============================] - 0s 8ms/step - loss: 263.5969\n"
          ]
        }
      ]
    },
    {
      "cell_type": "code",
      "source": [],
      "metadata": {
        "id": "YNd7u0OUfTZ-"
      },
      "execution_count": 38,
      "outputs": []
    },
    {
      "cell_type": "code",
      "source": [
        "def plot_series(time, series, format=\"-\", start=0, end=None):\n",
        "    plt.plot(time[start:end], series[start:end], format)\n",
        "    plt.xlabel(\"Time\")\n",
        "    plt.ylabel(\"Value\")\n",
        "    plt.grid(True)"
      ],
      "metadata": {
        "id": "fSzOQsH3fNO0"
      },
      "execution_count": 39,
      "outputs": []
    },
    {
      "cell_type": "code",
      "source": [
        "forecast = []\n",
        "results = []\n",
        "for time in range(len(series) - window_size):\n",
        "  forecast.append(model.predict(series[time:time + window_size][np.newaxis]))\n",
        "\n",
        "forecast = forecast[split_time-window_size:]\n",
        "results = np.array(forecast)[:, 0, 0]\n",
        "\n",
        "\n",
        "plt.figure(figsize=(10, 6))\n",
        "\n",
        "plot_series(time_valid, x_valid)\n",
        "plot_series(time_valid, results)"
      ],
      "metadata": {
        "id": "kLC-dwsUac-q",
        "outputId": "b5a07ae0-3d7e-484c-e4cc-89a8b064b79e",
        "colab": {
          "base_uri": "https://localhost:8080/",
          "height": 1000
        }
      },
      "execution_count": 40,
      "outputs": [
        {
          "output_type": "stream",
          "name": "stdout",
          "text": [
            "1/1 [==============================] - 1s 1s/step\n",
            "1/1 [==============================] - 0s 17ms/step\n",
            "1/1 [==============================] - 0s 19ms/step\n",
            "1/1 [==============================] - 0s 17ms/step\n",
            "1/1 [==============================] - 0s 17ms/step\n",
            "1/1 [==============================] - 0s 15ms/step\n",
            "1/1 [==============================] - 0s 18ms/step\n",
            "1/1 [==============================] - 0s 18ms/step\n",
            "1/1 [==============================] - 0s 17ms/step\n",
            "1/1 [==============================] - 0s 17ms/step\n",
            "1/1 [==============================] - 0s 16ms/step\n",
            "1/1 [==============================] - 0s 17ms/step\n",
            "1/1 [==============================] - 0s 17ms/step\n",
            "1/1 [==============================] - 0s 17ms/step\n",
            "1/1 [==============================] - 0s 17ms/step\n",
            "1/1 [==============================] - 0s 17ms/step\n",
            "1/1 [==============================] - 0s 17ms/step\n",
            "1/1 [==============================] - 0s 17ms/step\n",
            "1/1 [==============================] - 0s 22ms/step\n",
            "1/1 [==============================] - 0s 19ms/step\n",
            "1/1 [==============================] - 0s 16ms/step\n",
            "1/1 [==============================] - 0s 16ms/step\n",
            "1/1 [==============================] - 0s 18ms/step\n",
            "1/1 [==============================] - 0s 17ms/step\n",
            "1/1 [==============================] - 0s 17ms/step\n",
            "1/1 [==============================] - 0s 17ms/step\n",
            "1/1 [==============================] - 0s 18ms/step\n",
            "1/1 [==============================] - 0s 18ms/step\n",
            "1/1 [==============================] - 0s 17ms/step\n",
            "1/1 [==============================] - 0s 18ms/step\n",
            "1/1 [==============================] - 0s 23ms/step\n",
            "1/1 [==============================] - 0s 16ms/step\n",
            "1/1 [==============================] - 0s 18ms/step\n",
            "1/1 [==============================] - 0s 17ms/step\n",
            "1/1 [==============================] - 0s 15ms/step\n",
            "1/1 [==============================] - 0s 16ms/step\n",
            "1/1 [==============================] - 0s 21ms/step\n",
            "1/1 [==============================] - 0s 16ms/step\n",
            "1/1 [==============================] - 0s 17ms/step\n",
            "1/1 [==============================] - 0s 16ms/step\n",
            "1/1 [==============================] - 0s 16ms/step\n",
            "1/1 [==============================] - 0s 17ms/step\n",
            "1/1 [==============================] - 0s 19ms/step\n",
            "1/1 [==============================] - 0s 17ms/step\n",
            "1/1 [==============================] - 0s 15ms/step\n",
            "1/1 [==============================] - 0s 16ms/step\n",
            "1/1 [==============================] - 0s 17ms/step\n",
            "1/1 [==============================] - 0s 17ms/step\n",
            "1/1 [==============================] - 0s 18ms/step\n",
            "1/1 [==============================] - 0s 17ms/step\n",
            "1/1 [==============================] - 0s 15ms/step\n",
            "1/1 [==============================] - 0s 17ms/step\n",
            "1/1 [==============================] - 0s 16ms/step\n",
            "1/1 [==============================] - 0s 17ms/step\n",
            "1/1 [==============================] - 0s 21ms/step\n",
            "1/1 [==============================] - 0s 20ms/step\n",
            "1/1 [==============================] - 0s 21ms/step\n",
            "1/1 [==============================] - 0s 26ms/step\n",
            "1/1 [==============================] - 0s 19ms/step\n",
            "1/1 [==============================] - 0s 19ms/step\n",
            "1/1 [==============================] - 0s 19ms/step\n",
            "1/1 [==============================] - 0s 21ms/step\n",
            "1/1 [==============================] - 0s 21ms/step\n",
            "1/1 [==============================] - 0s 17ms/step\n",
            "1/1 [==============================] - 0s 17ms/step\n",
            "1/1 [==============================] - 0s 20ms/step\n",
            "1/1 [==============================] - 0s 17ms/step\n",
            "1/1 [==============================] - 0s 20ms/step\n",
            "1/1 [==============================] - 0s 17ms/step\n",
            "1/1 [==============================] - 0s 17ms/step\n",
            "1/1 [==============================] - 0s 19ms/step\n",
            "1/1 [==============================] - 0s 18ms/step\n",
            "1/1 [==============================] - 0s 19ms/step\n",
            "1/1 [==============================] - 0s 18ms/step\n",
            "1/1 [==============================] - 0s 20ms/step\n",
            "1/1 [==============================] - 0s 18ms/step\n",
            "1/1 [==============================] - 0s 18ms/step\n",
            "1/1 [==============================] - 0s 22ms/step\n",
            "1/1 [==============================] - 0s 17ms/step\n",
            "1/1 [==============================] - 0s 17ms/step\n",
            "1/1 [==============================] - 0s 17ms/step\n",
            "1/1 [==============================] - 0s 17ms/step\n",
            "1/1 [==============================] - 0s 18ms/step\n",
            "1/1 [==============================] - 0s 17ms/step\n",
            "1/1 [==============================] - 0s 17ms/step\n",
            "1/1 [==============================] - 0s 17ms/step\n",
            "1/1 [==============================] - 0s 19ms/step\n",
            "1/1 [==============================] - 0s 16ms/step\n",
            "1/1 [==============================] - 0s 17ms/step\n",
            "1/1 [==============================] - 0s 16ms/step\n",
            "1/1 [==============================] - 0s 16ms/step\n",
            "1/1 [==============================] - 0s 23ms/step\n",
            "1/1 [==============================] - 0s 19ms/step\n",
            "1/1 [==============================] - 0s 19ms/step\n",
            "1/1 [==============================] - 0s 18ms/step\n",
            "1/1 [==============================] - 0s 18ms/step\n"
          ]
        },
        {
          "output_type": "display_data",
          "data": {
            "text/plain": [
              "<Figure size 720x432 with 1 Axes>"
            ],
            "image/png": "[encoded data removed]"
          },
          "metadata": {}
        }
      ]
    },
    {
      "cell_type": "code",
      "source": [],
      "metadata": {
        "id": "qcdbvxTbZjph"
      },
      "execution_count": null,
      "outputs": []
    }
  ]
}