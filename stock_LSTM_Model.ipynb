{
  "cells": [
    {
      "cell_type": "markdown",
      "metadata": {
        "id": "view-in-github",
        "colab_type": "text"
      },
      "source": [
        "<a href=\"https://colab.research.google.com/github/panditamey1/Stock-Prediction-using-different-models/blob/main/stock_LSTM_Model.ipynb\" target=\"_parent\"><img src=\"https://colab.research.google.com/assets/colab-badge.svg\" alt=\"Open In Colab\"/></a>"
      ]
    },
    {
      "cell_type": "markdown",
      "metadata": {
        "id": "rc7DTpLs9wiz"
      },
      "source": [
        "# Building an LSTM model to predict the price of the S&P 500\n",
        "\n",
        "- LSTM stands for Long Short Term Memory\n",
        "\n",
        "The LSTM cell contains an RNN cell inside (dense layer with a tanh activation function), but it has other attributes that allow it to remember patterns over a longer period of time. The LSTM contains a short-term state vector that is used from one time step to the next identical to the RNN cell.\n",
        "\n",
        "Where LSTM cells differ is their Long-Term State vector. This long term state vector undergoes a multipicative and additive operation at each time step.The long term state vector starts off with a \"forget gate\" which is simply a sigmoid activation on top of a dense layer which produces an output from 0 - 1. This means if the forget gate ourputs a value of 1 then the long term state vector remains unchanged. On the opposite end, if the output valuse of the dense layer is 0 the long term state vector is nullified. This helps adjust quickly to highly volatile environments. If we are in a steady uptrend and then we suddenly have a big drop in the market, the long term state vector will be erased so the model can readjust quickly.\n",
        "\n",
        "The next gate is the input gate. The input gate is much like the forget gate, except it decides if the short term state vector gets added to the long term vector or is erased. \n",
        "\n",
        "The last gate called the \"output gate\" decides what the next hidden state should be. It is important to know that this hidden state output is the prediction for the next time step. Here, the previous hidden state (previous cell output) amd current input are jammed together through sigmoid function. Then we take our newly modified long term state vector which has already passed through the forget and input gates, and apply a tanh function to it. Finally, multiple both the tanh output (long term state vector output) and the sigmoid function output (previous hidden state and new input at this time step) to what information the hidden state needs to carry to the next time step.\n",
        "\n",
        "</br>\n",
        "<b>To review, the Forget gate decides what is relevant to keep from prior steps. The input gate decides what information is relevant to add from the current step. The output gate determines what the next hidden state should be.</b>"
      ]
    },
    {
      "cell_type": "markdown",
      "metadata": {
        "id": "vidayERjaO5q"
      },
      "source": [
        "## Setup"
      ]
    },
    {
      "cell_type": "code",
      "execution_count": null,
      "metadata": {
        "id": "gqWabzlJ63nL"
      },
      "outputs": [],
      "source": [
        "import numpy as np\n",
        "import pandas as pd\n",
        "import matplotlib.pyplot as plt\n",
        "import tensorflow as tf\n",
        "import seaborn as sns\n",
        "\n",
        "from sklearn.preprocessing import MinMaxScaler\n",
        "\n",
        "keras = tf.keras\n",
        "\n",
        "# set style of charts\n",
        "sns.set(style=\"darkgrid\")\n",
        "plt.rcParams['figure.figsize'] = [10, 10]"
      ]
    },
    {
      "cell_type": "code",
      "execution_count": null,
      "metadata": {
        "id": "cg1hfKCPldZG"
      },
      "outputs": [],
      "source": [
        "def plot_series(time, series, format=\"-\", start=0, end=None, label=None):\n",
        "    plt.plot(time[start:end], series[start:end], format, label=label)\n",
        "    plt.xlabel(\"Time\")\n",
        "    plt.ylabel(\"Value\")\n",
        "    if label:\n",
        "        plt.legend(fontsize=14)\n",
        "    plt.grid(True)\n",
        "    \n",
        "\n",
        "def sequential_window_dataset(series, window_size):\n",
        "    ds = tf.data.Dataset.from_tensor_slices(series)\n",
        "    ds = ds.window(window_size + 1, shift=window_size, drop_remainder=True)\n",
        "    ds = ds.flat_map(lambda window: window.batch(window_size + 1))\n",
        "    ds = ds.map(lambda window: (window[:-1], window[1:]))\n",
        "    return ds.batch(1).prefetch(1)"
      ]
    },
    {
      "cell_type": "code",
      "source": [
        "# Read in data\n",
        "spy = pd.read_csv('ticker_20MICRONS.csv')\n",
        "\n",
        "# Convert series into datetime type\n",
        "spy['Date'] = pd.to_datetime(spy['Date'])\n",
        "\n",
        "# Save target series\n",
        "series = spy['Close']"
      ],
      "metadata": {
        "id": "025X6RuIhFX8"
      },
      "execution_count": null,
      "outputs": []
    },
    {
      "cell_type": "code",
      "source": [
        "def split_data(filename):\n",
        "  spy = pd.read_csv(filename)\n",
        "\n",
        "  # Convert series into datetime type\n",
        "  spy['Date'] = pd.to_datetime(spy['Date'])\n",
        "\n",
        "  # Save target series\n",
        "  series = spy['Close']\n",
        "    \n",
        "  # Create train data set\n",
        "  train_split_date = spy.iloc[int(0.7*len(spy))]['Date']\n",
        "  train_split_index = np.where(spy.Date == train_split_date)[0][0]\n",
        "  x_train = spy.loc[spy['Date'] <= train_split_date]['Close']\n",
        "\n",
        "  # Create test data set\n",
        "  test_split_date = spy.iloc[int(0.8*len(spy))]['Date']\n",
        "  test_split_index = np.where(spy.Date == test_split_date)[0][0]\n",
        "  x_test = spy.loc[spy['Date'] >= test_split_date]['Close']\n",
        "\n",
        "  # Create valid data set\n",
        "  valid_split_index = (train_split_index.max(),test_split_index.min())\n",
        "  x_valid = spy.loc[(spy['Date'] < test_split_date) & (spy['Date'] > train_split_date)]['Close']\n",
        "\n",
        "  # Reshape values\n",
        "  x_train_values = x_train.values.reshape(-1, 1)\n",
        "  x_valid_values = x_valid.values.reshape(-1, 1)\n",
        "  x_test_values = x_test.values.reshape(-1, 1)\n",
        "\n",
        "  #  Create Scaler Object\n",
        "  x_train_scaler = MinMaxScaler(feature_range=(0, 1))\n",
        "\n",
        "  # Fit x_train values\n",
        "  normalized_x_train = x_train_scaler.fit_transform(x_train_values)\n",
        "\n",
        "  # Fit x_valid values\n",
        "  normalized_x_valid = x_train_scaler.transform(x_valid_values)\n",
        "\n",
        "  # Fit x_test values\n",
        "  normalized_x_test = x_train_scaler.transform(x_test_values)\n",
        "\n",
        "  # All values normalized to training data\n",
        "  spy_normalized_to_traindata = x_train_scaler.transform(series.values.reshape(-1, 1))\n",
        "  return normalized_x_train, normalized_x_valid, normalized_x_test, x_train_scaler, x_test_values"
      ],
      "metadata": {
        "id": "aub9_PPEBKUU"
      },
      "execution_count": null,
      "outputs": []
    },
    {
      "cell_type": "code",
      "source": [
        "print(len(spy))\n",
        "0.2*len(spy)\n",
        "train_split_date  = spy.iloc[int(0.7*len(spy))]['Date']\n",
        "np.where(spy.Date == train_split_date)[0][0]\n",
        "# print(spy[int(0.7*len(spy)):int(0.8*len(spy))].shape)\n",
        "# print(spy[int(0.8*len(spy)):].shape)\n",
        "train_split_date  = spy.iloc[int(0.8*len(spy))]['Date']\n",
        "np.where(spy.Date == train_split_date)[0][0]"
      ],
      "metadata": {
        "colab": {
          "base_uri": "https://localhost:8080/"
        },
        "id": "KguSXxDNhGQF",
        "outputId": "f86670e1-ac7c-47c3-a4d7-a8fca62f5df2"
      },
      "execution_count": null,
      "outputs": [
        {
          "output_type": "stream",
          "name": "stdout",
          "text": [
            "3487\n"
          ]
        },
        {
          "output_type": "execute_result",
          "data": {
            "text/plain": [
              "2789"
            ]
          },
          "metadata": {},
          "execution_count": 4
        }
      ]
    },
    {
      "cell_type": "code",
      "execution_count": null,
      "metadata": {
        "id": "iL2DDjV3lel6"
      },
      "outputs": [],
      "source": [
        "\n",
        "\n",
        "\n",
        "\n",
        "# Create train data set\n",
        "train_split_date = spy.iloc[int(0.7*len(spy))]['Date']\n",
        "train_split_index = np.where(spy.Date == train_split_date)[0][0]\n",
        "x_train = spy.loc[spy['Date'] <= train_split_date]['Close']\n",
        "\n",
        "# Create test data set\n",
        "test_split_date = spy.iloc[int(0.8*len(spy))]['Date']\n",
        "test_split_index = np.where(spy.Date == test_split_date)[0][0]\n",
        "x_test = spy.loc[spy['Date'] >= test_split_date]['Close']\n",
        "\n",
        "# Create valid data set\n",
        "valid_split_index = (train_split_index.max(),test_split_index.min())\n",
        "x_valid = spy.loc[(spy['Date'] < test_split_date) & (spy['Date'] > train_split_date)]['Close']"
      ]
    },
    {
      "cell_type": "code",
      "execution_count": null,
      "metadata": {
        "colab": {
          "base_uri": "https://localhost:8080/",
          "height": 613
        },
        "id": "5BO5R1yY6moY",
        "outputId": "272d3f1f-f0f2-4c3e-f495-19aa37dfd6e8"
      },
      "outputs": [
        {
          "output_type": "stream",
          "name": "stdout",
          "text": [
            "2440 2441 2788 2789 3486\n"
          ]
        },
        {
          "output_type": "display_data",
          "data": {
            "text/plain": [
              "<Figure size 720x720 with 1 Axes>"
            ],
            "image/png": "[encoded data removed]"
          },
          "metadata": {}
        }
      ],
      "source": [
        "# Plot all lines on one chart to see where one segment starts and another ends\n",
        "plt.plot(x_train, label = 'Train')\n",
        "plt.plot(x_valid, label = 'Validate')\n",
        "plt.plot(x_test, label = 'Test')\n",
        "plt.legend()\n",
        "print(x_train.index.max(),x_valid.index.min(),x_valid.index.max(),x_test.index.min(),x_test.index.max())"
      ]
    },
    {
      "cell_type": "code",
      "execution_count": null,
      "metadata": {
        "id": "1GiizAJ_oQjk"
      },
      "outputs": [],
      "source": [
        "# Reshape values\n",
        "x_train_values = x_train.values.reshape(-1, 1)\n",
        "x_valid_values = x_valid.values.reshape(-1, 1)\n",
        "x_test_values = x_test.values.reshape(-1, 1)\n",
        "\n",
        "#  Create Scaler Object\n",
        "x_train_scaler = MinMaxScaler(feature_range=(0, 1))\n",
        "\n",
        "# Fit x_train values\n",
        "normalized_x_train = x_train_scaler.fit_transform(x_train_values)\n",
        "\n",
        "# Fit x_valid values\n",
        "normalized_x_valid = x_train_scaler.transform(x_valid_values)\n",
        "\n",
        "# Fit x_test values\n",
        "normalized_x_test = x_train_scaler.transform(x_test_values)\n",
        "\n",
        "# All values normalized to training data\n",
        "spy_normalized_to_traindata = x_train_scaler.transform(series.values.reshape(-1, 1))\n",
        "\n",
        "# Example of how to iverse\n",
        "# inversed = scaler.inverse_transform(normalized_x_train).flatten()\n"
      ]
    },
    {
      "cell_type": "code",
      "execution_count": null,
      "metadata": {
        "id": "9fPenJpTtuDE"
      },
      "outputs": [],
      "source": [
        "class ResetStatesCallback(keras.callbacks.Callback):\n",
        "    def on_epoch_begin(self, epoch, logs):\n",
        "        self.model.reset_states()"
      ]
    },
    {
      "cell_type": "markdown",
      "metadata": {
        "id": "EPjK0l9P8OJM"
      },
      "source": [
        "## Find the learning Rate"
      ]
    },
    {
      "cell_type": "code",
      "execution_count": null,
      "metadata": {
        "colab": {
          "base_uri": "https://localhost:8080/"
        },
        "id": "cSoUmW-x8OJN",
        "outputId": "de0f99b0-1a59-49e7-a512-caa90b250bd3"
      },
      "outputs": [
        {
          "output_type": "stream",
          "name": "stdout",
          "text": [
            "Epoch 1/100\n"
          ]
        },
        {
          "output_type": "stream",
          "name": "stderr",
          "text": [
            "/usr/local/lib/python3.8/dist-packages/keras/optimizers/optimizer_v2/nadam.py:78: UserWarning: The `lr` argument is deprecated, use `learning_rate` instead.\n",
            "  super(Nadam, self).__init__(name, **kwargs)\n"
          ]
        },
        {
          "output_type": "stream",
          "name": "stdout",
          "text": [
            "122/122 [==============================] - 9s 11ms/step - loss: 0.0553 - mae: 0.2962 - lr: 1.0000e-05\n",
            "Epoch 2/100\n",
            "122/122 [==============================] - 1s 9ms/step - loss: 0.0283 - mae: 0.2053 - lr: 1.1220e-05\n",
            "Epoch 3/100\n",
            "122/122 [==============================] - 1s 9ms/step - loss: 0.0077 - mae: 0.0947 - lr: 1.2589e-05\n",
            "Epoch 4/100\n",
            "122/122 [==============================] - 1s 8ms/step - loss: 0.0020 - mae: 0.0419 - lr: 1.4125e-05\n",
            "Epoch 5/100\n",
            "122/122 [==============================] - 1s 8ms/step - loss: 0.0018 - mae: 0.0427 - lr: 1.5849e-05\n",
            "Epoch 6/100\n",
            "122/122 [==============================] - 1s 9ms/step - loss: 0.0017 - mae: 0.0407 - lr: 1.7783e-05\n",
            "Epoch 7/100\n",
            "122/122 [==============================] - 1s 8ms/step - loss: 0.0016 - mae: 0.0384 - lr: 1.9953e-05\n",
            "Epoch 8/100\n",
            "122/122 [==============================] - 1s 8ms/step - loss: 0.0015 - mae: 0.0361 - lr: 2.2387e-05\n",
            "Epoch 9/100\n",
            "122/122 [==============================] - 1s 8ms/step - loss: 0.0014 - mae: 0.0340 - lr: 2.5119e-05\n",
            "Epoch 10/100\n",
            "122/122 [==============================] - 1s 8ms/step - loss: 0.0014 - mae: 0.0323 - lr: 2.8184e-05\n",
            "Epoch 11/100\n",
            "122/122 [==============================] - 1s 8ms/step - loss: 0.0013 - mae: 0.0313 - lr: 3.1623e-05\n",
            "Epoch 12/100\n",
            "122/122 [==============================] - 1s 8ms/step - loss: 0.0013 - mae: 0.0308 - lr: 3.5481e-05\n",
            "Epoch 13/100\n",
            "122/122 [==============================] - 1s 8ms/step - loss: 0.0012 - mae: 0.0303 - lr: 3.9811e-05\n",
            "Epoch 14/100\n",
            "122/122 [==============================] - 1s 8ms/step - loss: 0.0012 - mae: 0.0299 - lr: 4.4668e-05\n",
            "Epoch 15/100\n",
            "122/122 [==============================] - 1s 8ms/step - loss: 0.0012 - mae: 0.0296 - lr: 5.0119e-05\n",
            "Epoch 16/100\n",
            "122/122 [==============================] - 1s 8ms/step - loss: 0.0011 - mae: 0.0292 - lr: 5.6234e-05\n",
            "Epoch 17/100\n",
            "122/122 [==============================] - 1s 9ms/step - loss: 0.0011 - mae: 0.0287 - lr: 6.3096e-05\n",
            "Epoch 18/100\n",
            "122/122 [==============================] - 1s 8ms/step - loss: 0.0011 - mae: 0.0282 - lr: 7.0795e-05\n",
            "Epoch 19/100\n",
            "122/122 [==============================] - 1s 9ms/step - loss: 0.0010 - mae: 0.0276 - lr: 7.9433e-05\n",
            "Epoch 20/100\n",
            "122/122 [==============================] - 1s 8ms/step - loss: 9.6581e-04 - mae: 0.0270 - lr: 8.9125e-05\n",
            "Epoch 21/100\n",
            "122/122 [==============================] - 1s 8ms/step - loss: 9.1688e-04 - mae: 0.0262 - lr: 1.0000e-04\n",
            "Epoch 22/100\n",
            "122/122 [==============================] - 1s 8ms/step - loss: 8.6463e-04 - mae: 0.0254 - lr: 1.1220e-04\n",
            "Epoch 23/100\n",
            "122/122 [==============================] - 1s 8ms/step - loss: 8.1094e-04 - mae: 0.0244 - lr: 1.2589e-04\n",
            "Epoch 24/100\n",
            "122/122 [==============================] - 1s 8ms/step - loss: 7.6173e-04 - mae: 0.0236 - lr: 1.4125e-04\n",
            "Epoch 25/100\n",
            "122/122 [==============================] - 1s 8ms/step - loss: 7.3049e-04 - mae: 0.0235 - lr: 1.5849e-04\n",
            "Epoch 26/100\n",
            "122/122 [==============================] - 1s 8ms/step - loss: 7.3046e-04 - mae: 0.0242 - lr: 1.7783e-04\n",
            "Epoch 27/100\n",
            "122/122 [==============================] - 1s 8ms/step - loss: 7.5016e-04 - mae: 0.0248 - lr: 1.9953e-04\n",
            "Epoch 28/100\n",
            "122/122 [==============================] - 1s 8ms/step - loss: 8.1088e-04 - mae: 0.0251 - lr: 2.2387e-04\n",
            "Epoch 29/100\n",
            "122/122 [==============================] - 1s 8ms/step - loss: 7.8105e-04 - mae: 0.0253 - lr: 2.5119e-04\n",
            "Epoch 30/100\n",
            "122/122 [==============================] - 1s 8ms/step - loss: 8.2377e-04 - mae: 0.0262 - lr: 2.8184e-04\n",
            "Epoch 31/100\n",
            "122/122 [==============================] - 1s 8ms/step - loss: 8.1036e-04 - mae: 0.0270 - lr: 3.1623e-04\n",
            "Epoch 32/100\n",
            "122/122 [==============================] - 1s 9ms/step - loss: 8.8516e-04 - mae: 0.0261 - lr: 3.5481e-04\n",
            "Epoch 33/100\n",
            "122/122 [==============================] - 1s 8ms/step - loss: 7.9790e-04 - mae: 0.0244 - lr: 3.9811e-04\n",
            "Epoch 34/100\n",
            "122/122 [==============================] - 1s 8ms/step - loss: 8.5941e-04 - mae: 0.0244 - lr: 4.4668e-04\n",
            "Epoch 35/100\n",
            "122/122 [==============================] - 1s 8ms/step - loss: 7.3529e-04 - mae: 0.0232 - lr: 5.0119e-04\n",
            "Epoch 36/100\n",
            "122/122 [==============================] - 1s 8ms/step - loss: 8.1561e-04 - mae: 0.0235 - lr: 5.6234e-04\n",
            "Epoch 37/100\n",
            "122/122 [==============================] - 1s 9ms/step - loss: 6.2989e-04 - mae: 0.0217 - lr: 6.3096e-04\n",
            "Epoch 38/100\n",
            "122/122 [==============================] - 1s 10ms/step - loss: 0.0011 - mae: 0.0248 - lr: 7.0795e-04\n",
            "Epoch 39/100\n",
            "122/122 [==============================] - 1s 8ms/step - loss: 4.3296e-04 - mae: 0.0173 - lr: 7.9433e-04\n",
            "Epoch 40/100\n",
            "122/122 [==============================] - 1s 8ms/step - loss: 4.9244e-04 - mae: 0.0197 - lr: 8.9125e-04\n",
            "Epoch 41/100\n",
            "122/122 [==============================] - 1s 9ms/step - loss: 5.2169e-04 - mae: 0.0209 - lr: 0.0010\n",
            "Epoch 42/100\n",
            "122/122 [==============================] - 1s 9ms/step - loss: 5.4793e-04 - mae: 0.0212 - lr: 0.0011\n",
            "Epoch 43/100\n",
            "122/122 [==============================] - 1s 9ms/step - loss: 5.9686e-04 - mae: 0.0204 - lr: 0.0013\n",
            "Epoch 44/100\n",
            "122/122 [==============================] - 1s 8ms/step - loss: 6.7896e-04 - mae: 0.0218 - lr: 0.0014\n",
            "Epoch 45/100\n",
            "122/122 [==============================] - 1s 9ms/step - loss: 5.3797e-04 - mae: 0.0182 - lr: 0.0016\n",
            "Epoch 46/100\n",
            "122/122 [==============================] - 1s 8ms/step - loss: 5.2196e-04 - mae: 0.0190 - lr: 0.0018\n",
            "Epoch 47/100\n",
            "122/122 [==============================] - 1s 9ms/step - loss: 7.0748e-04 - mae: 0.0202 - lr: 0.0020\n",
            "Epoch 48/100\n",
            "122/122 [==============================] - 1s 8ms/step - loss: 6.3872e-04 - mae: 0.0201 - lr: 0.0022\n",
            "Epoch 49/100\n",
            "122/122 [==============================] - 1s 8ms/step - loss: 0.0012 - mae: 0.0242 - lr: 0.0025\n",
            "Epoch 50/100\n",
            "122/122 [==============================] - 1s 8ms/step - loss: 4.9813e-04 - mae: 0.0187 - lr: 0.0028\n",
            "Epoch 51/100\n",
            "122/122 [==============================] - 1s 8ms/step - loss: 5.2381e-04 - mae: 0.0204 - lr: 0.0032\n",
            "Epoch 52/100\n",
            "122/122 [==============================] - 1s 8ms/step - loss: 5.1672e-04 - mae: 0.0201 - lr: 0.0035\n",
            "Epoch 53/100\n",
            "122/122 [==============================] - 1s 8ms/step - loss: 5.2665e-04 - mae: 0.0201 - lr: 0.0040\n",
            "Epoch 54/100\n",
            "122/122 [==============================] - 1s 9ms/step - loss: 6.2949e-04 - mae: 0.0202 - lr: 0.0045\n",
            "Epoch 55/100\n",
            "122/122 [==============================] - 1s 8ms/step - loss: 8.4005e-04 - mae: 0.0221 - lr: 0.0050\n",
            "Epoch 56/100\n",
            "122/122 [==============================] - 1s 8ms/step - loss: 6.5175e-04 - mae: 0.0199 - lr: 0.0056\n",
            "Epoch 57/100\n",
            "122/122 [==============================] - 1s 9ms/step - loss: 5.3960e-04 - mae: 0.0186 - lr: 0.0063\n",
            "Epoch 58/100\n",
            "122/122 [==============================] - 1s 9ms/step - loss: 5.4548e-04 - mae: 0.0193 - lr: 0.0071\n",
            "Epoch 59/100\n",
            "122/122 [==============================] - 1s 8ms/step - loss: 6.1561e-04 - mae: 0.0195 - lr: 0.0079\n",
            "Epoch 60/100\n",
            "122/122 [==============================] - 1s 8ms/step - loss: 5.9087e-04 - mae: 0.0193 - lr: 0.0089\n",
            "Epoch 61/100\n",
            "122/122 [==============================] - 1s 9ms/step - loss: 6.6611e-04 - mae: 0.0195 - lr: 0.0100\n",
            "Epoch 62/100\n",
            "122/122 [==============================] - 1s 9ms/step - loss: 5.9087e-04 - mae: 0.0186 - lr: 0.0112\n",
            "Epoch 63/100\n",
            "122/122 [==============================] - 1s 9ms/step - loss: 0.0011 - mae: 0.0205 - lr: 0.0126\n",
            "Epoch 64/100\n",
            "122/122 [==============================] - 1s 9ms/step - loss: 0.0037 - mae: 0.0541 - lr: 0.0141\n",
            "Epoch 65/100\n",
            "122/122 [==============================] - 1s 9ms/step - loss: 0.0044 - mae: 0.0632 - lr: 0.0158\n",
            "Epoch 66/100\n",
            "122/122 [==============================] - 1s 9ms/step - loss: 0.0057 - mae: 0.0693 - lr: 0.0178\n",
            "Epoch 67/100\n",
            "122/122 [==============================] - 1s 9ms/step - loss: 0.0112 - mae: 0.0700 - lr: 0.0200\n",
            "Epoch 68/100\n",
            "122/122 [==============================] - 1s 9ms/step - loss: 0.0279 - mae: 0.0976 - lr: 0.0224\n",
            "Epoch 69/100\n",
            "122/122 [==============================] - 1s 9ms/step - loss: 0.0045 - mae: 0.0579 - lr: 0.0251\n",
            "Epoch 70/100\n",
            "122/122 [==============================] - 1s 9ms/step - loss: 0.0047 - mae: 0.0603 - lr: 0.0282\n",
            "Epoch 71/100\n",
            "122/122 [==============================] - 1s 9ms/step - loss: 0.0054 - mae: 0.0651 - lr: 0.0316\n",
            "Epoch 72/100\n",
            "122/122 [==============================] - 1s 9ms/step - loss: 0.0052 - mae: 0.0638 - lr: 0.0355\n",
            "Epoch 73/100\n",
            "122/122 [==============================] - 2s 15ms/step - loss: 0.0061 - mae: 0.0684 - lr: 0.0398\n",
            "Epoch 74/100\n",
            "122/122 [==============================] - 2s 14ms/step - loss: 0.0059 - mae: 0.0717 - lr: 0.0447\n",
            "Epoch 75/100\n",
            "122/122 [==============================] - 1s 9ms/step - loss: 0.0035 - mae: 0.0516 - lr: 0.0501\n",
            "Epoch 76/100\n",
            "122/122 [==============================] - 1s 9ms/step - loss: 0.0095 - mae: 0.0700 - lr: 0.0562\n",
            "Epoch 77/100\n",
            "122/122 [==============================] - 1s 9ms/step - loss: 0.0046 - mae: 0.0607 - lr: 0.0631\n",
            "Epoch 78/100\n",
            "122/122 [==============================] - 1s 9ms/step - loss: 0.0049 - mae: 0.0632 - lr: 0.0708\n",
            "Epoch 79/100\n",
            "122/122 [==============================] - 1s 9ms/step - loss: 0.0047 - mae: 0.0621 - lr: 0.0794\n",
            "Epoch 80/100\n",
            "122/122 [==============================] - 1s 9ms/step - loss: 0.0040 - mae: 0.0525 - lr: 0.0891\n",
            "Epoch 81/100\n",
            "122/122 [==============================] - 1s 9ms/step - loss: 0.0035 - mae: 0.0467 - lr: 0.1000\n",
            "Epoch 82/100\n",
            "122/122 [==============================] - 1s 9ms/step - loss: 0.0034 - mae: 0.0466 - lr: 0.1122\n",
            "Epoch 83/100\n",
            "122/122 [==============================] - 1s 9ms/step - loss: 1.3809 - mae: 1.8663 - lr: 0.1259\n",
            "Epoch 84/100\n",
            "122/122 [==============================] - 1s 9ms/step - loss: 1.3041 - mae: 1.7977 - lr: 0.1413\n",
            "Epoch 85/100\n",
            "122/122 [==============================] - 1s 9ms/step - loss: 1.6202 - mae: 2.1187 - lr: 0.1585\n",
            "Epoch 86/100\n",
            "122/122 [==============================] - 1s 9ms/step - loss: 0.7844 - mae: 1.2817 - lr: 0.1778\n",
            "Epoch 87/100\n",
            "122/122 [==============================] - 1s 9ms/step - loss: 0.8697 - mae: 1.3682 - lr: 0.1995\n",
            "Epoch 88/100\n",
            "122/122 [==============================] - 1s 9ms/step - loss: 0.9640 - mae: 1.4579 - lr: 0.2239\n",
            "Epoch 89/100\n",
            "122/122 [==============================] - 1s 9ms/step - loss: 0.7372 - mae: 1.2332 - lr: 0.2512\n",
            "Epoch 90/100\n",
            "122/122 [==============================] - 1s 9ms/step - loss: 0.7849 - mae: 1.2829 - lr: 0.2818\n",
            "Epoch 91/100\n",
            "122/122 [==============================] - 1s 9ms/step - loss: 0.8629 - mae: 1.3621 - lr: 0.3162\n",
            "Epoch 92/100\n",
            "122/122 [==============================] - 1s 9ms/step - loss: 0.9493 - mae: 1.4482 - lr: 0.3548\n",
            "Epoch 93/100\n",
            "122/122 [==============================] - 1s 9ms/step - loss: 1.0570 - mae: 1.5556 - lr: 0.3981\n",
            "Epoch 94/100\n",
            "122/122 [==============================] - 1s 9ms/step - loss: 1.1704 - mae: 1.6700 - lr: 0.4467\n",
            "Epoch 95/100\n",
            "122/122 [==============================] - 1s 9ms/step - loss: 1.3132 - mae: 1.8122 - lr: 0.5012\n",
            "Epoch 96/100\n",
            "122/122 [==============================] - 1s 9ms/step - loss: 1.4699 - mae: 1.9691 - lr: 0.5623\n",
            "Epoch 97/100\n",
            "122/122 [==============================] - 1s 9ms/step - loss: 1.5966 - mae: 2.0884 - lr: 0.6310\n",
            "Epoch 98/100\n",
            "122/122 [==============================] - 1s 9ms/step - loss: 1.8494 - mae: 2.3492 - lr: 0.7079\n",
            "Epoch 99/100\n",
            "122/122 [==============================] - 1s 9ms/step - loss: 2.0961 - mae: 2.5960 - lr: 0.7943\n",
            "Epoch 100/100\n",
            "122/122 [==============================] - 1s 9ms/step - loss: 2.3443 - mae: 2.8441 - lr: 0.8913\n"
          ]
        }
      ],
      "source": [
        "# reset any stored data\n",
        "keras.backend.clear_session()\n",
        "tf.random.set_seed(42)\n",
        "np.random.seed(42)\n",
        "\n",
        "# Set window size and create input batch sequences\n",
        "window_size = 20\n",
        "train_set = sequential_window_dataset(normalized_x_train, window_size)\n",
        "\n",
        "# create model\n",
        "model = keras.models.Sequential([\n",
        "  keras.layers.LSTM(100, return_sequences=True, stateful=True,\n",
        "                    batch_input_shape=[1, None, 1]),\n",
        "  keras.layers.LSTM(100, return_sequences=True, stateful=True),\n",
        "  keras.layers.Dense(1),\n",
        "])\n",
        "\n",
        "# create lr\n",
        "lr_schedule = keras.callbacks.LearningRateScheduler(\n",
        "    lambda epoch: 1e-5 * 10**(epoch / 20))\n",
        "reset_states = ResetStatesCallback()\n",
        "\n",
        "# choose optimizer\n",
        "optimizer = keras.optimizers.Nadam(lr=1e-5)\n",
        "\n",
        "# compile model\n",
        "model.compile(loss=keras.losses.Huber(),\n",
        "              optimizer=optimizer,\n",
        "              metrics=[\"mae\"])\n",
        "\n",
        "# set history\n",
        "history = model.fit(train_set, epochs=100,\n",
        "                    callbacks=[lr_schedule, reset_states])"
      ]
    },
    {
      "cell_type": "code",
      "execution_count": null,
      "metadata": {
        "colab": {
          "base_uri": "https://localhost:8080/",
          "height": 622
        },
        "id": "KA0GM9sQ8OJO",
        "outputId": "a7d806e9-082c-439f-afaf-b1a702284707"
      },
      "outputs": [
        {
          "output_type": "execute_result",
          "data": {
            "text/plain": [
              "(1e-08, 1.0, 0.0, 0.01)"
            ]
          },
          "metadata": {},
          "execution_count": 10
        },
        {
          "output_type": "display_data",
          "data": {
            "text/plain": [
              "<Figure size 720x720 with 1 Axes>"
            ],
            "image/png": "[encoded data removed]"
          },
          "metadata": {}
        }
      ],
      "source": [
        "# Plot the learning rate chart\n",
        "plt.semilogx(history.history[\"lr\"], history.history[\"loss\"])\n",
        "plt.axis([1e-8, 1, 0, 0.01])"
      ]
    },
    {
      "cell_type": "markdown",
      "metadata": {
        "id": "7EyiYesc-EPU"
      },
      "source": [
        "## Build and Train LSTM Model"
      ]
    },
    {
      "cell_type": "code",
      "execution_count": null,
      "metadata": {
        "colab": {
          "base_uri": "https://localhost:8080/"
        },
        "id": "hiHR5pPL8OJP",
        "outputId": "de2047f2-0cbd-4e7d-fe6f-2bde61fd5f03"
      },
      "outputs": [
        {
          "output_type": "stream",
          "name": "stdout",
          "text": [
            "Epoch 1/500\n",
            "     78/Unknown - 4s 9ms/step - loss: 0.0025 - mae: 0.0410"
          ]
        },
        {
          "output_type": "stream",
          "name": "stderr",
          "text": [
            "WARNING:absl:Found untraced functions such as lstm_cell_layer_call_fn, lstm_cell_layer_call_and_return_conditional_losses, lstm_cell_1_layer_call_fn, lstm_cell_1_layer_call_and_return_conditional_losses while saving (showing 4 of 4). These functions will not be directly callable after loading.\n"
          ]
        },
        {
          "output_type": "stream",
          "name": "stdout",
          "text": [
            "\b\b\b\b\b\b\b\b\b\b\b\b\b\b\b\b\b\b\b\b\b\b\b\b\b\b\b\b\b\b\b\b\b\b\b\b\b\b\b\b\b\b\b\b\b\b\b\b\b\b\b\b\b\b\b\b\b\b\r81/81 [==============================] - 12s 111ms/step - loss: 0.0024 - mae: 0.0410 - val_loss: 6.4070e-04 - val_mae: 0.0299\n",
            "Epoch 2/500\n",
            "77/81 [===========================>..] - ETA: 0s - loss: 0.0012 - mae: 0.0306"
          ]
        },
        {
          "output_type": "stream",
          "name": "stderr",
          "text": [
            "WARNING:absl:Found untraced functions such as lstm_cell_layer_call_fn, lstm_cell_layer_call_and_return_conditional_losses, lstm_cell_1_layer_call_fn, lstm_cell_1_layer_call_and_return_conditional_losses while saving (showing 4 of 4). These functions will not be directly callable after loading.\n"
          ]
        },
        {
          "output_type": "stream",
          "name": "stdout",
          "text": [
            "\b\b\b\b\b\b\b\b\b\b\b\b\b\b\b\b\b\b\b\b\b\b\b\b\b\b\b\b\b\b\b\b\b\b\b\b\b\b\b\b\b\b\b\b\b\b\b\b\b\b\b\b\b\b\b\b\b\b\b\b\b\b\b\b\b\b\b\b\b\b\b\b\b\b\b\b\b\r81/81 [==============================] - 7s 93ms/step - loss: 0.0011 - mae: 0.0309 - val_loss: 5.2447e-04 - val_mae: 0.0272\n",
            "Epoch 3/500\n",
            "79/81 [============================>.] - ETA: 0s - loss: 8.2590e-04 - mae: 0.0252"
          ]
        },
        {
          "output_type": "stream",
          "name": "stderr",
          "text": [
            "WARNING:absl:Found untraced functions such as lstm_cell_layer_call_fn, lstm_cell_layer_call_and_return_conditional_losses, lstm_cell_1_layer_call_fn, lstm_cell_1_layer_call_and_return_conditional_losses while saving (showing 4 of 4). These functions will not be directly callable after loading.\n"
          ]
        },
        {
          "output_type": "stream",
          "name": "stdout",
          "text": [
            "\b\b\b\b\b\b\b\b\b\b\b\b\b\b\b\b\b\b\b\b\b\b\b\b\b\b\b\b\b\b\b\b\b\b\b\b\b\b\b\b\b\b\b\b\b\b\b\b\b\b\b\b\b\b\b\b\b\b\b\b\b\b\b\b\b\b\b\b\b\b\b\b\b\b\b\b\b\b\b\b\b\r81/81 [==============================] - 7s 89ms/step - loss: 8.2893e-04 - mae: 0.0255 - val_loss: 4.9075e-04 - val_mae: 0.0265\n",
            "Epoch 4/500\n",
            "79/81 [============================>.] - ETA: 0s - loss: 7.4119e-04 - mae: 0.0232"
          ]
        },
        {
          "output_type": "stream",
          "name": "stderr",
          "text": [
            "WARNING:absl:Found untraced functions such as lstm_cell_layer_call_fn, lstm_cell_layer_call_and_return_conditional_losses, lstm_cell_1_layer_call_fn, lstm_cell_1_layer_call_and_return_conditional_losses while saving (showing 4 of 4). These functions will not be directly callable after loading.\n"
          ]
        },
        {
          "output_type": "stream",
          "name": "stdout",
          "text": [
            "\b\b\b\b\b\b\b\b\b\b\b\b\b\b\b\b\b\b\b\b\b\b\b\b\b\b\b\b\b\b\b\b\b\b\b\b\b\b\b\b\b\b\b\b\b\b\b\b\b\b\b\b\b\b\b\b\b\b\b\b\b\b\b\b\b\b\b\b\b\b\b\b\b\b\b\b\b\b\b\b\b\r81/81 [==============================] - 8s 95ms/step - loss: 7.4458e-04 - mae: 0.0235 - val_loss: 4.6301e-04 - val_mae: 0.0259\n",
            "Epoch 5/500\n",
            "78/81 [===========================>..] - ETA: 0s - loss: 6.3618e-04 - mae: 0.0212"
          ]
        },
        {
          "output_type": "stream",
          "name": "stderr",
          "text": [
            "WARNING:absl:Found untraced functions such as lstm_cell_layer_call_fn, lstm_cell_layer_call_and_return_conditional_losses, lstm_cell_1_layer_call_fn, lstm_cell_1_layer_call_and_return_conditional_losses while saving (showing 4 of 4). These functions will not be directly callable after loading.\n"
          ]
        },
        {
          "output_type": "stream",
          "name": "stdout",
          "text": [
            "\b\b\b\b\b\b\b\b\b\b\b\b\b\b\b\b\b\b\b\b\b\b\b\b\b\b\b\b\b\b\b\b\b\b\b\b\b\b\b\b\b\b\b\b\b\b\b\b\b\b\b\b\b\b\b\b\b\b\b\b\b\b\b\b\b\b\b\b\b\b\b\b\b\b\b\b\b\b\b\b\b\r81/81 [==============================] - 7s 93ms/step - loss: 6.4036e-04 - mae: 0.0216 - val_loss: 4.4198e-04 - val_mae: 0.0253\n",
            "Epoch 6/500\n",
            "78/81 [===========================>..] - ETA: 0s - loss: 5.9995e-04 - mae: 0.0203"
          ]
        },
        {
          "output_type": "stream",
          "name": "stderr",
          "text": [
            "WARNING:absl:Found untraced functions such as lstm_cell_layer_call_fn, lstm_cell_layer_call_and_return_conditional_losses, lstm_cell_1_layer_call_fn, lstm_cell_1_layer_call_and_return_conditional_losses while saving (showing 4 of 4). These functions will not be directly callable after loading.\n"
          ]
        },
        {
          "output_type": "stream",
          "name": "stdout",
          "text": [
            "\b\b\b\b\b\b\b\b\b\b\b\b\b\b\b\b\b\b\b\b\b\b\b\b\b\b\b\b\b\b\b\b\b\b\b\b\b\b\b\b\b\b\b\b\b\b\b\b\b\b\b\b\b\b\b\b\b\b\b\b\b\b\b\b\b\b\b\b\b\b\b\b\b\b\b\b\b\b\b\b\b\r81/81 [==============================] - 9s 112ms/step - loss: 6.0376e-04 - mae: 0.0207 - val_loss: 4.1724e-04 - val_mae: 0.0246\n",
            "Epoch 7/500\n",
            "79/81 [============================>.] - ETA: 0s - loss: 5.4898e-04 - mae: 0.0194"
          ]
        },
        {
          "output_type": "stream",
          "name": "stderr",
          "text": [
            "WARNING:absl:Found untraced functions such as lstm_cell_layer_call_fn, lstm_cell_layer_call_and_return_conditional_losses, lstm_cell_1_layer_call_fn, lstm_cell_1_layer_call_and_return_conditional_losses while saving (showing 4 of 4). These functions will not be directly callable after loading.\n"
          ]
        },
        {
          "output_type": "stream",
          "name": "stdout",
          "text": [
            "\b\b\b\b\b\b\b\b\b\b\b\b\b\b\b\b\b\b\b\b\b\b\b\b\b\b\b\b\b\b\b\b\b\b\b\b\b\b\b\b\b\b\b\b\b\b\b\b\b\b\b\b\b\b\b\b\b\b\b\b\b\b\b\b\b\b\b\b\b\b\b\b\b\b\b\b\b\b\b\b\b\r81/81 [==============================] - 7s 93ms/step - loss: 5.5298e-04 - mae: 0.0197 - val_loss: 3.9402e-04 - val_mae: 0.0240\n",
            "Epoch 8/500\n",
            "77/81 [===========================>..] - ETA: 0s - loss: 5.1875e-04 - mae: 0.0185"
          ]
        },
        {
          "output_type": "stream",
          "name": "stderr",
          "text": [
            "WARNING:absl:Found untraced functions such as lstm_cell_layer_call_fn, lstm_cell_layer_call_and_return_conditional_losses, lstm_cell_1_layer_call_fn, lstm_cell_1_layer_call_and_return_conditional_losses while saving (showing 4 of 4). These functions will not be directly callable after loading.\n"
          ]
        },
        {
          "output_type": "stream",
          "name": "stdout",
          "text": [
            "\b\b\b\b\b\b\b\b\b\b\b\b\b\b\b\b\b\b\b\b\b\b\b\b\b\b\b\b\b\b\b\b\b\b\b\b\b\b\b\b\b\b\b\b\b\b\b\b\b\b\b\b\b\b\b\b\b\b\b\b\b\b\b\b\b\b\b\b\b\b\b\b\b\b\b\b\b\b\b\b\b\r81/81 [==============================] - 7s 93ms/step - loss: 5.2437e-04 - mae: 0.0190 - val_loss: 3.6967e-04 - val_mae: 0.0233\n",
            "Epoch 9/500\n",
            "78/81 [===========================>..] - ETA: 0s - loss: 4.8793e-04 - mae: 0.0180"
          ]
        },
        {
          "output_type": "stream",
          "name": "stderr",
          "text": [
            "WARNING:absl:Found untraced functions such as lstm_cell_layer_call_fn, lstm_cell_layer_call_and_return_conditional_losses, lstm_cell_1_layer_call_fn, lstm_cell_1_layer_call_and_return_conditional_losses while saving (showing 4 of 4). These functions will not be directly callable after loading.\n"
          ]
        },
        {
          "output_type": "stream",
          "name": "stdout",
          "text": [
            "\b\b\b\b\b\b\b\b\b\b\b\b\b\b\b\b\b\b\b\b\b\b\b\b\b\b\b\b\b\b\b\b\b\b\b\b\b\b\b\b\b\b\b\b\b\b\b\b\b\b\b\b\b\b\b\b\b\b\b\b\b\b\b\b\b\b\b\b\b\b\b\b\b\b\b\b\b\b\b\b\b\r81/81 [==============================] - 8s 94ms/step - loss: 4.9139e-04 - mae: 0.0183 - val_loss: 3.4640e-04 - val_mae: 0.0225\n",
            "Epoch 10/500\n",
            "81/81 [==============================] - ETA: 0s - loss: 4.6701e-04 - mae: 0.0178"
          ]
        },
        {
          "output_type": "stream",
          "name": "stderr",
          "text": [
            "WARNING:absl:Found untraced functions such as lstm_cell_layer_call_fn, lstm_cell_layer_call_and_return_conditional_losses, lstm_cell_1_layer_call_fn, lstm_cell_1_layer_call_and_return_conditional_losses while saving (showing 4 of 4). These functions will not be directly callable after loading.\n"
          ]
        },
        {
          "output_type": "stream",
          "name": "stdout",
          "text": [
            "\b\b\b\b\b\b\b\b\b\b\b\b\b\b\b\b\b\b\b\b\b\b\b\b\b\b\b\b\b\b\b\b\b\b\b\b\b\b\b\b\b\b\b\b\b\b\b\b\b\b\b\b\b\b\b\b\b\b\b\b\b\b\b\b\b\b\b\b\b\b\b\b\b\b\b\b\b\b\b\b\b\r81/81 [==============================] - 8s 95ms/step - loss: 4.6701e-04 - mae: 0.0178 - val_loss: 3.2352e-04 - val_mae: 0.0217\n",
            "Epoch 11/500\n",
            "78/81 [===========================>..] - ETA: 0s - loss: 4.3943e-04 - mae: 0.0169"
          ]
        },
        {
          "output_type": "stream",
          "name": "stderr",
          "text": [
            "WARNING:absl:Found untraced functions such as lstm_cell_layer_call_fn, lstm_cell_layer_call_and_return_conditional_losses, lstm_cell_1_layer_call_fn, lstm_cell_1_layer_call_and_return_conditional_losses while saving (showing 4 of 4). These functions will not be directly callable after loading.\n"
          ]
        },
        {
          "output_type": "stream",
          "name": "stdout",
          "text": [
            "\b\b\b\b\b\b\b\b\b\b\b\b\b\b\b\b\b\b\b\b\b\b\b\b\b\b\b\b\b\b\b\b\b\b\b\b\b\b\b\b\b\b\b\b\b\b\b\b\b\b\b\b\b\b\b\b\b\b\b\b\b\b\b\b\b\b\b\b\b\b\b\b\b\b\b\b\b\b\b\b\b\r81/81 [==============================] - 7s 89ms/step - loss: 4.4212e-04 - mae: 0.0173 - val_loss: 3.0202e-04 - val_mae: 0.0209\n",
            "Epoch 12/500\n",
            "79/81 [============================>.] - ETA: 0s - loss: 4.1950e-04 - mae: 0.0166"
          ]
        },
        {
          "output_type": "stream",
          "name": "stderr",
          "text": [
            "WARNING:absl:Found untraced functions such as lstm_cell_layer_call_fn, lstm_cell_layer_call_and_return_conditional_losses, lstm_cell_1_layer_call_fn, lstm_cell_1_layer_call_and_return_conditional_losses while saving (showing 4 of 4). These functions will not be directly callable after loading.\n"
          ]
        },
        {
          "output_type": "stream",
          "name": "stdout",
          "text": [
            "\b\b\b\b\b\b\b\b\b\b\b\b\b\b\b\b\b\b\b\b\b\b\b\b\b\b\b\b\b\b\b\b\b\b\b\b\b\b\b\b\b\b\b\b\b\b\b\b\b\b\b\b\b\b\b\b\b\b\b\b\b\b\b\b\b\b\b\b\b\b\b\b\b\b\b\b\b\b\b\b\b\r81/81 [==============================] - 8s 95ms/step - loss: 4.2163e-04 - mae: 0.0168 - val_loss: 2.8181e-04 - val_mae: 0.0201\n",
            "Epoch 13/500\n",
            "80/81 [============================>.] - ETA: 0s - loss: 3.9963e-04 - mae: 0.0163"
          ]
        },
        {
          "output_type": "stream",
          "name": "stderr",
          "text": [
            "WARNING:absl:Found untraced functions such as lstm_cell_layer_call_fn, lstm_cell_layer_call_and_return_conditional_losses, lstm_cell_1_layer_call_fn, lstm_cell_1_layer_call_and_return_conditional_losses while saving (showing 4 of 4). These functions will not be directly callable after loading.\n"
          ]
        },
        {
          "output_type": "stream",
          "name": "stdout",
          "text": [
            "\b\b\b\b\b\b\b\b\b\b\b\b\b\b\b\b\b\b\b\b\b\b\b\b\b\b\b\b\b\b\b\b\b\b\b\b\b\b\b\b\b\b\b\b\b\b\b\b\b\b\b\b\b\b\b\b\b\b\b\b\b\b\b\b\b\b\b\b\b\b\b\b\b\b\b\b\b\b\b\b\b\r81/81 [==============================] - 8s 94ms/step - loss: 4.0167e-04 - mae: 0.0164 - val_loss: 2.6333e-04 - val_mae: 0.0194\n",
            "Epoch 14/500\n",
            "78/81 [===========================>..] - ETA: 0s - loss: 3.8258e-04 - mae: 0.0157"
          ]
        },
        {
          "output_type": "stream",
          "name": "stderr",
          "text": [
            "WARNING:absl:Found untraced functions such as lstm_cell_layer_call_fn, lstm_cell_layer_call_and_return_conditional_losses, lstm_cell_1_layer_call_fn, lstm_cell_1_layer_call_and_return_conditional_losses while saving (showing 4 of 4). These functions will not be directly callable after loading.\n"
          ]
        },
        {
          "output_type": "stream",
          "name": "stdout",
          "text": [
            "\b\b\b\b\b\b\b\b\b\b\b\b\b\b\b\b\b\b\b\b\b\b\b\b\b\b\b\b\b\b\b\b\b\b\b\b\b\b\b\b\b\b\b\b\b\b\b\b\b\b\b\b\b\b\b\b\b\b\b\b\b\b\b\b\b\b\b\b\b\b\b\b\b\b\b\b\b\b\b\b\b\r81/81 [==============================] - 7s 94ms/step - loss: 3.8432e-04 - mae: 0.0160 - val_loss: 2.4650e-04 - val_mae: 0.0187\n",
            "Epoch 15/500\n",
            "76/81 [===========================>..] - ETA: 0s - loss: 3.5416e-04 - mae: 0.0149"
          ]
        },
        {
          "output_type": "stream",
          "name": "stderr",
          "text": [
            "WARNING:absl:Found untraced functions such as lstm_cell_layer_call_fn, lstm_cell_layer_call_and_return_conditional_losses, lstm_cell_1_layer_call_fn, lstm_cell_1_layer_call_and_return_conditional_losses while saving (showing 4 of 4). These functions will not be directly callable after loading.\n"
          ]
        },
        {
          "output_type": "stream",
          "name": "stdout",
          "text": [
            "\b\b\b\b\b\b\b\b\b\b\b\b\b\b\b\b\b\b\b\b\b\b\b\b\b\b\b\b\b\b\b\b\b\b\b\b\b\b\b\b\b\b\b\b\b\b\b\b\b\b\b\b\b\b\b\b\b\b\b\b\b\b\b\b\b\b\b\b\b\b\b\b\b\b\b\b\b\b\b\b\b\r81/81 [==============================] - 8s 96ms/step - loss: 3.6775e-04 - mae: 0.0157 - val_loss: 2.3137e-04 - val_mae: 0.0181\n",
            "Epoch 16/500\n",
            "77/81 [===========================>..] - ETA: 0s - loss: 3.5003e-04 - mae: 0.0150"
          ]
        },
        {
          "output_type": "stream",
          "name": "stderr",
          "text": [
            "WARNING:absl:Found untraced functions such as lstm_cell_layer_call_fn, lstm_cell_layer_call_and_return_conditional_losses, lstm_cell_1_layer_call_fn, lstm_cell_1_layer_call_and_return_conditional_losses while saving (showing 4 of 4). These functions will not be directly callable after loading.\n"
          ]
        },
        {
          "output_type": "stream",
          "name": "stdout",
          "text": [
            "\b\b\b\b\b\b\b\b\b\b\b\b\b\b\b\b\b\b\b\b\b\b\b\b\b\b\b\b\b\b\b\b\b\b\b\b\b\b\b\b\b\b\b\b\b\b\b\b\b\b\b\b\b\b\b\b\b\b\b\b\b\b\b\b\b\b\b\b\b\b\b\b\b\b\b\b\b\b\b\b\b\r81/81 [==============================] - 7s 89ms/step - loss: 3.5278e-04 - mae: 0.0153 - val_loss: 2.1776e-04 - val_mae: 0.0175\n",
            "Epoch 17/500\n",
            "79/81 [============================>.] - ETA: 0s - loss: 3.3735e-04 - mae: 0.0148"
          ]
        },
        {
          "output_type": "stream",
          "name": "stderr",
          "text": [
            "WARNING:absl:Found untraced functions such as lstm_cell_layer_call_fn, lstm_cell_layer_call_and_return_conditional_losses, lstm_cell_1_layer_call_fn, lstm_cell_1_layer_call_and_return_conditional_losses while saving (showing 4 of 4). These functions will not be directly callable after loading.\n"
          ]
        },
        {
          "output_type": "stream",
          "name": "stdout",
          "text": [
            "\b\b\b\b\b\b\b\b\b\b\b\b\b\b\b\b\b\b\b\b\b\b\b\b\b\b\b\b\b\b\b\b\b\b\b\b\b\b\b\b\b\b\b\b\b\b\b\b\b\b\b\b\b\b\b\b\b\b\b\b\b\b\b\b\b\b\b\b\b\b\b\b\b\b\b\b\b\b\b\b\b\r81/81 [==============================] - 8s 97ms/step - loss: 3.3855e-04 - mae: 0.0150 - val_loss: 2.0552e-04 - val_mae: 0.0170\n",
            "Epoch 18/500\n",
            "78/81 [===========================>..] - ETA: 0s - loss: 3.2426e-04 - mae: 0.0144"
          ]
        },
        {
          "output_type": "stream",
          "name": "stderr",
          "text": [
            "WARNING:absl:Found untraced functions such as lstm_cell_layer_call_fn, lstm_cell_layer_call_and_return_conditional_losses, lstm_cell_1_layer_call_fn, lstm_cell_1_layer_call_and_return_conditional_losses while saving (showing 4 of 4). These functions will not be directly callable after loading.\n"
          ]
        },
        {
          "output_type": "stream",
          "name": "stdout",
          "text": [
            "\b\b\b\b\b\b\b\b\b\b\b\b\b\b\b\b\b\b\b\b\b\b\b\b\b\b\b\b\b\b\b\b\b\b\b\b\b\b\b\b\b\b\b\b\b\b\b\b\b\b\b\b\b\b\b\b\b\b\b\b\b\b\b\b\b\b\b\b\b\b\b\b\b\b\b\b\b\b\b\b\b\r81/81 [==============================] - 8s 95ms/step - loss: 3.2530e-04 - mae: 0.0147 - val_loss: 1.9443e-04 - val_mae: 0.0164\n",
            "Epoch 19/500\n",
            "78/81 [===========================>..] - ETA: 0s - loss: 3.1172e-04 - mae: 0.0141"
          ]
        },
        {
          "output_type": "stream",
          "name": "stderr",
          "text": [
            "WARNING:absl:Found untraced functions such as lstm_cell_layer_call_fn, lstm_cell_layer_call_and_return_conditional_losses, lstm_cell_1_layer_call_fn, lstm_cell_1_layer_call_and_return_conditional_losses while saving (showing 4 of 4). These functions will not be directly callable after loading.\n"
          ]
        },
        {
          "output_type": "stream",
          "name": "stdout",
          "text": [
            "\b\b\b\b\b\b\b\b\b\b\b\b\b\b\b\b\b\b\b\b\b\b\b\b\b\b\b\b\b\b\b\b\b\b\b\b\b\b\b\b\b\b\b\b\b\b\b\b\b\b\b\b\b\b\b\b\b\b\b\b\b\b\b\b\b\b\b\b\b\b\b\b\b\b\b\b\b\b\b\b\b\r81/81 [==============================] - 7s 93ms/step - loss: 3.1266e-04 - mae: 0.0144 - val_loss: 1.8435e-04 - val_mae: 0.0160\n",
            "Epoch 20/500\n",
            "77/81 [===========================>..] - ETA: 0s - loss: 2.9867e-04 - mae: 0.0137"
          ]
        },
        {
          "output_type": "stream",
          "name": "stderr",
          "text": [
            "WARNING:absl:Found untraced functions such as lstm_cell_layer_call_fn, lstm_cell_layer_call_and_return_conditional_losses, lstm_cell_1_layer_call_fn, lstm_cell_1_layer_call_and_return_conditional_losses while saving (showing 4 of 4). These functions will not be directly callable after loading.\n"
          ]
        },
        {
          "output_type": "stream",
          "name": "stdout",
          "text": [
            "\b\b\b\b\b\b\b\b\b\b\b\b\b\b\b\b\b\b\b\b\b\b\b\b\b\b\b\b\b\b\b\b\b\b\b\b\b\b\b\b\b\b\b\b\b\b\b\b\b\b\b\b\b\b\b\b\b\b\b\b\b\b\b\b\b\b\b\b\b\b\b\b\b\b\b\b\b\b\b\b\b\r81/81 [==============================] - 8s 95ms/step - loss: 3.0065e-04 - mae: 0.0140 - val_loss: 1.7511e-04 - val_mae: 0.0155\n",
            "Epoch 21/500\n",
            "79/81 [============================>.] - ETA: 0s - loss: 2.8837e-04 - mae: 0.0136"
          ]
        },
        {
          "output_type": "stream",
          "name": "stderr",
          "text": [
            "WARNING:absl:Found untraced functions such as lstm_cell_layer_call_fn, lstm_cell_layer_call_and_return_conditional_losses, lstm_cell_1_layer_call_fn, lstm_cell_1_layer_call_and_return_conditional_losses while saving (showing 4 of 4). These functions will not be directly callable after loading.\n"
          ]
        },
        {
          "output_type": "stream",
          "name": "stdout",
          "text": [
            "\b\b\b\b\b\b\b\b\b\b\b\b\b\b\b\b\b\b\b\b\b\b\b\b\b\b\b\b\b\b\b\b\b\b\b\b\b\b\b\b\b\b\b\b\b\b\b\b\b\b\b\b\b\b\b\b\b\b\b\b\b\b\b\b\b\b\b\b\b\b\b\b\b\b\b\b\b\b\b\b\b\r81/81 [==============================] - 7s 89ms/step - loss: 2.8913e-04 - mae: 0.0137 - val_loss: 1.6660e-04 - val_mae: 0.0151\n",
            "Epoch 22/500\n",
            "78/81 [===========================>..] - ETA: 0s - loss: 2.7746e-04 - mae: 0.0132"
          ]
        },
        {
          "output_type": "stream",
          "name": "stderr",
          "text": [
            "WARNING:absl:Found untraced functions such as lstm_cell_layer_call_fn, lstm_cell_layer_call_and_return_conditional_losses, lstm_cell_1_layer_call_fn, lstm_cell_1_layer_call_and_return_conditional_losses while saving (showing 4 of 4). These functions will not be directly callable after loading.\n"
          ]
        },
        {
          "output_type": "stream",
          "name": "stdout",
          "text": [
            "\b\b\b\b\b\b\b\b\b\b\b\b\b\b\b\b\b\b\b\b\b\b\b\b\b\b\b\b\b\b\b\b\b\b\b\b\b\b\b\b\b\b\b\b\b\b\b\b\b\b\b\b\b\b\b\b\b\b\b\b\b\b\b\b\b\b\b\b\b\b\b\b\b\b\b\b\b\b\b\b\b\r81/81 [==============================] - 8s 97ms/step - loss: 2.7810e-04 - mae: 0.0135 - val_loss: 1.5874e-04 - val_mae: 0.0147\n",
            "Epoch 23/500\n",
            "77/81 [===========================>..] - ETA: 0s - loss: 2.6608e-04 - mae: 0.0129"
          ]
        },
        {
          "output_type": "stream",
          "name": "stderr",
          "text": [
            "WARNING:absl:Found untraced functions such as lstm_cell_layer_call_fn, lstm_cell_layer_call_and_return_conditional_losses, lstm_cell_1_layer_call_fn, lstm_cell_1_layer_call_and_return_conditional_losses while saving (showing 4 of 4). These functions will not be directly callable after loading.\n"
          ]
        },
        {
          "output_type": "stream",
          "name": "stdout",
          "text": [
            "\b\b\b\b\b\b\b\b\b\b\b\b\b\b\b\b\b\b\b\b\b\b\b\b\b\b\b\b\b\b\b\b\b\b\b\b\b\b\b\b\b\b\b\b\b\b\b\b\b\b\b\b\b\b\b\b\b\b\b\b\b\b\b\b\b\b\b\b\b\b\b\b\b\b\b\b\b\b\b\b\b\r81/81 [==============================] - 8s 94ms/step - loss: 2.6752e-04 - mae: 0.0132 - val_loss: 1.5147e-04 - val_mae: 0.0143\n",
            "Epoch 24/500\n",
            "77/81 [===========================>..] - ETA: 0s - loss: 2.5615e-04 - mae: 0.0126"
          ]
        },
        {
          "output_type": "stream",
          "name": "stderr",
          "text": [
            "WARNING:absl:Found untraced functions such as lstm_cell_layer_call_fn, lstm_cell_layer_call_and_return_conditional_losses, lstm_cell_1_layer_call_fn, lstm_cell_1_layer_call_and_return_conditional_losses while saving (showing 4 of 4). These functions will not be directly callable after loading.\n"
          ]
        },
        {
          "output_type": "stream",
          "name": "stdout",
          "text": [
            "\b\b\b\b\b\b\b\b\b\b\b\b\b\b\b\b\b\b\b\b\b\b\b\b\b\b\b\b\b\b\b\b\b\b\b\b\b\b\b\b\b\b\b\b\b\b\b\b\b\b\b\b\b\b\b\b\b\b\b\b\b\b\b\b\b\b\b\b\b\b\b\b\b\b\b\b\b\b\b\b\b\r81/81 [==============================] - 8s 96ms/step - loss: 2.5741e-04 - mae: 0.0129 - val_loss: 1.4475e-04 - val_mae: 0.0140\n",
            "Epoch 25/500\n",
            "77/81 [===========================>..] - ETA: 0s - loss: 2.4672e-04 - mae: 0.0124"
          ]
        },
        {
          "output_type": "stream",
          "name": "stderr",
          "text": [
            "WARNING:absl:Found untraced functions such as lstm_cell_layer_call_fn, lstm_cell_layer_call_and_return_conditional_losses, lstm_cell_1_layer_call_fn, lstm_cell_1_layer_call_and_return_conditional_losses while saving (showing 4 of 4). These functions will not be directly callable after loading.\n"
          ]
        },
        {
          "output_type": "stream",
          "name": "stdout",
          "text": [
            "\b\b\b\b\b\b\b\b\b\b\b\b\b\b\b\b\b\b\b\b\b\b\b\b\b\b\b\b\b\b\b\b\b\b\b\b\b\b\b\b\b\b\b\b\b\b\b\b\b\b\b\b\b\b\b\b\b\b\b\b\b\b\b\b\b\b\b\b\b\b\b\b\b\b\b\b\b\b\b\b\b\r81/81 [==============================] - 8s 95ms/step - loss: 2.4780e-04 - mae: 0.0126 - val_loss: 1.3855e-04 - val_mae: 0.0136\n",
            "Epoch 26/500\n",
            "78/81 [===========================>..] - ETA: 0s - loss: 2.3841e-04 - mae: 0.0122"
          ]
        },
        {
          "output_type": "stream",
          "name": "stderr",
          "text": [
            "WARNING:absl:Found untraced functions such as lstm_cell_layer_call_fn, lstm_cell_layer_call_and_return_conditional_losses, lstm_cell_1_layer_call_fn, lstm_cell_1_layer_call_and_return_conditional_losses while saving (showing 4 of 4). These functions will not be directly callable after loading.\n"
          ]
        },
        {
          "output_type": "stream",
          "name": "stdout",
          "text": [
            "\b\b\b\b\b\b\b\b\b\b\b\b\b\b\b\b\b\b\b\b\b\b\b\b\b\b\b\b\b\b\b\b\b\b\b\b\b\b\b\b\b\b\b\b\b\b\b\b\b\b\b\b\b\b\b\b\b\b\b\b\b\b\b\b\b\b\b\b\b\b\b\b\b\b\b\b\b\b\b\b\b\r81/81 [==============================] - 7s 88ms/step - loss: 2.3872e-04 - mae: 0.0124 - val_loss: 1.3286e-04 - val_mae: 0.0133\n",
            "Epoch 27/500\n",
            "78/81 [===========================>..] - ETA: 0s - loss: 2.3001e-04 - mae: 0.0120"
          ]
        },
        {
          "output_type": "stream",
          "name": "stderr",
          "text": [
            "WARNING:absl:Found untraced functions such as lstm_cell_layer_call_fn, lstm_cell_layer_call_and_return_conditional_losses, lstm_cell_1_layer_call_fn, lstm_cell_1_layer_call_and_return_conditional_losses while saving (showing 4 of 4). These functions will not be directly callable after loading.\n"
          ]
        },
        {
          "output_type": "stream",
          "name": "stdout",
          "text": [
            "\b\b\b\b\b\b\b\b\b\b\b\b\b\b\b\b\b\b\b\b\b\b\b\b\b\b\b\b\b\b\b\b\b\b\b\b\b\b\b\b\b\b\b\b\b\b\b\b\b\b\b\b\b\b\b\b\b\b\b\b\b\b\b\b\b\b\b\b\b\b\b\b\b\b\b\b\b\b\b\b\b\r81/81 [==============================] - 8s 96ms/step - loss: 2.3024e-04 - mae: 0.0122 - val_loss: 1.2766e-04 - val_mae: 0.0130\n",
            "Epoch 28/500\n",
            "78/81 [===========================>..] - ETA: 0s - loss: 2.2229e-04 - mae: 0.0118"
          ]
        },
        {
          "output_type": "stream",
          "name": "stderr",
          "text": [
            "WARNING:absl:Found untraced functions such as lstm_cell_layer_call_fn, lstm_cell_layer_call_and_return_conditional_losses, lstm_cell_1_layer_call_fn, lstm_cell_1_layer_call_and_return_conditional_losses while saving (showing 4 of 4). These functions will not be directly callable after loading.\n"
          ]
        },
        {
          "output_type": "stream",
          "name": "stdout",
          "text": [
            "\b\b\b\b\b\b\b\b\b\b\b\b\b\b\b\b\b\b\b\b\b\b\b\b\b\b\b\b\b\b\b\b\b\b\b\b\b\b\b\b\b\b\b\b\b\b\b\b\b\b\b\b\b\b\b\b\b\b\b\b\b\b\b\b\b\b\b\b\b\b\b\b\b\b\b\b\b\b\b\b\b\r81/81 [==============================] - 7s 93ms/step - loss: 2.2245e-04 - mae: 0.0119 - val_loss: 1.2294e-04 - val_mae: 0.0127\n",
            "Epoch 29/500\n",
            "78/81 [===========================>..] - ETA: 0s - loss: 2.1536e-04 - mae: 0.0116"
          ]
        },
        {
          "output_type": "stream",
          "name": "stderr",
          "text": [
            "WARNING:absl:Found untraced functions such as lstm_cell_layer_call_fn, lstm_cell_layer_call_and_return_conditional_losses, lstm_cell_1_layer_call_fn, lstm_cell_1_layer_call_and_return_conditional_losses while saving (showing 4 of 4). These functions will not be directly callable after loading.\n"
          ]
        },
        {
          "output_type": "stream",
          "name": "stdout",
          "text": [
            "\b\b\b\b\b\b\b\b\b\b\b\b\b\b\b\b\b\b\b\b\b\b\b\b\b\b\b\b\b\b\b\b\b\b\b\b\b\b\b\b\b\b\b\b\b\b\b\b\b\b\b\b\b\b\b\b\b\b\b\b\b\b\b\b\b\b\b\b\b\b\b\b\b\b\b\b\b\b\b\b\b\r81/81 [==============================] - 7s 93ms/step - loss: 2.1545e-04 - mae: 0.0117 - val_loss: 1.1869e-04 - val_mae: 0.0125\n",
            "Epoch 30/500\n",
            "78/81 [===========================>..] - ETA: 0s - loss: 2.0930e-04 - mae: 0.0114"
          ]
        },
        {
          "output_type": "stream",
          "name": "stderr",
          "text": [
            "WARNING:absl:Found untraced functions such as lstm_cell_layer_call_fn, lstm_cell_layer_call_and_return_conditional_losses, lstm_cell_1_layer_call_fn, lstm_cell_1_layer_call_and_return_conditional_losses while saving (showing 4 of 4). These functions will not be directly callable after loading.\n"
          ]
        },
        {
          "output_type": "stream",
          "name": "stdout",
          "text": [
            "\b\b\b\b\b\b\b\b\b\b\b\b\b\b\b\b\b\b\b\b\b\b\b\b\b\b\b\b\b\b\b\b\b\b\b\b\b\b\b\b\b\b\b\b\b\b\b\b\b\b\b\b\b\b\b\b\b\b\b\b\b\b\b\b\b\b\b\b\b\b\b\b\b\b\b\b\b\b\b\b\b\r81/81 [==============================] - 7s 88ms/step - loss: 2.0932e-04 - mae: 0.0115 - val_loss: 1.1489e-04 - val_mae: 0.0123\n",
            "Epoch 31/500\n",
            "79/81 [============================>.] - ETA: 0s - loss: 2.0422e-04 - mae: 0.0113"
          ]
        },
        {
          "output_type": "stream",
          "name": "stderr",
          "text": [
            "WARNING:absl:Found untraced functions such as lstm_cell_layer_call_fn, lstm_cell_layer_call_and_return_conditional_losses, lstm_cell_1_layer_call_fn, lstm_cell_1_layer_call_and_return_conditional_losses while saving (showing 4 of 4). These functions will not be directly callable after loading.\n"
          ]
        },
        {
          "output_type": "stream",
          "name": "stdout",
          "text": [
            "\b\b\b\b\b\b\b\b\b\b\b\b\b\b\b\b\b\b\b\b\b\b\b\b\b\b\b\b\b\b\b\b\b\b\b\b\b\b\b\b\b\b\b\b\b\b\b\b\b\b\b\b\b\b\b\b\b\b\b\b\b\b\b\b\b\b\b\b\b\b\b\b\b\b\b\b\b\b\b\b\b\r81/81 [==============================] - 8s 94ms/step - loss: 2.0401e-04 - mae: 0.0114 - val_loss: 1.1152e-04 - val_mae: 0.0121\n",
            "Epoch 32/500\n",
            "80/81 [============================>.] - ETA: 0s - loss: 1.9928e-04 - mae: 0.0112"
          ]
        },
        {
          "output_type": "stream",
          "name": "stderr",
          "text": [
            "WARNING:absl:Found untraced functions such as lstm_cell_layer_call_fn, lstm_cell_layer_call_and_return_conditional_losses, lstm_cell_1_layer_call_fn, lstm_cell_1_layer_call_and_return_conditional_losses while saving (showing 4 of 4). These functions will not be directly callable after loading.\n"
          ]
        },
        {
          "output_type": "stream",
          "name": "stdout",
          "text": [
            "\b\b\b\b\b\b\b\b\b\b\b\b\b\b\b\b\b\b\b\b\b\b\b\b\b\b\b\b\b\b\b\b\b\b\b\b\b\b\b\b\b\b\b\b\b\b\b\b\b\b\b\b\b\b\b\b\b\b\b\b\b\b\b\b\b\b\b\b\b\b\b\b\b\b\b\b\b\b\b\b\b\r81/81 [==============================] - 7s 92ms/step - loss: 1.9934e-04 - mae: 0.0112 - val_loss: 1.0854e-04 - val_mae: 0.0119\n",
            "Epoch 33/500\n",
            "78/81 [===========================>..] - ETA: 0s - loss: 1.9520e-04 - mae: 0.0110"
          ]
        },
        {
          "output_type": "stream",
          "name": "stderr",
          "text": [
            "WARNING:absl:Found untraced functions such as lstm_cell_layer_call_fn, lstm_cell_layer_call_and_return_conditional_losses, lstm_cell_1_layer_call_fn, lstm_cell_1_layer_call_and_return_conditional_losses while saving (showing 4 of 4). These functions will not be directly callable after loading.\n"
          ]
        },
        {
          "output_type": "stream",
          "name": "stdout",
          "text": [
            "\b\b\b\b\b\b\b\b\b\b\b\b\b\b\b\b\b\b\b\b\b\b\b\b\b\b\b\b\b\b\b\b\b\b\b\b\b\b\b\b\b\b\b\b\b\b\b\b\b\b\b\b\b\b\b\b\b\b\b\b\b\b\b\b\b\b\b\b\b\b\b\b\b\b\b\b\b\b\b\b\b\r81/81 [==============================] - 7s 93ms/step - loss: 1.9513e-04 - mae: 0.0111 - val_loss: 1.0591e-04 - val_mae: 0.0118\n",
            "Epoch 34/500\n",
            "79/81 [============================>.] - ETA: 0s - loss: 1.9161e-04 - mae: 0.0109"
          ]
        },
        {
          "output_type": "stream",
          "name": "stderr",
          "text": [
            "WARNING:absl:Found untraced functions such as lstm_cell_layer_call_fn, lstm_cell_layer_call_and_return_conditional_losses, lstm_cell_1_layer_call_fn, lstm_cell_1_layer_call_and_return_conditional_losses while saving (showing 4 of 4). These functions will not be directly callable after loading.\n"
          ]
        },
        {
          "output_type": "stream",
          "name": "stdout",
          "text": [
            "\b\b\b\b\b\b\b\b\b\b\b\b\b\b\b\b\b\b\b\b\b\b\b\b\b\b\b\b\b\b\b\b\b\b\b\b\b\b\b\b\b\b\b\b\b\b\b\b\b\b\b\b\b\b\b\b\b\b\b\b\b\b\b\b\b\b\b\b\b\b\b\b\b\b\b\b\b\b\b\b\b\r81/81 [==============================] - 7s 93ms/step - loss: 1.9127e-04 - mae: 0.0110 - val_loss: 1.0360e-04 - val_mae: 0.0116\n",
            "Epoch 35/500\n",
            "79/81 [============================>.] - ETA: 0s - loss: 1.8809e-04 - mae: 0.0108"
          ]
        },
        {
          "output_type": "stream",
          "name": "stderr",
          "text": [
            "WARNING:absl:Found untraced functions such as lstm_cell_layer_call_fn, lstm_cell_layer_call_and_return_conditional_losses, lstm_cell_1_layer_call_fn, lstm_cell_1_layer_call_and_return_conditional_losses while saving (showing 4 of 4). These functions will not be directly callable after loading.\n"
          ]
        },
        {
          "output_type": "stream",
          "name": "stdout",
          "text": [
            "\b\b\b\b\b\b\b\b\b\b\b\b\b\b\b\b\b\b\b\b\b\b\b\b\b\b\b\b\b\b\b\b\b\b\b\b\b\b\b\b\b\b\b\b\b\b\b\b\b\b\b\b\b\b\b\b\b\b\b\b\b\b\b\b\b\b\b\b\b\b\b\b\b\b\b\b\b\b\b\b\b\r81/81 [==============================] - 7s 92ms/step - loss: 1.8774e-04 - mae: 0.0109 - val_loss: 1.0161e-04 - val_mae: 0.0115\n",
            "Epoch 36/500\n",
            "77/81 [===========================>..] - ETA: 0s - loss: 1.8436e-04 - mae: 0.0106"
          ]
        },
        {
          "output_type": "stream",
          "name": "stderr",
          "text": [
            "WARNING:absl:Found untraced functions such as lstm_cell_layer_call_fn, lstm_cell_layer_call_and_return_conditional_losses, lstm_cell_1_layer_call_fn, lstm_cell_1_layer_call_and_return_conditional_losses while saving (showing 4 of 4). These functions will not be directly callable after loading.\n"
          ]
        },
        {
          "output_type": "stream",
          "name": "stdout",
          "text": [
            "\b\b\b\b\b\b\b\b\b\b\b\b\b\b\b\b\b\b\b\b\b\b\b\b\b\b\b\b\b\b\b\b\b\b\b\b\b\b\b\b\b\b\b\b\b\b\b\b\b\b\b\b\b\b\b\b\b\b\b\b\b\b\b\b\b\b\b\b\b\b\b\b\b\b\b\b\b\b\b\b\b\r81/81 [==============================] - 7s 93ms/step - loss: 1.8443e-04 - mae: 0.0108 - val_loss: 9.9889e-05 - val_mae: 0.0114\n",
            "Epoch 37/500\n",
            "76/81 [===========================>..] - ETA: 0s - loss: 1.7954e-04 - mae: 0.0104"
          ]
        },
        {
          "output_type": "stream",
          "name": "stderr",
          "text": [
            "WARNING:absl:Found untraced functions such as lstm_cell_layer_call_fn, lstm_cell_layer_call_and_return_conditional_losses, lstm_cell_1_layer_call_fn, lstm_cell_1_layer_call_and_return_conditional_losses while saving (showing 4 of 4). These functions will not be directly callable after loading.\n"
          ]
        },
        {
          "output_type": "stream",
          "name": "stdout",
          "text": [
            "\b\b\b\b\b\b\b\b\b\b\b\b\b\b\b\b\b\b\b\b\b\b\b\b\b\b\b\b\b\b\b\b\b\b\b\b\b\b\b\b\b\b\b\b\b\b\b\b\b\b\b\b\b\b\b\b\b\b\b\b\b\b\b\b\b\b\b\b\b\b\b\b\b\b\b\b\b\b\b\b\b\r81/81 [==============================] - 8s 97ms/step - loss: 1.8122e-04 - mae: 0.0107 - val_loss: 9.8427e-05 - val_mae: 0.0113\n",
            "Epoch 38/500\n",
            "77/81 [===========================>..] - ETA: 0s - loss: 1.7791e-04 - mae: 0.0105"
          ]
        },
        {
          "output_type": "stream",
          "name": "stderr",
          "text": [
            "WARNING:absl:Found untraced functions such as lstm_cell_layer_call_fn, lstm_cell_layer_call_and_return_conditional_losses, lstm_cell_1_layer_call_fn, lstm_cell_1_layer_call_and_return_conditional_losses while saving (showing 4 of 4). These functions will not be directly callable after loading.\n"
          ]
        },
        {
          "output_type": "stream",
          "name": "stdout",
          "text": [
            "\b\b\b\b\b\b\b\b\b\b\b\b\b\b\b\b\b\b\b\b\b\b\b\b\b\b\b\b\b\b\b\b\b\b\b\b\b\b\b\b\b\b\b\b\b\b\b\b\b\b\b\b\b\b\b\b\b\b\b\b\b\b\b\b\b\b\b\b\b\b\b\b\b\b\b\b\b\b\b\b\b\r81/81 [==============================] - 8s 94ms/step - loss: 1.7816e-04 - mae: 0.0106 - val_loss: 9.7214e-05 - val_mae: 0.0113\n",
            "Epoch 39/500\n",
            "78/81 [===========================>..] - ETA: 0s - loss: 1.7514e-04 - mae: 0.0104"
          ]
        },
        {
          "output_type": "stream",
          "name": "stderr",
          "text": [
            "WARNING:absl:Found untraced functions such as lstm_cell_layer_call_fn, lstm_cell_layer_call_and_return_conditional_losses, lstm_cell_1_layer_call_fn, lstm_cell_1_layer_call_and_return_conditional_losses while saving (showing 4 of 4). These functions will not be directly callable after loading.\n"
          ]
        },
        {
          "output_type": "stream",
          "name": "stdout",
          "text": [
            "\b\b\b\b\b\b\b\b\b\b\b\b\b\b\b\b\b\b\b\b\b\b\b\b\b\b\b\b\b\b\b\b\b\b\b\b\b\b\b\b\b\b\b\b\b\b\b\b\b\b\b\b\b\b\b\b\b\b\b\b\b\b\b\b\b\b\b\b\b\b\b\b\b\b\b\b\b\b\b\b\b\r81/81 [==============================] - 7s 93ms/step - loss: 1.7536e-04 - mae: 0.0105 - val_loss: 9.6228e-05 - val_mae: 0.0112\n",
            "Epoch 40/500\n",
            "77/81 [===========================>..] - ETA: 0s - loss: 1.7222e-04 - mae: 0.0103"
          ]
        },
        {
          "output_type": "stream",
          "name": "stderr",
          "text": [
            "WARNING:absl:Found untraced functions such as lstm_cell_layer_call_fn, lstm_cell_layer_call_and_return_conditional_losses, lstm_cell_1_layer_call_fn, lstm_cell_1_layer_call_and_return_conditional_losses while saving (showing 4 of 4). These functions will not be directly callable after loading.\n"
          ]
        },
        {
          "output_type": "stream",
          "name": "stdout",
          "text": [
            "\b\b\b\b\b\b\b\b\b\b\b\b\b\b\b\b\b\b\b\b\b\b\b\b\b\b\b\b\b\b\b\b\b\b\b\b\b\b\b\b\b\b\b\b\b\b\b\b\b\b\b\b\b\b\b\b\b\b\b\b\b\b\b\b\b\b\b\b\b\b\b\b\b\b\b\b\b\b\b\b\b\r81/81 [==============================] - 8s 94ms/step - loss: 1.7271e-04 - mae: 0.0105 - val_loss: 9.5428e-05 - val_mae: 0.0112\n",
            "Epoch 41/500\n",
            "77/81 [===========================>..] - ETA: 0s - loss: 1.6958e-04 - mae: 0.0102"
          ]
        },
        {
          "output_type": "stream",
          "name": "stderr",
          "text": [
            "WARNING:absl:Found untraced functions such as lstm_cell_layer_call_fn, lstm_cell_layer_call_and_return_conditional_losses, lstm_cell_1_layer_call_fn, lstm_cell_1_layer_call_and_return_conditional_losses while saving (showing 4 of 4). These functions will not be directly callable after loading.\n"
          ]
        },
        {
          "output_type": "stream",
          "name": "stdout",
          "text": [
            "\b\b\b\b\b\b\b\b\b\b\b\b\b\b\b\b\b\b\b\b\b\b\b\b\b\b\b\b\b\b\b\b\b\b\b\b\b\b\b\b\b\b\b\b\b\b\b\b\b\b\b\b\b\b\b\b\b\b\b\b\b\b\b\b\b\b\b\b\b\b\b\b\b\b\b\b\b\b\b\b\b\r81/81 [==============================] - 7s 93ms/step - loss: 1.7019e-04 - mae: 0.0104 - val_loss: 9.4785e-05 - val_mae: 0.0111\n",
            "Epoch 42/500\n",
            "76/81 [===========================>..] - ETA: 0s - loss: 1.6543e-04 - mae: 0.0101"
          ]
        },
        {
          "output_type": "stream",
          "name": "stderr",
          "text": [
            "WARNING:absl:Found untraced functions such as lstm_cell_layer_call_fn, lstm_cell_layer_call_and_return_conditional_losses, lstm_cell_1_layer_call_fn, lstm_cell_1_layer_call_and_return_conditional_losses while saving (showing 4 of 4). These functions will not be directly callable after loading.\n"
          ]
        },
        {
          "output_type": "stream",
          "name": "stdout",
          "text": [
            "\b\b\b\b\b\b\b\b\b\b\b\b\b\b\b\b\b\b\b\b\b\b\b\b\b\b\b\b\b\b\b\b\b\b\b\b\b\b\b\b\b\b\b\b\b\b\b\b\b\b\b\b\b\b\b\b\b\b\b\b\b\b\b\b\b\b\b\b\b\b\b\b\b\b\b\b\b\b\b\b\b\r81/81 [==============================] - 7s 93ms/step - loss: 1.6783e-04 - mae: 0.0103 - val_loss: 9.4267e-05 - val_mae: 0.0111\n",
            "Epoch 43/500\n",
            "78/81 [===========================>..] - ETA: 0s - loss: 1.6503e-04 - mae: 0.0102"
          ]
        },
        {
          "output_type": "stream",
          "name": "stderr",
          "text": [
            "WARNING:absl:Found untraced functions such as lstm_cell_layer_call_fn, lstm_cell_layer_call_and_return_conditional_losses, lstm_cell_1_layer_call_fn, lstm_cell_1_layer_call_and_return_conditional_losses while saving (showing 4 of 4). These functions will not be directly callable after loading.\n"
          ]
        },
        {
          "output_type": "stream",
          "name": "stdout",
          "text": [
            "\b\b\b\b\b\b\b\b\b\b\b\b\b\b\b\b\b\b\b\b\b\b\b\b\b\b\b\b\b\b\b\b\b\b\b\b\b\b\b\b\b\b\b\b\b\b\b\b\b\b\b\b\b\b\b\b\b\b\b\b\b\b\b\b\b\b\b\b\b\b\b\b\b\b\b\b\b\b\b\b\b\r81/81 [==============================] - 7s 88ms/step - loss: 1.6560e-04 - mae: 0.0103 - val_loss: 9.3842e-05 - val_mae: 0.0111\n",
            "Epoch 44/500\n",
            "78/81 [===========================>..] - ETA: 0s - loss: 1.6284e-04 - mae: 0.0101"
          ]
        },
        {
          "output_type": "stream",
          "name": "stderr",
          "text": [
            "WARNING:absl:Found untraced functions such as lstm_cell_layer_call_fn, lstm_cell_layer_call_and_return_conditional_losses, lstm_cell_1_layer_call_fn, lstm_cell_1_layer_call_and_return_conditional_losses while saving (showing 4 of 4). These functions will not be directly callable after loading.\n"
          ]
        },
        {
          "output_type": "stream",
          "name": "stdout",
          "text": [
            "\b\b\b\b\b\b\b\b\b\b\b\b\b\b\b\b\b\b\b\b\b\b\b\b\b\b\b\b\b\b\b\b\b\b\b\b\b\b\b\b\b\b\b\b\b\b\b\b\b\b\b\b\b\b\b\b\b\b\b\b\b\b\b\b\b\b\b\b\b\b\b\b\b\b\b\b\b\b\b\b\b\r81/81 [==============================] - 8s 97ms/step - loss: 1.6350e-04 - mae: 0.0102 - val_loss: 9.3487e-05 - val_mae: 0.0110\n",
            "Epoch 45/500\n",
            "76/81 [===========================>..] - ETA: 0s - loss: 1.5866e-04 - mae: 0.0099"
          ]
        },
        {
          "output_type": "stream",
          "name": "stderr",
          "text": [
            "WARNING:absl:Found untraced functions such as lstm_cell_layer_call_fn, lstm_cell_layer_call_and_return_conditional_losses, lstm_cell_1_layer_call_fn, lstm_cell_1_layer_call_and_return_conditional_losses while saving (showing 4 of 4). These functions will not be directly callable after loading.\n"
          ]
        },
        {
          "output_type": "stream",
          "name": "stdout",
          "text": [
            "\b\b\b\b\b\b\b\b\b\b\b\b\b\b\b\b\b\b\b\b\b\b\b\b\b\b\b\b\b\b\b\b\b\b\b\b\b\b\b\b\b\b\b\b\b\b\b\b\b\b\b\b\b\b\b\b\b\b\b\b\b\b\b\b\b\b\b\b\b\b\b\b\b\b\b\b\b\b\b\b\b\r81/81 [==============================] - 7s 92ms/step - loss: 1.6153e-04 - mae: 0.0102 - val_loss: 9.3182e-05 - val_mae: 0.0110\n",
            "Epoch 46/500\n",
            "78/81 [===========================>..] - ETA: 0s - loss: 1.5886e-04 - mae: 0.0100"
          ]
        },
        {
          "output_type": "stream",
          "name": "stderr",
          "text": [
            "WARNING:absl:Found untraced functions such as lstm_cell_layer_call_fn, lstm_cell_layer_call_and_return_conditional_losses, lstm_cell_1_layer_call_fn, lstm_cell_1_layer_call_and_return_conditional_losses while saving (showing 4 of 4). These functions will not be directly callable after loading.\n"
          ]
        },
        {
          "output_type": "stream",
          "name": "stdout",
          "text": [
            "\b\b\b\b\b\b\b\b\b\b\b\b\b\b\b\b\b\b\b\b\b\b\b\b\b\b\b\b\b\b\b\b\b\b\b\b\b\b\b\b\b\b\b\b\b\b\b\b\b\b\b\b\b\b\b\b\b\b\b\b\b\b\b\b\b\b\b\b\b\b\b\b\b\b\b\b\b\b\b\b\b\r81/81 [==============================] - 7s 91ms/step - loss: 1.5967e-04 - mae: 0.0101 - val_loss: 9.2911e-05 - val_mae: 0.0110\n",
            "Epoch 47/500\n",
            "78/81 [===========================>..] - ETA: 0s - loss: 1.5707e-04 - mae: 0.0099"
          ]
        },
        {
          "output_type": "stream",
          "name": "stderr",
          "text": [
            "WARNING:absl:Found untraced functions such as lstm_cell_layer_call_fn, lstm_cell_layer_call_and_return_conditional_losses, lstm_cell_1_layer_call_fn, lstm_cell_1_layer_call_and_return_conditional_losses while saving (showing 4 of 4). These functions will not be directly callable after loading.\n"
          ]
        },
        {
          "output_type": "stream",
          "name": "stdout",
          "text": [
            "\b\b\b\b\b\b\b\b\b\b\b\b\b\b\b\b\b\b\b\b\b\b\b\b\b\b\b\b\b\b\b\b\b\b\b\b\b\b\b\b\b\b\b\b\b\b\b\b\b\b\b\b\b\b\b\b\b\b\b\b\b\b\b\b\b\b\b\b\b\b\b\b\b\b\b\b\b\b\b\b\b\r81/81 [==============================] - 7s 92ms/step - loss: 1.5795e-04 - mae: 0.0101 - val_loss: 9.2664e-05 - val_mae: 0.0110\n",
            "Epoch 48/500\n",
            "79/81 [============================>.] - ETA: 0s - loss: 1.5619e-04 - mae: 0.0099"
          ]
        },
        {
          "output_type": "stream",
          "name": "stderr",
          "text": [
            "WARNING:absl:Found untraced functions such as lstm_cell_layer_call_fn, lstm_cell_layer_call_and_return_conditional_losses, lstm_cell_1_layer_call_fn, lstm_cell_1_layer_call_and_return_conditional_losses while saving (showing 4 of 4). These functions will not be directly callable after loading.\n"
          ]
        },
        {
          "output_type": "stream",
          "name": "stdout",
          "text": [
            "\b\b\b\b\b\b\b\b\b\b\b\b\b\b\b\b\b\b\b\b\b\b\b\b\b\b\b\b\b\b\b\b\b\b\b\b\b\b\b\b\b\b\b\b\b\b\b\b\b\b\b\b\b\b\b\b\b\b\b\b\b\b\b\b\b\b\b\b\b\b\b\b\b\b\b\b\b\b\b\b\b\r81/81 [==============================] - 7s 93ms/step - loss: 1.5633e-04 - mae: 0.0100 - val_loss: 9.2429e-05 - val_mae: 0.0110\n",
            "Epoch 49/500\n",
            "79/81 [============================>.] - ETA: 0s - loss: 1.5465e-04 - mae: 0.0099"
          ]
        },
        {
          "output_type": "stream",
          "name": "stderr",
          "text": [
            "WARNING:absl:Found untraced functions such as lstm_cell_layer_call_fn, lstm_cell_layer_call_and_return_conditional_losses, lstm_cell_1_layer_call_fn, lstm_cell_1_layer_call_and_return_conditional_losses while saving (showing 4 of 4). These functions will not be directly callable after loading.\n"
          ]
        },
        {
          "output_type": "stream",
          "name": "stdout",
          "text": [
            "\b\b\b\b\b\b\b\b\b\b\b\b\b\b\b\b\b\b\b\b\b\b\b\b\b\b\b\b\b\b\b\b\b\b\b\b\b\b\b\b\b\b\b\b\b\b\b\b\b\b\b\b\b\b\b\b\b\b\b\b\b\b\b\b\b\b\b\b\b\b\b\b\b\b\b\b\b\b\b\b\b\r81/81 [==============================] - 7s 89ms/step - loss: 1.5483e-04 - mae: 0.0100 - val_loss: 9.2203e-05 - val_mae: 0.0109\n",
            "Epoch 50/500\n",
            "79/81 [============================>.] - ETA: 0s - loss: 1.5321e-04 - mae: 0.0099"
          ]
        },
        {
          "output_type": "stream",
          "name": "stderr",
          "text": [
            "WARNING:absl:Found untraced functions such as lstm_cell_layer_call_fn, lstm_cell_layer_call_and_return_conditional_losses, lstm_cell_1_layer_call_fn, lstm_cell_1_layer_call_and_return_conditional_losses while saving (showing 4 of 4). These functions will not be directly callable after loading.\n"
          ]
        },
        {
          "output_type": "stream",
          "name": "stdout",
          "text": [
            "\b\b\b\b\b\b\b\b\b\b\b\b\b\b\b\b\b\b\b\b\b\b\b\b\b\b\b\b\b\b\b\b\b\b\b\b\b\b\b\b\b\b\b\b\b\b\b\b\b\b\b\b\b\b\b\b\b\b\b\b\b\b\b\b\b\b\b\b\b\b\b\b\b\b\b\b\b\b\b\b\b\r81/81 [==============================] - 8s 96ms/step - loss: 1.5343e-04 - mae: 0.0099 - val_loss: 9.1980e-05 - val_mae: 0.0109\n",
            "Epoch 51/500\n",
            "77/81 [===========================>..] - ETA: 0s - loss: 1.5053e-04 - mae: 0.0097"
          ]
        },
        {
          "output_type": "stream",
          "name": "stderr",
          "text": [
            "WARNING:absl:Found untraced functions such as lstm_cell_layer_call_fn, lstm_cell_layer_call_and_return_conditional_losses, lstm_cell_1_layer_call_fn, lstm_cell_1_layer_call_and_return_conditional_losses while saving (showing 4 of 4). These functions will not be directly callable after loading.\n"
          ]
        },
        {
          "output_type": "stream",
          "name": "stdout",
          "text": [
            "\b\b\b\b\b\b\b\b\b\b\b\b\b\b\b\b\b\b\b\b\b\b\b\b\b\b\b\b\b\b\b\b\b\b\b\b\b\b\b\b\b\b\b\b\b\b\b\b\b\b\b\b\b\b\b\b\b\b\b\b\b\b\b\b\b\b\b\b\b\b\b\b\b\b\b\b\b\b\b\b\b\r81/81 [==============================] - 7s 93ms/step - loss: 1.5214e-04 - mae: 0.0099 - val_loss: 9.1758e-05 - val_mae: 0.0109\n",
            "Epoch 52/500\n",
            "79/81 [============================>.] - ETA: 0s - loss: 1.5063e-04 - mae: 0.0098"
          ]
        },
        {
          "output_type": "stream",
          "name": "stderr",
          "text": [
            "WARNING:absl:Found untraced functions such as lstm_cell_layer_call_fn, lstm_cell_layer_call_and_return_conditional_losses, lstm_cell_1_layer_call_fn, lstm_cell_1_layer_call_and_return_conditional_losses while saving (showing 4 of 4). These functions will not be directly callable after loading.\n"
          ]
        },
        {
          "output_type": "stream",
          "name": "stdout",
          "text": [
            "\b\b\b\b\b\b\b\b\b\b\b\b\b\b\b\b\b\b\b\b\b\b\b\b\b\b\b\b\b\b\b\b\b\b\b\b\b\b\b\b\b\b\b\b\b\b\b\b\b\b\b\b\b\b\b\b\b\b\b\b\b\b\b\b\b\b\b\b\b\b\b\b\b\b\b\b\b\b\b\b\b\r81/81 [==============================] - 7s 93ms/step - loss: 1.5091e-04 - mae: 0.0099 - val_loss: 9.1532e-05 - val_mae: 0.0109\n",
            "Epoch 53/500\n",
            "78/81 [===========================>..] - ETA: 0s - loss: 1.4859e-04 - mae: 0.0097"
          ]
        },
        {
          "output_type": "stream",
          "name": "stderr",
          "text": [
            "WARNING:absl:Found untraced functions such as lstm_cell_layer_call_fn, lstm_cell_layer_call_and_return_conditional_losses, lstm_cell_1_layer_call_fn, lstm_cell_1_layer_call_and_return_conditional_losses while saving (showing 4 of 4). These functions will not be directly callable after loading.\n"
          ]
        },
        {
          "output_type": "stream",
          "name": "stdout",
          "text": [
            "\b\b\b\b\b\b\b\b\b\b\b\b\b\b\b\b\b\b\b\b\b\b\b\b\b\b\b\b\b\b\b\b\b\b\b\b\b\b\b\b\b\b\b\b\b\b\b\b\b\b\b\b\b\b\b\b\b\b\b\b\b\b\b\b\b\b\b\b\b\b\b\b\b\b\b\b\b\b\b\b\b\r81/81 [==============================] - 7s 93ms/step - loss: 1.4980e-04 - mae: 0.0098 - val_loss: 9.1307e-05 - val_mae: 0.0109\n",
            "Epoch 54/500\n",
            "80/81 [============================>.] - ETA: 0s - loss: 1.4826e-04 - mae: 0.0098"
          ]
        },
        {
          "output_type": "stream",
          "name": "stderr",
          "text": [
            "WARNING:absl:Found untraced functions such as lstm_cell_layer_call_fn, lstm_cell_layer_call_and_return_conditional_losses, lstm_cell_1_layer_call_fn, lstm_cell_1_layer_call_and_return_conditional_losses while saving (showing 4 of 4). These functions will not be directly callable after loading.\n"
          ]
        },
        {
          "output_type": "stream",
          "name": "stdout",
          "text": [
            "\b\b\b\b\b\b\b\b\b\b\b\b\b\b\b\b\b\b\b\b\b\b\b\b\b\b\b\b\b\b\b\b\b\b\b\b\b\b\b\b\b\b\b\b\b\b\b\b\b\b\b\b\b\b\b\b\b\b\b\b\b\b\b\b\b\b\b\b\b\b\b\b\b\b\b\b\b\b\b\b\b\r81/81 [==============================] - 7s 88ms/step - loss: 1.4873e-04 - mae: 0.0098 - val_loss: 9.1074e-05 - val_mae: 0.0109\n",
            "Epoch 55/500\n",
            "79/81 [============================>.] - ETA: 0s - loss: 1.4742e-04 - mae: 0.0097"
          ]
        },
        {
          "output_type": "stream",
          "name": "stderr",
          "text": [
            "WARNING:absl:Found untraced functions such as lstm_cell_layer_call_fn, lstm_cell_layer_call_and_return_conditional_losses, lstm_cell_1_layer_call_fn, lstm_cell_1_layer_call_and_return_conditional_losses while saving (showing 4 of 4). These functions will not be directly callable after loading.\n"
          ]
        },
        {
          "output_type": "stream",
          "name": "stdout",
          "text": [
            "\b\b\b\b\b\b\b\b\b\b\b\b\b\b\b\b\b\b\b\b\b\b\b\b\b\b\b\b\b\b\b\b\b\b\b\b\b\b\b\b\b\b\b\b\b\b\b\b\b\b\b\b\b\b\b\b\b\b\b\b\b\b\b\b\b\b\b\b\b\b\b\b\b\b\b\b\b\b\b\b\b\r81/81 [==============================] - 8s 94ms/step - loss: 1.4779e-04 - mae: 0.0098 - val_loss: 9.0845e-05 - val_mae: 0.0108\n",
            "Epoch 56/500\n",
            "79/81 [============================>.] - ETA: 0s - loss: 1.4644e-04 - mae: 0.0097"
          ]
        },
        {
          "output_type": "stream",
          "name": "stderr",
          "text": [
            "WARNING:absl:Found untraced functions such as lstm_cell_layer_call_fn, lstm_cell_layer_call_and_return_conditional_losses, lstm_cell_1_layer_call_fn, lstm_cell_1_layer_call_and_return_conditional_losses while saving (showing 4 of 4). These functions will not be directly callable after loading.\n"
          ]
        },
        {
          "output_type": "stream",
          "name": "stdout",
          "text": [
            "\b\b\b\b\b\b\b\b\b\b\b\b\b\b\b\b\b\b\b\b\b\b\b\b\b\b\b\b\b\b\b\b\b\b\b\b\b\b\b\b\b\b\b\b\b\b\b\b\b\b\b\b\b\b\b\b\b\b\b\b\b\b\b\b\b\b\b\b\b\b\b\b\b\b\b\b\b\b\b\b\b\r81/81 [==============================] - 7s 93ms/step - loss: 1.4684e-04 - mae: 0.0098 - val_loss: 9.0608e-05 - val_mae: 0.0108\n",
            "Epoch 57/500\n",
            "81/81 [==============================] - ETA: 0s - loss: 1.4606e-04 - mae: 0.0098"
          ]
        },
        {
          "output_type": "stream",
          "name": "stderr",
          "text": [
            "WARNING:absl:Found untraced functions such as lstm_cell_layer_call_fn, lstm_cell_layer_call_and_return_conditional_losses, lstm_cell_1_layer_call_fn, lstm_cell_1_layer_call_and_return_conditional_losses while saving (showing 4 of 4). These functions will not be directly callable after loading.\n"
          ]
        },
        {
          "output_type": "stream",
          "name": "stdout",
          "text": [
            "\b\b\b\b\b\b\b\b\b\b\b\b\b\b\b\b\b\b\b\b\b\b\b\b\b\b\b\b\b\b\b\b\b\b\b\b\b\b\b\b\b\b\b\b\b\b\b\b\b\b\b\b\b\b\b\b\b\b\b\b\b\b\b\b\b\b\b\b\b\b\b\b\b\b\b\b\b\b\b\b\b\r81/81 [==============================] - 8s 95ms/step - loss: 1.4606e-04 - mae: 0.0098 - val_loss: 9.0381e-05 - val_mae: 0.0108\n",
            "Epoch 58/500\n",
            "77/81 [===========================>..] - ETA: 0s - loss: 1.4314e-04 - mae: 0.0096"
          ]
        },
        {
          "output_type": "stream",
          "name": "stderr",
          "text": [
            "WARNING:absl:Found untraced functions such as lstm_cell_layer_call_fn, lstm_cell_layer_call_and_return_conditional_losses, lstm_cell_1_layer_call_fn, lstm_cell_1_layer_call_and_return_conditional_losses while saving (showing 4 of 4). These functions will not be directly callable after loading.\n"
          ]
        },
        {
          "output_type": "stream",
          "name": "stdout",
          "text": [
            "\b\b\b\b\b\b\b\b\b\b\b\b\b\b\b\b\b\b\b\b\b\b\b\b\b\b\b\b\b\b\b\b\b\b\b\b\b\b\b\b\b\b\b\b\b\b\b\b\b\b\b\b\b\b\b\b\b\b\b\b\b\b\b\b\b\b\b\b\b\b\b\b\b\b\b\b\b\b\b\b\b\r81/81 [==============================] - 7s 89ms/step - loss: 1.4519e-04 - mae: 0.0097 - val_loss: 9.0147e-05 - val_mae: 0.0108\n",
            "Epoch 59/500\n",
            "79/81 [============================>.] - ETA: 0s - loss: 1.4413e-04 - mae: 0.0096"
          ]
        },
        {
          "output_type": "stream",
          "name": "stderr",
          "text": [
            "WARNING:absl:Found untraced functions such as lstm_cell_layer_call_fn, lstm_cell_layer_call_and_return_conditional_losses, lstm_cell_1_layer_call_fn, lstm_cell_1_layer_call_and_return_conditional_losses while saving (showing 4 of 4). These functions will not be directly callable after loading.\n"
          ]
        },
        {
          "output_type": "stream",
          "name": "stdout",
          "text": [
            "\b\b\b\b\b\b\b\b\b\b\b\b\b\b\b\b\b\b\b\b\b\b\b\b\b\b\b\b\b\b\b\b\b\b\b\b\b\b\b\b\b\b\b\b\b\b\b\b\b\b\b\b\b\b\b\b\b\b\b\b\b\b\b\b\b\b\b\b\b\b\b\b\b\b\b\b\b\b\b\b\b\r81/81 [==============================] - 8s 96ms/step - loss: 1.4460e-04 - mae: 0.0097 - val_loss: 8.9932e-05 - val_mae: 0.0108\n",
            "Epoch 60/500\n",
            "76/81 [===========================>..] - ETA: 0s - loss: 1.3954e-04 - mae: 0.0094"
          ]
        },
        {
          "output_type": "stream",
          "name": "stderr",
          "text": [
            "WARNING:absl:Found untraced functions such as lstm_cell_layer_call_fn, lstm_cell_layer_call_and_return_conditional_losses, lstm_cell_1_layer_call_fn, lstm_cell_1_layer_call_and_return_conditional_losses while saving (showing 4 of 4). These functions will not be directly callable after loading.\n"
          ]
        },
        {
          "output_type": "stream",
          "name": "stdout",
          "text": [
            "\b\b\b\b\b\b\b\b\b\b\b\b\b\b\b\b\b\b\b\b\b\b\b\b\b\b\b\b\b\b\b\b\b\b\b\b\b\b\b\b\b\b\b\b\b\b\b\b\b\b\b\b\b\b\b\b\b\b\b\b\b\b\b\b\b\b\b\b\b\b\b\b\b\b\b\b\b\b\b\b\b\r81/81 [==============================] - 7s 93ms/step - loss: 1.4381e-04 - mae: 0.0097 - val_loss: 8.9724e-05 - val_mae: 0.0108\n",
            "Epoch 61/500\n",
            "78/81 [===========================>..] - ETA: 0s - loss: 1.4195e-04 - mae: 0.0096"
          ]
        },
        {
          "output_type": "stream",
          "name": "stderr",
          "text": [
            "WARNING:absl:Found untraced functions such as lstm_cell_layer_call_fn, lstm_cell_layer_call_and_return_conditional_losses, lstm_cell_1_layer_call_fn, lstm_cell_1_layer_call_and_return_conditional_losses while saving (showing 4 of 4). These functions will not be directly callable after loading.\n"
          ]
        },
        {
          "output_type": "stream",
          "name": "stdout",
          "text": [
            "\b\b\b\b\b\b\b\b\b\b\b\b\b\b\b\b\b\b\b\b\b\b\b\b\b\b\b\b\b\b\b\b\b\b\b\b\b\b\b\b\b\b\b\b\b\b\b\b\b\b\b\b\b\b\b\b\b\b\b\b\b\b\b\b\b\b\b\b\b\b\b\b\b\b\b\b\b\b\b\b\b\r81/81 [==============================] - 7s 91ms/step - loss: 1.4347e-04 - mae: 0.0097 - val_loss: 8.9539e-05 - val_mae: 0.0107\n",
            "Epoch 62/500\n",
            "78/81 [===========================>..] - ETA: 0s - loss: 1.4121e-04 - mae: 0.0096"
          ]
        },
        {
          "output_type": "stream",
          "name": "stderr",
          "text": [
            "WARNING:absl:Found untraced functions such as lstm_cell_layer_call_fn, lstm_cell_layer_call_and_return_conditional_losses, lstm_cell_1_layer_call_fn, lstm_cell_1_layer_call_and_return_conditional_losses while saving (showing 4 of 4). These functions will not be directly callable after loading.\n"
          ]
        },
        {
          "output_type": "stream",
          "name": "stdout",
          "text": [
            "\b\b\b\b\b\b\b\b\b\b\b\b\b\b\b\b\b\b\b\b\b\b\b\b\b\b\b\b\b\b\b\b\b\b\b\b\b\b\b\b\b\b\b\b\b\b\b\b\b\b\b\b\b\b\b\b\b\b\b\b\b\b\b\b\b\b\b\b\b\b\b\b\b\b\b\b\b\b\b\b\b\r81/81 [==============================] - 7s 91ms/step - loss: 1.4277e-04 - mae: 0.0097 - val_loss: 8.9399e-05 - val_mae: 0.0107\n",
            "Epoch 63/500\n",
            "79/81 [============================>.] - ETA: 0s - loss: 1.4221e-04 - mae: 0.0096"
          ]
        },
        {
          "output_type": "stream",
          "name": "stderr",
          "text": [
            "WARNING:absl:Found untraced functions such as lstm_cell_layer_call_fn, lstm_cell_layer_call_and_return_conditional_losses, lstm_cell_1_layer_call_fn, lstm_cell_1_layer_call_and_return_conditional_losses while saving (showing 4 of 4). These functions will not be directly callable after loading.\n"
          ]
        },
        {
          "output_type": "stream",
          "name": "stdout",
          "text": [
            "\b\b\b\b\b\b\b\b\b\b\b\b\b\b\b\b\b\b\b\b\b\b\b\b\b\b\b\b\b\b\b\b\b\b\b\b\b\b\b\b\b\b\b\b\b\b\b\b\b\b\b\b\b\b\b\b\b\b\b\b\b\b\b\b\b\b\b\b\b\b\b\b\b\b\b\b\b\b\b\b\b\r81/81 [==============================] - 7s 92ms/step - loss: 1.4275e-04 - mae: 0.0097 - val_loss: 8.9254e-05 - val_mae: 0.0107\n",
            "Epoch 64/500\n",
            "76/81 [===========================>..] - ETA: 0s - loss: 1.3773e-04 - mae: 0.0094"
          ]
        },
        {
          "output_type": "stream",
          "name": "stderr",
          "text": [
            "WARNING:absl:Found untraced functions such as lstm_cell_layer_call_fn, lstm_cell_layer_call_and_return_conditional_losses, lstm_cell_1_layer_call_fn, lstm_cell_1_layer_call_and_return_conditional_losses while saving (showing 4 of 4). These functions will not be directly callable after loading.\n"
          ]
        },
        {
          "output_type": "stream",
          "name": "stdout",
          "text": [
            "\b\b\b\b\b\b\b\b\b\b\b\b\b\b\b\b\b\b\b\b\b\b\b\b\b\b\b\b\b\b\b\b\b\b\b\b\b\b\b\b\b\b\b\b\b\b\b\b\b\b\b\b\b\b\b\b\b\b\b\b\b\b\b\b\b\b\b\b\b\b\b\b\b\b\b\b\b\b\b\b\b\r81/81 [==============================] - 7s 88ms/step - loss: 1.4224e-04 - mae: 0.0097 - val_loss: 8.9209e-05 - val_mae: 0.0107\n",
            "Epoch 65/500\n",
            "80/81 [============================>.] - ETA: 0s - loss: 1.4183e-04 - mae: 0.0097"
          ]
        },
        {
          "output_type": "stream",
          "name": "stderr",
          "text": [
            "WARNING:absl:Found untraced functions such as lstm_cell_layer_call_fn, lstm_cell_layer_call_and_return_conditional_losses, lstm_cell_1_layer_call_fn, lstm_cell_1_layer_call_and_return_conditional_losses while saving (showing 4 of 4). These functions will not be directly callable after loading.\n"
          ]
        },
        {
          "output_type": "stream",
          "name": "stdout",
          "text": [
            "\b\b\b\b\b\b\b\b\b\b\b\b\b\b\b\b\b\b\b\b\b\b\b\b\b\b\b\b\b\b\b\b\b\b\b\b\b\b\b\b\b\b\b\b\b\b\b\b\b\b\b\b\b\b\b\b\b\b\b\b\b\b\b\b\b\b\b\b\b\b\b\b\b\b\b\b\b\b\b\b\b\r81/81 [==============================] - 7s 92ms/step - loss: 1.4232e-04 - mae: 0.0097 - val_loss: 8.9035e-05 - val_mae: 0.0107\n",
            "Epoch 66/500\n",
            "78/81 [===========================>..] - ETA: 0s - loss: 1.4008e-04 - mae: 0.0096"
          ]
        },
        {
          "output_type": "stream",
          "name": "stderr",
          "text": [
            "WARNING:absl:Found untraced functions such as lstm_cell_layer_call_fn, lstm_cell_layer_call_and_return_conditional_losses, lstm_cell_1_layer_call_fn, lstm_cell_1_layer_call_and_return_conditional_losses while saving (showing 4 of 4). These functions will not be directly callable after loading.\n"
          ]
        },
        {
          "output_type": "stream",
          "name": "stdout",
          "text": [
            "\b\b\b\b\b\b\b\b\b\b\b\b\b\b\b\b\b\b\b\b\b\b\b\b\b\b\b\b\b\b\b\b\b\b\b\b\b\b\b\b\b\b\b\b\b\b\b\b\b\b\b\b\b\b\b\b\b\b\b\b\b\b\b\b\b\b\b\b\b\b\b\b\b\b\b\b\b\b\b\b\b\r81/81 [==============================] - 7s 93ms/step - loss: 1.4173e-04 - mae: 0.0097 - val_loss: 8.8988e-05 - val_mae: 0.0107\n",
            "Epoch 67/500\n",
            "79/81 [============================>.] - ETA: 0s - loss: 1.4040e-04 - mae: 0.0096"
          ]
        },
        {
          "output_type": "stream",
          "name": "stderr",
          "text": [
            "WARNING:absl:Found untraced functions such as lstm_cell_layer_call_fn, lstm_cell_layer_call_and_return_conditional_losses, lstm_cell_1_layer_call_fn, lstm_cell_1_layer_call_and_return_conditional_losses while saving (showing 4 of 4). These functions will not be directly callable after loading.\n"
          ]
        },
        {
          "output_type": "stream",
          "name": "stdout",
          "text": [
            "\b\b\b\b\b\b\b\b\b\b\b\b\b\b\b\b\b\b\b\b\b\b\b\b\b\b\b\b\b\b\b\b\b\b\b\b\b\b\b\b\b\b\b\b\b\b\b\b\b\b\b\b\b\b\b\b\b\b\b\b\b\b\b\b\b\b\b\b\b\b\b\b\b\b\b\b\b\b\b\b\b\r81/81 [==============================] - 7s 92ms/step - loss: 1.4102e-04 - mae: 0.0097 - val_loss: 8.8676e-05 - val_mae: 0.0107\n",
            "Epoch 68/500\n",
            "77/81 [===========================>..] - ETA: 0s - loss: 1.3766e-04 - mae: 0.0095"
          ]
        },
        {
          "output_type": "stream",
          "name": "stderr",
          "text": [
            "WARNING:absl:Found untraced functions such as lstm_cell_layer_call_fn, lstm_cell_layer_call_and_return_conditional_losses, lstm_cell_1_layer_call_fn, lstm_cell_1_layer_call_and_return_conditional_losses while saving (showing 4 of 4). These functions will not be directly callable after loading.\n"
          ]
        },
        {
          "output_type": "stream",
          "name": "stdout",
          "text": [
            "\b\b\b\b\b\b\b\b\b\b\b\b\b\b\b\b\b\b\b\b\b\b\b\b\b\b\b\b\b\b\b\b\b\b\b\b\b\b\b\b\b\b\b\b\b\b\b\b\b\b\b\b\b\b\b\b\b\b\b\b\b\b\b\b\b\b\b\b\b\b\b\b\b\b\b\b\b\b\b\b\b\r81/81 [==============================] - 7s 92ms/step - loss: 1.4045e-04 - mae: 0.0097 - val_loss: 8.8671e-05 - val_mae: 0.0107\n",
            "Epoch 69/500\n",
            "79/81 [============================>.] - ETA: 0s - loss: 1.3883e-04 - mae: 0.0096"
          ]
        },
        {
          "output_type": "stream",
          "name": "stderr",
          "text": [
            "WARNING:absl:Found untraced functions such as lstm_cell_layer_call_fn, lstm_cell_layer_call_and_return_conditional_losses, lstm_cell_1_layer_call_fn, lstm_cell_1_layer_call_and_return_conditional_losses while saving (showing 4 of 4). These functions will not be directly callable after loading.\n"
          ]
        },
        {
          "output_type": "stream",
          "name": "stdout",
          "text": [
            "\b\b\b\b\b\b\b\b\b\b\b\b\b\b\b\b\b\b\b\b\b\b\b\b\b\b\b\b\b\b\b\b\b\b\b\b\b\b\b\b\b\b\b\b\b\b\b\b\b\b\b\b\b\b\b\b\b\b\b\b\b\b\b\b\b\b\b\b\b\b\b\b\b\b\b\b\b\b\b\b\b\r81/81 [==============================] - 7s 92ms/step - loss: 1.3956e-04 - mae: 0.0097 - val_loss: 8.8433e-05 - val_mae: 0.0106\n",
            "Epoch 70/500\n",
            "81/81 [==============================] - 1s 10ms/step - loss: 1.3993e-04 - mae: 0.0097 - val_loss: 8.8589e-05 - val_mae: 0.0107\n",
            "Epoch 71/500\n",
            "79/81 [============================>.] - ETA: 0s - loss: 1.3854e-04 - mae: 0.0096"
          ]
        },
        {
          "output_type": "stream",
          "name": "stderr",
          "text": [
            "WARNING:absl:Found untraced functions such as lstm_cell_layer_call_fn, lstm_cell_layer_call_and_return_conditional_losses, lstm_cell_1_layer_call_fn, lstm_cell_1_layer_call_and_return_conditional_losses while saving (showing 4 of 4). These functions will not be directly callable after loading.\n"
          ]
        },
        {
          "output_type": "stream",
          "name": "stdout",
          "text": [
            "\b\b\b\b\b\b\b\b\b\b\b\b\b\b\b\b\b\b\b\b\b\b\b\b\b\b\b\b\b\b\b\b\b\b\b\b\b\b\b\b\b\b\b\b\b\b\b\b\b\b\b\b\b\b\b\b\b\b\b\b\b\b\b\b\b\b\b\b\b\b\b\b\b\b\b\b\b\b\b\b\b\r81/81 [==============================] - 7s 90ms/step - loss: 1.3942e-04 - mae: 0.0097 - val_loss: 8.8396e-05 - val_mae: 0.0106\n",
            "Epoch 72/500\n",
            "78/81 [===========================>..] - ETA: 0s - loss: 1.3678e-04 - mae: 0.0096"
          ]
        },
        {
          "output_type": "stream",
          "name": "stderr",
          "text": [
            "WARNING:absl:Found untraced functions such as lstm_cell_layer_call_fn, lstm_cell_layer_call_and_return_conditional_losses, lstm_cell_1_layer_call_fn, lstm_cell_1_layer_call_and_return_conditional_losses while saving (showing 4 of 4). These functions will not be directly callable after loading.\n"
          ]
        },
        {
          "output_type": "stream",
          "name": "stdout",
          "text": [
            "\b\b\b\b\b\b\b\b\b\b\b\b\b\b\b\b\b\b\b\b\b\b\b\b\b\b\b\b\b\b\b\b\b\b\b\b\b\b\b\b\b\b\b\b\b\b\b\b\b\b\b\b\b\b\b\b\b\b\b\b\b\b\b\b\b\b\b\b\b\b\b\b\b\b\b\b\b\b\b\b\b\r81/81 [==============================] - 8s 94ms/step - loss: 1.3904e-04 - mae: 0.0097 - val_loss: 8.8129e-05 - val_mae: 0.0106\n",
            "Epoch 73/500\n",
            "79/81 [============================>.] - ETA: 0s - loss: 1.3722e-04 - mae: 0.0096"
          ]
        },
        {
          "output_type": "stream",
          "name": "stderr",
          "text": [
            "WARNING:absl:Found untraced functions such as lstm_cell_layer_call_fn, lstm_cell_layer_call_and_return_conditional_losses, lstm_cell_1_layer_call_fn, lstm_cell_1_layer_call_and_return_conditional_losses while saving (showing 4 of 4). These functions will not be directly callable after loading.\n"
          ]
        },
        {
          "output_type": "stream",
          "name": "stdout",
          "text": [
            "\b\b\b\b\b\b\b\b\b\b\b\b\b\b\b\b\b\b\b\b\b\b\b\b\b\b\b\b\b\b\b\b\b\b\b\b\b\b\b\b\b\b\b\b\b\b\b\b\b\b\b\b\b\b\b\b\b\b\b\b\b\b\b\b\b\b\b\b\b\b\b\b\b\b\b\b\b\b\b\b\b\r81/81 [==============================] - 8s 97ms/step - loss: 1.3810e-04 - mae: 0.0097 - val_loss: 8.7893e-05 - val_mae: 0.0106\n",
            "Epoch 74/500\n",
            "79/81 [============================>.] - ETA: 0s - loss: 1.3657e-04 - mae: 0.0096"
          ]
        },
        {
          "output_type": "stream",
          "name": "stderr",
          "text": [
            "WARNING:absl:Found untraced functions such as lstm_cell_layer_call_fn, lstm_cell_layer_call_and_return_conditional_losses, lstm_cell_1_layer_call_fn, lstm_cell_1_layer_call_and_return_conditional_losses while saving (showing 4 of 4). These functions will not be directly callable after loading.\n"
          ]
        },
        {
          "output_type": "stream",
          "name": "stdout",
          "text": [
            "\b\b\b\b\b\b\b\b\b\b\b\b\b\b\b\b\b\b\b\b\b\b\b\b\b\b\b\b\b\b\b\b\b\b\b\b\b\b\b\b\b\b\b\b\b\b\b\b\b\b\b\b\b\b\b\b\b\b\b\b\b\b\b\b\b\b\b\b\b\b\b\b\b\b\b\b\b\b\b\b\b\r81/81 [==============================] - 7s 92ms/step - loss: 1.3746e-04 - mae: 0.0097 - val_loss: 8.7476e-05 - val_mae: 0.0106\n",
            "Epoch 75/500\n",
            "81/81 [==============================] - 1s 10ms/step - loss: 1.3948e-04 - mae: 0.0098 - val_loss: 8.7871e-05 - val_mae: 0.0106\n",
            "Epoch 76/500\n",
            "81/81 [==============================] - 1s 10ms/step - loss: 1.5061e-04 - mae: 0.0102 - val_loss: 9.0169e-05 - val_mae: 0.0108\n",
            "Epoch 77/500\n",
            "81/81 [==============================] - 1s 10ms/step - loss: 1.4164e-04 - mae: 0.0097 - val_loss: 8.8258e-05 - val_mae: 0.0106\n",
            "Epoch 78/500\n",
            "81/81 [==============================] - 1s 10ms/step - loss: 1.4132e-04 - mae: 0.0097 - val_loss: 8.9556e-05 - val_mae: 0.0107\n",
            "Epoch 79/500\n",
            "78/81 [===========================>..] - ETA: 0s - loss: 1.3629e-04 - mae: 0.0095"
          ]
        },
        {
          "output_type": "stream",
          "name": "stderr",
          "text": [
            "WARNING:absl:Found untraced functions such as lstm_cell_layer_call_fn, lstm_cell_layer_call_and_return_conditional_losses, lstm_cell_1_layer_call_fn, lstm_cell_1_layer_call_and_return_conditional_losses while saving (showing 4 of 4). These functions will not be directly callable after loading.\n"
          ]
        },
        {
          "output_type": "stream",
          "name": "stdout",
          "text": [
            "\b\b\b\b\b\b\b\b\b\b\b\b\b\b\b\b\b\b\b\b\b\b\b\b\b\b\b\b\b\b\b\b\b\b\b\b\b\b\b\b\b\b\b\b\b\b\b\b\b\b\b\b\b\b\b\b\b\b\b\b\b\b\b\b\b\b\b\b\b\b\b\b\b\b\b\b\b\b\b\b\b\r81/81 [==============================] - 7s 88ms/step - loss: 1.3795e-04 - mae: 0.0096 - val_loss: 8.7127e-05 - val_mae: 0.0105\n",
            "Epoch 80/500\n",
            "79/81 [============================>.] - ETA: 0s - loss: 1.3266e-04 - mae: 0.0095"
          ]
        },
        {
          "output_type": "stream",
          "name": "stderr",
          "text": [
            "WARNING:absl:Found untraced functions such as lstm_cell_layer_call_fn, lstm_cell_layer_call_and_return_conditional_losses, lstm_cell_1_layer_call_fn, lstm_cell_1_layer_call_and_return_conditional_losses while saving (showing 4 of 4). These functions will not be directly callable after loading.\n"
          ]
        },
        {
          "output_type": "stream",
          "name": "stdout",
          "text": [
            "\b\b\b\b\b\b\b\b\b\b\b\b\b\b\b\b\b\b\b\b\b\b\b\b\b\b\b\b\b\b\b\b\b\b\b\b\b\b\b\b\b\b\b\b\b\b\b\b\b\b\b\b\b\b\b\b\b\b\b\b\b\b\b\b\b\b\b\b\b\b\b\b\b\b\b\b\b\b\b\b\b\r81/81 [==============================] - 7s 93ms/step - loss: 1.3350e-04 - mae: 0.0096 - val_loss: 8.6404e-05 - val_mae: 0.0105\n",
            "Epoch 81/500\n",
            "81/81 [==============================] - 1s 10ms/step - loss: 1.3061e-04 - mae: 0.0096 - val_loss: 8.7035e-05 - val_mae: 0.0105\n",
            "Epoch 82/500\n",
            "81/81 [==============================] - 1s 10ms/step - loss: 1.9356e-04 - mae: 0.0114 - val_loss: 1.0180e-04 - val_mae: 0.0116\n",
            "Epoch 83/500\n",
            "81/81 [==============================] - 1s 10ms/step - loss: 3.6269e-04 - mae: 0.0131 - val_loss: 9.0357e-05 - val_mae: 0.0108\n",
            "Epoch 84/500\n",
            "81/81 [==============================] - 1s 10ms/step - loss: 1.4106e-04 - mae: 0.0098 - val_loss: 8.7440e-05 - val_mae: 0.0104\n",
            "Epoch 85/500\n",
            "81/81 [==============================] - 1s 10ms/step - loss: 1.5738e-04 - mae: 0.0106 - val_loss: 9.1861e-05 - val_mae: 0.0107\n",
            "Epoch 86/500\n",
            "81/81 [==============================] - 1s 10ms/step - loss: 1.6434e-04 - mae: 0.0110 - val_loss: 9.1428e-05 - val_mae: 0.0106\n",
            "Epoch 87/500\n",
            "81/81 [==============================] - 1s 10ms/step - loss: 1.6467e-04 - mae: 0.0111 - val_loss: 9.0345e-05 - val_mae: 0.0105\n",
            "Epoch 88/500\n",
            "81/81 [==============================] - 1s 10ms/step - loss: 1.6294e-04 - mae: 0.0110 - val_loss: 9.0022e-05 - val_mae: 0.0105\n",
            "Epoch 89/500\n",
            "81/81 [==============================] - 1s 10ms/step - loss: 1.6145e-04 - mae: 0.0109 - val_loss: 9.0145e-05 - val_mae: 0.0105\n",
            "Epoch 90/500\n",
            "81/81 [==============================] - 1s 10ms/step - loss: 1.6120e-04 - mae: 0.0109 - val_loss: 9.0038e-05 - val_mae: 0.0106\n",
            "Epoch 91/500\n",
            "81/81 [==============================] - 1s 10ms/step - loss: 1.6251e-04 - mae: 0.0110 - val_loss: 8.9164e-05 - val_mae: 0.0105\n",
            "Epoch 92/500\n",
            "81/81 [==============================] - 1s 10ms/step - loss: 1.6126e-04 - mae: 0.0108 - val_loss: 8.8298e-05 - val_mae: 0.0104\n",
            "Epoch 93/500\n",
            "81/81 [==============================] - 1s 10ms/step - loss: 1.9504e-04 - mae: 0.0116 - val_loss: 1.2307e-04 - val_mae: 0.0123\n",
            "Epoch 94/500\n",
            "81/81 [==============================] - 1s 10ms/step - loss: 2.2984e-04 - mae: 0.0134 - val_loss: 1.2244e-04 - val_mae: 0.0124\n",
            "Epoch 95/500\n",
            "81/81 [==============================] - 1s 10ms/step - loss: 2.2359e-04 - mae: 0.0134 - val_loss: 1.0114e-04 - val_mae: 0.0112\n",
            "Epoch 96/500\n",
            "81/81 [==============================] - 1s 10ms/step - loss: 2.0070e-04 - mae: 0.0123 - val_loss: 8.8672e-05 - val_mae: 0.0104\n",
            "Epoch 97/500\n",
            "79/81 [============================>.] - ETA: 0s - loss: 1.7667e-04 - mae: 0.0112"
          ]
        },
        {
          "output_type": "stream",
          "name": "stderr",
          "text": [
            "WARNING:absl:Found untraced functions such as lstm_cell_layer_call_fn, lstm_cell_layer_call_and_return_conditional_losses, lstm_cell_1_layer_call_fn, lstm_cell_1_layer_call_and_return_conditional_losses while saving (showing 4 of 4). These functions will not be directly callable after loading.\n"
          ]
        },
        {
          "output_type": "stream",
          "name": "stdout",
          "text": [
            "\b\b\b\b\b\b\b\b\b\b\b\b\b\b\b\b\b\b\b\b\b\b\b\b\b\b\b\b\b\b\b\b\b\b\b\b\b\b\b\b\b\b\b\b\b\b\b\b\b\b\b\b\b\b\b\b\b\b\b\b\b\b\b\b\b\b\b\b\b\b\b\b\b\b\b\b\b\b\b\b\b\r81/81 [==============================] - 7s 92ms/step - loss: 1.7692e-04 - mae: 0.0113 - val_loss: 8.4794e-05 - val_mae: 0.0101\n",
            "Epoch 98/500\n",
            "78/81 [===========================>..] - ETA: 0s - loss: 1.6586e-04 - mae: 0.0107"
          ]
        },
        {
          "output_type": "stream",
          "name": "stderr",
          "text": [
            "WARNING:absl:Found untraced functions such as lstm_cell_layer_call_fn, lstm_cell_layer_call_and_return_conditional_losses, lstm_cell_1_layer_call_fn, lstm_cell_1_layer_call_and_return_conditional_losses while saving (showing 4 of 4). These functions will not be directly callable after loading.\n"
          ]
        },
        {
          "output_type": "stream",
          "name": "stdout",
          "text": [
            "\b\b\b\b\b\b\b\b\b\b\b\b\b\b\b\b\b\b\b\b\b\b\b\b\b\b\b\b\b\b\b\b\b\b\b\b\b\b\b\b\b\b\b\b\b\b\b\b\b\b\b\b\b\b\b\b\b\b\b\b\b\b\b\b\b\b\b\b\b\b\b\b\b\b\b\b\b\b\b\b\b\r81/81 [==============================] - 7s 91ms/step - loss: 1.6703e-04 - mae: 0.0109 - val_loss: 8.3785e-05 - val_mae: 0.0100\n",
            "Epoch 99/500\n",
            "81/81 [==============================] - 1s 9ms/step - loss: 1.5925e-04 - mae: 0.0107 - val_loss: 8.4009e-05 - val_mae: 0.0100\n",
            "Epoch 100/500\n",
            "78/81 [===========================>..] - ETA: 0s - loss: 1.5914e-04 - mae: 0.0105"
          ]
        },
        {
          "output_type": "stream",
          "name": "stderr",
          "text": [
            "WARNING:absl:Found untraced functions such as lstm_cell_layer_call_fn, lstm_cell_layer_call_and_return_conditional_losses, lstm_cell_1_layer_call_fn, lstm_cell_1_layer_call_and_return_conditional_losses while saving (showing 4 of 4). These functions will not be directly callable after loading.\n"
          ]
        },
        {
          "output_type": "stream",
          "name": "stdout",
          "text": [
            "\b\b\b\b\b\b\b\b\b\b\b\b\b\b\b\b\b\b\b\b\b\b\b\b\b\b\b\b\b\b\b\b\b\b\b\b\b\b\b\b\b\b\b\b\b\b\b\b\b\b\b\b\b\b\b\b\b\b\b\b\b\b\b\b\b\b\b\b\b\b\b\b\b\b\b\b\b\b\b\b\b\r81/81 [==============================] - 7s 92ms/step - loss: 1.6033e-04 - mae: 0.0107 - val_loss: 8.3342e-05 - val_mae: 0.0100\n",
            "Epoch 101/500\n",
            "81/81 [==============================] - 1s 10ms/step - loss: 1.5474e-04 - mae: 0.0106 - val_loss: 8.3993e-05 - val_mae: 0.0100\n",
            "Epoch 102/500\n",
            "81/81 [==============================] - 1s 10ms/step - loss: 1.6063e-04 - mae: 0.0107 - val_loss: 8.3656e-05 - val_mae: 0.0100\n",
            "Epoch 103/500\n",
            "79/81 [============================>.] - ETA: 0s - loss: 1.5424e-04 - mae: 0.0105"
          ]
        },
        {
          "output_type": "stream",
          "name": "stderr",
          "text": [
            "WARNING:absl:Found untraced functions such as lstm_cell_layer_call_fn, lstm_cell_layer_call_and_return_conditional_losses, lstm_cell_1_layer_call_fn, lstm_cell_1_layer_call_and_return_conditional_losses while saving (showing 4 of 4). These functions will not be directly callable after loading.\n"
          ]
        },
        {
          "output_type": "stream",
          "name": "stdout",
          "text": [
            "\b\b\b\b\b\b\b\b\b\b\b\b\b\b\b\b\b\b\b\b\b\b\b\b\b\b\b\b\b\b\b\b\b\b\b\b\b\b\b\b\b\b\b\b\b\b\b\b\b\b\b\b\b\b\b\b\b\b\b\b\b\b\b\b\b\b\b\b\b\b\b\b\b\b\b\b\b\b\b\b\b\r81/81 [==============================] - 7s 92ms/step - loss: 1.5467e-04 - mae: 0.0106 - val_loss: 8.2865e-05 - val_mae: 0.0099\n",
            "Epoch 104/500\n",
            "81/81 [==============================] - 1s 10ms/step - loss: 1.6075e-04 - mae: 0.0108 - val_loss: 8.3282e-05 - val_mae: 0.0100\n",
            "Epoch 105/500\n",
            "78/81 [===========================>..] - ETA: 0s - loss: 1.5177e-04 - mae: 0.0104"
          ]
        },
        {
          "output_type": "stream",
          "name": "stderr",
          "text": [
            "WARNING:absl:Found untraced functions such as lstm_cell_layer_call_fn, lstm_cell_layer_call_and_return_conditional_losses, lstm_cell_1_layer_call_fn, lstm_cell_1_layer_call_and_return_conditional_losses while saving (showing 4 of 4). These functions will not be directly callable after loading.\n"
          ]
        },
        {
          "output_type": "stream",
          "name": "stdout",
          "text": [
            "\b\b\b\b\b\b\b\b\b\b\b\b\b\b\b\b\b\b\b\b\b\b\b\b\b\b\b\b\b\b\b\b\b\b\b\b\b\b\b\b\b\b\b\b\b\b\b\b\b\b\b\b\b\b\b\b\b\b\b\b\b\b\b\b\b\b\b\b\b\b\b\b\b\b\b\b\b\b\b\b\b\r81/81 [==============================] - 7s 87ms/step - loss: 1.5371e-04 - mae: 0.0106 - val_loss: 8.1534e-05 - val_mae: 0.0098\n",
            "Epoch 106/500\n",
            "77/81 [===========================>..] - ETA: 0s - loss: 1.5496e-04 - mae: 0.0104"
          ]
        },
        {
          "output_type": "stream",
          "name": "stderr",
          "text": [
            "WARNING:absl:Found untraced functions such as lstm_cell_layer_call_fn, lstm_cell_layer_call_and_return_conditional_losses, lstm_cell_1_layer_call_fn, lstm_cell_1_layer_call_and_return_conditional_losses while saving (showing 4 of 4). These functions will not be directly callable after loading.\n"
          ]
        },
        {
          "output_type": "stream",
          "name": "stdout",
          "text": [
            "\b\b\b\b\b\b\b\b\b\b\b\b\b\b\b\b\b\b\b\b\b\b\b\b\b\b\b\b\b\b\b\b\b\b\b\b\b\b\b\b\b\b\b\b\b\b\b\b\b\b\b\b\b\b\b\b\b\b\b\b\b\b\b\b\b\b\b\b\b\b\b\b\b\b\b\b\b\b\b\b\b\r81/81 [==============================] - 8s 95ms/step - loss: 1.6109e-04 - mae: 0.0108 - val_loss: 8.0662e-05 - val_mae: 0.0097\n",
            "Epoch 107/500\n",
            "81/81 [==============================] - 1s 10ms/step - loss: 1.4951e-04 - mae: 0.0105 - val_loss: 8.1440e-05 - val_mae: 0.0098\n",
            "Epoch 108/500\n",
            "81/81 [==============================] - 1s 10ms/step - loss: 1.5140e-04 - mae: 0.0105 - val_loss: 8.1126e-05 - val_mae: 0.0097\n",
            "Epoch 109/500\n",
            "81/81 [==============================] - 1s 10ms/step - loss: 1.4521e-04 - mae: 0.0103 - val_loss: 8.1637e-05 - val_mae: 0.0098\n",
            "Epoch 110/500\n",
            "81/81 [==============================] - 1s 10ms/step - loss: 1.3374e-04 - mae: 0.0099 - val_loss: 8.2557e-05 - val_mae: 0.0099\n",
            "Epoch 111/500\n",
            "81/81 [==============================] - 1s 10ms/step - loss: 1.3250e-04 - mae: 0.0098 - val_loss: 8.4675e-05 - val_mae: 0.0101\n",
            "Epoch 112/500\n",
            "81/81 [==============================] - 1s 10ms/step - loss: 1.2572e-04 - mae: 0.0095 - val_loss: 8.7077e-05 - val_mae: 0.0104\n",
            "Epoch 113/500\n",
            "77/81 [===========================>..] - ETA: 0s - loss: 1.1792e-04 - mae: 0.0088"
          ]
        },
        {
          "output_type": "stream",
          "name": "stderr",
          "text": [
            "WARNING:absl:Found untraced functions such as lstm_cell_layer_call_fn, lstm_cell_layer_call_and_return_conditional_losses, lstm_cell_1_layer_call_fn, lstm_cell_1_layer_call_and_return_conditional_losses while saving (showing 4 of 4). These functions will not be directly callable after loading.\n"
          ]
        },
        {
          "output_type": "stream",
          "name": "stdout",
          "text": [
            "\b\b\b\b\b\b\b\b\b\b\b\b\b\b\b\b\b\b\b\b\b\b\b\b\b\b\b\b\b\b\b\b\b\b\b\b\b\b\b\b\b\b\b\b\b\b\b\b\b\b\b\b\b\b\b\b\b\b\b\b\b\b\b\b\b\b\b\b\b\b\b\b\b\b\b\b\b\b\b\b\b\r81/81 [==============================] - 7s 92ms/step - loss: 1.2187e-04 - mae: 0.0091 - val_loss: 8.0564e-05 - val_mae: 0.0098\n",
            "Epoch 114/500\n",
            "78/81 [===========================>..] - ETA: 0s - loss: 1.4423e-04 - mae: 0.0102"
          ]
        },
        {
          "output_type": "stream",
          "name": "stderr",
          "text": [
            "WARNING:absl:Found untraced functions such as lstm_cell_layer_call_fn, lstm_cell_layer_call_and_return_conditional_losses, lstm_cell_1_layer_call_fn, lstm_cell_1_layer_call_and_return_conditional_losses while saving (showing 4 of 4). These functions will not be directly callable after loading.\n"
          ]
        },
        {
          "output_type": "stream",
          "name": "stdout",
          "text": [
            "\b\b\b\b\b\b\b\b\b\b\b\b\b\b\b\b\b\b\b\b\b\b\b\b\b\b\b\b\b\b\b\b\b\b\b\b\b\b\b\b\b\b\b\b\b\b\b\b\b\b\b\b\b\b\b\b\b\b\b\b\b\b\b\b\b\b\b\b\b\b\b\b\b\b\b\b\b\b\b\b\b\r81/81 [==============================] - 7s 92ms/step - loss: 1.4671e-04 - mae: 0.0105 - val_loss: 8.0448e-05 - val_mae: 0.0095\n",
            "Epoch 115/500\n",
            "81/81 [==============================] - 1s 10ms/step - loss: 1.5403e-04 - mae: 0.0110 - val_loss: 8.1567e-05 - val_mae: 0.0098\n",
            "Epoch 116/500\n",
            "81/81 [==============================] - 1s 10ms/step - loss: 1.6964e-04 - mae: 0.0117 - val_loss: 8.1055e-05 - val_mae: 0.0097\n",
            "Epoch 117/500\n",
            "79/81 [============================>.] - ETA: 0s - loss: 1.6159e-04 - mae: 0.0112"
          ]
        },
        {
          "output_type": "stream",
          "name": "stderr",
          "text": [
            "WARNING:absl:Found untraced functions such as lstm_cell_layer_call_fn, lstm_cell_layer_call_and_return_conditional_losses, lstm_cell_1_layer_call_fn, lstm_cell_1_layer_call_and_return_conditional_losses while saving (showing 4 of 4). These functions will not be directly callable after loading.\n"
          ]
        },
        {
          "output_type": "stream",
          "name": "stdout",
          "text": [
            "\b\b\b\b\b\b\b\b\b\b\b\b\b\b\b\b\b\b\b\b\b\b\b\b\b\b\b\b\b\b\b\b\b\b\b\b\b\b\b\b\b\b\b\b\b\b\b\b\b\b\b\b\b\b\b\b\b\b\b\b\b\b\b\b\b\b\b\b\b\b\b\b\b\b\b\b\b\b\b\b\b\r81/81 [==============================] - 7s 92ms/step - loss: 1.6132e-04 - mae: 0.0112 - val_loss: 7.9984e-05 - val_mae: 0.0096\n",
            "Epoch 118/500\n",
            "81/81 [==============================] - 1s 10ms/step - loss: 1.4719e-04 - mae: 0.0105 - val_loss: 8.1020e-05 - val_mae: 0.0098\n",
            "Epoch 119/500\n",
            "81/81 [==============================] - 1s 10ms/step - loss: 1.3769e-04 - mae: 0.0100 - val_loss: 8.5871e-05 - val_mae: 0.0102\n",
            "Epoch 120/500\n",
            "81/81 [==============================] - 1s 10ms/step - loss: 1.1930e-04 - mae: 0.0091 - val_loss: 8.0863e-05 - val_mae: 0.0098\n",
            "Epoch 121/500\n",
            "81/81 [==============================] - 1s 10ms/step - loss: 1.3119e-04 - mae: 0.0098 - val_loss: 8.0688e-05 - val_mae: 0.0097\n",
            "Epoch 122/500\n",
            "81/81 [==============================] - 1s 10ms/step - loss: 1.3218e-04 - mae: 0.0098 - val_loss: 8.4747e-05 - val_mae: 0.0101\n",
            "Epoch 123/500\n",
            "81/81 [==============================] - 1s 10ms/step - loss: 1.2529e-04 - mae: 0.0095 - val_loss: 8.7473e-05 - val_mae: 0.0104\n",
            "Epoch 124/500\n",
            "81/81 [==============================] - 1s 10ms/step - loss: 1.2554e-04 - mae: 0.0092 - val_loss: 8.0625e-05 - val_mae: 0.0099\n",
            "Epoch 125/500\n",
            "81/81 [==============================] - 1s 10ms/step - loss: 1.3890e-04 - mae: 0.0102 - val_loss: 8.1705e-05 - val_mae: 0.0098\n",
            "Epoch 126/500\n",
            "81/81 [==============================] - 1s 10ms/step - loss: 1.7820e-04 - mae: 0.0119 - val_loss: 8.4081e-05 - val_mae: 0.0097\n",
            "Epoch 127/500\n",
            "81/81 [==============================] - 1s 10ms/step - loss: 1.4510e-04 - mae: 0.0106 - val_loss: 8.4746e-05 - val_mae: 0.0102\n",
            "Epoch 128/500\n",
            "81/81 [==============================] - 1s 10ms/step - loss: 1.5921e-04 - mae: 0.0113 - val_loss: 8.4800e-05 - val_mae: 0.0100\n",
            "Epoch 129/500\n",
            "81/81 [==============================] - 1s 10ms/step - loss: 1.6891e-04 - mae: 0.0114 - val_loss: 8.1555e-05 - val_mae: 0.0098\n",
            "Epoch 130/500\n",
            "78/81 [===========================>..] - ETA: 0s - loss: 1.6412e-04 - mae: 0.0110"
          ]
        },
        {
          "output_type": "stream",
          "name": "stderr",
          "text": [
            "WARNING:absl:Found untraced functions such as lstm_cell_layer_call_fn, lstm_cell_layer_call_and_return_conditional_losses, lstm_cell_1_layer_call_fn, lstm_cell_1_layer_call_and_return_conditional_losses while saving (showing 4 of 4). These functions will not be directly callable after loading.\n"
          ]
        },
        {
          "output_type": "stream",
          "name": "stdout",
          "text": [
            "\b\b\b\b\b\b\b\b\b\b\b\b\b\b\b\b\b\b\b\b\b\b\b\b\b\b\b\b\b\b\b\b\b\b\b\b\b\b\b\b\b\b\b\b\b\b\b\b\b\b\b\b\b\b\b\b\b\b\b\b\b\b\b\b\b\b\b\b\b\b\b\b\b\b\b\b\b\b\b\b\b\r81/81 [==============================] - 7s 93ms/step - loss: 1.6489e-04 - mae: 0.0111 - val_loss: 7.9661e-05 - val_mae: 0.0096\n",
            "Epoch 131/500\n",
            "81/81 [==============================] - 1s 10ms/step - loss: 1.5451e-04 - mae: 0.0107 - val_loss: 8.3082e-05 - val_mae: 0.0100\n",
            "Epoch 132/500\n",
            "81/81 [==============================] - 1s 10ms/step - loss: 1.6189e-04 - mae: 0.0106 - val_loss: 1.1287e-04 - val_mae: 0.0124\n",
            "Epoch 133/500\n",
            "81/81 [==============================] - 1s 10ms/step - loss: 1.5300e-04 - mae: 0.0106 - val_loss: 8.5692e-05 - val_mae: 0.0103\n",
            "Epoch 134/500\n",
            "81/81 [==============================] - 1s 10ms/step - loss: 1.5548e-04 - mae: 0.0110 - val_loss: 8.9108e-05 - val_mae: 0.0104\n",
            "Epoch 135/500\n",
            "81/81 [==============================] - 1s 10ms/step - loss: 1.7087e-04 - mae: 0.0119 - val_loss: 9.0636e-05 - val_mae: 0.0105\n",
            "Epoch 136/500\n",
            "81/81 [==============================] - 1s 10ms/step - loss: 1.7745e-04 - mae: 0.0123 - val_loss: 9.0536e-05 - val_mae: 0.0105\n",
            "Epoch 137/500\n",
            "81/81 [==============================] - 1s 10ms/step - loss: 1.7669e-04 - mae: 0.0122 - val_loss: 8.8609e-05 - val_mae: 0.0104\n",
            "Epoch 138/500\n",
            "81/81 [==============================] - 1s 10ms/step - loss: 1.7372e-04 - mae: 0.0120 - val_loss: 8.7654e-05 - val_mae: 0.0103\n",
            "Epoch 139/500\n",
            "81/81 [==============================] - 1s 10ms/step - loss: 1.7376e-04 - mae: 0.0119 - val_loss: 8.6820e-05 - val_mae: 0.0104\n",
            "Epoch 140/500\n",
            "81/81 [==============================] - 1s 10ms/step - loss: 1.7013e-04 - mae: 0.0117 - val_loss: 8.5981e-05 - val_mae: 0.0103\n",
            "Epoch 141/500\n",
            "81/81 [==============================] - 1s 10ms/step - loss: 1.6673e-04 - mae: 0.0115 - val_loss: 8.5291e-05 - val_mae: 0.0103\n",
            "Epoch 142/500\n",
            "81/81 [==============================] - 1s 10ms/step - loss: 1.6332e-04 - mae: 0.0112 - val_loss: 8.4586e-05 - val_mae: 0.0102\n",
            "Epoch 143/500\n",
            "81/81 [==============================] - 1s 10ms/step - loss: 1.6139e-04 - mae: 0.0111 - val_loss: 8.5507e-05 - val_mae: 0.0103\n",
            "Epoch 144/500\n",
            "81/81 [==============================] - 1s 10ms/step - loss: 1.5851e-04 - mae: 0.0110 - val_loss: 8.4933e-05 - val_mae: 0.0103\n",
            "Epoch 145/500\n",
            "81/81 [==============================] - 1s 10ms/step - loss: 1.5669e-04 - mae: 0.0109 - val_loss: 8.4903e-05 - val_mae: 0.0102\n",
            "Epoch 146/500\n",
            "81/81 [==============================] - 1s 10ms/step - loss: 1.5559e-04 - mae: 0.0108 - val_loss: 8.4650e-05 - val_mae: 0.0102\n",
            "Epoch 147/500\n",
            "81/81 [==============================] - 1s 10ms/step - loss: 1.5476e-04 - mae: 0.0108 - val_loss: 8.4548e-05 - val_mae: 0.0102\n",
            "Epoch 148/500\n",
            "81/81 [==============================] - 1s 10ms/step - loss: 1.5443e-04 - mae: 0.0108 - val_loss: 8.3777e-05 - val_mae: 0.0101\n",
            "Epoch 149/500\n",
            "81/81 [==============================] - 1s 10ms/step - loss: 1.5386e-04 - mae: 0.0107 - val_loss: 8.2804e-05 - val_mae: 0.0100\n",
            "Epoch 150/500\n",
            "81/81 [==============================] - 1s 10ms/step - loss: 1.5458e-04 - mae: 0.0107 - val_loss: 8.2258e-05 - val_mae: 0.0100\n",
            "Epoch 151/500\n",
            "81/81 [==============================] - 1s 10ms/step - loss: 1.5513e-04 - mae: 0.0108 - val_loss: 8.3423e-05 - val_mae: 0.0101\n",
            "Epoch 152/500\n",
            "81/81 [==============================] - 1s 10ms/step - loss: 1.6018e-04 - mae: 0.0110 - val_loss: 8.2385e-05 - val_mae: 0.0100\n",
            "Epoch 153/500\n",
            "81/81 [==============================] - 1s 10ms/step - loss: 1.6750e-04 - mae: 0.0113 - val_loss: 8.0399e-05 - val_mae: 0.0097\n",
            "Epoch 154/500\n",
            "77/81 [===========================>..] - ETA: 0s - loss: 1.5581e-04 - mae: 0.0107"
          ]
        },
        {
          "output_type": "stream",
          "name": "stderr",
          "text": [
            "WARNING:absl:Found untraced functions such as lstm_cell_layer_call_fn, lstm_cell_layer_call_and_return_conditional_losses, lstm_cell_1_layer_call_fn, lstm_cell_1_layer_call_and_return_conditional_losses while saving (showing 4 of 4). These functions will not be directly callable after loading.\n"
          ]
        },
        {
          "output_type": "stream",
          "name": "stdout",
          "text": [
            "\b\b\b\b\b\b\b\b\b\b\b\b\b\b\b\b\b\b\b\b\b\b\b\b\b\b\b\b\b\b\b\b\b\b\b\b\b\b\b\b\b\b\b\b\b\b\b\b\b\b\b\b\b\b\b\b\b\b\b\b\b\b\b\b\b\b\b\b\b\b\b\b\b\b\b\b\b\b\b\b\b\r81/81 [==============================] - 7s 90ms/step - loss: 1.6213e-04 - mae: 0.0112 - val_loss: 7.9605e-05 - val_mae: 0.0096\n",
            "Epoch 155/500\n",
            "77/81 [===========================>..] - ETA: 0s - loss: 1.4809e-04 - mae: 0.0105"
          ]
        },
        {
          "output_type": "stream",
          "name": "stderr",
          "text": [
            "WARNING:absl:Found untraced functions such as lstm_cell_layer_call_fn, lstm_cell_layer_call_and_return_conditional_losses, lstm_cell_1_layer_call_fn, lstm_cell_1_layer_call_and_return_conditional_losses while saving (showing 4 of 4). These functions will not be directly callable after loading.\n"
          ]
        },
        {
          "output_type": "stream",
          "name": "stdout",
          "text": [
            "\b\b\b\b\b\b\b\b\b\b\b\b\b\b\b\b\b\b\b\b\b\b\b\b\b\b\b\b\b\b\b\b\b\b\b\b\b\b\b\b\b\b\b\b\b\b\b\b\b\b\b\b\b\b\b\b\b\b\b\b\b\b\b\b\b\b\b\b\b\b\b\b\b\b\b\b\b\b\b\b\b\r81/81 [==============================] - 8s 95ms/step - loss: 1.5561e-04 - mae: 0.0110 - val_loss: 7.9321e-05 - val_mae: 0.0095\n",
            "Epoch 156/500\n",
            "81/81 [==============================] - 1s 10ms/step - loss: 1.4983e-04 - mae: 0.0109 - val_loss: 8.1896e-05 - val_mae: 0.0099\n",
            "Epoch 157/500\n",
            "81/81 [==============================] - 1s 10ms/step - loss: 1.4784e-04 - mae: 0.0108 - val_loss: 8.1616e-05 - val_mae: 0.0098\n",
            "Epoch 158/500\n",
            "81/81 [==============================] - 1s 10ms/step - loss: 1.3820e-04 - mae: 0.0102 - val_loss: 8.0904e-05 - val_mae: 0.0098\n",
            "Epoch 159/500\n",
            "81/81 [==============================] - 1s 10ms/step - loss: 1.2730e-04 - mae: 0.0095 - val_loss: 8.1645e-05 - val_mae: 0.0099\n",
            "Epoch 160/500\n",
            "81/81 [==============================] - 1s 10ms/step - loss: 1.4307e-04 - mae: 0.0107 - val_loss: 8.4409e-05 - val_mae: 0.0102\n",
            "Epoch 161/500\n",
            "81/81 [==============================] - 1s 10ms/step - loss: 1.4642e-04 - mae: 0.0108 - val_loss: 8.4712e-05 - val_mae: 0.0103\n",
            "Epoch 162/500\n",
            "81/81 [==============================] - 1s 10ms/step - loss: 1.4718e-04 - mae: 0.0108 - val_loss: 8.3281e-05 - val_mae: 0.0101\n",
            "Epoch 163/500\n",
            "81/81 [==============================] - 1s 10ms/step - loss: 1.4686e-04 - mae: 0.0107 - val_loss: 8.3022e-05 - val_mae: 0.0101\n",
            "Epoch 164/500\n",
            "81/81 [==============================] - 1s 11ms/step - loss: 1.4507e-04 - mae: 0.0105 - val_loss: 8.2223e-05 - val_mae: 0.0100\n",
            "Epoch 165/500\n",
            "81/81 [==============================] - 1s 10ms/step - loss: 1.3949e-04 - mae: 0.0103 - val_loss: 8.0690e-05 - val_mae: 0.0097\n",
            "Epoch 166/500\n",
            "81/81 [==============================] - 1s 10ms/step - loss: 1.3110e-04 - mae: 0.0099 - val_loss: 8.0321e-05 - val_mae: 0.0097\n",
            "Epoch 167/500\n",
            "81/81 [==============================] - 1s 10ms/step - loss: 1.2858e-04 - mae: 0.0098 - val_loss: 8.0272e-05 - val_mae: 0.0097\n",
            "Epoch 168/500\n",
            "79/81 [============================>.] - ETA: 0s - loss: 1.3580e-04 - mae: 0.0102"
          ]
        },
        {
          "output_type": "stream",
          "name": "stderr",
          "text": [
            "WARNING:absl:Found untraced functions such as lstm_cell_layer_call_fn, lstm_cell_layer_call_and_return_conditional_losses, lstm_cell_1_layer_call_fn, lstm_cell_1_layer_call_and_return_conditional_losses while saving (showing 4 of 4). These functions will not be directly callable after loading.\n"
          ]
        },
        {
          "output_type": "stream",
          "name": "stdout",
          "text": [
            "\b\b\b\b\b\b\b\b\b\b\b\b\b\b\b\b\b\b\b\b\b\b\b\b\b\b\b\b\b\b\b\b\b\b\b\b\b\b\b\b\b\b\b\b\b\b\b\b\b\b\b\b\b\b\b\b\b\b\b\b\b\b\b\b\b\b\b\b\b\b\b\b\b\b\b\b\b\b\b\b\b\r81/81 [==============================] - 7s 92ms/step - loss: 1.3659e-04 - mae: 0.0103 - val_loss: 7.9145e-05 - val_mae: 0.0095\n",
            "Epoch 169/500\n",
            "81/81 [==============================] - 1s 10ms/step - loss: 1.4013e-04 - mae: 0.0106 - val_loss: 8.6786e-05 - val_mae: 0.0105\n",
            "Epoch 170/500\n",
            "81/81 [==============================] - 1s 10ms/step - loss: 1.7761e-04 - mae: 0.0122 - val_loss: 9.2571e-05 - val_mae: 0.0101\n",
            "Epoch 171/500\n",
            "81/81 [==============================] - 1s 10ms/step - loss: 1.5481e-04 - mae: 0.0114 - val_loss: 8.6378e-05 - val_mae: 0.0104\n",
            "Epoch 172/500\n",
            "81/81 [==============================] - 1s 10ms/step - loss: 1.7158e-04 - mae: 0.0121 - val_loss: 8.0507e-05 - val_mae: 0.0097\n",
            "Epoch 173/500\n",
            "81/81 [==============================] - 1s 10ms/step - loss: 1.6046e-04 - mae: 0.0114 - val_loss: 8.2116e-05 - val_mae: 0.0100\n",
            "Epoch 174/500\n",
            "81/81 [==============================] - 1s 10ms/step - loss: 1.5901e-04 - mae: 0.0112 - val_loss: 8.0100e-05 - val_mae: 0.0097\n",
            "Epoch 175/500\n",
            "78/81 [===========================>..] - ETA: 0s - loss: 1.2734e-04 - mae: 0.0096"
          ]
        },
        {
          "output_type": "stream",
          "name": "stderr",
          "text": [
            "WARNING:absl:Found untraced functions such as lstm_cell_layer_call_fn, lstm_cell_layer_call_and_return_conditional_losses, lstm_cell_1_layer_call_fn, lstm_cell_1_layer_call_and_return_conditional_losses while saving (showing 4 of 4). These functions will not be directly callable after loading.\n"
          ]
        },
        {
          "output_type": "stream",
          "name": "stdout",
          "text": [
            "\b\b\b\b\b\b\b\b\b\b\b\b\b\b\b\b\b\b\b\b\b\b\b\b\b\b\b\b\b\b\b\b\b\b\b\b\b\b\b\b\b\b\b\b\b\b\b\b\b\b\b\b\b\b\b\b\b\b\b\b\b\b\b\b\b\b\b\b\b\b\b\b\b\b\b\b\b\b\b\b\b\r81/81 [==============================] - 7s 92ms/step - loss: 1.2927e-04 - mae: 0.0098 - val_loss: 7.9029e-05 - val_mae: 0.0095\n",
            "Epoch 176/500\n",
            "81/81 [==============================] - 1s 10ms/step - loss: 1.2700e-04 - mae: 0.0094 - val_loss: 8.1166e-05 - val_mae: 0.0099\n",
            "Epoch 177/500\n",
            "81/81 [==============================] - 1s 10ms/step - loss: 1.4223e-04 - mae: 0.0106 - val_loss: 8.4046e-05 - val_mae: 0.0102\n",
            "Epoch 178/500\n",
            "81/81 [==============================] - 1s 10ms/step - loss: 1.4751e-04 - mae: 0.0109 - val_loss: 8.4804e-05 - val_mae: 0.0103\n",
            "Epoch 179/500\n",
            "81/81 [==============================] - 1s 10ms/step - loss: 1.5117e-04 - mae: 0.0110 - val_loss: 8.4150e-05 - val_mae: 0.0102\n",
            "Epoch 180/500\n",
            "81/81 [==============================] - 1s 10ms/step - loss: 1.5187e-04 - mae: 0.0109 - val_loss: 8.3310e-05 - val_mae: 0.0101\n",
            "Epoch 181/500\n",
            "81/81 [==============================] - 1s 10ms/step - loss: 1.4746e-04 - mae: 0.0106 - val_loss: 8.1879e-05 - val_mae: 0.0099\n",
            "Epoch 182/500\n",
            "81/81 [==============================] - 1s 10ms/step - loss: 1.3976e-04 - mae: 0.0103 - val_loss: 7.9873e-05 - val_mae: 0.0096\n",
            "Epoch 183/500\n",
            "81/81 [==============================] - 1s 10ms/step - loss: 1.2848e-04 - mae: 0.0097 - val_loss: 7.9983e-05 - val_mae: 0.0097\n",
            "Epoch 184/500\n",
            "81/81 [==============================] - 1s 10ms/step - loss: 1.4092e-04 - mae: 0.0104 - val_loss: 8.0213e-05 - val_mae: 0.0097\n",
            "Epoch 185/500\n",
            "81/81 [==============================] - 1s 10ms/step - loss: 1.2878e-04 - mae: 0.0098 - val_loss: 7.9287e-05 - val_mae: 0.0095\n",
            "Epoch 186/500\n",
            "81/81 [==============================] - 1s 10ms/step - loss: 1.2536e-04 - mae: 0.0094 - val_loss: 8.1621e-05 - val_mae: 0.0100\n",
            "Epoch 187/500\n",
            "81/81 [==============================] - 1s 10ms/step - loss: 1.4764e-04 - mae: 0.0110 - val_loss: 8.2885e-05 - val_mae: 0.0101\n",
            "Epoch 188/500\n",
            "81/81 [==============================] - 1s 10ms/step - loss: 1.6584e-04 - mae: 0.0117 - val_loss: 8.1349e-05 - val_mae: 0.0096\n",
            "Epoch 189/500\n",
            "77/81 [===========================>..] - ETA: 0s - loss: 1.5674e-04 - mae: 0.0111"
          ]
        },
        {
          "output_type": "stream",
          "name": "stderr",
          "text": [
            "WARNING:absl:Found untraced functions such as lstm_cell_layer_call_fn, lstm_cell_layer_call_and_return_conditional_losses, lstm_cell_1_layer_call_fn, lstm_cell_1_layer_call_and_return_conditional_losses while saving (showing 4 of 4). These functions will not be directly callable after loading.\n"
          ]
        },
        {
          "output_type": "stream",
          "name": "stdout",
          "text": [
            "\b\b\b\b\b\b\b\b\b\b\b\b\b\b\b\b\b\b\b\b\b\b\b\b\b\b\b\b\b\b\b\b\b\b\b\b\b\b\b\b\b\b\b\b\b\b\b\b\b\b\b\b\b\b\b\b\b\b\b\b\b\b\b\b\b\b\b\b\b\b\b\b\b\b\b\b\b\b\b\b\b\r81/81 [==============================] - 7s 92ms/step - loss: 1.6112e-04 - mae: 0.0114 - val_loss: 7.8615e-05 - val_mae: 0.0095\n",
            "Epoch 190/500\n",
            "81/81 [==============================] - 1s 10ms/step - loss: 1.3808e-04 - mae: 0.0106 - val_loss: 8.5224e-05 - val_mae: 0.0103\n",
            "Epoch 191/500\n",
            "81/81 [==============================] - 1s 10ms/step - loss: 1.6512e-04 - mae: 0.0117 - val_loss: 7.9074e-05 - val_mae: 0.0096\n",
            "Epoch 192/500\n",
            "81/81 [==============================] - 1s 10ms/step - loss: 1.2150e-04 - mae: 0.0094 - val_loss: 7.9797e-05 - val_mae: 0.0097\n",
            "Epoch 193/500\n",
            "81/81 [==============================] - 1s 10ms/step - loss: 1.3794e-04 - mae: 0.0103 - val_loss: 7.9548e-05 - val_mae: 0.0097\n",
            "Epoch 194/500\n",
            "81/81 [==============================] - 1s 10ms/step - loss: 1.5247e-04 - mae: 0.0111 - val_loss: 7.8866e-05 - val_mae: 0.0096\n",
            "Epoch 195/500\n",
            "81/81 [==============================] - 1s 10ms/step - loss: 1.6383e-04 - mae: 0.0121 - val_loss: 8.4959e-05 - val_mae: 0.0103\n",
            "Epoch 196/500\n",
            "81/81 [==============================] - 1s 10ms/step - loss: 1.8260e-04 - mae: 0.0125 - val_loss: 7.9033e-05 - val_mae: 0.0096\n",
            "Epoch 197/500\n",
            "81/81 [==============================] - 1s 10ms/step - loss: 1.4683e-04 - mae: 0.0108 - val_loss: 8.0874e-05 - val_mae: 0.0099\n",
            "Epoch 198/500\n",
            "81/81 [==============================] - 1s 10ms/step - loss: 1.4361e-04 - mae: 0.0106 - val_loss: 7.8678e-05 - val_mae: 0.0095\n",
            "Epoch 199/500\n",
            "81/81 [==============================] - 1s 10ms/step - loss: 1.3415e-04 - mae: 0.0098 - val_loss: 8.3169e-05 - val_mae: 0.0100\n",
            "Epoch 200/500\n",
            "81/81 [==============================] - 1s 10ms/step - loss: 1.5585e-04 - mae: 0.0114 - val_loss: 8.7398e-05 - val_mae: 0.0105\n",
            "Epoch 201/500\n",
            "81/81 [==============================] - 1s 10ms/step - loss: 1.5689e-04 - mae: 0.0115 - val_loss: 8.9151e-05 - val_mae: 0.0107\n",
            "Epoch 202/500\n",
            "81/81 [==============================] - 1s 10ms/step - loss: 1.5266e-04 - mae: 0.0112 - val_loss: 8.8056e-05 - val_mae: 0.0106\n",
            "Epoch 203/500\n",
            "81/81 [==============================] - 1s 10ms/step - loss: 1.5066e-04 - mae: 0.0110 - val_loss: 8.8842e-05 - val_mae: 0.0107\n",
            "Epoch 204/500\n",
            "81/81 [==============================] - 1s 10ms/step - loss: 1.4891e-04 - mae: 0.0108 - val_loss: 8.8849e-05 - val_mae: 0.0107\n",
            "Epoch 205/500\n",
            "81/81 [==============================] - 1s 10ms/step - loss: 1.4867e-04 - mae: 0.0107 - val_loss: 8.8305e-05 - val_mae: 0.0106\n",
            "Epoch 206/500\n",
            "81/81 [==============================] - 1s 10ms/step - loss: 1.4845e-04 - mae: 0.0107 - val_loss: 8.7688e-05 - val_mae: 0.0105\n",
            "Epoch 207/500\n",
            "81/81 [==============================] - 1s 10ms/step - loss: 1.4761e-04 - mae: 0.0107 - val_loss: 8.5541e-05 - val_mae: 0.0103\n",
            "Epoch 208/500\n",
            "81/81 [==============================] - 1s 10ms/step - loss: 1.4484e-04 - mae: 0.0105 - val_loss: 8.2412e-05 - val_mae: 0.0100\n",
            "Epoch 209/500\n",
            "81/81 [==============================] - 1s 10ms/step - loss: 1.4081e-04 - mae: 0.0103 - val_loss: 7.9493e-05 - val_mae: 0.0096\n",
            "Epoch 210/500\n",
            "81/81 [==============================] - 1s 10ms/step - loss: 1.4213e-04 - mae: 0.0104 - val_loss: 8.0430e-05 - val_mae: 0.0098\n",
            "Epoch 211/500\n",
            "81/81 [==============================] - 1s 10ms/step - loss: 1.4507e-04 - mae: 0.0106 - val_loss: 7.8910e-05 - val_mae: 0.0095\n",
            "Epoch 212/500\n",
            "81/81 [==============================] - 1s 10ms/step - loss: 1.2300e-04 - mae: 0.0094 - val_loss: 8.3583e-05 - val_mae: 0.0102\n",
            "Epoch 213/500\n",
            "81/81 [==============================] - 1s 10ms/step - loss: 1.4409e-04 - mae: 0.0107 - val_loss: 8.2011e-05 - val_mae: 0.0099\n",
            "Epoch 214/500\n",
            "81/81 [==============================] - 1s 10ms/step - loss: 1.3401e-04 - mae: 0.0101 - val_loss: 7.8864e-05 - val_mae: 0.0094\n",
            "Epoch 215/500\n",
            "81/81 [==============================] - 1s 10ms/step - loss: 1.2840e-04 - mae: 0.0095 - val_loss: 8.2135e-05 - val_mae: 0.0100\n",
            "Epoch 216/500\n",
            "81/81 [==============================] - 1s 10ms/step - loss: 1.4821e-04 - mae: 0.0111 - val_loss: 8.7486e-05 - val_mae: 0.0105\n",
            "Epoch 217/500\n",
            "81/81 [==============================] - 1s 10ms/step - loss: 1.5030e-04 - mae: 0.0112 - val_loss: 8.6358e-05 - val_mae: 0.0104\n",
            "Epoch 218/500\n",
            "81/81 [==============================] - 1s 10ms/step - loss: 1.5286e-04 - mae: 0.0112 - val_loss: 8.3481e-05 - val_mae: 0.0101\n",
            "Epoch 219/500\n",
            "81/81 [==============================] - 1s 10ms/step - loss: 1.5471e-04 - mae: 0.0111 - val_loss: 8.2231e-05 - val_mae: 0.0100\n",
            "Epoch 220/500\n",
            "81/81 [==============================] - 1s 10ms/step - loss: 1.4183e-04 - mae: 0.0104 - val_loss: 7.8693e-05 - val_mae: 0.0095\n",
            "Epoch 221/500\n",
            "81/81 [==============================] - 1s 10ms/step - loss: 1.3366e-04 - mae: 0.0100 - val_loss: 8.4840e-05 - val_mae: 0.0103\n",
            "Epoch 222/500\n",
            "81/81 [==============================] - 1s 10ms/step - loss: 1.5069e-04 - mae: 0.0110 - val_loss: 8.1892e-05 - val_mae: 0.0099\n",
            "Epoch 223/500\n",
            "77/81 [===========================>..] - ETA: 0s - loss: 1.3351e-04 - mae: 0.0101"
          ]
        },
        {
          "output_type": "stream",
          "name": "stderr",
          "text": [
            "WARNING:absl:Found untraced functions such as lstm_cell_layer_call_fn, lstm_cell_layer_call_and_return_conditional_losses, lstm_cell_1_layer_call_fn, lstm_cell_1_layer_call_and_return_conditional_losses while saving (showing 4 of 4). These functions will not be directly callable after loading.\n"
          ]
        },
        {
          "output_type": "stream",
          "name": "stdout",
          "text": [
            "\b\b\b\b\b\b\b\b\b\b\b\b\b\b\b\b\b\b\b\b\b\b\b\b\b\b\b\b\b\b\b\b\b\b\b\b\b\b\b\b\b\b\b\b\b\b\b\b\b\b\b\b\b\b\b\b\b\b\b\b\b\b\b\b\b\b\b\b\b\b\b\b\b\b\b\b\b\b\b\b\b\r81/81 [==============================] - 8s 102ms/step - loss: 1.3566e-04 - mae: 0.0102 - val_loss: 7.8541e-05 - val_mae: 0.0094\n",
            "Epoch 224/500\n",
            "81/81 [==============================] - 1s 10ms/step - loss: 1.2666e-04 - mae: 0.0095 - val_loss: 8.1538e-05 - val_mae: 0.0100\n",
            "Epoch 225/500\n",
            "81/81 [==============================] - 1s 10ms/step - loss: 1.4902e-04 - mae: 0.0111 - val_loss: 8.8445e-05 - val_mae: 0.0106\n",
            "Epoch 226/500\n",
            "81/81 [==============================] - 1s 10ms/step - loss: 1.5123e-04 - mae: 0.0112 - val_loss: 8.5564e-05 - val_mae: 0.0104\n",
            "Epoch 227/500\n",
            "81/81 [==============================] - 1s 10ms/step - loss: 1.4976e-04 - mae: 0.0109 - val_loss: 8.2115e-05 - val_mae: 0.0100\n",
            "Epoch 228/500\n",
            "81/81 [==============================] - 1s 10ms/step - loss: 1.3544e-04 - mae: 0.0101 - val_loss: 7.9296e-05 - val_mae: 0.0096\n",
            "Epoch 229/500\n",
            "81/81 [==============================] - 1s 10ms/step - loss: 1.3623e-04 - mae: 0.0101 - val_loss: 8.0405e-05 - val_mae: 0.0098\n",
            "Epoch 230/500\n",
            "81/81 [==============================] - 1s 10ms/step - loss: 1.3276e-04 - mae: 0.0101 - val_loss: 7.9444e-05 - val_mae: 0.0095\n",
            "Epoch 231/500\n",
            "81/81 [==============================] - 1s 10ms/step - loss: 1.2500e-04 - mae: 0.0096 - val_loss: 7.9263e-05 - val_mae: 0.0097\n",
            "Epoch 232/500\n",
            "81/81 [==============================] - 1s 10ms/step - loss: 1.4569e-04 - mae: 0.0106 - val_loss: 8.4577e-05 - val_mae: 0.0102\n",
            "Epoch 233/500\n",
            "81/81 [==============================] - 1s 10ms/step - loss: 1.6985e-04 - mae: 0.0122 - val_loss: 8.6755e-05 - val_mae: 0.0104\n",
            "Epoch 234/500\n",
            "81/81 [==============================] - 1s 10ms/step - loss: 1.6640e-04 - mae: 0.0120 - val_loss: 8.5659e-05 - val_mae: 0.0104\n",
            "Epoch 235/500\n",
            "81/81 [==============================] - 1s 10ms/step - loss: 1.5764e-04 - mae: 0.0114 - val_loss: 8.9279e-05 - val_mae: 0.0107\n",
            "Epoch 236/500\n",
            "81/81 [==============================] - 1s 10ms/step - loss: 1.5009e-04 - mae: 0.0109 - val_loss: 8.7964e-05 - val_mae: 0.0106\n",
            "Epoch 237/500\n",
            "81/81 [==============================] - 1s 10ms/step - loss: 1.4637e-04 - mae: 0.0106 - val_loss: 8.6630e-05 - val_mae: 0.0105\n",
            "Epoch 238/500\n",
            "81/81 [==============================] - 1s 10ms/step - loss: 1.4553e-04 - mae: 0.0106 - val_loss: 8.4345e-05 - val_mae: 0.0102\n",
            "Epoch 239/500\n",
            "81/81 [==============================] - 1s 10ms/step - loss: 1.4626e-04 - mae: 0.0106 - val_loss: 8.1138e-05 - val_mae: 0.0099\n",
            "Epoch 240/500\n",
            "81/81 [==============================] - 1s 10ms/step - loss: 1.5252e-04 - mae: 0.0109 - val_loss: 8.1616e-05 - val_mae: 0.0099\n",
            "Epoch 241/500\n",
            "81/81 [==============================] - 1s 10ms/step - loss: 1.5524e-04 - mae: 0.0111 - val_loss: 8.4206e-05 - val_mae: 0.0102\n",
            "Epoch 242/500\n",
            "81/81 [==============================] - 1s 10ms/step - loss: 1.4100e-04 - mae: 0.0104 - val_loss: 7.8616e-05 - val_mae: 0.0094\n",
            "Epoch 243/500\n",
            "81/81 [==============================] - 1s 10ms/step - loss: 1.2287e-04 - mae: 0.0093 - val_loss: 8.4906e-05 - val_mae: 0.0103\n",
            "Epoch 244/500\n",
            "81/81 [==============================] - 1s 10ms/step - loss: 1.3760e-04 - mae: 0.0103 - val_loss: 8.3068e-05 - val_mae: 0.0100\n",
            "Epoch 245/500\n",
            "81/81 [==============================] - 1s 10ms/step - loss: 1.3279e-04 - mae: 0.0100 - val_loss: 7.9988e-05 - val_mae: 0.0095\n",
            "Epoch 246/500\n",
            "81/81 [==============================] - 1s 10ms/step - loss: 1.2167e-04 - mae: 0.0094 - val_loss: 7.9810e-05 - val_mae: 0.0096\n",
            "Epoch 247/500\n",
            "81/81 [==============================] - 1s 10ms/step - loss: 1.2542e-04 - mae: 0.0096 - val_loss: 8.0098e-05 - val_mae: 0.0096\n",
            "Epoch 248/500\n",
            "81/81 [==============================] - 1s 10ms/step - loss: 1.2566e-04 - mae: 0.0096 - val_loss: 7.9546e-05 - val_mae: 0.0094\n",
            "Epoch 249/500\n",
            "81/81 [==============================] - 1s 10ms/step - loss: 1.1705e-04 - mae: 0.0090 - val_loss: 7.9099e-05 - val_mae: 0.0096\n",
            "Epoch 250/500\n",
            "81/81 [==============================] - 1s 10ms/step - loss: 1.3474e-04 - mae: 0.0101 - val_loss: 7.8602e-05 - val_mae: 0.0094\n",
            "Epoch 251/500\n",
            "81/81 [==============================] - 1s 10ms/step - loss: 1.4179e-04 - mae: 0.0109 - val_loss: 8.8094e-05 - val_mae: 0.0106\n",
            "Epoch 252/500\n",
            "81/81 [==============================] - 1s 10ms/step - loss: 1.5957e-04 - mae: 0.0118 - val_loss: 7.9421e-05 - val_mae: 0.0097\n",
            "Epoch 253/500\n",
            "81/81 [==============================] - 1s 10ms/step - loss: 1.5199e-04 - mae: 0.0112 - val_loss: 7.9042e-05 - val_mae: 0.0096\n",
            "Epoch 254/500\n",
            "78/81 [===========================>..] - ETA: 0s - loss: 1.3231e-04 - mae: 0.0101"
          ]
        },
        {
          "output_type": "stream",
          "name": "stderr",
          "text": [
            "WARNING:absl:Found untraced functions such as lstm_cell_layer_call_fn, lstm_cell_layer_call_and_return_conditional_losses, lstm_cell_1_layer_call_fn, lstm_cell_1_layer_call_and_return_conditional_losses while saving (showing 4 of 4). These functions will not be directly callable after loading.\n"
          ]
        },
        {
          "output_type": "stream",
          "name": "stdout",
          "text": [
            "\b\b\b\b\b\b\b\b\b\b\b\b\b\b\b\b\b\b\b\b\b\b\b\b\b\b\b\b\b\b\b\b\b\b\b\b\b\b\b\b\b\b\b\b\b\b\b\b\b\b\b\b\b\b\b\b\b\b\b\b\b\b\b\b\b\b\b\b\b\b\b\b\b\b\b\b\b\b\b\b\b\r81/81 [==============================] - 7s 87ms/step - loss: 1.3403e-04 - mae: 0.0102 - val_loss: 7.7899e-05 - val_mae: 0.0094\n",
            "Epoch 255/500\n",
            "81/81 [==============================] - 1s 10ms/step - loss: 1.3752e-04 - mae: 0.0100 - val_loss: 8.3217e-05 - val_mae: 0.0100\n",
            "Epoch 256/500\n",
            "81/81 [==============================] - 1s 10ms/step - loss: 1.7097e-04 - mae: 0.0123 - val_loss: 8.8365e-05 - val_mae: 0.0106\n",
            "Epoch 257/500\n",
            "81/81 [==============================] - 1s 10ms/step - loss: 1.7079e-04 - mae: 0.0122 - val_loss: 8.4600e-05 - val_mae: 0.0103\n",
            "Epoch 258/500\n",
            "81/81 [==============================] - 1s 17ms/step - loss: 1.6266e-04 - mae: 0.0117 - val_loss: 9.1523e-05 - val_mae: 0.0109\n",
            "Epoch 259/500\n",
            "81/81 [==============================] - 1s 16ms/step - loss: 1.5280e-04 - mae: 0.0110 - val_loss: 8.7604e-05 - val_mae: 0.0105\n",
            "Epoch 260/500\n",
            "81/81 [==============================] - 1s 11ms/step - loss: 1.4476e-04 - mae: 0.0105 - val_loss: 8.6192e-05 - val_mae: 0.0104\n",
            "Epoch 261/500\n",
            "81/81 [==============================] - 1s 10ms/step - loss: 1.4287e-04 - mae: 0.0104 - val_loss: 8.4639e-05 - val_mae: 0.0102\n",
            "Epoch 262/500\n",
            "81/81 [==============================] - 1s 10ms/step - loss: 1.4139e-04 - mae: 0.0103 - val_loss: 8.3314e-05 - val_mae: 0.0101\n",
            "Epoch 263/500\n",
            "81/81 [==============================] - 1s 10ms/step - loss: 1.4261e-04 - mae: 0.0104 - val_loss: 8.2823e-05 - val_mae: 0.0101\n",
            "Epoch 264/500\n",
            "81/81 [==============================] - 1s 10ms/step - loss: 1.4590e-04 - mae: 0.0106 - val_loss: 8.3870e-05 - val_mae: 0.0102\n",
            "Epoch 265/500\n",
            "81/81 [==============================] - 1s 10ms/step - loss: 1.4651e-04 - mae: 0.0107 - val_loss: 8.6277e-05 - val_mae: 0.0104\n",
            "Epoch 266/500\n",
            "81/81 [==============================] - 1s 10ms/step - loss: 1.4392e-04 - mae: 0.0105 - val_loss: 8.4464e-05 - val_mae: 0.0102\n",
            "Epoch 267/500\n",
            "81/81 [==============================] - 1s 10ms/step - loss: 1.4005e-04 - mae: 0.0103 - val_loss: 8.3639e-05 - val_mae: 0.0101\n",
            "Epoch 268/500\n",
            "81/81 [==============================] - 1s 10ms/step - loss: 1.3800e-04 - mae: 0.0102 - val_loss: 8.2402e-05 - val_mae: 0.0100\n",
            "Epoch 269/500\n",
            "81/81 [==============================] - 1s 10ms/step - loss: 1.3484e-04 - mae: 0.0101 - val_loss: 8.0974e-05 - val_mae: 0.0098\n",
            "Epoch 270/500\n",
            "81/81 [==============================] - 1s 10ms/step - loss: 1.3057e-04 - mae: 0.0099 - val_loss: 8.0338e-05 - val_mae: 0.0097\n",
            "Epoch 271/500\n",
            "81/81 [==============================] - 1s 10ms/step - loss: 1.2889e-04 - mae: 0.0098 - val_loss: 8.0057e-05 - val_mae: 0.0096\n",
            "Epoch 272/500\n",
            "81/81 [==============================] - 1s 10ms/step - loss: 1.2664e-04 - mae: 0.0097 - val_loss: 7.9282e-05 - val_mae: 0.0094\n",
            "Epoch 273/500\n",
            "81/81 [==============================] - 1s 10ms/step - loss: 1.2378e-04 - mae: 0.0095 - val_loss: 8.0818e-05 - val_mae: 0.0098\n",
            "Epoch 274/500\n",
            "81/81 [==============================] - 1s 10ms/step - loss: 1.3156e-04 - mae: 0.0101 - val_loss: 7.9313e-05 - val_mae: 0.0095\n",
            "Epoch 275/500\n",
            "81/81 [==============================] - 1s 10ms/step - loss: 1.2418e-04 - mae: 0.0096 - val_loss: 7.8804e-05 - val_mae: 0.0094\n",
            "Epoch 276/500\n",
            "81/81 [==============================] - 1s 10ms/step - loss: 1.2411e-04 - mae: 0.0093 - val_loss: 8.3690e-05 - val_mae: 0.0102\n",
            "Epoch 277/500\n",
            "81/81 [==============================] - 1s 10ms/step - loss: 1.4253e-04 - mae: 0.0108 - val_loss: 8.2921e-05 - val_mae: 0.0101\n",
            "Epoch 278/500\n",
            "81/81 [==============================] - 1s 10ms/step - loss: 1.3840e-04 - mae: 0.0105 - val_loss: 7.8639e-05 - val_mae: 0.0094\n",
            "Epoch 279/500\n",
            "81/81 [==============================] - 1s 10ms/step - loss: 1.2328e-04 - mae: 0.0094 - val_loss: 8.0434e-05 - val_mae: 0.0098\n",
            "Epoch 280/500\n",
            "81/81 [==============================] - 1s 10ms/step - loss: 1.3808e-04 - mae: 0.0104 - val_loss: 7.9981e-05 - val_mae: 0.0096\n",
            "Epoch 281/500\n",
            "76/81 [===========================>..] - ETA: 0s - loss: 1.2446e-04 - mae: 0.0096"
          ]
        },
        {
          "output_type": "stream",
          "name": "stderr",
          "text": [
            "WARNING:absl:Found untraced functions such as lstm_cell_layer_call_fn, lstm_cell_layer_call_and_return_conditional_losses, lstm_cell_1_layer_call_fn, lstm_cell_1_layer_call_and_return_conditional_losses while saving (showing 4 of 4). These functions will not be directly callable after loading.\n"
          ]
        },
        {
          "output_type": "stream",
          "name": "stdout",
          "text": [
            "\b\b\b\b\b\b\b\b\b\b\b\b\b\b\b\b\b\b\b\b\b\b\b\b\b\b\b\b\b\b\b\b\b\b\b\b\b\b\b\b\b\b\b\b\b\b\b\b\b\b\b\b\b\b\b\b\b\b\b\b\b\b\b\b\b\b\b\b\b\b\b\b\b\b\b\b\b\b\b\b\b\r81/81 [==============================] - 8s 94ms/step - loss: 1.3001e-04 - mae: 0.0099 - val_loss: 7.7869e-05 - val_mae: 0.0094\n",
            "Epoch 282/500\n",
            "81/81 [==============================] - 1s 10ms/step - loss: 1.3320e-04 - mae: 0.0098 - val_loss: 8.1429e-05 - val_mae: 0.0100\n",
            "Epoch 283/500\n",
            "81/81 [==============================] - 1s 10ms/step - loss: 1.5436e-04 - mae: 0.0115 - val_loss: 8.9417e-05 - val_mae: 0.0107\n",
            "Epoch 284/500\n",
            "81/81 [==============================] - 1s 10ms/step - loss: 1.5314e-04 - mae: 0.0113 - val_loss: 8.5049e-05 - val_mae: 0.0103\n",
            "Epoch 285/500\n",
            "81/81 [==============================] - 1s 10ms/step - loss: 1.4748e-04 - mae: 0.0109 - val_loss: 8.6600e-05 - val_mae: 0.0105\n",
            "Epoch 286/500\n",
            "81/81 [==============================] - 1s 10ms/step - loss: 1.4154e-04 - mae: 0.0105 - val_loss: 8.4983e-05 - val_mae: 0.0103\n",
            "Epoch 287/500\n",
            "81/81 [==============================] - 1s 10ms/step - loss: 1.3986e-04 - mae: 0.0103 - val_loss: 8.3416e-05 - val_mae: 0.0101\n",
            "Epoch 288/500\n",
            "81/81 [==============================] - 1s 10ms/step - loss: 1.3851e-04 - mae: 0.0102 - val_loss: 8.1758e-05 - val_mae: 0.0100\n",
            "Epoch 289/500\n",
            "81/81 [==============================] - 1s 10ms/step - loss: 1.4175e-04 - mae: 0.0104 - val_loss: 8.0121e-05 - val_mae: 0.0098\n",
            "Epoch 290/500\n",
            "81/81 [==============================] - 1s 10ms/step - loss: 1.4427e-04 - mae: 0.0106 - val_loss: 8.1786e-05 - val_mae: 0.0100\n",
            "Epoch 291/500\n",
            "81/81 [==============================] - 1s 10ms/step - loss: 1.4892e-04 - mae: 0.0109 - val_loss: 8.2207e-05 - val_mae: 0.0100\n",
            "Epoch 292/500\n",
            "81/81 [==============================] - 1s 10ms/step - loss: 1.3456e-04 - mae: 0.0101 - val_loss: 8.0341e-05 - val_mae: 0.0097\n",
            "Epoch 293/500\n",
            "81/81 [==============================] - 1s 10ms/step - loss: 1.3206e-04 - mae: 0.0100 - val_loss: 8.0068e-05 - val_mae: 0.0096\n",
            "Epoch 294/500\n",
            "81/81 [==============================] - 1s 10ms/step - loss: 1.2718e-04 - mae: 0.0097 - val_loss: 7.9562e-05 - val_mae: 0.0094\n",
            "Epoch 295/500\n",
            "81/81 [==============================] - 1s 10ms/step - loss: 1.2090e-04 - mae: 0.0093 - val_loss: 7.9416e-05 - val_mae: 0.0095\n",
            "Epoch 296/500\n",
            "81/81 [==============================] - 1s 10ms/step - loss: 1.2479e-04 - mae: 0.0096 - val_loss: 7.9652e-05 - val_mae: 0.0094\n",
            "Epoch 297/500\n",
            "81/81 [==============================] - 1s 10ms/step - loss: 1.2116e-04 - mae: 0.0094 - val_loss: 7.9329e-05 - val_mae: 0.0094\n",
            "Epoch 298/500\n",
            "81/81 [==============================] - 1s 10ms/step - loss: 1.1893e-04 - mae: 0.0092 - val_loss: 7.9057e-05 - val_mae: 0.0095\n",
            "Epoch 299/500\n",
            "81/81 [==============================] - 1s 10ms/step - loss: 1.2722e-04 - mae: 0.0097 - val_loss: 7.9641e-05 - val_mae: 0.0095\n",
            "Epoch 300/500\n",
            "81/81 [==============================] - 1s 10ms/step - loss: 1.2118e-04 - mae: 0.0094 - val_loss: 7.8543e-05 - val_mae: 0.0095\n",
            "Epoch 301/500\n",
            "81/81 [==============================] - 1s 10ms/step - loss: 1.2642e-04 - mae: 0.0095 - val_loss: 8.0646e-05 - val_mae: 0.0099\n",
            "Epoch 302/500\n",
            "81/81 [==============================] - 1s 10ms/step - loss: 1.5039e-04 - mae: 0.0113 - val_loss: 8.9766e-05 - val_mae: 0.0107\n",
            "Epoch 303/500\n",
            "81/81 [==============================] - 1s 10ms/step - loss: 1.5123e-04 - mae: 0.0113 - val_loss: 8.3594e-05 - val_mae: 0.0102\n",
            "Epoch 304/500\n",
            "81/81 [==============================] - 1s 10ms/step - loss: 1.5290e-04 - mae: 0.0112 - val_loss: 8.2372e-05 - val_mae: 0.0100\n",
            "Epoch 305/500\n",
            "81/81 [==============================] - 1s 10ms/step - loss: 1.3838e-04 - mae: 0.0103 - val_loss: 7.8522e-05 - val_mae: 0.0094\n",
            "Epoch 306/500\n",
            "81/81 [==============================] - 1s 10ms/step - loss: 1.2650e-04 - mae: 0.0097 - val_loss: 7.8674e-05 - val_mae: 0.0094\n",
            "Epoch 307/500\n",
            "81/81 [==============================] - 1s 10ms/step - loss: 1.1757e-04 - mae: 0.0091 - val_loss: 7.8656e-05 - val_mae: 0.0095\n",
            "Epoch 308/500\n",
            "81/81 [==============================] - 1s 10ms/step - loss: 1.3149e-04 - mae: 0.0100 - val_loss: 7.9968e-05 - val_mae: 0.0095\n",
            "Epoch 309/500\n",
            "81/81 [==============================] - 1s 10ms/step - loss: 1.2062e-04 - mae: 0.0094 - val_loss: 8.8322e-05 - val_mae: 0.0106\n",
            "Epoch 310/500\n",
            "81/81 [==============================] - 1s 10ms/step - loss: 1.3965e-04 - mae: 0.0105 - val_loss: 8.9192e-05 - val_mae: 0.0102\n",
            "Epoch 311/500\n",
            "81/81 [==============================] - 1s 10ms/step - loss: 1.9889e-04 - mae: 0.0133 - val_loss: 9.4097e-05 - val_mae: 0.0110\n",
            "Epoch 312/500\n",
            "81/81 [==============================] - 1s 10ms/step - loss: 1.8610e-04 - mae: 0.0127 - val_loss: 8.6248e-05 - val_mae: 0.0104\n",
            "Epoch 313/500\n",
            "81/81 [==============================] - 1s 10ms/step - loss: 1.5400e-04 - mae: 0.0109 - val_loss: 8.5491e-05 - val_mae: 0.0103\n",
            "Epoch 314/500\n",
            "81/81 [==============================] - 1s 10ms/step - loss: 1.3830e-04 - mae: 0.0101 - val_loss: 8.2165e-05 - val_mae: 0.0099\n",
            "Epoch 315/500\n",
            "81/81 [==============================] - 1s 10ms/step - loss: 1.3220e-04 - mae: 0.0099 - val_loss: 8.1186e-05 - val_mae: 0.0097\n",
            "Epoch 316/500\n",
            "81/81 [==============================] - 1s 10ms/step - loss: 1.2872e-04 - mae: 0.0097 - val_loss: 8.0863e-05 - val_mae: 0.0097\n",
            "Epoch 317/500\n",
            "81/81 [==============================] - 1s 10ms/step - loss: 1.2695e-04 - mae: 0.0096 - val_loss: 8.0391e-05 - val_mae: 0.0096\n",
            "Epoch 318/500\n",
            "81/81 [==============================] - 1s 10ms/step - loss: 1.2633e-04 - mae: 0.0096 - val_loss: 8.0145e-05 - val_mae: 0.0095\n",
            "Epoch 319/500\n",
            "81/81 [==============================] - 1s 10ms/step - loss: 1.2521e-04 - mae: 0.0096 - val_loss: 8.0113e-05 - val_mae: 0.0094\n",
            "Epoch 320/500\n",
            "81/81 [==============================] - 1s 10ms/step - loss: 1.2300e-04 - mae: 0.0095 - val_loss: 7.9780e-05 - val_mae: 0.0095\n",
            "Epoch 321/500\n",
            "81/81 [==============================] - 1s 10ms/step - loss: 1.2532e-04 - mae: 0.0097 - val_loss: 8.1299e-05 - val_mae: 0.0094\n",
            "Epoch 322/500\n",
            "81/81 [==============================] - 1s 10ms/step - loss: 1.1913e-04 - mae: 0.0090 - val_loss: 8.0208e-05 - val_mae: 0.0097\n",
            "Epoch 323/500\n",
            "81/81 [==============================] - 1s 10ms/step - loss: 1.3576e-04 - mae: 0.0103 - val_loss: 8.1279e-05 - val_mae: 0.0094\n",
            "Epoch 324/500\n",
            "81/81 [==============================] - 1s 10ms/step - loss: 1.2469e-04 - mae: 0.0092 - val_loss: 8.1230e-05 - val_mae: 0.0100\n",
            "Epoch 325/500\n",
            "81/81 [==============================] - 1s 10ms/step - loss: 1.3665e-04 - mae: 0.0102 - val_loss: 8.2585e-05 - val_mae: 0.0101\n",
            "Epoch 326/500\n",
            "81/81 [==============================] - 1s 10ms/step - loss: 1.3693e-04 - mae: 0.0103 - val_loss: 8.1953e-05 - val_mae: 0.0100\n",
            "Epoch 327/500\n",
            "81/81 [==============================] - 1s 10ms/step - loss: 1.3360e-04 - mae: 0.0100 - val_loss: 8.0757e-05 - val_mae: 0.0098\n",
            "Epoch 328/500\n",
            "81/81 [==============================] - 1s 10ms/step - loss: 1.3189e-04 - mae: 0.0099 - val_loss: 8.0248e-05 - val_mae: 0.0097\n",
            "Epoch 329/500\n",
            "81/81 [==============================] - 1s 10ms/step - loss: 1.3034e-04 - mae: 0.0099 - val_loss: 7.9550e-05 - val_mae: 0.0096\n",
            "Epoch 330/500\n",
            "81/81 [==============================] - 1s 10ms/step - loss: 1.2971e-04 - mae: 0.0098 - val_loss: 7.9210e-05 - val_mae: 0.0095\n",
            "Epoch 331/500\n",
            "81/81 [==============================] - 1s 10ms/step - loss: 1.2914e-04 - mae: 0.0099 - val_loss: 7.8797e-05 - val_mae: 0.0094\n"
          ]
        },
        {
          "output_type": "execute_result",
          "data": {
            "text/plain": [
              "<keras.callbacks.History at 0x7fd6d5e162e0>"
            ]
          },
          "metadata": {},
          "execution_count": 11
        }
      ],
      "source": [
        "# reset any stored data\n",
        "keras.backend.clear_session()\n",
        "tf.random.set_seed(42)\n",
        "np.random.seed(42)\n",
        "\n",
        "# set window size and create input batch sequence\n",
        "window_size = 30\n",
        "train_set = sequential_window_dataset(normalized_x_train, window_size)\n",
        "valid_set = sequential_window_dataset(normalized_x_valid, window_size)\n",
        "\n",
        "# create model\n",
        "model = keras.models.Sequential([\n",
        "  keras.layers.LSTM(100, return_sequences=True, stateful=True,\n",
        "                         batch_input_shape=[1, None, 1]),\n",
        "  keras.layers.LSTM(100, return_sequences=True, stateful=True),\n",
        "  keras.layers.Dense(1),\n",
        "])\n",
        "\n",
        "# set optimizer\n",
        "optimizer = keras.optimizers.Nadam(lr=1e-3)\n",
        "\n",
        "# compile model\n",
        "model.compile(loss=keras.losses.Huber(),\n",
        "              optimizer=optimizer,\n",
        "              metrics=[\"mae\"])\n",
        "\n",
        "# reset states\n",
        "reset_states = ResetStatesCallback()\n",
        "\n",
        "#set up save best only checkpoint\n",
        "model_checkpoint = keras.callbacks.ModelCheckpoint(\n",
        "    \"my_checkpoint\", save_best_only=True)\n",
        "\n",
        "early_stopping = keras.callbacks.EarlyStopping(patience=50)\n",
        "\n",
        "# fit model\n",
        "model.fit(train_set, epochs=500,\n",
        "          validation_data=valid_set,\n",
        "          callbacks=[early_stopping, model_checkpoint, reset_states])"
      ]
    },
    {
      "cell_type": "code",
      "source": [
        "!zip -r /content/checkpoint.zip /content/my_checkpoint\n"
      ],
      "metadata": {
        "colab": {
          "base_uri": "https://localhost:8080/"
        },
        "id": "MqmlfrAN_y2A",
        "outputId": "8ea36237-b811-4855-a741-89e36afc4ccd"
      },
      "execution_count": null,
      "outputs": [
        {
          "output_type": "stream",
          "name": "stdout",
          "text": [
            "  adding: content/my_checkpoint/ (stored 0%)\n",
            "  adding: content/my_checkpoint/assets/ (stored 0%)\n",
            "  adding: content/my_checkpoint/variables/ (stored 0%)\n",
            "  adding: content/my_checkpoint/variables/variables.index (deflated 65%)\n",
            "  adding: content/my_checkpoint/variables/variables.data-00000-of-00001 (deflated 6%)\n",
            "  adding: content/my_checkpoint/keras_metadata.pb (deflated 89%)\n",
            "  adding: content/my_checkpoint/saved_model.pb (deflated 92%)\n"
          ]
        }
      ]
    },
    {
      "cell_type": "code",
      "source": [
        "from google.colab import files\n",
        "files.download(\"checkpoint.zip\")"
      ],
      "metadata": {
        "colab": {
          "base_uri": "https://localhost:8080/",
          "height": 17
        },
        "id": "aQQLsm8f_XZ_",
        "outputId": "ef109e0f-e355-4ef6-a8e9-6e7a49c5c328"
      },
      "execution_count": null,
      "outputs": [
        {
          "output_type": "display_data",
          "data": {
            "text/plain": [
              "<IPython.core.display.Javascript object>"
            ],
            "application/javascript": [
              "\n",
              "    async function download(id, filename, size) {\n",
              "      if (!google.colab.kernel.accessAllowed) {\n",
              "        return;\n",
              "      }\n",
              "      const div = document.createElement('div');\n",
              "      const label = document.createElement('label');\n",
              "      label.textContent = `Downloading \"${filename}\": `;\n",
              "      div.appendChild(label);\n",
              "      const progress = document.createElement('progress');\n",
              "      progress.max = size;\n",
              "      div.appendChild(progress);\n",
              "      document.body.appendChild(div);\n",
              "\n",
              "      const buffers = [];\n",
              "      let downloaded = 0;\n",
              "\n",
              "      const channel = await google.colab.kernel.comms.open(id);\n",
              "      // Send a message to notify the kernel that we're ready.\n",
              "      channel.send({})\n",
              "\n",
              "      for await (const message of channel.messages) {\n",
              "        // Send a message to notify the kernel that we're ready.\n",
              "        channel.send({})\n",
              "        if (message.buffers) {\n",
              "          for (const buffer of message.buffers) {\n",
              "            buffers.push(buffer);\n",
              "            downloaded += buffer.byteLength;\n",
              "            progress.value = downloaded;\n",
              "          }\n",
              "        }\n",
              "      }\n",
              "      const blob = new Blob(buffers, {type: 'application/binary'});\n",
              "      const a = document.createElement('a');\n",
              "      a.href = window.URL.createObjectURL(blob);\n",
              "      a.download = filename;\n",
              "      div.appendChild(a);\n",
              "      a.click();\n",
              "      div.remove();\n",
              "    }\n",
              "  "
            ]
          },
          "metadata": {}
        },
        {
          "output_type": "display_data",
          "data": {
            "text/plain": [
              "<IPython.core.display.Javascript object>"
            ],
            "application/javascript": [
              "download(\"download_8a064389-c882-4569-849d-676eb2d90707\", \"checkpoint.zip\", 1502546)"
            ]
          },
          "metadata": {}
        }
      ]
    },
    {
      "cell_type": "markdown",
      "metadata": {
        "id": "kVkhv3sk-LlA"
      },
      "source": [
        "## Make Predictions"
      ]
    },
    {
      "cell_type": "code",
      "execution_count": null,
      "metadata": {
        "id": "nPeZUfQy8OJQ"
      },
      "outputs": [],
      "source": [
        "# recall best model\n",
        "model = keras.models.load_model(\"my_checkpoint\")"
      ]
    },
    {
      "cell_type": "code",
      "execution_count": null,
      "metadata": {
        "colab": {
          "base_uri": "https://localhost:8080/"
        },
        "id": "4tFrq5uW8OJR",
        "outputId": "901fb310-5e96-43fa-c45f-1fcba367e61d"
      },
      "outputs": [
        {
          "output_type": "stream",
          "name": "stdout",
          "text": [
            "1/1 [==============================] - 1s 1s/step\n"
          ]
        }
      ],
      "source": [
        "# make predictions\n",
        "rnn_forecast = model.predict(normalized_x_test[np.newaxis,:])\n",
        "rnn_forecast = rnn_forecast.flatten()\n"
      ]
    },
    {
      "cell_type": "code",
      "execution_count": null,
      "metadata": {
        "colab": {
          "base_uri": "https://localhost:8080/"
        },
        "id": "gsSbjyD8r66o",
        "outputId": "065ef902-db4a-43a0-d4a9-a397bb68d0d5"
      },
      "outputs": [
        {
          "output_type": "execute_result",
          "data": {
            "text/plain": [
              "(698,)"
            ]
          },
          "metadata": {},
          "execution_count": 17
        }
      ],
      "source": [
        "# Example of how to iverse\n",
        "rnn_unscaled_forecast = x_train_scaler.inverse_transform(rnn_forecast.reshape(-1,1)).flatten()\n",
        "rnn_unscaled_forecast.shape"
      ]
    },
    {
      "cell_type": "code",
      "execution_count": null,
      "metadata": {
        "colab": {
          "base_uri": "https://localhost:8080/",
          "height": 410
        },
        "id": "ZfaR6nqj8OJT",
        "outputId": "4f012776-72f2-48b4-baf2-91f88240b04e"
      },
      "outputs": [
        {
          "output_type": "display_data",
          "data": {
            "text/plain": [
              "<Figure size 720x432 with 1 Axes>"
            ],
            "image/png": "[encoded data removed]"
          },
          "metadata": {}
        }
      ],
      "source": [
        "# plot results\n",
        "plt.figure(figsize=(10,6))\n",
        "\n",
        "plt.ylabel('Dollars $')\n",
        "plt.xlabel('Timestep in Days')\n",
        "plt.title(f'LSTM {window_size} Forecast')\n",
        "plot_series(x_test.index[:7], x_test[:7], label=\"Actual\")\n",
        "plot_series(x_test.index[:7], rnn_unscaled_forecast[:7], label=\"Forecast\")\n",
        "plt.show()"
      ]
    },
    {
      "cell_type": "code",
      "execution_count": null,
      "metadata": {
        "colab": {
          "base_uri": "https://localhost:8080/"
        },
        "id": "Wgf2u2Tp8OJV",
        "outputId": "c0ff20b3-52d9-42ee-c7ed-02223a413abe"
      },
      "outputs": [
        {
          "output_type": "execute_result",
          "data": {
            "text/plain": [
              "1.8516377"
            ]
          },
          "metadata": {},
          "execution_count": 19
        }
      ],
      "source": [
        "# calculate MAE\n",
        "keras.metrics.mean_absolute_error(x_test, rnn_unscaled_forecast).numpy()"
      ]
    },
    {
      "cell_type": "code",
      "source": [],
      "metadata": {
        "id": "1iSvYnL1AhBT"
      },
      "execution_count": null,
      "outputs": []
    },
    {
      "cell_type": "markdown",
      "source": [
        "## Additional data and training"
      ],
      "metadata": {
        "id": "yRBHsgYm3qhT"
      }
    },
    {
      "cell_type": "code",
      "source": [
        "! pip install yfinance\n"
      ],
      "metadata": {
        "colab": {
          "base_uri": "https://localhost:8080/",
          "height": 522
        },
        "id": "z-x0wskrCVwk",
        "outputId": "d0379f98-9db7-40bc-8be4-bf84b8203bbe"
      },
      "execution_count": null,
      "outputs": [
        {
          "output_type": "stream",
          "name": "stdout",
          "text": [
            "Looking in indexes: https://pypi.org/simple, https://us-python.pkg.dev/colab-wheels/public/simple/\n",
            "Collecting yfinance\n",
            "  Downloading yfinance-0.1.89-py2.py3-none-any.whl (29 kB)\n",
            "Requirement already satisfied: multitasking>=0.0.7 in /usr/local/lib/python3.8/dist-packages (from yfinance) (0.0.11)\n",
            "Requirement already satisfied: pandas>=1.3.0 in /usr/local/lib/python3.8/dist-packages (from yfinance) (1.3.5)\n",
            "Requirement already satisfied: numpy>=1.16.5 in /usr/local/lib/python3.8/dist-packages (from yfinance) (1.21.6)\n",
            "Requirement already satisfied: appdirs>=1.4.4 in /usr/local/lib/python3.8/dist-packages (from yfinance) (1.4.4)\n",
            "Collecting requests>=2.26\n",
            "  Downloading requests-2.28.1-py3-none-any.whl (62 kB)\n",
            "\u001b[K     |████████████████████████████████| 62 kB 1.4 MB/s \n",
            "\u001b[?25hRequirement already satisfied: python-dateutil>=2.7.3 in /usr/local/lib/python3.8/dist-packages (from pandas>=1.3.0->yfinance) (2.8.2)\n",
            "Requirement already satisfied: pytz>=2017.3 in /usr/local/lib/python3.8/dist-packages (from pandas>=1.3.0->yfinance) (2022.6)\n",
            "Requirement already satisfied: six>=1.5 in /usr/local/lib/python3.8/dist-packages (from python-dateutil>=2.7.3->pandas>=1.3.0->yfinance) (1.15.0)\n",
            "Requirement already satisfied: urllib3<1.27,>=1.21.1 in /usr/local/lib/python3.8/dist-packages (from requests>=2.26->yfinance) (1.24.3)\n",
            "Requirement already satisfied: charset-normalizer<3,>=2 in /usr/local/lib/python3.8/dist-packages (from requests>=2.26->yfinance) (2.1.1)\n",
            "Requirement already satisfied: certifi>=2017.4.17 in /usr/local/lib/python3.8/dist-packages (from requests>=2.26->yfinance) (2022.9.24)\n",
            "Requirement already satisfied: idna<4,>=2.5 in /usr/local/lib/python3.8/dist-packages (from requests>=2.26->yfinance) (2.10)\n",
            "Installing collected packages: requests, yfinance\n",
            "  Attempting uninstall: requests\n",
            "    Found existing installation: requests 2.23.0\n",
            "    Uninstalling requests-2.23.0:\n",
            "      Successfully uninstalled requests-2.23.0\n",
            "Successfully installed requests-2.28.1 yfinance-0.1.89\n"
          ]
        },
        {
          "output_type": "display_data",
          "data": {
            "application/vnd.colab-display-data+json": {
              "pip_warning": {
                "packages": [
                  "requests"
                ]
              }
            }
          },
          "metadata": {}
        }
      ]
    },
    {
      "cell_type": "code",
      "source": [
        "import yfinance as yf\n"
      ],
      "metadata": {
        "id": "yZwTWakMCmlV"
      },
      "execution_count": null,
      "outputs": []
    },
    {
      "cell_type": "code",
      "source": [
        "ticker = \"RELIANCE\"\n",
        "data = yf.download(ticker + '.ns', group_by=\"ticker\", start = '1990-01-01', end = '2022-12-01')\n",
        "\n",
        "data['Date'] = data.index\n",
        "data['ticker'] = ticker "
      ],
      "metadata": {
        "colab": {
          "base_uri": "https://localhost:8080/"
        },
        "id": "XIURUB3bCtYu",
        "outputId": "3fc340b1-ef43-4d43-87e7-11a7253522ad"
      },
      "execution_count": null,
      "outputs": [
        {
          "output_type": "stream",
          "name": "stdout",
          "text": [
            "\r[*********************100%***********************]  1 of 1 completed\n"
          ]
        }
      ]
    },
    {
      "cell_type": "code",
      "source": [
        "data.head()"
      ],
      "metadata": {
        "colab": {
          "base_uri": "https://localhost:8080/",
          "height": 238
        },
        "id": "-yNls0CYCtII",
        "outputId": "0b757d97-dfd2-4563-80b6-b7218ba506dc"
      },
      "execution_count": null,
      "outputs": [
        {
          "output_type": "execute_result",
          "data": {
            "text/plain": [
              "                 Open       High        Low      Close  Adj Close     Volume  \\\n",
              "Date                                                                           \n",
              "1996-01-01  15.859429  15.944529  15.754989  15.917452  10.477991   48051995   \n",
              "1996-01-02  15.878770  15.956133  15.677626  15.793671  10.396510   77875009   \n",
              "1996-01-03  16.052837  16.783918  15.878770  15.913584  10.475446   96602936   \n",
              "1996-01-04  15.762726  15.813012  15.553845  15.766594  10.378685  100099436   \n",
              "1996-01-05  15.704703  15.704703  15.522900  15.658285  10.307390   76935930   \n",
              "\n",
              "                 Date    ticker  \n",
              "Date                             \n",
              "1996-01-01 1996-01-01  RELIANCE  \n",
              "1996-01-02 1996-01-02  RELIANCE  \n",
              "1996-01-03 1996-01-03  RELIANCE  \n",
              "1996-01-04 1996-01-04  RELIANCE  \n",
              "1996-01-05 1996-01-05  RELIANCE  "
            ],
            "text/html": [
              "\n",
              "  <div id=\"df-c82239ff-7dec-43e6-873c-cf6d7209d13e\">\n",
              "    <div class=\"colab-df-container\">\n",
              "      <div>\n",
              "<style scoped>\n",
              "    .dataframe tbody tr th:only-of-type {\n",
              "        vertical-align: middle;\n",
              "    }\n",
              "\n",
              "    .dataframe tbody tr th {\n",
              "        vertical-align: top;\n",
              "    }\n",
              "\n",
              "    .dataframe thead th {\n",
              "        text-align: right;\n",
              "    }\n",
              "</style>\n",
              "<table border=\"1\" class=\"dataframe\">\n",
              "  <thead>\n",
              "    <tr style=\"text-align: right;\">\n",
              "      <th></th>\n",
              "      <th>Open</th>\n",
              "      <th>High</th>\n",
              "      <th>Low</th>\n",
              "      <th>Close</th>\n",
              "      <th>Adj Close</th>\n",
              "      <th>Volume</th>\n",
              "      <th>Date</th>\n",
              "      <th>ticker</th>\n",
              "    </tr>\n",
              "    <tr>\n",
              "      <th>Date</th>\n",
              "      <th></th>\n",
              "      <th></th>\n",
              "      <th></th>\n",
              "      <th></th>\n",
              "      <th></th>\n",
              "      <th></th>\n",
              "      <th></th>\n",
              "      <th></th>\n",
              "    </tr>\n",
              "  </thead>\n",
              "  <tbody>\n",
              "    <tr>\n",
              "      <th>1996-01-01</th>\n",
              "      <td>15.859429</td>\n",
              "      <td>15.944529</td>\n",
              "      <td>15.754989</td>\n",
              "      <td>15.917452</td>\n",
              "      <td>10.477991</td>\n",
              "      <td>48051995</td>\n",
              "      <td>1996-01-01</td>\n",
              "      <td>RELIANCE</td>\n",
              "    </tr>\n",
              "    <tr>\n",
              "      <th>1996-01-02</th>\n",
              "      <td>15.878770</td>\n",
              "      <td>15.956133</td>\n",
              "      <td>15.677626</td>\n",
              "      <td>15.793671</td>\n",
              "      <td>10.396510</td>\n",
              "      <td>77875009</td>\n",
              "      <td>1996-01-02</td>\n",
              "      <td>RELIANCE</td>\n",
              "    </tr>\n",
              "    <tr>\n",
              "      <th>1996-01-03</th>\n",
              "      <td>16.052837</td>\n",
              "      <td>16.783918</td>\n",
              "      <td>15.878770</td>\n",
              "      <td>15.913584</td>\n",
              "      <td>10.475446</td>\n",
              "      <td>96602936</td>\n",
              "      <td>1996-01-03</td>\n",
              "      <td>RELIANCE</td>\n",
              "    </tr>\n",
              "    <tr>\n",
              "      <th>1996-01-04</th>\n",
              "      <td>15.762726</td>\n",
              "      <td>15.813012</td>\n",
              "      <td>15.553845</td>\n",
              "      <td>15.766594</td>\n",
              "      <td>10.378685</td>\n",
              "      <td>100099436</td>\n",
              "      <td>1996-01-04</td>\n",
              "      <td>RELIANCE</td>\n",
              "    </tr>\n",
              "    <tr>\n",
              "      <th>1996-01-05</th>\n",
              "      <td>15.704703</td>\n",
              "      <td>15.704703</td>\n",
              "      <td>15.522900</td>\n",
              "      <td>15.658285</td>\n",
              "      <td>10.307390</td>\n",
              "      <td>76935930</td>\n",
              "      <td>1996-01-05</td>\n",
              "      <td>RELIANCE</td>\n",
              "    </tr>\n",
              "  </tbody>\n",
              "</table>\n",
              "</div>\n",
              "      <button class=\"colab-df-convert\" onclick=\"convertToInteractive('df-c82239ff-7dec-43e6-873c-cf6d7209d13e')\"\n",
              "              title=\"Convert this dataframe to an interactive table.\"\n",
              "              style=\"display:none;\">\n",
              "        \n",
              "  <svg xmlns=\"http://www.w3.org/2000/svg\" height=\"24px\"viewBox=\"0 0 24 24\"\n",
              "       width=\"24px\">\n",
              "    <path d=\"M0 0h24v24H0V0z\" fill=\"none\"/>\n",
              "    <path d=\"M18.56 5.44l.94 2.06.94-2.06 2.06-.94-2.06-.94-.94-2.06-.94 2.06-2.06.94zm-11 1L8.5 8.5l.94-2.06 2.06-.94-2.06-.94L8.5 2.5l-.94 2.06-2.06.94zm10 10l.94 2.06.94-2.06 2.06-.94-2.06-.94-.94-2.06-.94 2.06-2.06.94z\"/><path d=\"M17.41 7.96l-1.37-1.37c-.4-.4-.92-.59-1.43-.59-.52 0-1.04.2-1.43.59L10.3 9.45l-7.72 7.72c-.78.78-.78 2.05 0 2.83L4 21.41c.39.39.9.59 1.41.59.51 0 1.02-.2 1.41-.59l7.78-7.78 2.81-2.81c.8-.78.8-2.07 0-2.86zM5.41 20L4 18.59l7.72-7.72 1.47 1.35L5.41 20z\"/>\n",
              "  </svg>\n",
              "      </button>\n",
              "      \n",
              "  <style>\n",
              "    .colab-df-container {\n",
              "      display:flex;\n",
              "      flex-wrap:wrap;\n",
              "      gap: 12px;\n",
              "    }\n",
              "\n",
              "    .colab-df-convert {\n",
              "      background-color: #E8F0FE;\n",
              "      border: none;\n",
              "      border-radius: 50%;\n",
              "      cursor: pointer;\n",
              "      display: none;\n",
              "      fill: #1967D2;\n",
              "      height: 32px;\n",
              "      padding: 0 0 0 0;\n",
              "      width: 32px;\n",
              "    }\n",
              "\n",
              "    .colab-df-convert:hover {\n",
              "      background-color: #E2EBFA;\n",
              "      box-shadow: 0px 1px 2px rgba(60, 64, 67, 0.3), 0px 1px 3px 1px rgba(60, 64, 67, 0.15);\n",
              "      fill: #174EA6;\n",
              "    }\n",
              "\n",
              "    [theme=dark] .colab-df-convert {\n",
              "      background-color: #3B4455;\n",
              "      fill: #D2E3FC;\n",
              "    }\n",
              "\n",
              "    [theme=dark] .colab-df-convert:hover {\n",
              "      background-color: #434B5C;\n",
              "      box-shadow: 0px 1px 3px 1px rgba(0, 0, 0, 0.15);\n",
              "      filter: drop-shadow(0px 1px 2px rgba(0, 0, 0, 0.3));\n",
              "      fill: #FFFFFF;\n",
              "    }\n",
              "  </style>\n",
              "\n",
              "      <script>\n",
              "        const buttonEl =\n",
              "          document.querySelector('#df-c82239ff-7dec-43e6-873c-cf6d7209d13e button.colab-df-convert');\n",
              "        buttonEl.style.display =\n",
              "          google.colab.kernel.accessAllowed ? 'block' : 'none';\n",
              "\n",
              "        async function convertToInteractive(key) {\n",
              "          const element = document.querySelector('#df-c82239ff-7dec-43e6-873c-cf6d7209d13e');\n",
              "          const dataTable =\n",
              "            await google.colab.kernel.invokeFunction('convertToInteractive',\n",
              "                                                     [key], {});\n",
              "          if (!dataTable) return;\n",
              "\n",
              "          const docLinkHtml = 'Like what you see? Visit the ' +\n",
              "            '<a target=\"_blank\" href=https://colab.research.google.com/notebooks/data_table.ipynb>data table notebook</a>'\n",
              "            + ' to learn more about interactive tables.';\n",
              "          element.innerHTML = '';\n",
              "          dataTable['output_type'] = 'display_data';\n",
              "          await google.colab.output.renderOutput(dataTable, element);\n",
              "          const docLink = document.createElement('div');\n",
              "          docLink.innerHTML = docLinkHtml;\n",
              "          element.appendChild(docLink);\n",
              "        }\n",
              "      </script>\n",
              "    </div>\n",
              "  </div>\n",
              "  "
            ]
          },
          "metadata": {},
          "execution_count": 26
        }
      ]
    },
    {
      "cell_type": "code",
      "source": [
        "data.to_csv(\"ticker_RELIANCE.csv\", index = False)"
      ],
      "metadata": {
        "id": "HgA6OXhsDPAA"
      },
      "execution_count": null,
      "outputs": []
    },
    {
      "cell_type": "code",
      "source": [
        "filename = 'ticker_RELIANCE.csv'"
      ],
      "metadata": {
        "id": "zF8HSHJeAqKQ"
      },
      "execution_count": null,
      "outputs": []
    },
    {
      "cell_type": "code",
      "source": [
        "normalized_x_train_2, normalized_x_valid_2, normalized_x_test_2, x_train_scaler_2 , x_test_values_2 = split_data(filename)"
      ],
      "metadata": {
        "id": "eC6vnyDaDU_x"
      },
      "execution_count": null,
      "outputs": []
    },
    {
      "cell_type": "code",
      "source": [
        "\n",
        "# set window size and create input batch sequence\n",
        "window_size = 30\n",
        "train_set_2 = sequential_window_dataset(normalized_x_train_2, window_size)\n",
        "valid_set_2 = sequential_window_dataset(normalized_x_valid_2, window_size)\n"
      ],
      "metadata": {
        "id": "QKoPHFJaDwQB"
      },
      "execution_count": null,
      "outputs": []
    },
    {
      "cell_type": "code",
      "source": [
        "model = keras.models.load_model(\"my_checkpoint\")\n",
        "model.fit(train_set_2, epochs=500,\n",
        "          validation_data=valid_set_2,\n",
        "          callbacks=[early_stopping, model_checkpoint, reset_states])"
      ],
      "metadata": {
        "colab": {
          "base_uri": "https://localhost:8080/"
        },
        "id": "CFEz-OW0D5jo",
        "outputId": "f9960c63-3760-45c0-ca4d-7a68a64c80bb"
      },
      "execution_count": null,
      "outputs": [
        {
          "output_type": "stream",
          "name": "stdout",
          "text": [
            "Epoch 1/500\n",
            "157/157 [==============================] - 2s 11ms/step - loss: 6.7188e-05 - mae: 0.0061 - val_loss: 9.9779e-05 - val_mae: 0.0101\n",
            "Epoch 2/500\n",
            "157/157 [==============================] - 2s 10ms/step - loss: 6.3045e-05 - mae: 0.0061 - val_loss: 1.0696e-04 - val_mae: 0.0103\n",
            "Epoch 3/500\n",
            "157/157 [==============================] - 2s 10ms/step - loss: 6.4038e-05 - mae: 0.0062 - val_loss: 7.7408e-05 - val_mae: 0.0091\n",
            "Epoch 4/500\n",
            "157/157 [==============================] - 2s 10ms/step - loss: 5.6544e-05 - mae: 0.0060 - val_loss: 9.3827e-05 - val_mae: 0.0097\n",
            "Epoch 5/500\n",
            "157/157 [==============================] - 2s 10ms/step - loss: 6.1998e-05 - mae: 0.0062 - val_loss: 7.1906e-05 - val_mae: 0.0088\n",
            "Epoch 6/500\n",
            "157/157 [==============================] - 2s 10ms/step - loss: 5.4919e-05 - mae: 0.0060 - val_loss: 8.9383e-05 - val_mae: 0.0096\n",
            "Epoch 7/500\n",
            "157/157 [==============================] - 2s 10ms/step - loss: 6.0301e-05 - mae: 0.0061 - val_loss: 7.3911e-05 - val_mae: 0.0090\n",
            "Epoch 8/500\n",
            "157/157 [==============================] - 2s 10ms/step - loss: 5.5002e-05 - mae: 0.0059 - val_loss: 9.2517e-05 - val_mae: 0.0098\n",
            "Epoch 9/500\n",
            "157/157 [==============================] - 2s 10ms/step - loss: 5.9801e-05 - mae: 0.0060 - val_loss: 6.9929e-05 - val_mae: 0.0088\n",
            "Epoch 10/500\n",
            "157/157 [==============================] - 2s 10ms/step - loss: 5.3045e-05 - mae: 0.0057 - val_loss: 9.5326e-05 - val_mae: 0.0100\n",
            "Epoch 11/500\n",
            "157/157 [==============================] - 2s 10ms/step - loss: 6.0246e-05 - mae: 0.0059 - val_loss: 7.4575e-05 - val_mae: 0.0091\n",
            "Epoch 12/500\n",
            "157/157 [==============================] - 2s 10ms/step - loss: 5.5331e-05 - mae: 0.0058 - val_loss: 9.6902e-05 - val_mae: 0.0101\n",
            "Epoch 13/500\n",
            "157/157 [==============================] - 2s 10ms/step - loss: 6.0698e-05 - mae: 0.0059 - val_loss: 7.5444e-05 - val_mae: 0.0091\n",
            "Epoch 14/500\n",
            "157/157 [==============================] - 2s 15ms/step - loss: 5.5251e-05 - mae: 0.0057 - val_loss: 1.0007e-04 - val_mae: 0.0103\n",
            "Epoch 15/500\n",
            "157/157 [==============================] - 2s 11ms/step - loss: 6.1098e-05 - mae: 0.0059 - val_loss: 8.1390e-05 - val_mae: 0.0095\n",
            "Epoch 16/500\n",
            "157/157 [==============================] - 2s 10ms/step - loss: 5.6544e-05 - mae: 0.0057 - val_loss: 1.0310e-04 - val_mae: 0.0105\n",
            "Epoch 17/500\n",
            "157/157 [==============================] - 2s 11ms/step - loss: 6.1788e-05 - mae: 0.0059 - val_loss: 8.2867e-05 - val_mae: 0.0096\n",
            "Epoch 18/500\n",
            "157/157 [==============================] - 2s 10ms/step - loss: 5.7049e-05 - mae: 0.0056 - val_loss: 1.1176e-04 - val_mae: 0.0108\n",
            "Epoch 19/500\n",
            "157/157 [==============================] - 2s 10ms/step - loss: 6.2476e-05 - mae: 0.0059 - val_loss: 8.0466e-05 - val_mae: 0.0095\n",
            "Epoch 20/500\n",
            "157/157 [==============================] - 2s 11ms/step - loss: 5.6703e-05 - mae: 0.0057 - val_loss: 1.1699e-04 - val_mae: 0.0109\n",
            "Epoch 21/500\n",
            "157/157 [==============================] - 2s 10ms/step - loss: 6.3235e-05 - mae: 0.0059 - val_loss: 7.6820e-05 - val_mae: 0.0092\n",
            "Epoch 22/500\n",
            "157/157 [==============================] - 2s 14ms/step - loss: 5.5547e-05 - mae: 0.0057 - val_loss: 1.1114e-04 - val_mae: 0.0106\n",
            "Epoch 23/500\n",
            "157/157 [==============================] - 2s 15ms/step - loss: 6.4034e-05 - mae: 0.0060 - val_loss: 7.1876e-05 - val_mae: 0.0089\n",
            "Epoch 24/500\n",
            "157/157 [==============================] - 2s 10ms/step - loss: 5.3842e-05 - mae: 0.0057 - val_loss: 9.7285e-05 - val_mae: 0.0101\n",
            "Epoch 25/500\n",
            "157/157 [==============================] - 2s 13ms/step - loss: 6.2179e-05 - mae: 0.0059 - val_loss: 7.2051e-05 - val_mae: 0.0089\n",
            "Epoch 26/500\n",
            "157/157 [==============================] - 2s 10ms/step - loss: 5.4070e-05 - mae: 0.0057 - val_loss: 9.3006e-05 - val_mae: 0.0099\n",
            "Epoch 27/500\n",
            "157/157 [==============================] - 2s 10ms/step - loss: 6.1004e-05 - mae: 0.0059 - val_loss: 6.6115e-05 - val_mae: 0.0085\n",
            "Epoch 28/500\n",
            "157/157 [==============================] - 2s 10ms/step - loss: 5.1904e-05 - mae: 0.0056 - val_loss: 8.4499e-05 - val_mae: 0.0096\n",
            "Epoch 29/500\n",
            "157/157 [==============================] - 2s 10ms/step - loss: 5.7817e-05 - mae: 0.0058 - val_loss: 7.9390e-05 - val_mae: 0.0093\n",
            "Epoch 30/500\n",
            "157/157 [==============================] - 2s 13ms/step - loss: 5.6267e-05 - mae: 0.0058 - val_loss: 9.0033e-05 - val_mae: 0.0098\n",
            "Epoch 31/500\n",
            "157/157 [==============================] - 2s 10ms/step - loss: 5.8701e-05 - mae: 0.0058 - val_loss: 7.0755e-05 - val_mae: 0.0089\n",
            "Epoch 32/500\n",
            "157/157 [==============================] - 2s 10ms/step - loss: 5.2558e-05 - mae: 0.0057 - val_loss: 1.0200e-04 - val_mae: 0.0102\n",
            "Epoch 33/500\n",
            "154/157 [============================>.] - ETA: 0s - loss: 7.3356e-05 - mae: 0.0062"
          ]
        },
        {
          "output_type": "stream",
          "name": "stderr",
          "text": [
            "WARNING:absl:Found untraced functions such as lstm_cell_2_layer_call_fn, lstm_cell_2_layer_call_and_return_conditional_losses, lstm_cell_3_layer_call_fn, lstm_cell_3_layer_call_and_return_conditional_losses while saving (showing 4 of 4). These functions will not be directly callable after loading.\n"
          ]
        },
        {
          "output_type": "stream",
          "name": "stdout",
          "text": [
            "\b\b\b\b\b\b\b\b\b\b\b\b\b\b\b\b\b\b\b\b\b\b\b\b\b\b\b\b\b\b\b\b\b\b\b\b\b\b\b\b\b\b\b\b\b\b\b\b\b\b\b\b\b\b\b\b\b\b\b\b\b\b\b\b\b\b\b\b\b\b\b\b\b\b\b\b\b\b\b\b\b\b\b\r157/157 [==============================] - 9s 56ms/step - loss: 7.3164e-05 - mae: 0.0062 - val_loss: 5.2715e-05 - val_mae: 0.0076\n",
            "Epoch 34/500\n",
            "157/157 [==============================] - 2s 10ms/step - loss: 4.4306e-05 - mae: 0.0050 - val_loss: 6.3855e-05 - val_mae: 0.0083\n",
            "Epoch 35/500\n",
            "157/157 [==============================] - 2s 10ms/step - loss: 4.9492e-05 - mae: 0.0056 - val_loss: 6.8770e-05 - val_mae: 0.0086\n",
            "Epoch 36/500\n",
            "157/157 [==============================] - 2s 10ms/step - loss: 5.0133e-05 - mae: 0.0056 - val_loss: 7.4338e-05 - val_mae: 0.0090\n",
            "Epoch 37/500\n",
            "157/157 [==============================] - 2s 10ms/step - loss: 5.1564e-05 - mae: 0.0056 - val_loss: 8.1383e-05 - val_mae: 0.0094\n",
            "Epoch 38/500\n",
            "157/157 [==============================] - 2s 10ms/step - loss: 5.4027e-05 - mae: 0.0056 - val_loss: 8.7468e-05 - val_mae: 0.0098\n",
            "Epoch 39/500\n",
            "157/157 [==============================] - 2s 10ms/step - loss: 5.6901e-05 - mae: 0.0057 - val_loss: 9.1210e-05 - val_mae: 0.0100\n",
            "Epoch 40/500\n",
            "157/157 [==============================] - 2s 10ms/step - loss: 5.9406e-05 - mae: 0.0057 - val_loss: 9.5966e-05 - val_mae: 0.0103\n",
            "Epoch 41/500\n",
            "157/157 [==============================] - 2s 10ms/step - loss: 6.1296e-05 - mae: 0.0058 - val_loss: 9.7278e-05 - val_mae: 0.0104\n",
            "Epoch 42/500\n",
            "157/157 [==============================] - 2s 10ms/step - loss: 6.1106e-05 - mae: 0.0058 - val_loss: 9.9619e-05 - val_mae: 0.0104\n",
            "Epoch 43/500\n",
            "157/157 [==============================] - 2s 10ms/step - loss: 6.2519e-05 - mae: 0.0059 - val_loss: 1.0136e-04 - val_mae: 0.0105\n",
            "Epoch 44/500\n",
            "157/157 [==============================] - 2s 10ms/step - loss: 6.1199e-05 - mae: 0.0058 - val_loss: 9.1946e-05 - val_mae: 0.0100\n",
            "Epoch 45/500\n",
            "157/157 [==============================] - 2s 10ms/step - loss: 6.1706e-05 - mae: 0.0059 - val_loss: 1.0908e-04 - val_mae: 0.0107\n",
            "Epoch 46/500\n",
            "157/157 [==============================] - 2s 10ms/step - loss: 6.6679e-05 - mae: 0.0061 - val_loss: 8.8471e-05 - val_mae: 0.0098\n",
            "Epoch 47/500\n",
            "157/157 [==============================] - 2s 10ms/step - loss: 5.9478e-05 - mae: 0.0061 - val_loss: 9.2589e-05 - val_mae: 0.0099\n",
            "Epoch 48/500\n",
            "157/157 [==============================] - 2s 10ms/step - loss: 6.3694e-05 - mae: 0.0061 - val_loss: 7.8740e-05 - val_mae: 0.0092\n",
            "Epoch 49/500\n",
            "157/157 [==============================] - 2s 10ms/step - loss: 6.0801e-05 - mae: 0.0063 - val_loss: 7.3654e-05 - val_mae: 0.0090\n",
            "Epoch 50/500\n",
            "157/157 [==============================] - 2s 10ms/step - loss: 5.4463e-05 - mae: 0.0058 - val_loss: 7.3746e-05 - val_mae: 0.0090\n",
            "Epoch 51/500\n",
            "157/157 [==============================] - 2s 10ms/step - loss: 5.4304e-05 - mae: 0.0058 - val_loss: 7.2582e-05 - val_mae: 0.0089\n",
            "Epoch 52/500\n",
            "157/157 [==============================] - 2s 10ms/step - loss: 5.4349e-05 - mae: 0.0058 - val_loss: 7.2017e-05 - val_mae: 0.0089\n",
            "Epoch 53/500\n",
            "157/157 [==============================] - 2s 10ms/step - loss: 5.4343e-05 - mae: 0.0058 - val_loss: 7.1754e-05 - val_mae: 0.0089\n",
            "Epoch 54/500\n",
            "157/157 [==============================] - 2s 10ms/step - loss: 5.4296e-05 - mae: 0.0058 - val_loss: 7.1461e-05 - val_mae: 0.0089\n",
            "Epoch 55/500\n",
            "157/157 [==============================] - 2s 10ms/step - loss: 5.4066e-05 - mae: 0.0058 - val_loss: 7.2686e-05 - val_mae: 0.0090\n",
            "Epoch 56/500\n",
            "157/157 [==============================] - 2s 10ms/step - loss: 5.4404e-05 - mae: 0.0058 - val_loss: 7.5221e-05 - val_mae: 0.0092\n",
            "Epoch 57/500\n",
            "157/157 [==============================] - 2s 10ms/step - loss: 5.5463e-05 - mae: 0.0058 - val_loss: 7.9470e-05 - val_mae: 0.0095\n",
            "Epoch 58/500\n",
            "157/157 [==============================] - 2s 10ms/step - loss: 5.7007e-05 - mae: 0.0058 - val_loss: 8.8085e-05 - val_mae: 0.0101\n",
            "Epoch 59/500\n",
            "157/157 [==============================] - 2s 10ms/step - loss: 5.8748e-05 - mae: 0.0059 - val_loss: 9.7904e-05 - val_mae: 0.0107\n",
            "Epoch 60/500\n",
            "157/157 [==============================] - 2s 10ms/step - loss: 6.0229e-05 - mae: 0.0059 - val_loss: 8.4199e-05 - val_mae: 0.0098\n",
            "Epoch 61/500\n",
            "157/157 [==============================] - 2s 10ms/step - loss: 5.8561e-05 - mae: 0.0058 - val_loss: 8.4894e-05 - val_mae: 0.0098\n",
            "Epoch 62/500\n",
            "157/157 [==============================] - 2s 13ms/step - loss: 6.0983e-05 - mae: 0.0060 - val_loss: 1.1140e-04 - val_mae: 0.0116\n",
            "Epoch 63/500\n",
            "157/157 [==============================] - 2s 10ms/step - loss: 6.6654e-05 - mae: 0.0063 - val_loss: 6.9347e-05 - val_mae: 0.0088\n",
            "Epoch 64/500\n",
            "157/157 [==============================] - 2s 10ms/step - loss: 5.6177e-05 - mae: 0.0057 - val_loss: 8.3027e-05 - val_mae: 0.0097\n",
            "Epoch 65/500\n",
            "157/157 [==============================] - 2s 10ms/step - loss: 5.9949e-05 - mae: 0.0058 - val_loss: 9.8781e-05 - val_mae: 0.0106\n",
            "Epoch 66/500\n",
            "157/157 [==============================] - 2s 10ms/step - loss: 6.2357e-05 - mae: 0.0060 - val_loss: 8.4316e-05 - val_mae: 0.0098\n",
            "Epoch 67/500\n",
            "157/157 [==============================] - 2s 10ms/step - loss: 6.9279e-05 - mae: 0.0062 - val_loss: 5.3134e-05 - val_mae: 0.0077\n",
            "Epoch 68/500\n",
            "157/157 [==============================] - 2s 10ms/step - loss: 5.9390e-05 - mae: 0.0064 - val_loss: 8.7288e-05 - val_mae: 0.0097\n",
            "Epoch 69/500\n",
            "157/157 [==============================] - 2s 10ms/step - loss: 7.1222e-05 - mae: 0.0069 - val_loss: 6.8783e-05 - val_mae: 0.0086\n",
            "Epoch 70/500\n",
            "157/157 [==============================] - 2s 10ms/step - loss: 6.2652e-05 - mae: 0.0067 - val_loss: 6.8272e-05 - val_mae: 0.0086\n",
            "Epoch 71/500\n",
            "157/157 [==============================] - 2s 10ms/step - loss: 5.7804e-05 - mae: 0.0064 - val_loss: 6.8716e-05 - val_mae: 0.0086\n",
            "Epoch 72/500\n",
            "157/157 [==============================] - 2s 10ms/step - loss: 5.6302e-05 - mae: 0.0063 - val_loss: 6.8429e-05 - val_mae: 0.0086\n",
            "Epoch 73/500\n",
            "157/157 [==============================] - 2s 10ms/step - loss: 5.5218e-05 - mae: 0.0062 - val_loss: 6.9399e-05 - val_mae: 0.0087\n",
            "Epoch 74/500\n",
            "157/157 [==============================] - 2s 10ms/step - loss: 5.4878e-05 - mae: 0.0061 - val_loss: 7.0536e-05 - val_mae: 0.0088\n",
            "Epoch 75/500\n",
            "157/157 [==============================] - 2s 10ms/step - loss: 5.4789e-05 - mae: 0.0060 - val_loss: 7.1262e-05 - val_mae: 0.0089\n",
            "Epoch 76/500\n",
            "157/157 [==============================] - 2s 10ms/step - loss: 5.4793e-05 - mae: 0.0060 - val_loss: 7.2161e-05 - val_mae: 0.0090\n",
            "Epoch 77/500\n",
            "157/157 [==============================] - 2s 10ms/step - loss: 5.5060e-05 - mae: 0.0059 - val_loss: 7.2733e-05 - val_mae: 0.0090\n",
            "Epoch 78/500\n",
            "157/157 [==============================] - 2s 10ms/step - loss: 5.5567e-05 - mae: 0.0059 - val_loss: 7.3749e-05 - val_mae: 0.0091\n",
            "Epoch 79/500\n",
            "157/157 [==============================] - 2s 10ms/step - loss: 5.6471e-05 - mae: 0.0059 - val_loss: 7.5079e-05 - val_mae: 0.0092\n",
            "Epoch 80/500\n",
            "157/157 [==============================] - 2s 10ms/step - loss: 5.7723e-05 - mae: 0.0059 - val_loss: 7.7904e-05 - val_mae: 0.0094\n",
            "Epoch 81/500\n",
            "157/157 [==============================] - 2s 14ms/step - loss: 5.9312e-05 - mae: 0.0059 - val_loss: 8.4277e-05 - val_mae: 0.0098\n",
            "Epoch 82/500\n",
            "157/157 [==============================] - 2s 13ms/step - loss: 6.1314e-05 - mae: 0.0061 - val_loss: 9.5219e-05 - val_mae: 0.0104\n",
            "Epoch 83/500\n",
            "157/157 [==============================] - 2s 10ms/step - loss: 6.4099e-05 - mae: 0.0063 - val_loss: 8.7500e-05 - val_mae: 0.0100\n"
          ]
        },
        {
          "output_type": "execute_result",
          "data": {
            "text/plain": [
              "<keras.callbacks.History at 0x7fd678b868b0>"
            ]
          },
          "metadata": {},
          "execution_count": 38
        }
      ]
    },
    {
      "cell_type": "code",
      "source": [
        "# make predictions\n",
        "rnn_forecast = model.predict(normalized_x_test_2[np.newaxis,:])\n",
        "rnn_forecast = rnn_forecast.flatten()\n"
      ],
      "metadata": {
        "colab": {
          "base_uri": "https://localhost:8080/"
        },
        "id": "IwEOLkAHEAZx",
        "outputId": "ad3b03ab-d9ac-4450-a4a7-f7e34f260965"
      },
      "execution_count": null,
      "outputs": [
        {
          "output_type": "stream",
          "name": "stdout",
          "text": [
            "1/1 [==============================] - 0s 90ms/step\n"
          ]
        }
      ]
    },
    {
      "cell_type": "code",
      "source": [
        "# Example of how to iverse\n",
        "rnn_unscaled_forecast = x_train_scaler_2.inverse_transform(rnn_forecast.reshape(-1,1)).flatten()\n",
        "rnn_unscaled_forecast.shape"
      ],
      "metadata": {
        "colab": {
          "base_uri": "https://localhost:8080/"
        },
        "id": "goGBHSTCPDbZ",
        "outputId": "41464b77-a94b-44f2-fd72-4ca58f899734"
      },
      "execution_count": null,
      "outputs": [
        {
          "output_type": "execute_result",
          "data": {
            "text/plain": [
              "(1354,)"
            ]
          },
          "metadata": {},
          "execution_count": 43
        }
      ]
    },
    {
      "cell_type": "code",
      "source": [
        "# plot results\n",
        "plt.figure(figsize=(10,6))\n",
        "\n",
        "plt.ylabel('Dollars $')\n",
        "plt.xlabel('Timestep in Days')\n",
        "plt.title(f'LSTM {window_size} Forecast')\n",
        "plot_series(list(range(7)), normalized_x_test_2[:7], label=\"Actual\")\n",
        "plot_series(list(range(7)), rnn_unscaled_forecast[:7], label=\"Forecast\")\n",
        "plt.show()"
      ],
      "metadata": {
        "colab": {
          "base_uri": "https://localhost:8080/",
          "height": 410
        },
        "id": "kmh4jaIZMBPl",
        "outputId": "303be99c-73d3-49aa-8454-289c01c24bae"
      },
      "execution_count": null,
      "outputs": [
        {
          "output_type": "display_data",
          "data": {
            "text/plain": [
              "<Figure size 720x432 with 1 Axes>"
            ],
            "image/png": "[encoded data removed]"
          },
          "metadata": {}
        }
      ]
    },
    {
      "cell_type": "code",
      "source": [],
      "metadata": {
        "id": "wk0Znl36PFSi"
      },
      "execution_count": null,
      "outputs": []
    },
    {
      "cell_type": "code",
      "source": [],
      "metadata": {
        "id": "pZI-AxuOZBal"
      },
      "execution_count": null,
      "outputs": []
    },
    {
      "cell_type": "markdown",
      "source": [
        "## Create functions"
      ],
      "metadata": {
        "id": "Snx1L008YrBs"
      }
    },
    {
      "cell_type": "code",
      "source": [
        "ticker = \"CRISIL\"\n",
        "data = yf.download(ticker + '.ns', group_by=\"ticker\", start = '1990-01-01', end = '2022-12-01')\n",
        "\n",
        "data['Date'] = data.index\n",
        "data['ticker'] = ticker \n",
        "data.reset_index(drop=True, inplace=True)\n",
        "\n"
      ],
      "metadata": {
        "colab": {
          "base_uri": "https://localhost:8080/"
        },
        "id": "lnA5WYTvZNfn",
        "outputId": "50c4c79e-96f8-4513-9891-051bb527033c"
      },
      "execution_count": null,
      "outputs": [
        {
          "output_type": "stream",
          "name": "stdout",
          "text": [
            "\r[*********************100%***********************]  1 of 1 completed\n"
          ]
        }
      ]
    },
    {
      "cell_type": "code",
      "source": [
        "def split_data(filename):\n",
        "  spy = pd.read_csv(filename)\n",
        "\n",
        "  # Convert series into datetime type\n",
        "  spy['Date'] = pd.to_datetime(spy['Date'])\n",
        "\n",
        "  # Save target series\n",
        "  series = spy['Close']\n",
        "    \n",
        "  # Create train data set\n",
        "  train_split_date = spy.iloc[int(0.7*len(spy))]['Date']\n",
        "  train_split_index = np.where(spy.Date == train_split_date)[0][0]\n",
        "  x_train = spy.loc[spy['Date'] <= train_split_date]['Close']\n",
        "\n",
        "  # Create test data set\n",
        "  test_split_date = spy.iloc[int(0.8*len(spy))]['Date']\n",
        "  test_split_index = np.where(spy.Date == test_split_date)[0][0]\n",
        "  x_test = spy.loc[spy['Date'] >= test_split_date]['Close']\n",
        "\n",
        "  # Create valid data set\n",
        "  valid_split_index = (train_split_index.max(),test_split_index.min())\n",
        "  x_valid = spy.loc[(spy['Date'] < test_split_date) & (spy['Date'] > train_split_date)]['Close']\n",
        "\n",
        "  # Reshape values\n",
        "  x_train_values = x_train.values.reshape(-1, 1)\n",
        "  x_valid_values = x_valid.values.reshape(-1, 1)\n",
        "  x_test_values = x_test.values.reshape(-1, 1)\n",
        "\n",
        "  #  Create Scaler Object\n",
        "  x_train_scaler = MinMaxScaler(feature_range=(0, 1))\n",
        "\n",
        "  # Fit x_train values\n",
        "  normalized_x_train = x_train_scaler.fit_transform(x_train_values)\n",
        "\n",
        "  # Fit x_valid values\n",
        "  normalized_x_valid = x_train_scaler.transform(x_valid_values)\n",
        "\n",
        "  # Fit x_test values\n",
        "  normalized_x_test = x_train_scaler.transform(x_test_values)\n",
        "\n",
        "  # All values normalized to training data\n",
        "  spy_normalized_to_traindata = x_train_scaler.transform(series.values.reshape(-1, 1))\n",
        "  return normalized_x_train, normalized_x_valid, normalized_x_test, x_train_scaler, x_test_values"
      ],
      "metadata": {
        "id": "bZWE7s0-Yzpn"
      },
      "execution_count": null,
      "outputs": []
    },
    {
      "cell_type": "code",
      "source": [
        "filename = 'ticker_'+ticker+'.csv'"
      ],
      "metadata": {
        "id": "0drEW5PfZert"
      },
      "execution_count": null,
      "outputs": []
    },
    {
      "cell_type": "code",
      "source": [
        "normalized_x_train_2, normalized_x_valid_2, normalized_x_test_2, x_train_scaler_2 , x_test_values_2 = split_data(filename)\n",
        "\n",
        "# set window size and create input batch sequence\n",
        "window_size = 30\n",
        "train_set_2 = sequential_window_dataset(normalized_x_train_2, window_size)\n",
        "valid_set_2 = sequential_window_dataset(normalized_x_valid_2, window_size)"
      ],
      "metadata": {
        "id": "ulMmd7oJZk2U"
      },
      "execution_count": null,
      "outputs": []
    },
    {
      "cell_type": "code",
      "source": [
        "model_checkpoint = keras.callbacks.ModelCheckpoint(\n",
        "    \"ticker_\"+ticker+\"_checkpoint\", save_best_only=True)\n",
        "model = keras.models.load_model(\"ticker_\"+ticker+\"_checkpoint\")\n",
        "model.fit(train_set_2, epochs=500, verbose=10,\n",
        "          validation_data=valid_set_2,\n",
        "          callbacks=[early_stopping, model_checkpoint, reset_states])"
      ],
      "metadata": {
        "id": "MrpKSW2daiYx"
      },
      "execution_count": null,
      "outputs": []
    },
    {
      "cell_type": "code",
      "source": [
        "\n",
        "# make predictions\n",
        "rnn_forecast = model.predict(normalized_x_test_2[np.newaxis,:])\n",
        "rnn_forecast = rnn_forecast.flatten()\n",
        "\n",
        "# Example of how to iverse\n",
        "rnn_unscaled_forecast = x_train_scaler_2.inverse_transform(rnn_forecast.reshape(-1,1)).flatten()\n",
        "rnn_unscaled_forecast.shape"
      ],
      "metadata": {
        "colab": {
          "base_uri": "https://localhost:8080/"
        },
        "id": "Og-9C2YOZ0Lq",
        "outputId": "b01af5c7-e34c-4c68-c7bb-36386776b5f5"
      },
      "execution_count": null,
      "outputs": [
        {
          "output_type": "stream",
          "name": "stdout",
          "text": [
            "1/1 [==============================] - 1s 634ms/step\n"
          ]
        },
        {
          "output_type": "execute_result",
          "data": {
            "text/plain": [
              "(1016,)"
            ]
          },
          "metadata": {},
          "execution_count": 57
        }
      ]
    },
    {
      "cell_type": "code",
      "source": [
        "show_forecast = 30\n",
        "# plot results\n",
        "plt.figure(figsize=(10,6))\n",
        "\n",
        "plt.ylabel('Dollars $')\n",
        "plt.xlabel('Timestep in Days')\n",
        "plt.title(f'LSTM {window_size} Forecast')\n",
        "plot_series(list(range(show_forecast)), x_test_values_2[:show_forecast], label=\"Actual\")\n",
        "plot_series(list(range(show_forecast)), rnn_unscaled_forecast[:show_forecast], label=\"Forecast\")\n",
        "plt.show()"
      ],
      "metadata": {
        "colab": {
          "base_uri": "https://localhost:8080/",
          "height": 410
        },
        "id": "IIXt6NFeZ9UI",
        "outputId": "bdc67d41-9230-4811-ea22-28d1478f50e5"
      },
      "execution_count": null,
      "outputs": [
        {
          "output_type": "display_data",
          "data": {
            "text/plain": [
              "<Figure size 720x432 with 1 Axes>"
            ],
            "image/png": "[encoded data removed]"
          },
          "metadata": {}
        }
      ]
    },
    {
      "cell_type": "code",
      "source": [
        "def sequential_window_dataset_dummy(series, window_size):\n",
        "    ds = tf.data.Dataset.from_tensor_slices(series)\n",
        "    ds = ds.window(window_size + 1, shift=window_size, drop_remainder=True)\n",
        "    ds = ds.flat_map(lambda window: window.batch(window_size + 1))\n",
        "    ds = ds.map(lambda window: (window[:-1], window[1:]))\n",
        "    return ds.batch(2).prefetch(1)"
      ],
      "metadata": {
        "id": "9-XuD8NHaAau"
      },
      "execution_count": null,
      "outputs": []
    },
    {
      "cell_type": "code",
      "source": [],
      "metadata": {
        "colab": {
          "base_uri": "https://localhost:8080/",
          "height": 165
        },
        "id": "yx2hLxFaoV67",
        "outputId": "c30a6cf7-8727-4ec9-b089-a854fb533a6a"
      },
      "execution_count": null,
      "outputs": [
        {
          "output_type": "error",
          "ename": "TypeError",
          "evalue": "ignored",
          "traceback": [
            "\u001b[0;31m---------------------------------------------------------------------------\u001b[0m",
            "\u001b[0;31mTypeError\u001b[0m                                 Traceback (most recent call last)",
            "\u001b[0;32m<ipython-input-65-83a6394b1a79>\u001b[0m in \u001b[0;36m<module>\u001b[0;34m\u001b[0m\n\u001b[0;32m----> 1\u001b[0;31m \u001b[0mnp\u001b[0m\u001b[0;34m.\u001b[0m\u001b[0marray\u001b[0m\u001b[0;34m(\u001b[0m\u001b[0mlist\u001b[0m\u001b[0;34m[\u001b[0m\u001b[0mrange\u001b[0m\u001b[0;34m(\u001b[0m\u001b[0;36m0\u001b[0m\u001b[0;34m,\u001b[0m\u001b[0;36m30\u001b[0m\u001b[0;34m)\u001b[0m\u001b[0;34m]\u001b[0m\u001b[0;34m)\u001b[0m\u001b[0;34m.\u001b[0m\u001b[0mreshape\u001b[0m\u001b[0;34m(\u001b[0m\u001b[0;34m-\u001b[0m\u001b[0;36m1\u001b[0m\u001b[0;34m,\u001b[0m \u001b[0;36m1\u001b[0m\u001b[0;34m)\u001b[0m\u001b[0;34m\u001b[0m\u001b[0;34m\u001b[0m\u001b[0m\n\u001b[0m",
            "\u001b[0;31mTypeError\u001b[0m: 'type' object is not subscriptable"
          ]
        }
      ]
    },
    {
      "cell_type": "code",
      "source": [
        "sequential_window_dataset_dummy(pd.Series(list(range(30))).values.reshape(-1, 1), 7)"
      ],
      "metadata": {
        "colab": {
          "base_uri": "https://localhost:8080/"
        },
        "id": "BYrPQltQnXnC",
        "outputId": "60fa7e03-5480-4fd1-8d35-97504e010054"
      },
      "execution_count": null,
      "outputs": [
        {
          "output_type": "execute_result",
          "data": {
            "text/plain": [
              "<PrefetchDataset element_spec=(TensorSpec(shape=(None, None, 1), dtype=tf.int64, name=None), TensorSpec(shape=(None, None, 1), dtype=tf.int64, name=None))>"
            ]
          },
          "metadata": {},
          "execution_count": 66
        }
      ]
    },
    {
      "cell_type": "code",
      "source": [
        "window_size = 3"
      ],
      "metadata": {
        "id": "JRCrUCIHout_"
      },
      "execution_count": null,
      "outputs": []
    },
    {
      "cell_type": "code",
      "source": [
        "ds = tf.data.Dataset.from_tensor_slices(pd.Series(list(range(20))).values.reshape(-1, 1))\n",
        "ds = ds.window(window_size + 1, shift=window_size, drop_remainder=True)\n",
        "ds = ds.flat_map(lambda window: window.batch(window_size + 1))\n",
        "ds = ds.map(lambda window: (window[:-1], window[1:]))\n",
        "d = ds.batch(2).prefetch(1)"
      ],
      "metadata": {
        "id": "ApMP6Zl9nmPh"
      },
      "execution_count": null,
      "outputs": []
    },
    {
      "cell_type": "code",
      "source": [
        "type(d)"
      ],
      "metadata": {
        "colab": {
          "base_uri": "https://localhost:8080/"
        },
        "id": "5AmQ9DJjo0Bq",
        "outputId": "8acbb299-e64c-4b14-cf8c-a762ff394cc5"
      },
      "execution_count": null,
      "outputs": [
        {
          "output_type": "execute_result",
          "data": {
            "text/plain": [
              "tensorflow.python.data.ops.dataset_ops.PrefetchDataset"
            ]
          },
          "metadata": {},
          "execution_count": 80
        }
      ]
    },
    {
      "cell_type": "code",
      "source": [
        "list(d.as_numpy_iterator())"
      ],
      "metadata": {
        "colab": {
          "base_uri": "https://localhost:8080/"
        },
        "id": "LJSZ_RfOo7o9",
        "outputId": "ae2573eb-f4e8-4f96-f72b-7a9d14df34c7"
      },
      "execution_count": null,
      "outputs": [
        {
          "output_type": "execute_result",
          "data": {
            "text/plain": [
              "[(array([[[0],\n",
              "          [1],\n",
              "          [2]],\n",
              "  \n",
              "         [[3],\n",
              "          [4],\n",
              "          [5]]]), array([[[1],\n",
              "          [2],\n",
              "          [3]],\n",
              "  \n",
              "         [[4],\n",
              "          [5],\n",
              "          [6]]])), (array([[[ 6],\n",
              "          [ 7],\n",
              "          [ 8]],\n",
              "  \n",
              "         [[ 9],\n",
              "          [10],\n",
              "          [11]]]), array([[[ 7],\n",
              "          [ 8],\n",
              "          [ 9]],\n",
              "  \n",
              "         [[10],\n",
              "          [11],\n",
              "          [12]]])), (array([[[12],\n",
              "          [13],\n",
              "          [14]],\n",
              "  \n",
              "         [[15],\n",
              "          [16],\n",
              "          [17]]]), array([[[13],\n",
              "          [14],\n",
              "          [15]],\n",
              "  \n",
              "         [[16],\n",
              "          [17],\n",
              "          [18]]]))]"
            ]
          },
          "metadata": {},
          "execution_count": 81
        }
      ]
    },
    {
      "cell_type": "code",
      "source": [
        "\n",
        "# create model\n",
        "model = keras.models.Sequential([\n",
        "  keras.layers.LSTM(100, return_sequences=True, stateful=True,\n",
        "                         batch_input_shape=[2, None, 1]),\n",
        "  keras.layers.LSTM(100, return_sequences=True, stateful=True),\n",
        "  keras.layers.Dense(1),\n",
        "])\n",
        "\n",
        "# set optimizer\n",
        "optimizer = keras.optimizers.Nadam(lr=1e-3)\n",
        "\n",
        "# compile model\n",
        "model.compile(loss=keras.losses.Huber(),\n",
        "              optimizer=optimizer,\n",
        "              metrics=[\"mae\"])\n",
        "\n",
        "# reset states\n",
        "reset_states = ResetStatesCallback()\n",
        "\n",
        "#set up save best only checkpoint\n",
        "model_checkpoint = keras.callbacks.ModelCheckpoint(\n",
        "    \"fake_check\", save_best_only=True)\n",
        "\n",
        "early_stopping = keras.callbacks.EarlyStopping(patience=50)\n",
        "\n",
        "# fit model\n",
        "model.fit(d, epochs=3,\n",
        "          validation_data=d,\n",
        "          callbacks=[early_stopping, reset_states])"
      ],
      "metadata": {
        "colab": {
          "base_uri": "https://localhost:8080/"
        },
        "id": "b2mTSZ0cqJUz",
        "outputId": "e91bb714-6a99-49d7-d5f2-8c0c1345b664"
      },
      "execution_count": null,
      "outputs": [
        {
          "output_type": "stream",
          "name": "stdout",
          "text": [
            "Epoch 1/3\n",
            "3/3 [==============================] - 3s 374ms/step - loss: 8.6698 - mae: 9.1698 - val_loss: 7.3502 - val_mae: 7.8281\n",
            "Epoch 2/3\n",
            "3/3 [==============================] - 0s 23ms/step - loss: 8.1361 - mae: 8.6361 - val_loss: 6.0199 - val_mae: 6.4969\n",
            "Epoch 3/3\n",
            "3/3 [==============================] - 0s 22ms/step - loss: 7.4903 - mae: 7.9903 - val_loss: 4.6752 - val_mae: 5.1444\n"
          ]
        },
        {
          "output_type": "execute_result",
          "data": {
            "text/plain": [
              "<keras.callbacks.History at 0x7fd67509ba00>"
            ]
          },
          "metadata": {},
          "execution_count": 85
        }
      ]
    },
    {
      "cell_type": "code",
      "source": [
        "## TEST successful"
      ],
      "metadata": {
        "id": "t_ZOlQZrrv5o"
      },
      "execution_count": null,
      "outputs": []
    },
    {
      "cell_type": "code",
      "source": [
        "## let's test the model for increased batch size\n",
        "\n"
      ],
      "metadata": {
        "id": "U-XFOZ3QsGd_"
      },
      "execution_count": null,
      "outputs": []
    },
    {
      "cell_type": "code",
      "source": [
        "def sequential_window_dataset_new(series, window_size, batch_size = 2):\n",
        "    ds = tf.data.Dataset.from_tensor_slices(series)\n",
        "    ds = ds.window(window_size + 1, shift=window_size, drop_remainder=True)\n",
        "    ds = ds.flat_map(lambda window: window.batch(window_size + 1))\n",
        "    ds = ds.map(lambda window: (window[:-1], window[1:]))\n",
        "    return ds.batch(batch_size).prefetch(1)"
      ],
      "metadata": {
        "id": "kntWWHNls6yd"
      },
      "execution_count": null,
      "outputs": []
    },
    {
      "cell_type": "code",
      "source": [],
      "metadata": {
        "id": "3mejyhGSwurR"
      },
      "execution_count": null,
      "outputs": []
    },
    {
      "cell_type": "code",
      "source": [],
      "metadata": {
        "id": "HPX8q5Khwuc2"
      },
      "execution_count": null,
      "outputs": []
    },
    {
      "cell_type": "code",
      "source": [
        "ticker = \"CRISIL\"\n",
        "data = yf.download(ticker + '.ns', group_by=\"ticker\", start = '1990-01-01', end = '2022-12-01')\n",
        "\n",
        "data['Date'] = data.index\n",
        "data['ticker'] = ticker \n",
        "data.reset_index(drop=True, inplace=True)"
      ],
      "metadata": {
        "colab": {
          "base_uri": "https://localhost:8080/"
        },
        "id": "e8Tyq7fxtEvq",
        "outputId": "86bda4b4-753c-4888-d5f1-b5f54099aff7"
      },
      "execution_count": null,
      "outputs": [
        {
          "output_type": "stream",
          "name": "stdout",
          "text": [
            "\r[*********************100%***********************]  1 of 1 completed\n"
          ]
        }
      ]
    },
    {
      "cell_type": "code",
      "source": [],
      "metadata": {
        "id": "GcWNR8vgvtCA"
      },
      "execution_count": null,
      "outputs": []
    },
    {
      "cell_type": "code",
      "source": [
        "page = pd.read_html(\"https://en.wikipedia.org/wiki/List_of_companies_listed_on_the_National_Stock_Exchange_of_India\")\n",
        "type(page[1])"
      ],
      "metadata": {
        "colab": {
          "base_uri": "https://localhost:8080/"
        },
        "id": "8Qh1X3FdtsVn",
        "outputId": "c15daf4f-656a-4f81-f7da-3fc0d4199112"
      },
      "execution_count": null,
      "outputs": [
        {
          "output_type": "execute_result",
          "data": {
            "text/plain": [
              "pandas.core.frame.DataFrame"
            ]
          },
          "metadata": {},
          "execution_count": 91
        }
      ]
    },
    {
      "cell_type": "code",
      "source": [
        "df = pd.DataFrame()\n",
        "for p in page:\n",
        "  #print(p)\n",
        "  #user_input = input(\"y/n\")\n",
        "  if \"Symbol\" in p.columns:\n",
        "    df = pd.concat([df,p], axis = 0)\n",
        "    print(df.shape)"
      ],
      "metadata": {
        "colab": {
          "base_uri": "https://localhost:8080/"
        },
        "id": "8bm9qudotuPH",
        "outputId": "2c1ed7a7-76c8-4370-d08b-cfd0a6a0ff07"
      },
      "execution_count": null,
      "outputs": [
        {
          "output_type": "stream",
          "name": "stdout",
          "text": [
            "(8, 2)\n",
            "(177, 2)\n",
            "(277, 2)\n",
            "(368, 2)\n",
            "(432, 2)\n",
            "(482, 2)\n",
            "(506, 2)\n",
            "(614, 2)\n",
            "(678, 2)\n",
            "(766, 2)\n",
            "(824, 2)\n",
            "(892, 2)\n",
            "(930, 2)\n",
            "(1056, 2)\n",
            "(1118, 2)\n",
            "(1157, 2)\n",
            "(1257, 2)\n",
            "(1259, 2)\n",
            "(1333, 2)\n",
            "(1557, 2)\n",
            "(1680, 2)\n",
            "(1713, 2)\n",
            "(1767, 2)\n",
            "(1789, 2)\n",
            "(1792, 2)\n",
            "(1793, 2)\n",
            "(1808, 2)\n"
          ]
        }
      ]
    },
    {
      "cell_type": "code",
      "source": [
        "def get_sym(symbol):\n",
        "  return str(symbol).split()[-1]\n",
        "\n",
        "df['stock_sym'] = df['Symbol'].apply(get_sym)"
      ],
      "metadata": {
        "id": "Gq1l9xWWuxSQ"
      },
      "execution_count": null,
      "outputs": []
    },
    {
      "cell_type": "code",
      "source": [
        "df = df.reset_index(drop=True)\n"
      ],
      "metadata": {
        "id": "0chn_A77u4cZ"
      },
      "execution_count": null,
      "outputs": []
    },
    {
      "cell_type": "code",
      "source": [
        "for ticker in df['stock_sym'].to_list():\n",
        "    try:\n",
        "      data = yf.download(ticker + '.ns', group_by=\"ticker\", start = '1990-01-01', end = '2022-12-01')\n",
        "      if len(data) < 600:\n",
        "        print(ticker)\n",
        "        continue\n",
        "      data['Date'] = data.index\n",
        "      data['ticker'] = ticker  # add this column because the dataframe doesn't contain a column with the ticker\n",
        "      data.to_csv(f'ticker_{ticker}.csv', index = False)  #\n",
        "    except:\n",
        "      print(ticker)"
      ],
      "metadata": {
        "id": "V6azdcePu9Z0"
      },
      "execution_count": null,
      "outputs": []
    },
    {
      "cell_type": "markdown",
      "source": [
        "## create classes\n"
      ],
      "metadata": {
        "id": "4dY1FUlPYFqD"
      }
    },
    {
      "cell_type": "code",
      "source": [
        "! pip install yfinance\n"
      ],
      "metadata": {
        "colab": {
          "base_uri": "https://localhost:8080/"
        },
        "id": "6iMFPXPQzKOx",
        "outputId": "a75aa67b-a034-4c08-d17c-67b25694f3a4"
      },
      "execution_count": 1,
      "outputs": [
        {
          "output_type": "stream",
          "name": "stdout",
          "text": [
            "Looking in indexes: https://pypi.org/simple, https://us-python.pkg.dev/colab-wheels/public/simple/\n",
            "Collecting yfinance\n",
            "  Downloading yfinance-0.1.93-py2.py3-none-any.whl (31 kB)\n",
            "Requirement already satisfied: lxml>=4.9.1 in /usr/local/lib/python3.8/dist-packages (from yfinance) (4.9.2)\n",
            "Collecting requests>=2.26\n",
            "  Downloading requests-2.28.1-py3-none-any.whl (62 kB)\n",
            "\u001b[K     |████████████████████████████████| 62 kB 2.0 MB/s \n",
            "\u001b[?25hRequirement already satisfied: multitasking>=0.0.7 in /usr/local/lib/python3.8/dist-packages (from yfinance) (0.0.11)\n",
            "Requirement already satisfied: appdirs>=1.4.4 in /usr/local/lib/python3.8/dist-packages (from yfinance) (1.4.4)\n",
            "Requirement already satisfied: numpy>=1.16.5 in /usr/local/lib/python3.8/dist-packages (from yfinance) (1.21.6)\n",
            "Collecting cryptography>=3.3.2\n",
            "  Downloading cryptography-38.0.4-cp36-abi3-manylinux_2_24_x86_64.whl (4.0 MB)\n",
            "\u001b[K     |████████████████████████████████| 4.0 MB 73.4 MB/s \n",
            "\u001b[?25hRequirement already satisfied: pandas>=1.3.0 in /usr/local/lib/python3.8/dist-packages (from yfinance) (1.3.5)\n",
            "Requirement already satisfied: cffi>=1.12 in /usr/local/lib/python3.8/dist-packages (from cryptography>=3.3.2->yfinance) (1.15.1)\n",
            "Requirement already satisfied: pycparser in /usr/local/lib/python3.8/dist-packages (from cffi>=1.12->cryptography>=3.3.2->yfinance) (2.21)\n",
            "Requirement already satisfied: python-dateutil>=2.7.3 in /usr/local/lib/python3.8/dist-packages (from pandas>=1.3.0->yfinance) (2.8.2)\n",
            "Requirement already satisfied: pytz>=2017.3 in /usr/local/lib/python3.8/dist-packages (from pandas>=1.3.0->yfinance) (2022.6)\n",
            "Requirement already satisfied: six>=1.5 in /usr/local/lib/python3.8/dist-packages (from python-dateutil>=2.7.3->pandas>=1.3.0->yfinance) (1.15.0)\n",
            "Requirement already satisfied: urllib3<1.27,>=1.21.1 in /usr/local/lib/python3.8/dist-packages (from requests>=2.26->yfinance) (1.24.3)\n",
            "Requirement already satisfied: certifi>=2017.4.17 in /usr/local/lib/python3.8/dist-packages (from requests>=2.26->yfinance) (2022.12.7)\n",
            "Requirement already satisfied: idna<4,>=2.5 in /usr/local/lib/python3.8/dist-packages (from requests>=2.26->yfinance) (2.10)\n",
            "Requirement already satisfied: charset-normalizer<3,>=2 in /usr/local/lib/python3.8/dist-packages (from requests>=2.26->yfinance) (2.1.1)\n",
            "Installing collected packages: requests, cryptography, yfinance\n",
            "  Attempting uninstall: requests\n",
            "    Found existing installation: requests 2.23.0\n",
            "    Uninstalling requests-2.23.0:\n",
            "      Successfully uninstalled requests-2.23.0\n",
            "Successfully installed cryptography-38.0.4 requests-2.28.1 yfinance-0.1.93\n"
          ]
        }
      ]
    },
    {
      "cell_type": "code",
      "source": [
        "!pip install tensorflow"
      ],
      "metadata": {
        "colab": {
          "base_uri": "https://localhost:8080/"
        },
        "id": "bT_1SjDsMYHq",
        "outputId": "9b9900eb-9bdc-41f1-8acf-51693c8b4908"
      },
      "execution_count": 2,
      "outputs": [
        {
          "output_type": "stream",
          "name": "stdout",
          "text": [
            "Looking in indexes: https://pypi.org/simple, https://us-python.pkg.dev/colab-wheels/public/simple/\n",
            "Requirement already satisfied: tensorflow in /usr/local/lib/python3.8/dist-packages (2.9.2)\n",
            "Requirement already satisfied: h5py>=2.9.0 in /usr/local/lib/python3.8/dist-packages (from tensorflow) (3.1.0)\n",
            "Requirement already satisfied: grpcio<2.0,>=1.24.3 in /usr/local/lib/python3.8/dist-packages (from tensorflow) (1.51.1)\n",
            "Requirement already satisfied: tensorflow-estimator<2.10.0,>=2.9.0rc0 in /usr/local/lib/python3.8/dist-packages (from tensorflow) (2.9.0)\n",
            "Requirement already satisfied: opt-einsum>=2.3.2 in /usr/local/lib/python3.8/dist-packages (from tensorflow) (3.3.0)\n",
            "Requirement already satisfied: protobuf<3.20,>=3.9.2 in /usr/local/lib/python3.8/dist-packages (from tensorflow) (3.19.6)\n",
            "Requirement already satisfied: astunparse>=1.6.0 in /usr/local/lib/python3.8/dist-packages (from tensorflow) (1.6.3)\n",
            "Requirement already satisfied: wrapt>=1.11.0 in /usr/local/lib/python3.8/dist-packages (from tensorflow) (1.14.1)\n",
            "Requirement already satisfied: absl-py>=1.0.0 in /usr/local/lib/python3.8/dist-packages (from tensorflow) (1.3.0)\n",
            "Requirement already satisfied: keras-preprocessing>=1.1.1 in /usr/local/lib/python3.8/dist-packages (from tensorflow) (1.1.2)\n",
            "Requirement already satisfied: libclang>=13.0.0 in /usr/local/lib/python3.8/dist-packages (from tensorflow) (14.0.6)\n",
            "Requirement already satisfied: numpy>=1.20 in /usr/local/lib/python3.8/dist-packages (from tensorflow) (1.21.6)\n",
            "Requirement already satisfied: termcolor>=1.1.0 in /usr/local/lib/python3.8/dist-packages (from tensorflow) (2.1.1)\n",
            "Requirement already satisfied: tensorflow-io-gcs-filesystem>=0.23.1 in /usr/local/lib/python3.8/dist-packages (from tensorflow) (0.28.0)\n",
            "Requirement already satisfied: packaging in /usr/local/lib/python3.8/dist-packages (from tensorflow) (21.3)\n",
            "Requirement already satisfied: six>=1.12.0 in /usr/local/lib/python3.8/dist-packages (from tensorflow) (1.15.0)\n",
            "Requirement already satisfied: setuptools in /usr/local/lib/python3.8/dist-packages (from tensorflow) (57.4.0)\n",
            "Requirement already satisfied: flatbuffers<2,>=1.12 in /usr/local/lib/python3.8/dist-packages (from tensorflow) (1.12)\n",
            "Requirement already satisfied: typing-extensions>=3.6.6 in /usr/local/lib/python3.8/dist-packages (from tensorflow) (4.4.0)\n",
            "Requirement already satisfied: keras<2.10.0,>=2.9.0rc0 in /usr/local/lib/python3.8/dist-packages (from tensorflow) (2.9.0)\n",
            "Requirement already satisfied: gast<=0.4.0,>=0.2.1 in /usr/local/lib/python3.8/dist-packages (from tensorflow) (0.4.0)\n",
            "Requirement already satisfied: tensorboard<2.10,>=2.9 in /usr/local/lib/python3.8/dist-packages (from tensorflow) (2.9.1)\n",
            "Requirement already satisfied: google-pasta>=0.1.1 in /usr/local/lib/python3.8/dist-packages (from tensorflow) (0.2.0)\n",
            "Requirement already satisfied: wheel<1.0,>=0.23.0 in /usr/local/lib/python3.8/dist-packages (from astunparse>=1.6.0->tensorflow) (0.38.4)\n",
            "Requirement already satisfied: werkzeug>=1.0.1 in /usr/local/lib/python3.8/dist-packages (from tensorboard<2.10,>=2.9->tensorflow) (1.0.1)\n",
            "Requirement already satisfied: requests<3,>=2.21.0 in /usr/local/lib/python3.8/dist-packages (from tensorboard<2.10,>=2.9->tensorflow) (2.28.1)\n",
            "Requirement already satisfied: markdown>=2.6.8 in /usr/local/lib/python3.8/dist-packages (from tensorboard<2.10,>=2.9->tensorflow) (3.4.1)\n",
            "Requirement already satisfied: tensorboard-data-server<0.7.0,>=0.6.0 in /usr/local/lib/python3.8/dist-packages (from tensorboard<2.10,>=2.9->tensorflow) (0.6.1)\n",
            "Requirement already satisfied: google-auth<3,>=1.6.3 in /usr/local/lib/python3.8/dist-packages (from tensorboard<2.10,>=2.9->tensorflow) (2.15.0)\n",
            "Requirement already satisfied: google-auth-oauthlib<0.5,>=0.4.1 in /usr/local/lib/python3.8/dist-packages (from tensorboard<2.10,>=2.9->tensorflow) (0.4.6)\n",
            "Requirement already satisfied: tensorboard-plugin-wit>=1.6.0 in /usr/local/lib/python3.8/dist-packages (from tensorboard<2.10,>=2.9->tensorflow) (1.8.1)\n",
            "Requirement already satisfied: rsa<5,>=3.1.4 in /usr/local/lib/python3.8/dist-packages (from google-auth<3,>=1.6.3->tensorboard<2.10,>=2.9->tensorflow) (4.9)\n",
            "Requirement already satisfied: cachetools<6.0,>=2.0.0 in /usr/local/lib/python3.8/dist-packages (from google-auth<3,>=1.6.3->tensorboard<2.10,>=2.9->tensorflow) (5.2.0)\n",
            "Requirement already satisfied: pyasn1-modules>=0.2.1 in /usr/local/lib/python3.8/dist-packages (from google-auth<3,>=1.6.3->tensorboard<2.10,>=2.9->tensorflow) (0.2.8)\n",
            "Requirement already satisfied: requests-oauthlib>=0.7.0 in /usr/local/lib/python3.8/dist-packages (from google-auth-oauthlib<0.5,>=0.4.1->tensorboard<2.10,>=2.9->tensorflow) (1.3.1)\n",
            "Requirement already satisfied: importlib-metadata>=4.4 in /usr/local/lib/python3.8/dist-packages (from markdown>=2.6.8->tensorboard<2.10,>=2.9->tensorflow) (5.1.0)\n",
            "Requirement already satisfied: zipp>=0.5 in /usr/local/lib/python3.8/dist-packages (from importlib-metadata>=4.4->markdown>=2.6.8->tensorboard<2.10,>=2.9->tensorflow) (3.11.0)\n",
            "Requirement already satisfied: pyasn1<0.5.0,>=0.4.6 in /usr/local/lib/python3.8/dist-packages (from pyasn1-modules>=0.2.1->google-auth<3,>=1.6.3->tensorboard<2.10,>=2.9->tensorflow) (0.4.8)\n",
            "Requirement already satisfied: charset-normalizer<3,>=2 in /usr/local/lib/python3.8/dist-packages (from requests<3,>=2.21.0->tensorboard<2.10,>=2.9->tensorflow) (2.1.1)\n",
            "Requirement already satisfied: certifi>=2017.4.17 in /usr/local/lib/python3.8/dist-packages (from requests<3,>=2.21.0->tensorboard<2.10,>=2.9->tensorflow) (2022.12.7)\n",
            "Requirement already satisfied: idna<4,>=2.5 in /usr/local/lib/python3.8/dist-packages (from requests<3,>=2.21.0->tensorboard<2.10,>=2.9->tensorflow) (2.10)\n",
            "Requirement already satisfied: urllib3<1.27,>=1.21.1 in /usr/local/lib/python3.8/dist-packages (from requests<3,>=2.21.0->tensorboard<2.10,>=2.9->tensorflow) (1.24.3)\n",
            "Requirement already satisfied: oauthlib>=3.0.0 in /usr/local/lib/python3.8/dist-packages (from requests-oauthlib>=0.7.0->google-auth-oauthlib<0.5,>=0.4.1->tensorboard<2.10,>=2.9->tensorflow) (3.2.2)\n",
            "Requirement already satisfied: pyparsing!=3.0.5,>=2.0.2 in /usr/local/lib/python3.8/dist-packages (from packaging->tensorflow) (3.0.9)\n"
          ]
        }
      ]
    },
    {
      "cell_type": "code",
      "source": [
        "import numpy as np\n",
        "import pandas as pd\n",
        "import matplotlib.pyplot as plt\n",
        "import tensorflow as tf\n",
        "import seaborn as sns\n",
        "import yfinance as yf\n",
        "import random\n",
        "from sklearn.preprocessing import MinMaxScaler\n",
        "\n",
        "keras = tf.keras\n",
        "\n",
        "# set style of charts\n",
        "sns.set(style=\"darkgrid\")\n",
        "plt.rcParams['figure.figsize'] = [10, 10]\n",
        "\n",
        "keras.backend.clear_session()\n",
        "tf.random.set_seed(42)\n",
        "np.random.seed(42)"
      ],
      "metadata": {
        "id": "dQ5UEVZcvwPm"
      },
      "execution_count": 3,
      "outputs": []
    },
    {
      "cell_type": "code",
      "source": [
        "window_size = 26\n",
        "\n",
        "ticker = \"RELIANCE\"\n",
        "data = yf.download(ticker + '.ns', group_by=\"ticker\", start = '1990-01-01', end = '2022-12-01')\n",
        "\n",
        "data['Date'] = data.index\n",
        "data['ticker'] = ticker \n",
        "data.reset_index(drop=True, inplace=True)\n",
        "data['Date'] = pd.to_datetime(data['Date'])\n",
        "\n",
        "# Save target series\n",
        "series = data['Close']\n",
        "  \n",
        "# Create train data set\n",
        "train_split_date = data.iloc[int(0.85*len(data))]['Date']\n",
        "train_split_index = np.where(data.Date == train_split_date)[0][0]\n",
        "x_train = data.loc[data['Date'] <= train_split_date]['Close']\n",
        "\n",
        "# Create test data set\n",
        "test_split_date = data.iloc[int(0.95*len(data))]['Date']\n",
        "test_split_index = np.where(data.Date == test_split_date)[0][0]\n",
        "x_test = data.loc[data['Date'] >= test_split_date]['Close']\n",
        "\n",
        "# Create valid data set\n",
        "valid_split_index = (train_split_index.max(),test_split_index.min())\n",
        "x_valid = data.loc[(data['Date'] < test_split_date) & (data['Date'] > train_split_date)]['Close']\n",
        "\n",
        "\n",
        "rem = len(x_train) % window_size\n",
        "print(rem)\n",
        "x_train = x_train[rem:]\n",
        "x_train.shape\n"
      ],
      "metadata": {
        "id": "3bhdq3bO1-_3"
      },
      "execution_count": null,
      "outputs": []
    },
    {
      "cell_type": "code",
      "source": [
        "from pandas.core import window\n",
        "from sklearn.preprocessing import StandardScaler\n",
        "class StockData():\n",
        "  def __init__(self, ticker, window_size = 26, batch_size = 1):\n",
        "    self.ticker = ticker\n",
        "    self.window_size = window_size\n",
        "    self.batch_size = batch_size\n",
        "\n",
        "\n",
        "  def sequential_window_dataset(self, series):\n",
        "    ds = tf.data.Dataset.from_tensor_slices(series)\n",
        "    ds = ds.window(self.window_size + 1, shift=self.window_size, drop_remainder=True)\n",
        "    ds = ds.flat_map(lambda window: window.batch(self.window_size + 1))\n",
        "    ds = ds.map(lambda window: (window[:-1], window[1:]))\n",
        "    return ds.repeat().batch(self.batch_size).prefetch(1)\n",
        "\n",
        "  def prepareData(self):\n",
        "    ticker = self.ticker\n",
        "    data = yf.download(ticker + '.ns', group_by=\"ticker\", start = '1990-01-01', end = '2022-12-01')\n",
        "\n",
        "    data['Date'] = data.index\n",
        "    data['ticker'] = ticker \n",
        "    data.reset_index(drop=True, inplace=True)\n",
        "    data['Date'] = pd.to_datetime(data['Date'])\n",
        "\n",
        "    # Save target series\n",
        "    series = data['Close']\n",
        "      \n",
        "    # Create train data set\n",
        "    train_split_date = data.iloc[int(0.85*len(data))]['Date']\n",
        "    train_split_index = np.where(data.Date == train_split_date)[0][0]\n",
        "    x_train = data.loc[data['Date'] <= train_split_date]['Close']\n",
        "\n",
        "    # Create test data set\n",
        "    test_split_date = data.iloc[int(0.95*len(data))]['Date']\n",
        "    test_split_index = np.where(data.Date == test_split_date)[0][0]\n",
        "    self.x_test = data.loc[data['Date'] >= test_split_date]['Close']\n",
        "    self.x_test_dates = data.loc[data['Date'] >= test_split_date]['Date']\n",
        "    # Create valid data set\n",
        "    valid_split_index = (train_split_index.max(),test_split_index.min())\n",
        "    x_valid = data.loc[(data['Date'] < test_split_date) & (data['Date'] > train_split_date)]['Close']\n",
        "\n",
        "    rem = len(x_train) % self.window_size\n",
        "    x_train = x_train[rem:]\n",
        "\n",
        "    rem = len(x_valid) % self.window_size\n",
        "    x_valid = x_valid[rem:]\n",
        "\n",
        "\n",
        "    # Reshape values\n",
        "    x_train_values = x_train.values.reshape(-1, 1)\n",
        "    x_valid_values = x_valid.values.reshape(-1, 1)\n",
        "    self.x_test_values = self.x_test.values.reshape(-1, 1)\n",
        "\n",
        "    #  Create Scaler Object\n",
        "    self.x_train_scaler = StandardScaler()\n",
        "\n",
        "    # Fit x_train values\n",
        "    self.normalized_x_train = self.x_train_scaler.fit_transform(x_train_values)\n",
        "\n",
        "    # Fit x_valid values\n",
        "    self.normalized_x_valid = self.x_train_scaler.transform(x_valid_values)\n",
        "\n",
        "    # Fit x_test values\n",
        "    self.normalized_x_test = self.x_train_scaler.transform(self.x_test_values)\n",
        "\n",
        "    self.steps_per_epoch = len(x_train)//self.batch_size\n",
        "\n",
        "    self.validation_steps = len(x_valid)//self.batch_size # if you have validation data \n",
        "    # All values normalized to training data\n",
        "    #data_normalized_to_traindata = x_train_scaler.transform(series.values.reshape(-1, 1))\n",
        "  def get_training_set(self):\n",
        "    self.train_set =  self.sequential_window_dataset(self.normalized_x_train)\n",
        "    return self.train_set\n",
        "  def get_validation_set(self):\n",
        "    self.validation_set =  self.sequential_window_dataset(self.normalized_x_valid)\n",
        "    return self.validation_set\n",
        "  def get_testing_set(self):\n",
        "    return self.normalized_x_test[np.newaxis,:]\n",
        "\n",
        "  def get_numpy_train_data(self):\n",
        "    return list(self.train_set.as_numpy_iterator())\n",
        "\n",
        "  def plot_series(self, time, series, format=\"-\", start=0, end=None, label=None):\n",
        "    plt.plot(time[start:end], series[start:end], format, label=label)\n",
        "    plt.xlabel(\"Time\")\n",
        "    plt.ylabel(\"Value\")\n",
        "    if label:\n",
        "        plt.legend(fontsize=14)\n",
        "    plt.grid(True)"
      ],
      "metadata": {
        "id": "YmxivE1UYIcW"
      },
      "execution_count": 4,
      "outputs": []
    },
    {
      "cell_type": "code",
      "source": [
        "class ResetStatesCallback(keras.callbacks.Callback):\n",
        "    def on_epoch_begin(self, epoch, logs):\n",
        "        self.model.reset_states()"
      ],
      "metadata": {
        "id": "45o6MA5cv-9i"
      },
      "execution_count": 5,
      "outputs": []
    },
    {
      "cell_type": "code",
      "source": [
        "class StockModel():\n",
        "  def __init__(self, lstm_nodes = [100, 100] , first_model = False, prev_ticker = \"\", ticker = \"\", window_size = 26, batch_size = 1):\n",
        "    self.lstm_nodes = lstm_nodes\n",
        "    self.prev_ticker = prev_ticker\n",
        "    self.ticker = ticker\n",
        "    self.batch_size = batch_size\n",
        "    self.window_size = window_size  \n",
        "    self.model_name = \"PrevTicker_\"+self.prev_ticker +\"_checkpoint_\"+str(self.window_size)+\"_BS_\"+str(self.batch_size)\n",
        "  \n",
        "    if first_model:\n",
        "\n",
        "      model_list = []\n",
        "      model_list.append(keras.layers.LSTM(self.lstm_nodes[0], return_sequences=True, stateful=True,\n",
        "                              batch_input_shape=[self.batch_size, None, 1]))\n",
        "      for nodes in lstm_nodes[1:]:\n",
        "        model_list.append(keras.layers.LSTM(nodes, return_sequences=True, stateful=True))\n",
        "        \n",
        "      \n",
        "      model_list.append(keras.layers.Dense(1))\n",
        "      self.model = keras.models.Sequential(model_list)\n",
        "      \n",
        "      # set optimizer\n",
        "      optimizer = keras.optimizers.Nadam(lr=1e-3)\n",
        "\n",
        "      # compile model\n",
        "      self.model.compile(loss=keras.losses.Huber(),\n",
        "                    optimizer=optimizer,\n",
        "                    metrics=[\"mae\"])\n",
        "    else:\n",
        "      self.model = keras.models.load_model(self.model_name)\n",
        "\n",
        "    self.Stockdata = StockData(self.ticker,self.window_size, self.batch_size)\n",
        "\n",
        "     \n",
        "  def prepare_data(self):\n",
        "    self.Stockdata.prepareData( )\n",
        "    self.training_set = self.Stockdata.get_training_set()\n",
        "    self.validation_set = self.Stockdata.get_validation_set()\n",
        "    self.test_set = self.Stockdata.get_testing_set()\n",
        "    self.steps_per_epoch = self.Stockdata.steps_per_epoch\n",
        "    self.validation_steps = self.Stockdata.steps_per_epoch\n",
        "\n",
        "  def train(self, epochs, patience):\n",
        "    self.model_name = \"PrevTicker_\"+self.ticker +\"_checkpoint_\"+str(self.window_size)+\"_BS_\"+str(self.batch_size)\n",
        "    # reset states\n",
        "    reset_states = ResetStatesCallback()\n",
        "    #set up save best only checkpoint\n",
        "    model_checkpoint = keras.callbacks.ModelCheckpoint(\n",
        "       self.model_name, save_best_only=True)\n",
        "\n",
        "    early_stopping = keras.callbacks.EarlyStopping(patience=patience)\n",
        "\n",
        "    # fit model\n",
        "    history = self.model.fit(self.training_set, epochs=epochs,\n",
        "        steps_per_epoch=self.steps_per_epoch,\n",
        "        validation_steps=self.validation_steps,\n",
        "              validation_data=self.validation_set,\n",
        "              callbacks=[early_stopping, model_checkpoint ,reset_states])\n",
        "    print(\"Training finished\")\n",
        "    self.model.save(self.model_name)\n",
        "    return history\n",
        "  def evaluate(self):\n",
        "    # make predictions\n",
        "    rnn_forecast = self.model.predict(self.test_set)\n",
        "    self.Stockdata.rnn_forecast = rnn_forecast.flatten()\n",
        "    self.Stockdata.rnn_unscaled_forecast = self.Stockdata.x_train_scaler.inverse_transform(self.Stockdata.rnn_forecast.reshape(-1,1)).flatten()\n",
        "\n",
        "  def show_result(self,start_win_size, offset):\n",
        "    # plot results\n",
        "    plt.figure(figsize=(10,6))\n",
        "\n",
        "    plt.ylabel('Rupees ')\n",
        "    plt.xlabel('Timestep in Days')\n",
        "    plt.title(f'LSTM { start_win_size } Forecast')\n",
        "    self.Stockdata.plot_series(self.Stockdata.x_test_dates[start_win_size:start_win_size + offset], self.Stockdata.x_test[start_win_size:start_win_size + offset], label=\"Actual\")\n",
        "    self.Stockdata.plot_series(self.Stockdata.x_test_dates[start_win_size:start_win_size + offset], self.Stockdata.rnn_unscaled_forecast[start_win_size :start_win_size + offset], label=\"Forecast\")\n",
        "    plt.show()\n",
        "  def load_current_model(self):\n",
        "    self.model = keras.models.load_model(\"PrevTicker_\"+self.prev_ticker +\"_checkpoint_\"+str(self.window_size)+\"_BS_\"+str(self.batch_size))\n",
        "\n",
        "  def show_train_data(self):\n",
        "    return self.Stockdata.get_numpy_train_data()\n",
        "\n",
        "  def save_model(self):\n",
        "    self.model.save(self.model_name)\n"
      ],
      "metadata": {
        "id": "eXJUQL9ea7ug"
      },
      "execution_count": 22,
      "outputs": []
    },
    {
      "cell_type": "code",
      "source": [
        "reliance_stock_model = StockModel(lstm_nodes = [100, 100] , first_model = True, prev_ticker = \"\", ticker = \"RELIANCE\", window_size = 30, batch_size = 1)"
      ],
      "metadata": {
        "colab": {
          "base_uri": "https://localhost:8080/"
        },
        "id": "ps98tzWjxUXz",
        "outputId": "e8a4f275-9ff5-4b60-e56c-4d93eda7c710"
      },
      "execution_count": null,
      "outputs": [
        {
          "output_type": "stream",
          "name": "stderr",
          "text": [
            "WARNING:absl:`lr` is deprecated, please use `learning_rate` instead, or use the legacy optimizer, e.g.,tf.keras.optimizers.legacy.Nadam.\n"
          ]
        }
      ]
    },
    {
      "cell_type": "code",
      "source": [
        "reliance_stock_model.prepare_data()\n"
      ],
      "metadata": {
        "colab": {
          "base_uri": "https://localhost:8080/"
        },
        "id": "jr3BI6Z2051Y",
        "outputId": "b87e79f7-46e1-40ea-96b9-e47c1a016ff0"
      },
      "execution_count": null,
      "outputs": [
        {
          "output_type": "stream",
          "name": "stdout",
          "text": [
            "\r[*********************100%***********************]  1 of 1 completed\n"
          ]
        }
      ]
    },
    {
      "cell_type": "code",
      "source": [],
      "metadata": {
        "id": "KgOVwrle2AjV"
      },
      "execution_count": null,
      "outputs": []
    },
    {
      "cell_type": "code",
      "source": [
        "reliance_stock_model.train(5,10) "
      ],
      "metadata": {
        "colab": {
          "base_uri": "https://localhost:8080/"
        },
        "id": "xfEnHeUIy-BW",
        "outputId": "cfdd3bfc-05fa-48ec-ed44-49f575a88962"
      },
      "execution_count": null,
      "outputs": [
        {
          "output_type": "stream",
          "name": "stdout",
          "text": [
            "Epoch 1/5\n",
            "4737/4738 [============================>.] - ETA: 0s - loss: 0.0031 - mae: 0.0384"
          ]
        },
        {
          "output_type": "stream",
          "name": "stderr",
          "text": [
            "WARNING:absl:Found untraced functions such as _update_step_xla, lstm_cell_22_layer_call_fn, lstm_cell_22_layer_call_and_return_conditional_losses, lstm_cell_23_layer_call_fn, lstm_cell_23_layer_call_and_return_conditional_losses while saving (showing 5 of 5). These functions will not be directly callable after loading.\n"
          ]
        },
        {
          "output_type": "stream",
          "name": "stdout",
          "text": [
            "INFO:tensorflow:Assets written to: ticker_RELIANCE_checkpoint_30_BS_1\\assets\n"
          ]
        },
        {
          "output_type": "stream",
          "name": "stderr",
          "text": [
            "INFO:tensorflow:Assets written to: ticker_RELIANCE_checkpoint_30_BS_1\\assets\n"
          ]
        },
        {
          "output_type": "stream",
          "name": "stdout",
          "text": [
            "\b\b\b\b\b\b\b\b\b\b\b\b\b\b\b\b\b\b\b\b\b\b\b\b\b\b\b\b\b\b\b\b\b\b\b\b\b\b\b\b\b\b\b\b\b\b\b\b\b\b\b\b\b\b\b\b\b\b\b\b\b\b\b\b\b\b\b\b\b\b\b\b\b\b\b\b\b\b\b\b\b\r4738/4738 [==============================] - 263s 53ms/step - loss: 0.0031 - mae: 0.0384 - val_loss: 0.0337 - val_mae: 0.2562\n",
            "Epoch 2/5\n",
            "4737/4738 [============================>.] - ETA: 0s - loss: 0.0011 - mae: 0.0269"
          ]
        },
        {
          "output_type": "stream",
          "name": "stderr",
          "text": [
            "WARNING:absl:Found untraced functions such as _update_step_xla, lstm_cell_22_layer_call_fn, lstm_cell_22_layer_call_and_return_conditional_losses, lstm_cell_23_layer_call_fn, lstm_cell_23_layer_call_and_return_conditional_losses while saving (showing 5 of 5). These functions will not be directly callable after loading.\n"
          ]
        },
        {
          "output_type": "stream",
          "name": "stdout",
          "text": [
            "INFO:tensorflow:Assets written to: ticker_RELIANCE_checkpoint_30_BS_1\\assets\n"
          ]
        },
        {
          "output_type": "stream",
          "name": "stderr",
          "text": [
            "INFO:tensorflow:Assets written to: ticker_RELIANCE_checkpoint_30_BS_1\\assets\n"
          ]
        },
        {
          "output_type": "stream",
          "name": "stdout",
          "text": [
            "\b\b\b\b\b\b\b\b\b\b\b\b\b\b\b\b\b\b\b\b\b\b\b\b\b\b\b\b\b\b\b\b\b\b\b\b\b\b\b\b\b\b\b\b\b\b\b\b\b\b\b\b\b\b\b\b\b\b\b\b\b\b\b\b\b\b\b\b\b\b\b\b\b\b\b\b\b\b\b\b\b\r4738/4738 [==============================] - 218s 46ms/step - loss: 0.0011 - mae: 0.0269 - val_loss: 0.0122 - val_mae: 0.1501\n",
            "Epoch 3/5\n",
            "4738/4738 [==============================] - ETA: 0s - loss: 9.9561e-04 - mae: 0.0252"
          ]
        },
        {
          "output_type": "stream",
          "name": "stderr",
          "text": [
            "WARNING:absl:Found untraced functions such as _update_step_xla, lstm_cell_22_layer_call_fn, lstm_cell_22_layer_call_and_return_conditional_losses, lstm_cell_23_layer_call_fn, lstm_cell_23_layer_call_and_return_conditional_losses while saving (showing 5 of 5). These functions will not be directly callable after loading.\n"
          ]
        },
        {
          "output_type": "stream",
          "name": "stdout",
          "text": [
            "INFO:tensorflow:Assets written to: ticker_RELIANCE_checkpoint_30_BS_1\\assets\n"
          ]
        },
        {
          "output_type": "stream",
          "name": "stderr",
          "text": [
            "INFO:tensorflow:Assets written to: ticker_RELIANCE_checkpoint_30_BS_1\\assets\n"
          ]
        },
        {
          "output_type": "stream",
          "name": "stdout",
          "text": [
            "\b\b\b\b\b\b\b\b\b\b\b\b\b\b\b\b\b\b\b\b\b\b\b\b\b\b\b\b\b\b\b\b\b\b\b\b\b\b\b\b\b\b\b\b\b\b\b\b\b\b\b\b\b\b\b\b\b\b\b\b\b\b\b\b\b\b\b\b\b\b\b\b\b\b\b\b\b\b\b\b\b\b\b\b\b\r4738/4738 [==============================] - 263s 55ms/step - loss: 9.9561e-04 - mae: 0.0252 - val_loss: 0.0088 - val_mae: 0.1256\n",
            "Epoch 4/5\n",
            "4738/4738 [==============================] - ETA: 0s - loss: 9.4959e-04 - mae: 0.0250"
          ]
        },
        {
          "output_type": "stream",
          "name": "stderr",
          "text": [
            "WARNING:absl:Found untraced functions such as _update_step_xla, lstm_cell_22_layer_call_fn, lstm_cell_22_layer_call_and_return_conditional_losses, lstm_cell_23_layer_call_fn, lstm_cell_23_layer_call_and_return_conditional_losses while saving (showing 5 of 5). These functions will not be directly callable after loading.\n"
          ]
        },
        {
          "output_type": "stream",
          "name": "stdout",
          "text": [
            "INFO:tensorflow:Assets written to: ticker_RELIANCE_checkpoint_30_BS_1\\assets\n"
          ]
        },
        {
          "output_type": "stream",
          "name": "stderr",
          "text": [
            "INFO:tensorflow:Assets written to: ticker_RELIANCE_checkpoint_30_BS_1\\assets\n"
          ]
        },
        {
          "output_type": "stream",
          "name": "stdout",
          "text": [
            "\b\b\b\b\b\b\b\b\b\b\b\b\b\b\b\b\b\b\b\b\b\b\b\b\b\b\b\b\b\b\b\b\b\b\b\b\b\b\b\b\b\b\b\b\b\b\b\b\b\b\b\b\b\b\b\b\b\b\b\b\b\b\b\b\b\b\b\b\b\b\b\b\b\b\b\b\b\b\b\b\b\b\b\b\b\r4738/4738 [==============================] - 328s 69ms/step - loss: 9.4959e-04 - mae: 0.0250 - val_loss: 0.0026 - val_mae: 0.0545\n",
            "Epoch 5/5\n",
            "4738/4738 [==============================] - ETA: 0s - loss: 9.2955e-04 - mae: 0.0262"
          ]
        },
        {
          "output_type": "stream",
          "name": "stderr",
          "text": [
            "WARNING:absl:Found untraced functions such as _update_step_xla, lstm_cell_22_layer_call_fn, lstm_cell_22_layer_call_and_return_conditional_losses, lstm_cell_23_layer_call_fn, lstm_cell_23_layer_call_and_return_conditional_losses while saving (showing 5 of 5). These functions will not be directly callable after loading.\n"
          ]
        },
        {
          "output_type": "stream",
          "name": "stdout",
          "text": [
            "INFO:tensorflow:Assets written to: ticker_RELIANCE_checkpoint_30_BS_1\\assets\n"
          ]
        },
        {
          "output_type": "stream",
          "name": "stderr",
          "text": [
            "INFO:tensorflow:Assets written to: ticker_RELIANCE_checkpoint_30_BS_1\\assets\n"
          ]
        },
        {
          "output_type": "stream",
          "name": "stdout",
          "text": [
            "\b\b\b\b\b\b\b\b\b\b\b\b\b\b\b\b\b\b\b\b\b\b\b\b\b\b\b\b\b\b\b\b\b\b\b\b\b\b\b\b\b\b\b\b\b\b\b\b\b\b\b\b\b\b\b\b\b\b\b\b\b\b\b\b\b\b\b\b\b\b\b\b\b\b\b\b\b\b\b\b\b\b\b\b\b\r4738/4738 [==============================] - 318s 67ms/step - loss: 9.2955e-04 - mae: 0.0262 - val_loss: 0.0015 - val_mae: 0.0431\n",
            "Training finished\n"
          ]
        }
      ]
    },
    {
      "cell_type": "code",
      "source": [],
      "metadata": {
        "colab": {
          "base_uri": "https://localhost:8080/"
        },
        "id": "mYW80zZ8zokJ",
        "outputId": "e0d72061-f249-43b2-dd83-8d5e303f0be0"
      },
      "execution_count": null,
      "outputs": [
        {
          "output_type": "stream",
          "name": "stderr",
          "text": [
            "/usr/local/lib/python3.8/dist-packages/keras/optimizers/optimizer_v2/nadam.py:78: UserWarning: The `lr` argument is deprecated, use `learning_rate` instead.\n",
            "  super(Nadam, self).__init__(name, **kwargs)\n"
          ]
        },
        {
          "output_type": "stream",
          "name": "stdout",
          "text": [
            "[*********************100%***********************]  1 of 1 completed\n",
            "1/1 [==============================] - 1s 838ms/step\n"
          ]
        }
      ]
    },
    {
      "cell_type": "code",
      "source": [
        "reliance_stock_model.evaluate()\n",
        "\n",
        "reliance_stock_model.show_result(0,100)"
      ],
      "metadata": {
        "colab": {
          "base_uri": "https://localhost:8080/",
          "height": 512
        },
        "id": "rlcB_1u66xxZ",
        "outputId": "6d139669-fc4d-42e1-9873-f5fbebb5cffe"
      },
      "execution_count": null,
      "outputs": [
        {
          "output_type": "stream",
          "name": "stdout",
          "text": [
            "1/1 [==============================] - 7s 7s/step\n"
          ]
        },
        {
          "output_type": "stream",
          "name": "stderr",
          "text": [
            "<ipython-input-109-835d6deb253c>:72: FutureWarning: The behavior of `series[i:j]` with an integer-dtype index is deprecated. In a future version, this will be treated as *label-based* indexing, consistent with e.g. `series[i]` lookups. To retain the old behavior, use `series.iloc[i:j]`. To get the future behavior, use `series.loc[i:j]`.\n",
            "  self.Stockdata.plot_series(self.Stockdata.x_test.index[start_win_size:start_win_size + offset], self.Stockdata.x_test[start_win_size:start_win_size + offset], label=\"Actual\")\n",
            "<ipython-input-107-daf2a89a07b7>:77: FutureWarning: The behavior of `series[i:j]` with an integer-dtype index is deprecated. In a future version, this will be treated as *label-based* indexing, consistent with e.g. `series[i]` lookups. To retain the old behavior, use `series.iloc[i:j]`. To get the future behavior, use `series.loc[i:j]`.\n",
            "  plt.plot(time[start:end], series[start:end], format, label=label)\n"
          ]
        },
        {
          "output_type": "display_data",
          "data": {
            "text/plain": [
              "<Figure size 720x432 with 1 Axes>"
            ],
            "image/png": "[encoded data removed]"
          },
          "metadata": {}
        }
      ]
    },
    {
      "cell_type": "code",
      "source": [
        "reliance_stock_model.show_result(7,7)"
      ],
      "metadata": {
        "colab": {
          "base_uri": "https://localhost:8080/",
          "height": 494
        },
        "id": "vKmD2_Wl2SxP",
        "outputId": "f1a603e1-1eee-48f4-da44-e00f52c2b3a0"
      },
      "execution_count": null,
      "outputs": [
        {
          "output_type": "stream",
          "name": "stderr",
          "text": [
            "<ipython-input-109-835d6deb253c>:72: FutureWarning: The behavior of `series[i:j]` with an integer-dtype index is deprecated. In a future version, this will be treated as *label-based* indexing, consistent with e.g. `series[i]` lookups. To retain the old behavior, use `series.iloc[i:j]`. To get the future behavior, use `series.loc[i:j]`.\n",
            "  self.Stockdata.plot_series(self.Stockdata.x_test.index[start_win_size:start_win_size + offset], self.Stockdata.x_test[start_win_size:start_win_size + offset], label=\"Actual\")\n",
            "<ipython-input-107-daf2a89a07b7>:77: FutureWarning: The behavior of `series[i:j]` with an integer-dtype index is deprecated. In a future version, this will be treated as *label-based* indexing, consistent with e.g. `series[i]` lookups. To retain the old behavior, use `series.iloc[i:j]`. To get the future behavior, use `series.loc[i:j]`.\n",
            "  plt.plot(time[start:end], series[start:end], format, label=label)\n"
          ]
        },
        {
          "output_type": "display_data",
          "data": {
            "text/plain": [
              "<Figure size 720x432 with 1 Axes>"
            ],
            "image/png": "[encoded data removed]"
          },
          "metadata": {}
        }
      ]
    },
    {
      "cell_type": "markdown",
      "source": [
        "## check model for 60 window"
      ],
      "metadata": {
        "id": "a6qZaAaBrhG7"
      }
    },
    {
      "cell_type": "code",
      "source": [
        "reliance_stock_model = StockModel(lstm_nodes = [100, 100] , first_model = True, prev_ticker = \"\", ticker = \"RELIANCE\", window_size = 60, batch_size = 1)"
      ],
      "metadata": {
        "colab": {
          "base_uri": "https://localhost:8080/"
        },
        "id": "Nydk71mnrhC1",
        "outputId": "994cde34-462d-42e9-86c0-1bb6f54cac25"
      },
      "execution_count": null,
      "outputs": [
        {
          "output_type": "stream",
          "name": "stderr",
          "text": [
            "WARNING:absl:`lr` is deprecated, please use `learning_rate` instead, or use the legacy optimizer, e.g.,tf.keras.optimizers.legacy.Nadam.\n"
          ]
        }
      ]
    },
    {
      "cell_type": "code",
      "source": [
        "reliance_stock_model.prepare_data()\n"
      ],
      "metadata": {
        "colab": {
          "base_uri": "https://localhost:8080/"
        },
        "id": "OUmootbArg-z",
        "outputId": "eb1f6cb3-a777-467d-c7f0-3dc7f9a62942"
      },
      "execution_count": null,
      "outputs": [
        {
          "output_type": "stream",
          "name": "stdout",
          "text": [
            "\r[*********************100%***********************]  1 of 1 completed\n"
          ]
        }
      ]
    },
    {
      "cell_type": "code",
      "source": [
        "reliance_stock_model.train(5,10) "
      ],
      "metadata": {
        "colab": {
          "base_uri": "https://localhost:8080/"
        },
        "id": "D9fp3mF7rpt7",
        "outputId": "71fc3ea0-af1b-4ee0-9448-97df1c4e90c0"
      },
      "execution_count": null,
      "outputs": [
        {
          "output_type": "stream",
          "name": "stdout",
          "text": [
            "Epoch 1/5\n",
            "4738/4738 [==============================] - ETA: 0s - loss: 0.0022 - mae: 0.0322"
          ]
        },
        {
          "output_type": "stream",
          "name": "stderr",
          "text": [
            "WARNING:absl:Found untraced functions such as _update_step_xla, lstm_cell_24_layer_call_fn, lstm_cell_24_layer_call_and_return_conditional_losses, lstm_cell_25_layer_call_fn, lstm_cell_25_layer_call_and_return_conditional_losses while saving (showing 5 of 5). These functions will not be directly callable after loading.\n"
          ]
        },
        {
          "output_type": "stream",
          "name": "stdout",
          "text": [
            "INFO:tensorflow:Assets written to: ticker_RELIANCE_checkpoint_60_BS_1\\assets\n"
          ]
        },
        {
          "output_type": "stream",
          "name": "stderr",
          "text": [
            "INFO:tensorflow:Assets written to: ticker_RELIANCE_checkpoint_60_BS_1\\assets\n"
          ]
        },
        {
          "output_type": "stream",
          "name": "stdout",
          "text": [
            "\b\b\b\b\b\b\b\b\b\b\b\b\b\b\b\b\b\b\b\b\b\b\b\b\b\b\b\b\b\b\b\b\b\b\b\b\b\b\b\b\b\b\b\b\b\b\b\b\b\b\b\b\b\b\b\b\b\b\b\b\b\b\b\b\b\b\b\b\b\b\b\b\b\b\b\b\b\b\b\b\b\r4738/4738 [==============================] - 559s 115ms/step - loss: 0.0022 - mae: 0.0322 - val_loss: 7.9261e-04 - val_mae: 0.0287\n",
            "Epoch 2/5\n",
            "4738/4738 [==============================] - 487s 103ms/step - loss: 7.5321e-04 - mae: 0.0230 - val_loss: 0.0042 - val_mae: 0.0847\n",
            "Epoch 3/5\n",
            "4738/4738 [==============================] - 504s 106ms/step - loss: 7.2065e-04 - mae: 0.0218 - val_loss: 0.0020 - val_mae: 0.0546\n",
            "Epoch 4/5\n",
            "4738/4738 [==============================] - 490s 103ms/step - loss: 6.8364e-04 - mae: 0.0209 - val_loss: 8.9808e-04 - val_mae: 0.0306\n",
            "Epoch 5/5\n",
            "4738/4738 [==============================] - 507s 107ms/step - loss: 6.5718e-04 - mae: 0.0206 - val_loss: 0.0012 - val_mae: 0.0364\n",
            "Training finished\n"
          ]
        }
      ]
    },
    {
      "cell_type": "code",
      "source": [
        "reliance_stock_model.evaluate()\n",
        "\n",
        "reliance_stock_model.show_result(0,100)"
      ],
      "metadata": {
        "colab": {
          "base_uri": "https://localhost:8080/",
          "height": 512
        },
        "id": "4wqXEpaZrpqU",
        "outputId": "02c88da6-b863-4e2a-df85-d065591d679a"
      },
      "execution_count": null,
      "outputs": [
        {
          "output_type": "stream",
          "name": "stdout",
          "text": [
            "1/1 [==============================] - 7s 7s/step\n"
          ]
        },
        {
          "output_type": "stream",
          "name": "stderr",
          "text": [
            "<ipython-input-109-835d6deb253c>:72: FutureWarning: The behavior of `series[i:j]` with an integer-dtype index is deprecated. In a future version, this will be treated as *label-based* indexing, consistent with e.g. `series[i]` lookups. To retain the old behavior, use `series.iloc[i:j]`. To get the future behavior, use `series.loc[i:j]`.\n",
            "  self.Stockdata.plot_series(self.Stockdata.x_test.index[start_win_size:start_win_size + offset], self.Stockdata.x_test[start_win_size:start_win_size + offset], label=\"Actual\")\n",
            "<ipython-input-107-daf2a89a07b7>:77: FutureWarning: The behavior of `series[i:j]` with an integer-dtype index is deprecated. In a future version, this will be treated as *label-based* indexing, consistent with e.g. `series[i]` lookups. To retain the old behavior, use `series.iloc[i:j]`. To get the future behavior, use `series.loc[i:j]`.\n",
            "  plt.plot(time[start:end], series[start:end], format, label=label)\n"
          ]
        },
        {
          "output_type": "display_data",
          "data": {
            "text/plain": [
              "<Figure size 720x432 with 1 Axes>"
            ],
            "image/png": "[encoded data removed]"
          },
          "metadata": {}
        }
      ]
    },
    {
      "cell_type": "code",
      "source": [],
      "metadata": {
        "id": "2bpJ9PqNrpmm"
      },
      "execution_count": null,
      "outputs": []
    },
    {
      "cell_type": "code",
      "source": [
        "batch_size = 32\n",
        "window_size = 30\n",
        "def get_data():\n",
        "  ds = tf.data.Dataset.from_tensor_slices(reliance_stock_model.Stockdata.x_train_scaler.transform( reliance_stock_model.Stockdata.x_test.values.reshape(-1, 1)))\n",
        "  ds = ds.window(window_size + 1, shift=window_size, drop_remainder=True)\n",
        "  ds = ds.flat_map(lambda window: window.batch(window_size + 1))\n",
        "  ds = ds.map(lambda window: (window[:-1], window[1:]))\n",
        "  return ds.batch(batch_size, drop_remainder=True)\n",
        "\n",
        "ds = get_data()\n",
        "\n",
        "\n",
        "\n"
      ],
      "metadata": {
        "id": "J76niQdq8hPZ"
      },
      "execution_count": null,
      "outputs": []
    },
    {
      "cell_type": "code",
      "source": [
        "list(ds.as_numpy_iterator())"
      ],
      "metadata": {
        "id": "78V9lKdu1PU6"
      },
      "execution_count": null,
      "outputs": []
    },
    {
      "cell_type": "code",
      "source": [
        "results = reliance_stock_model.model.predict(ds, batch_size)"
      ],
      "metadata": {
        "colab": {
          "base_uri": "https://localhost:8080/"
        },
        "id": "CAHbnFBt1NuH",
        "outputId": "a3c784fa-280f-4f29-dad1-4f5bcb48dac3"
      },
      "execution_count": null,
      "outputs": [
        {
          "output_type": "stream",
          "name": "stdout",
          "text": [
            "1/1 [==============================] - 6s 6s/step\n"
          ]
        }
      ]
    },
    {
      "cell_type": "code",
      "source": [
        "rnn_forecast = reliance_stock_model.model.predict(ds, batch_size)\n",
        "reliance_stock_model.Stockdata.rnn_forecast = rnn_forecast.flatten()\n",
        "reliance_stock_model.Stockdata.rnn_unscaled_forecast = reliance_stock_model.Stockdata.x_train_scaler.inverse_transform(reliance_stock_model.Stockdata.rnn_forecast.reshape(-1,1)).flatten()"
      ],
      "metadata": {
        "colab": {
          "base_uri": "https://localhost:8080/"
        },
        "id": "yF3cM4jHzWdO",
        "outputId": "dce1111a-b5df-4262-db70-519c1bc0c76e"
      },
      "execution_count": null,
      "outputs": [
        {
          "output_type": "stream",
          "name": "stdout",
          "text": [
            "1/1 [==============================] - 4s 4s/step\n"
          ]
        }
      ]
    },
    {
      "cell_type": "code",
      "source": [
        "plt.figure(figsize=(10,6))\n",
        "start_win_size = 0\n",
        "offset = 7\n",
        "plt.ylabel('Rupees ')\n",
        "plt.xlabel('Timestep in Days')\n",
        "plt.title(f'LSTM { start_win_size } Forecast')\n",
        "reliance_stock_model.Stockdata.plot_series(reliance_stock_model.Stockdata.x_test.index[start_win_size:start_win_size + offset], reliance_stock_model.Stockdata.x_test[start_win_size:start_win_size + offset], label=\"Actual\")\n",
        "reliance_stock_model.Stockdata.plot_series(reliance_stock_model.Stockdata.x_test.index[start_win_size:start_win_size + offset], reliance_stock_model.Stockdata.rnn_unscaled_forecast[start_win_size :start_win_size + offset], label=\"Forecast\")\n",
        "plt.show()"
      ],
      "metadata": {
        "colab": {
          "base_uri": "https://localhost:8080/",
          "height": 494
        },
        "id": "7uRpfPDzht7b",
        "outputId": "b49690f0-e9af-453a-a990-56684563bc27"
      },
      "execution_count": null,
      "outputs": [
        {
          "output_type": "stream",
          "name": "stderr",
          "text": [
            "<ipython-input-85-34c05f6a1f90>:7: FutureWarning: The behavior of `series[i:j]` with an integer-dtype index is deprecated. In a future version, this will be treated as *label-based* indexing, consistent with e.g. `series[i]` lookups. To retain the old behavior, use `series.iloc[i:j]`. To get the future behavior, use `series.loc[i:j]`.\n",
            "  reliance_stock_model.Stockdata.plot_series(reliance_stock_model.Stockdata.x_test.index[start_win_size:start_win_size + offset], reliance_stock_model.Stockdata.x_test[start_win_size:start_win_size + offset], label=\"Actual\")\n",
            "<ipython-input-71-dbd193f2663a>:77: FutureWarning: The behavior of `series[i:j]` with an integer-dtype index is deprecated. In a future version, this will be treated as *label-based* indexing, consistent with e.g. `series[i]` lookups. To retain the old behavior, use `series.iloc[i:j]`. To get the future behavior, use `series.loc[i:j]`.\n",
            "  plt.plot(time[start:end], series[start:end], format, label=label)\n"
          ]
        },
        {
          "output_type": "display_data",
          "data": {
            "text/plain": [
              "<Figure size 720x432 with 1 Axes>"
            ],
            "image/png": "[encoded data removed]"
          },
          "metadata": {}
        }
      ]
    },
    {
      "cell_type": "markdown",
      "source": [
        "## test with recent data"
      ],
      "metadata": {
        "id": "vAzthrdjh9ZV"
      }
    },
    {
      "cell_type": "code",
      "source": [
        "batch_size = 32\n",
        "\n",
        "window_size = 30\n",
        "ticker = \"RELIANCE\"\n",
        "data = yf.download(ticker + '.ns', group_by=\"ticker\", start = '2022-01-01', end = '2022-12-10')\n",
        "\n",
        "data['Date'] = data.index\n",
        "data['ticker'] = ticker \n",
        "data.reset_index(drop=True, inplace=True)\n",
        "\n",
        "def get_data():\n",
        "  ds = tf.data.Dataset.from_tensor_slices(reliance_stock_model.Stockdata.x_train_scaler.transform( data['Close'].values.reshape(-1, 1)))\n",
        "  ds = ds.window(window_size + 1, shift=window_size, drop_remainder=True)\n",
        "  ds = ds.flat_map(lambda window: window.batch(window_size + 1))\n",
        "  ds = ds.map(lambda window: (window[:-1], window[1:]))\n",
        "  return ds.batch(batch_size)\n",
        "\n",
        "ds = get_data()"
      ],
      "metadata": {
        "colab": {
          "base_uri": "https://localhost:8080/"
        },
        "id": "kOVgHgfDib1_",
        "outputId": "22881831-89f8-46a7-d30f-129ec40c66b0"
      },
      "execution_count": null,
      "outputs": [
        {
          "output_type": "stream",
          "name": "stdout",
          "text": [
            "\r[*********************100%***********************]  1 of 1 completed\n"
          ]
        }
      ]
    },
    {
      "cell_type": "code",
      "source": [
        "reliance_stock_model.Stockdata.x_train_scaler.transform( data['Close'].values.reshape(-1, 1))"
      ],
      "metadata": {
        "id": "_PhNRRqsknVM"
      },
      "execution_count": null,
      "outputs": []
    },
    {
      "cell_type": "code",
      "source": [
        "len(list(ds.as_numpy_iterator())[0])"
      ],
      "metadata": {
        "colab": {
          "base_uri": "https://localhost:8080/"
        },
        "id": "GYLXAUARkTAe",
        "outputId": "161f4524-8447-4e55-c47c-22783c15105d"
      },
      "execution_count": null,
      "outputs": [
        {
          "output_type": "execute_result",
          "data": {
            "text/plain": [
              "2"
            ]
          },
          "metadata": {},
          "execution_count": 105
        }
      ]
    },
    {
      "cell_type": "code",
      "source": [
        "rnn_forecast = reliance_stock_model.model.predict(ds, batch_size)\n",
        "reliance_stock_model.Stockdata.rnn_forecast = rnn_forecast.flatten()\n",
        "reliance_stock_model.Stockdata.rnn_unscaled_forecast = reliance_stock_model.Stockdata.x_train_scaler.inverse_transform(reliance_stock_model.Stockdata.rnn_forecast.reshape(-1,1)).flatten()"
      ],
      "metadata": {
        "colab": {
          "base_uri": "https://localhost:8080/",
          "height": 567
        },
        "id": "wDfg5IgFjSmd",
        "outputId": "4fb94701-d866-47ac-cc21-9f14fdd2a3f1"
      },
      "execution_count": null,
      "outputs": [
        {
          "output_type": "error",
          "ename": "InvalidArgumentError",
          "evalue": "ignored",
          "traceback": [
            "\u001b[1;31m---------------------------------------------------------------------------\u001b[0m",
            "\u001b[1;31mInvalidArgumentError\u001b[0m                      Traceback (most recent call last)",
            "\u001b[1;32m<ipython-input-106-1e8f585f57a9>\u001b[0m in \u001b[0;36m<module>\u001b[1;34m\u001b[0m\n\u001b[1;32m----> 1\u001b[1;33m \u001b[0mrnn_forecast\u001b[0m \u001b[1;33m=\u001b[0m \u001b[0mreliance_stock_model\u001b[0m\u001b[1;33m.\u001b[0m\u001b[0mmodel\u001b[0m\u001b[1;33m.\u001b[0m\u001b[0mpredict\u001b[0m\u001b[1;33m(\u001b[0m\u001b[0mds\u001b[0m\u001b[1;33m,\u001b[0m \u001b[0mbatch_size\u001b[0m\u001b[1;33m)\u001b[0m\u001b[1;33m\u001b[0m\u001b[1;33m\u001b[0m\u001b[0m\n\u001b[0m\u001b[0;32m      2\u001b[0m \u001b[0mreliance_stock_model\u001b[0m\u001b[1;33m.\u001b[0m\u001b[0mStockdata\u001b[0m\u001b[1;33m.\u001b[0m\u001b[0mrnn_forecast\u001b[0m \u001b[1;33m=\u001b[0m \u001b[0mrnn_forecast\u001b[0m\u001b[1;33m.\u001b[0m\u001b[0mflatten\u001b[0m\u001b[1;33m(\u001b[0m\u001b[1;33m)\u001b[0m\u001b[1;33m\u001b[0m\u001b[1;33m\u001b[0m\u001b[0m\n\u001b[0;32m      3\u001b[0m \u001b[0mreliance_stock_model\u001b[0m\u001b[1;33m.\u001b[0m\u001b[0mStockdata\u001b[0m\u001b[1;33m.\u001b[0m\u001b[0mrnn_unscaled_forecast\u001b[0m \u001b[1;33m=\u001b[0m \u001b[0mreliance_stock_model\u001b[0m\u001b[1;33m.\u001b[0m\u001b[0mStockdata\u001b[0m\u001b[1;33m.\u001b[0m\u001b[0mx_train_scaler\u001b[0m\u001b[1;33m.\u001b[0m\u001b[0minverse_transform\u001b[0m\u001b[1;33m(\u001b[0m\u001b[0mreliance_stock_model\u001b[0m\u001b[1;33m.\u001b[0m\u001b[0mStockdata\u001b[0m\u001b[1;33m.\u001b[0m\u001b[0mrnn_forecast\u001b[0m\u001b[1;33m.\u001b[0m\u001b[0mreshape\u001b[0m\u001b[1;33m(\u001b[0m\u001b[1;33m-\u001b[0m\u001b[1;36m1\u001b[0m\u001b[1;33m,\u001b[0m\u001b[1;36m1\u001b[0m\u001b[1;33m)\u001b[0m\u001b[1;33m)\u001b[0m\u001b[1;33m.\u001b[0m\u001b[0mflatten\u001b[0m\u001b[1;33m(\u001b[0m\u001b[1;33m)\u001b[0m\u001b[1;33m\u001b[0m\u001b[1;33m\u001b[0m\u001b[0m\n",
            "\u001b[1;32m~\\Anaconda4\\lib\\site-packages\\keras\\utils\\traceback_utils.py\u001b[0m in \u001b[0;36merror_handler\u001b[1;34m(*args, **kwargs)\u001b[0m\n\u001b[0;32m     68\u001b[0m             \u001b[1;31m# To get the full stack trace, call:\u001b[0m\u001b[1;33m\u001b[0m\u001b[1;33m\u001b[0m\u001b[1;33m\u001b[0m\u001b[0m\n\u001b[0;32m     69\u001b[0m             \u001b[1;31m# `tf.debugging.disable_traceback_filtering()`\u001b[0m\u001b[1;33m\u001b[0m\u001b[1;33m\u001b[0m\u001b[1;33m\u001b[0m\u001b[0m\n\u001b[1;32m---> 70\u001b[1;33m             \u001b[1;32mraise\u001b[0m \u001b[0me\u001b[0m\u001b[1;33m.\u001b[0m\u001b[0mwith_traceback\u001b[0m\u001b[1;33m(\u001b[0m\u001b[0mfiltered_tb\u001b[0m\u001b[1;33m)\u001b[0m \u001b[1;32mfrom\u001b[0m \u001b[1;32mNone\u001b[0m\u001b[1;33m\u001b[0m\u001b[1;33m\u001b[0m\u001b[0m\n\u001b[0m\u001b[0;32m     71\u001b[0m         \u001b[1;32mfinally\u001b[0m\u001b[1;33m:\u001b[0m\u001b[1;33m\u001b[0m\u001b[1;33m\u001b[0m\u001b[0m\n\u001b[0;32m     72\u001b[0m             \u001b[1;32mdel\u001b[0m \u001b[0mfiltered_tb\u001b[0m\u001b[1;33m\u001b[0m\u001b[1;33m\u001b[0m\u001b[0m\n",
            "\u001b[1;32m~\\Anaconda4\\lib\\site-packages\\tensorflow\\python\\eager\\execute.py\u001b[0m in \u001b[0;36mquick_execute\u001b[1;34m(op_name, num_outputs, inputs, attrs, ctx, name)\u001b[0m\n\u001b[0;32m     50\u001b[0m   \u001b[1;32mtry\u001b[0m\u001b[1;33m:\u001b[0m\u001b[1;33m\u001b[0m\u001b[1;33m\u001b[0m\u001b[0m\n\u001b[0;32m     51\u001b[0m     \u001b[0mctx\u001b[0m\u001b[1;33m.\u001b[0m\u001b[0mensure_initialized\u001b[0m\u001b[1;33m(\u001b[0m\u001b[1;33m)\u001b[0m\u001b[1;33m\u001b[0m\u001b[1;33m\u001b[0m\u001b[0m\n\u001b[1;32m---> 52\u001b[1;33m     tensors = pywrap_tfe.TFE_Py_Execute(ctx._handle, device_name, op_name,\n\u001b[0m\u001b[0;32m     53\u001b[0m                                         inputs, attrs, num_outputs)\n\u001b[0;32m     54\u001b[0m   \u001b[1;32mexcept\u001b[0m \u001b[0mcore\u001b[0m\u001b[1;33m.\u001b[0m\u001b[0m_NotOkStatusException\u001b[0m \u001b[1;32mas\u001b[0m \u001b[0me\u001b[0m\u001b[1;33m:\u001b[0m\u001b[1;33m\u001b[0m\u001b[1;33m\u001b[0m\u001b[0m\n",
            "\u001b[1;31mInvalidArgumentError\u001b[0m: Graph execution error:\n\nSpecified a list with shape [32,1] from a tensor with shape [7,1]\n\t [[{{node TensorArrayUnstack/TensorListFromTensor}}]]\n\t [[sequential_10/lstm_20/PartitionedCall]] [Op:__inference_predict_function_2414409]"
          ]
        }
      ]
    },
    {
      "cell_type": "code",
      "source": [
        "plt.figure(figsize=(10,6))\n",
        "start_win_size = 0\n",
        "offset = 7\n",
        "plt.ylabel('Rupees ')\n",
        "plt.xlabel('Timestep in Days')\n",
        "plt.title(f'LSTM { start_win_size } Forecast')\n",
        "reliance_stock_model.Stockdata.plot_series(data['Date'][start_win_size:start_win_size + offset], data[start_win_size:start_win_size + offset], label=\"Actual\")\n",
        "reliance_stock_model.Stockdata.plot_series(data['Date'][start_win_size:start_win_size + offset], reliance_stock_model.Stockdata.rnn_unscaled_forecast[start_win_size :start_win_size + offset], label=\"Forecast\")\n",
        "plt.show()"
      ],
      "metadata": {
        "id": "qCYAOFXojSh0"
      },
      "execution_count": null,
      "outputs": []
    },
    {
      "cell_type": "markdown",
      "source": [
        "## test data with 5 stock data batch"
      ],
      "metadata": {
        "id": "mSV4PeF-jrPo"
      }
    },
    {
      "cell_type": "code",
      "source": [
        "batch_size = 3\n",
        "window_size = 3\n",
        "def get_data():\n",
        "  ds = tf.data.Dataset.from_tensor_slices(np.random.rand(20,1))\n",
        "  ds = ds.window(window_size + 1, shift=window_size, drop_remainder=True)\n",
        "  ds = ds.flat_map(lambda window: window.batch(window_size + 1))\n",
        "  ds = ds.map(lambda window: (window[:-1], window[1:]))\n",
        "  return ds.batch(batch_size, drop_remainder=True)\n",
        "\n",
        "ds = get_data()\n",
        "\n"
      ],
      "metadata": {
        "id": "QrPuBy-dfPCc"
      },
      "execution_count": null,
      "outputs": []
    },
    {
      "cell_type": "code",
      "source": [
        "help(type(list(ds.as_numpy_iterator())[0]))"
      ],
      "metadata": {
        "id": "GJU-Tijlfg6x"
      },
      "execution_count": null,
      "outputs": []
    },
    {
      "cell_type": "code",
      "source": [
        "list(ds.as_numpy_iterator())[0]"
      ],
      "metadata": {
        "colab": {
          "base_uri": "https://localhost:8080/"
        },
        "id": "6GqhXVfvfwyW",
        "outputId": "2861fbbc-bc6e-4ee4-fad2-6cc1e02c7c41"
      },
      "execution_count": null,
      "outputs": [
        {
          "output_type": "execute_result",
          "data": {
            "text/plain": [
              "(array([[[0.60754485],\n",
              "         [0.17052412],\n",
              "         [0.06505159]],\n",
              " \n",
              "        [[0.94888554],\n",
              "         [0.96563203],\n",
              "         [0.80839735]],\n",
              " \n",
              "        [[0.30461377],\n",
              "         [0.09767211],\n",
              "         [0.68423303]]]), array([[[0.17052412],\n",
              "         [0.06505159],\n",
              "         [0.94888554]],\n",
              " \n",
              "        [[0.96563203],\n",
              "         [0.80839735],\n",
              "         [0.30461377]],\n",
              " \n",
              "        [[0.09767211],\n",
              "         [0.68423303],\n",
              "         [0.44015249]]]))"
            ]
          },
          "metadata": {},
          "execution_count": 18
        }
      ]
    },
    {
      "cell_type": "code",
      "source": [
        "np.array([[[0.60754485],\n",
        "         [0.17052412],\n",
        "         [0.06505159]],\n",
        " \n",
        "        [[0.94888554],\n",
        "         [0.96563203],\n",
        "         [0.80839735]],\n",
        " \n",
        "        [[0.30461377],\n",
        "         [0.09767211],\n",
        "         [0.68423303]]]).shape"
      ],
      "metadata": {
        "colab": {
          "base_uri": "https://localhost:8080/"
        },
        "id": "qcI_ROJhs7eY",
        "outputId": "6fb18f9f-2b79-4866-caa1-2fdef73adb88"
      },
      "execution_count": null,
      "outputs": [
        {
          "output_type": "execute_result",
          "data": {
            "text/plain": [
              "(3, 3, 1)"
            ]
          },
          "metadata": {},
          "execution_count": 6
        }
      ]
    },
    {
      "cell_type": "code",
      "source": [
        "class CustomModel(keras.Model):\n",
        "    def train_step(self, data):\n",
        "        # Unpack the data. Its structure depends on your model and\n",
        "        # on what you pass to `fit()`.\n",
        "        if len(data) == 3:\n",
        "            x, y, sample_weight = data\n",
        "        else:\n",
        "            sample_weight = None\n",
        "            x, y = data\n",
        "\n",
        "        with tf.GradientTape() as tape:\n",
        "            y_pred = self(x, training=True)  # Forward pass\n",
        "            # Compute the loss value.\n",
        "            # The loss function is configured in `compile()`.\n",
        "            loss = self.compiled_loss(\n",
        "                y,\n",
        "                y_pred,\n",
        "                sample_weight=sample_weight,\n",
        "                regularization_losses=self.losses,\n",
        "            )\n",
        "\n",
        "        # Compute gradients\n",
        "        trainable_vars = self.trainable_variables\n",
        "        gradients = tape.gradient(loss, trainable_vars)\n",
        "\n",
        "        # Update weights\n",
        "        self.optimizer.apply_gradients(zip(gradients, trainable_vars))\n",
        "\n",
        "        # Update the metrics.\n",
        "        # Metrics are configured in `compile()`.\n",
        "        self.compiled_metrics.update_state(y, y_pred, sample_weight=sample_weight)\n",
        "\n",
        "        # Return a dict mapping metric names to current value.\n",
        "        # Note that it will include the loss (tracked in self.metrics).\n",
        "        return {m.name: m.result() for m in self.metrics}\n",
        "\n",
        "\n",
        "\n",
        "    def test_step(self, data):\n",
        "        # Unpack the data\n",
        "        x, y = data\n",
        "        # Compute predictions\n",
        "        y_pred = self(x, training=False)\n",
        "        # Updates the metrics tracking the loss\n",
        "        self.compiled_loss(y, y_pred, regularization_losses=self.losses)\n",
        "        # Update the metrics.\n",
        "        self.compiled_metrics.update_state(y, y_pred)\n",
        "        # Return a dict mapping metric names to current value.\n",
        "        # Note that it will include the loss (tracked in self.metrics).\n",
        "        return {m.name: m.result() for m in self.metrics}\n",
        "\n",
        "\n",
        "# Construct an instance of CustomModel\n",
        "lstm_nodes = [100, 100]\n",
        "model_list = []\n",
        "model_list.append(keras.layers.LSTM(lstm_nodes[0], return_sequences=True, stateful=True,\n",
        "                        batch_input_shape=[batch_size, None, 1]))\n",
        "for nodes in lstm_nodes[1:]:\n",
        "  model_list.append(keras.layers.LSTM(nodes, return_sequences=True, stateful=True))\n",
        "  \n",
        "\n",
        "model_list.append(keras.layers.Dense(1))\n",
        "model = keras.models.Sequential(model_list)\n",
        "# inputs = keras.Input(shape=(32,))\n",
        "# outputs = keras.layers.Dense(1)(inputs)\n",
        "model = CustomModel(model)\n",
        "model.compile(loss=keras.losses.Huber(),\n",
        "                    optimizer=optimizer,\n",
        "                    metrics=[\"mae\"])\n",
        "# Evaluate with our custom test_step\n",
        "\n",
        "model.fit(, sample_weight=sw, epochs=3)\n",
        "#model.evaluate(x, y)"
      ],
      "metadata": {
        "id": "NidpHdNZjjZ7"
      },
      "execution_count": null,
      "outputs": []
    },
    {
      "cell_type": "markdown",
      "source": [
        "# Model with all stock data"
      ],
      "metadata": {
        "id": "H2GiOMuv3HKh"
      }
    },
    {
      "cell_type": "code",
      "source": [
        "stock_models_dict = {}\n",
        "first_model = True\n",
        "lstm_nodes = [104, 104]\n",
        "window_size = 26\n",
        "batch_size = 1\n",
        "epochs = 10\n",
        "early_stopping = 10"
      ],
      "metadata": {
        "id": "5We517A_67Yb"
      },
      "execution_count": 33,
      "outputs": []
    },
    {
      "cell_type": "code",
      "source": [
        "page = pd.read_html(\"https://en.wikipedia.org/wiki/List_of_companies_listed_on_the_National_Stock_Exchange_of_India\")\n",
        "type(page[1])\n",
        "\n",
        "def get_sym(symbol):\n",
        "  return str(symbol).split()[-1]\n",
        "\n",
        "stock_symbols = pd.DataFrame()\n",
        "for p in page:\n",
        "  #print(p)\n",
        "  #user_input = input(\"y/n\")\n",
        "  if \"Symbol\" in p.columns:\n",
        "    stock_symbols = pd.concat([stock_symbols,p], axis = 0)\n",
        "    #print(stock_symbols.shape)\n",
        "\n",
        "stock_symbols['stock_sym'] = stock_symbols['Symbol'].apply(get_sym)\n",
        "\n",
        "stock_symbols = stock_symbols.reset_index(drop=True)\n",
        "\n",
        "prev_ticker = \"\"\n",
        "# for ticker in random.sample(stock_symbols['stock_sym'].to_list(), 10):\n",
        "for ticker in stock_symbols['stock_sym'].to_list()[:10]:  \n",
        "    print(\"Prev _ ticker : \", prev_ticker, \" -- curr ticker : \",ticker)\n",
        "    data = yf.download(ticker + '.ns', group_by=\"ticker\", start = '1990-01-01', end = '2022-12-01')\n",
        "    if len(data) < 600:\n",
        "      print(\"NOT included : \", ticker)\n",
        "      continue      \n",
        "    if first_model:\n",
        "      prev_ticker = \"\"\n",
        "      stock_model = StockModel(lstm_nodes = lstm_nodes , first_model = True, prev_ticker = prev_ticker, ticker = ticker, window_size = window_size, batch_size = batch_size)\n",
        "      first_model = False\n",
        "      \n",
        "    else:\n",
        "      stock_model = StockModel(lstm_nodes = lstm_nodes , first_model = False, prev_ticker = prev_ticker, ticker = ticker, window_size = window_size, batch_size = batch_size)\n",
        "\n",
        "    \n",
        "    stock_model.prepare_data()\n",
        "    history = stock_model.train(epochs,early_stopping)\n",
        "    stock_models_dict[ticker] = {'model' : stock_model, 'history':history}\n",
        "    prev_ticker = ticker\n"
      ],
      "metadata": {
        "colab": {
          "base_uri": "https://localhost:8080/"
        },
        "id": "sJVOzXen4MY4",
        "outputId": "d38f99fb-d90a-41aa-f628-249f6ba59b9e"
      },
      "execution_count": 34,
      "outputs": [
        {
          "output_type": "stream",
          "name": "stdout",
          "text": [
            "Prev _ ticker :    -- curr ticker :  20MICRONS\n",
            "[*********************100%***********************]  1 of 1 completed\n"
          ]
        },
        {
          "output_type": "stream",
          "name": "stderr",
          "text": [
            "/usr/local/lib/python3.8/dist-packages/keras/optimizers/optimizer_v2/nadam.py:78: UserWarning: The `lr` argument is deprecated, use `learning_rate` instead.\n",
            "  super(Nadam, self).__init__(name, **kwargs)\n"
          ]
        },
        {
          "output_type": "stream",
          "name": "stdout",
          "text": [
            "\r[*********************100%***********************]  1 of 1 completed\n",
            "Epoch 1/10\n",
            "2962/2964 [============================>.] - ETA: 0s - loss: 0.0120 - mae: 0.0848"
          ]
        },
        {
          "output_type": "stream",
          "name": "stderr",
          "text": [
            "WARNING:absl:Found untraced functions such as lstm_cell_35_layer_call_fn, lstm_cell_35_layer_call_and_return_conditional_losses, lstm_cell_36_layer_call_fn, lstm_cell_36_layer_call_and_return_conditional_losses while saving (showing 4 of 4). These functions will not be directly callable after loading.\n"
          ]
        },
        {
          "output_type": "stream",
          "name": "stdout",
          "text": [
            "\b\b\b\b\b\b\b\b\b\b\b\b\b\b\b\b\b\b\b\b\b\b\b\b\b\b\b\b\b\b\b\b\b\b\b\b\b\b\b\b\b\b\b\b\b\b\b\b\b\b\b\b\b\b\b\b\b\b\b\b\b\b\b\b\b\b\b\b\b\b\b\b\b\b\b\b\b\b\b\b\b\r2964/2964 [==============================] - 48s 15ms/step - loss: 0.0120 - mae: 0.0847 - val_loss: 0.0339 - val_mae: 0.1581\n",
            "Epoch 2/10\n",
            "2964/2964 [==============================] - 40s 13ms/step - loss: 0.0052 - mae: 0.0626 - val_loss: 0.0350 - val_mae: 0.1693\n",
            "Epoch 3/10\n",
            "2964/2964 [==============================] - 38s 13ms/step - loss: 0.0052 - mae: 0.0646 - val_loss: 0.0434 - val_mae: 0.1663\n",
            "Epoch 4/10\n",
            "2964/2964 [==============================] - 39s 13ms/step - loss: 0.0051 - mae: 0.0651 - val_loss: 0.0843 - val_mae: 0.2807\n",
            "Epoch 5/10\n",
            "2964/2964 [==============================] - 39s 13ms/step - loss: 0.0048 - mae: 0.0621 - val_loss: 0.1088 - val_mae: 0.3499\n",
            "Epoch 6/10\n",
            "2964/2964 [==============================] - 38s 13ms/step - loss: 0.0048 - mae: 0.0621 - val_loss: 0.0680 - val_mae: 0.2354\n",
            "Epoch 7/10\n",
            "2964/2964 [==============================] - 39s 13ms/step - loss: 0.0047 - mae: 0.0613 - val_loss: 0.0623 - val_mae: 0.1968\n",
            "Epoch 8/10\n",
            "2964/2964 [==============================] - 38s 13ms/step - loss: 0.0048 - mae: 0.0627 - val_loss: 0.0778 - val_mae: 0.2587\n",
            "Epoch 9/10\n",
            "2964/2964 [==============================] - 38s 13ms/step - loss: 0.0046 - mae: 0.0614 - val_loss: 0.0809 - val_mae: 0.2699\n",
            "Epoch 10/10\n",
            "2964/2964 [==============================] - 38s 13ms/step - loss: 0.0047 - mae: 0.0624 - val_loss: 0.1351 - val_mae: 0.3699\n",
            "Training finished\n"
          ]
        },
        {
          "output_type": "stream",
          "name": "stderr",
          "text": [
            "WARNING:absl:Found untraced functions such as lstm_cell_35_layer_call_fn, lstm_cell_35_layer_call_and_return_conditional_losses, lstm_cell_36_layer_call_fn, lstm_cell_36_layer_call_and_return_conditional_losses while saving (showing 4 of 4). These functions will not be directly callable after loading.\n"
          ]
        },
        {
          "output_type": "stream",
          "name": "stdout",
          "text": [
            "Prev _ ticker :  20MICRONS  -- curr ticker :  21STCENMGM\n",
            "[*********************100%***********************]  1 of 1 completed\n",
            "[*********************100%***********************]  1 of 1 completed\n",
            "Epoch 1/10\n",
            "1014/1014 [==============================] - ETA: 0s - loss: 7.0653e-04 - mae: 0.0246"
          ]
        },
        {
          "output_type": "stream",
          "name": "stderr",
          "text": [
            "WARNING:absl:Found untraced functions such as lstm_cell_37_layer_call_fn, lstm_cell_37_layer_call_and_return_conditional_losses, lstm_cell_38_layer_call_fn, lstm_cell_38_layer_call_and_return_conditional_losses while saving (showing 4 of 4). These functions will not be directly callable after loading.\n"
          ]
        },
        {
          "output_type": "stream",
          "name": "stdout",
          "text": [
            "\b\b\b\b\b\b\b\b\b\b\b\b\b\b\b\b\b\b\b\b\b\b\b\b\b\b\b\b\b\b\b\b\b\b\b\b\b\b\b\b\b\b\b\b\b\b\b\b\b\b\b\b\b\b\b\b\b\b\b\b\b\b\b\b\b\b\b\b\b\b\b\b\b\b\b\b\b\b\b\b\b\b\b\b\b\r1014/1014 [==============================] - 24s 21ms/step - loss: 7.0653e-04 - mae: 0.0246 - val_loss: 9.9229e-04 - val_mae: 0.0375\n",
            "Epoch 2/10\n",
            "1012/1014 [============================>.] - ETA: 0s - loss: 7.1196e-04 - mae: 0.0245"
          ]
        },
        {
          "output_type": "stream",
          "name": "stderr",
          "text": [
            "WARNING:absl:Found untraced functions such as lstm_cell_37_layer_call_fn, lstm_cell_37_layer_call_and_return_conditional_losses, lstm_cell_38_layer_call_fn, lstm_cell_38_layer_call_and_return_conditional_losses while saving (showing 4 of 4). These functions will not be directly callable after loading.\n"
          ]
        },
        {
          "output_type": "stream",
          "name": "stdout",
          "text": [
            "\b\b\b\b\b\b\b\b\b\b\b\b\b\b\b\b\b\b\b\b\b\b\b\b\b\b\b\b\b\b\b\b\b\b\b\b\b\b\b\b\b\b\b\b\b\b\b\b\b\b\b\b\b\b\b\b\b\b\b\b\b\b\b\b\b\b\b\b\b\b\b\b\b\b\b\b\b\b\b\b\b\b\b\b\b\r1014/1014 [==============================] - 19s 19ms/step - loss: 7.1102e-04 - mae: 0.0245 - val_loss: 6.2579e-04 - val_mae: 0.0291\n",
            "Epoch 3/10\n",
            "1014/1014 [==============================] - 13s 13ms/step - loss: 7.1983e-04 - mae: 0.0257 - val_loss: 0.0011 - val_mae: 0.0367\n",
            "Epoch 4/10\n",
            "1014/1014 [==============================] - 13s 13ms/step - loss: 6.5122e-04 - mae: 0.0251 - val_loss: 8.3172e-04 - val_mae: 0.0341\n",
            "Epoch 5/10\n",
            "1014/1014 [==============================] - 13s 13ms/step - loss: 7.0993e-04 - mae: 0.0269 - val_loss: 0.0012 - val_mae: 0.0431\n",
            "Epoch 6/10\n",
            "1014/1014 [==============================] - 13s 13ms/step - loss: 7.2451e-04 - mae: 0.0272 - val_loss: 8.1976e-04 - val_mae: 0.0311\n",
            "Epoch 7/10\n",
            "1014/1014 [==============================] - 13s 13ms/step - loss: 7.3478e-04 - mae: 0.0283 - val_loss: 0.0011 - val_mae: 0.0362\n",
            "Epoch 8/10\n",
            "1013/1014 [============================>.] - ETA: 0s - loss: 7.2207e-04 - mae: 0.0278"
          ]
        },
        {
          "output_type": "stream",
          "name": "stderr",
          "text": [
            "WARNING:absl:Found untraced functions such as lstm_cell_37_layer_call_fn, lstm_cell_37_layer_call_and_return_conditional_losses, lstm_cell_38_layer_call_fn, lstm_cell_38_layer_call_and_return_conditional_losses while saving (showing 4 of 4). These functions will not be directly callable after loading.\n"
          ]
        },
        {
          "output_type": "stream",
          "name": "stdout",
          "text": [
            "\b\b\b\b\b\b\b\b\b\b\b\b\b\b\b\b\b\b\b\b\b\b\b\b\b\b\b\b\b\b\b\b\b\b\b\b\b\b\b\b\b\b\b\b\b\b\b\b\b\b\b\b\b\b\b\b\b\b\b\b\b\b\b\b\b\b\b\b\b\b\b\b\b\b\b\b\b\b\b\b\b\b\b\b\b\r1014/1014 [==============================] - 19s 19ms/step - loss: 7.2146e-04 - mae: 0.0278 - val_loss: 5.9755e-04 - val_mae: 0.0286\n",
            "Epoch 9/10\n",
            "1014/1014 [==============================] - 14s 14ms/step - loss: 7.0930e-04 - mae: 0.0270 - val_loss: 0.0014 - val_mae: 0.0411\n",
            "Epoch 10/10\n",
            "1014/1014 [==============================] - 13s 13ms/step - loss: 6.9127e-04 - mae: 0.0274 - val_loss: 8.1509e-04 - val_mae: 0.0340\n",
            "Training finished\n"
          ]
        },
        {
          "output_type": "stream",
          "name": "stderr",
          "text": [
            "WARNING:absl:Found untraced functions such as lstm_cell_37_layer_call_fn, lstm_cell_37_layer_call_and_return_conditional_losses, lstm_cell_38_layer_call_fn, lstm_cell_38_layer_call_and_return_conditional_losses while saving (showing 4 of 4). These functions will not be directly callable after loading.\n"
          ]
        },
        {
          "output_type": "stream",
          "name": "stdout",
          "text": [
            "Prev _ ticker :  21STCENMGM  -- curr ticker :  3IINFOTECH\n",
            "\r[*********************100%***********************]  1 of 1 completed\n",
            "\n",
            "1 Failed download:\n",
            "- 3IINFOTECH.NS: No data found for this date range, symbol may be delisted\n",
            "NOT included :  3IINFOTECH\n",
            "Prev _ ticker :  21STCENMGM  -- curr ticker :  3MINDIA\n",
            "[*********************100%***********************]  1 of 1 completed\n",
            "[*********************100%***********************]  1 of 1 completed\n",
            "Epoch 1/10\n",
            "4288/4290 [============================>.] - ETA: 0s - loss: 5.0485e-04 - mae: 0.0141"
          ]
        },
        {
          "output_type": "stream",
          "name": "stderr",
          "text": [
            "WARNING:absl:Found untraced functions such as lstm_cell_39_layer_call_fn, lstm_cell_39_layer_call_and_return_conditional_losses, lstm_cell_40_layer_call_fn, lstm_cell_40_layer_call_and_return_conditional_losses while saving (showing 4 of 4). These functions will not be directly callable after loading.\n"
          ]
        },
        {
          "output_type": "stream",
          "name": "stdout",
          "text": [
            "\b\b\b\b\b\b\b\b\b\b\b\b\b\b\b\b\b\b\b\b\b\b\b\b\b\b\b\b\b\b\b\b\b\b\b\b\b\b\b\b\b\b\b\b\b\b\b\b\b\b\b\b\b\b\b\b\b\b\b\b\b\b\b\b\b\b\b\b\b\b\b\b\b\b\b\b\b\b\b\b\b\b\b\b\b\r4290/4290 [==============================] - 67s 15ms/step - loss: 5.0462e-04 - mae: 0.0141 - val_loss: 0.0377 - val_mae: 0.2425\n",
            "Epoch 2/10\n",
            "4285/4290 [============================>.] - ETA: 0s - loss: 4.1692e-04 - mae: 0.0137"
          ]
        },
        {
          "output_type": "stream",
          "name": "stderr",
          "text": [
            "WARNING:absl:Found untraced functions such as lstm_cell_39_layer_call_fn, lstm_cell_39_layer_call_and_return_conditional_losses, lstm_cell_40_layer_call_fn, lstm_cell_40_layer_call_and_return_conditional_losses while saving (showing 4 of 4). These functions will not be directly callable after loading.\n"
          ]
        },
        {
          "output_type": "stream",
          "name": "stdout",
          "text": [
            "\b\b\b\b\b\b\b\b\b\b\b\b\b\b\b\b\b\b\b\b\b\b\b\b\b\b\b\b\b\b\b\b\b\b\b\b\b\b\b\b\b\b\b\b\b\b\b\b\b\b\b\b\b\b\b\b\b\b\b\b\b\b\b\b\b\b\b\b\b\b\b\b\b\b\b\b\b\b\b\b\b\b\b\b\b\r4290/4290 [==============================] - 62s 14ms/step - loss: 4.1647e-04 - mae: 0.0137 - val_loss: 0.0142 - val_mae: 0.1319\n",
            "Epoch 3/10\n",
            "4290/4290 [==============================] - 56s 13ms/step - loss: 4.1810e-04 - mae: 0.0140 - val_loss: 0.0494 - val_mae: 0.2790\n",
            "Epoch 4/10\n",
            "4287/4290 [============================>.] - ETA: 0s - loss: 4.1688e-04 - mae: 0.0150"
          ]
        },
        {
          "output_type": "stream",
          "name": "stderr",
          "text": [
            "WARNING:absl:Found untraced functions such as lstm_cell_39_layer_call_fn, lstm_cell_39_layer_call_and_return_conditional_losses, lstm_cell_40_layer_call_fn, lstm_cell_40_layer_call_and_return_conditional_losses while saving (showing 4 of 4). These functions will not be directly callable after loading.\n"
          ]
        },
        {
          "output_type": "stream",
          "name": "stdout",
          "text": [
            "\b\b\b\b\b\b\b\b\b\b\b\b\b\b\b\b\b\b\b\b\b\b\b\b\b\b\b\b\b\b\b\b\b\b\b\b\b\b\b\b\b\b\b\b\b\b\b\b\b\b\b\b\b\b\b\b\b\b\b\b\b\b\b\b\b\b\b\b\b\b\b\b\b\b\b\b\b\b\b\b\b\b\b\b\b\r4290/4290 [==============================] - 63s 15ms/step - loss: 4.1661e-04 - mae: 0.0150 - val_loss: 0.0048 - val_mae: 0.0735\n",
            "Epoch 5/10\n",
            "4290/4290 [==============================] - 57s 13ms/step - loss: 4.2469e-04 - mae: 0.0156 - val_loss: 0.0098 - val_mae: 0.1060\n",
            "Epoch 6/10\n",
            "4289/4290 [============================>.] - ETA: 0s - loss: 4.3392e-04 - mae: 0.0162"
          ]
        },
        {
          "output_type": "stream",
          "name": "stderr",
          "text": [
            "WARNING:absl:Found untraced functions such as lstm_cell_39_layer_call_fn, lstm_cell_39_layer_call_and_return_conditional_losses, lstm_cell_40_layer_call_fn, lstm_cell_40_layer_call_and_return_conditional_losses while saving (showing 4 of 4). These functions will not be directly callable after loading.\n"
          ]
        },
        {
          "output_type": "stream",
          "name": "stdout",
          "text": [
            "\b\b\b\b\b\b\b\b\b\b\b\b\b\b\b\b\b\b\b\b\b\b\b\b\b\b\b\b\b\b\b\b\b\b\b\b\b\b\b\b\b\b\b\b\b\b\b\b\b\b\b\b\b\b\b\b\b\b\b\b\b\b\b\b\b\b\b\b\b\b\b\b\b\b\b\b\b\b\b\b\b\b\b\b\b\r4290/4290 [==============================] - 62s 14ms/step - loss: 4.3424e-04 - mae: 0.0162 - val_loss: 0.0042 - val_mae: 0.0682\n",
            "Epoch 7/10\n",
            "4290/4290 [==============================] - 56s 13ms/step - loss: 4.3785e-04 - mae: 0.0158 - val_loss: 0.0053 - val_mae: 0.0817\n",
            "Epoch 8/10\n",
            "4290/4290 [==============================] - 56s 13ms/step - loss: 4.3261e-04 - mae: 0.0156 - val_loss: 0.0160 - val_mae: 0.1590\n",
            "Epoch 9/10\n",
            "4290/4290 [==============================] - 56s 13ms/step - loss: 3.8600e-04 - mae: 0.0147 - val_loss: 0.0047 - val_mae: 0.0736\n",
            "Epoch 10/10\n",
            "4290/4290 [==============================] - 56s 13ms/step - loss: 3.8228e-04 - mae: 0.0150 - val_loss: 0.0186 - val_mae: 0.1618\n",
            "Training finished\n"
          ]
        },
        {
          "output_type": "stream",
          "name": "stderr",
          "text": [
            "WARNING:absl:Found untraced functions such as lstm_cell_39_layer_call_fn, lstm_cell_39_layer_call_and_return_conditional_losses, lstm_cell_40_layer_call_fn, lstm_cell_40_layer_call_and_return_conditional_losses while saving (showing 4 of 4). These functions will not be directly callable after loading.\n"
          ]
        },
        {
          "output_type": "stream",
          "name": "stdout",
          "text": [
            "Prev _ ticker :  3MINDIA  -- curr ticker :  3PLAND\n",
            "[*********************100%***********************]  1 of 1 completed\n",
            "[*********************100%***********************]  1 of 1 completed\n",
            "Epoch 1/10\n",
            "3063/3068 [============================>.] - ETA: 0s - loss: 0.0068 - mae: 0.0751"
          ]
        },
        {
          "output_type": "stream",
          "name": "stderr",
          "text": [
            "WARNING:absl:Found untraced functions such as lstm_cell_41_layer_call_fn, lstm_cell_41_layer_call_and_return_conditional_losses, lstm_cell_42_layer_call_fn, lstm_cell_42_layer_call_and_return_conditional_losses while saving (showing 4 of 4). These functions will not be directly callable after loading.\n"
          ]
        },
        {
          "output_type": "stream",
          "name": "stdout",
          "text": [
            "\b\b\b\b\b\b\b\b\b\b\b\b\b\b\b\b\b\b\b\b\b\b\b\b\b\b\b\b\b\b\b\b\b\b\b\b\b\b\b\b\b\b\b\b\b\b\b\b\b\b\b\b\b\b\b\b\b\b\b\b\b\b\b\b\b\b\b\b\b\b\b\b\b\b\b\b\b\b\b\b\b\r3068/3068 [==============================] - 50s 16ms/step - loss: 0.0068 - mae: 0.0751 - val_loss: 0.0064 - val_mae: 0.0837\n",
            "Epoch 2/10\n",
            "3068/3068 [==============================] - 40s 13ms/step - loss: 0.0053 - mae: 0.0704 - val_loss: 0.0069 - val_mae: 0.0825\n",
            "Epoch 3/10\n",
            "3063/3068 [============================>.] - ETA: 0s - loss: 0.0043 - mae: 0.0654"
          ]
        },
        {
          "output_type": "stream",
          "name": "stderr",
          "text": [
            "WARNING:absl:Found untraced functions such as lstm_cell_41_layer_call_fn, lstm_cell_41_layer_call_and_return_conditional_losses, lstm_cell_42_layer_call_fn, lstm_cell_42_layer_call_and_return_conditional_losses while saving (showing 4 of 4). These functions will not be directly callable after loading.\n"
          ]
        },
        {
          "output_type": "stream",
          "name": "stdout",
          "text": [
            "\b\b\b\b\b\b\b\b\b\b\b\b\b\b\b\b\b\b\b\b\b\b\b\b\b\b\b\b\b\b\b\b\b\b\b\b\b\b\b\b\b\b\b\b\b\b\b\b\b\b\b\b\b\b\b\b\b\b\b\b\b\b\b\b\b\b\b\b\b\b\b\b\b\b\b\b\b\b\b\b\b\r3068/3068 [==============================] - 45s 15ms/step - loss: 0.0043 - mae: 0.0654 - val_loss: 0.0057 - val_mae: 0.0797\n",
            "Epoch 4/10\n",
            "3068/3068 [==============================] - 39s 13ms/step - loss: 0.0034 - mae: 0.0594 - val_loss: 0.0068 - val_mae: 0.0811\n",
            "Epoch 5/10\n",
            "3068/3068 [==============================] - 39s 13ms/step - loss: 0.0031 - mae: 0.0566 - val_loss: 0.0113 - val_mae: 0.1094\n",
            "Epoch 6/10\n",
            "3068/3068 [==============================] - 40s 13ms/step - loss: 0.0025 - mae: 0.0508 - val_loss: 0.0091 - val_mae: 0.0912\n",
            "Epoch 7/10\n",
            "3068/3068 [==============================] - 39s 13ms/step - loss: 0.0026 - mae: 0.0513 - val_loss: 0.0091 - val_mae: 0.0941\n",
            "Epoch 8/10\n",
            "3068/3068 [==============================] - 39s 13ms/step - loss: 0.0021 - mae: 0.0473 - val_loss: 0.0100 - val_mae: 0.0892\n",
            "Epoch 9/10\n",
            "3068/3068 [==============================] - 39s 13ms/step - loss: 0.0020 - mae: 0.0469 - val_loss: 0.0169 - val_mae: 0.1487\n",
            "Epoch 10/10\n",
            "3068/3068 [==============================] - 39s 13ms/step - loss: 0.0018 - mae: 0.0433 - val_loss: 0.0124 - val_mae: 0.1109\n",
            "Training finished\n"
          ]
        },
        {
          "output_type": "stream",
          "name": "stderr",
          "text": [
            "WARNING:absl:Found untraced functions such as lstm_cell_41_layer_call_fn, lstm_cell_41_layer_call_and_return_conditional_losses, lstm_cell_42_layer_call_fn, lstm_cell_42_layer_call_and_return_conditional_losses while saving (showing 4 of 4). These functions will not be directly callable after loading.\n"
          ]
        },
        {
          "output_type": "stream",
          "name": "stdout",
          "text": [
            "Prev _ ticker :  3PLAND  -- curr ticker :  3RDROCK\n",
            "[*********************100%***********************]  1 of 1 completed\n",
            "[*********************100%***********************]  1 of 1 completed\n",
            "Epoch 1/10\n",
            "1010/1014 [============================>.] - ETA: 0s - loss: 0.0042 - mae: 0.0158"
          ]
        },
        {
          "output_type": "stream",
          "name": "stderr",
          "text": [
            "WARNING:absl:Found untraced functions such as lstm_cell_43_layer_call_fn, lstm_cell_43_layer_call_and_return_conditional_losses, lstm_cell_44_layer_call_fn, lstm_cell_44_layer_call_and_return_conditional_losses while saving (showing 4 of 4). These functions will not be directly callable after loading.\n"
          ]
        },
        {
          "output_type": "stream",
          "name": "stdout",
          "text": [
            "\b\b\b\b\b\b\b\b\b\b\b\b\b\b\b\b\b\b\b\b\b\b\b\b\b\b\b\b\b\b\b\b\b\b\b\b\b\b\b\b\b\b\b\b\b\b\b\b\b\b\b\b\b\b\b\b\b\b\b\b\b\b\b\b\b\b\b\b\b\b\b\b\b\b\b\b\b\b\b\b\b\r1014/1014 [==============================] - 22s 20ms/step - loss: 0.0042 - mae: 0.0158 - val_loss: 2.0829e-05 - val_mae: 0.0064\n",
            "Epoch 2/10\n",
            "1014/1014 [==============================] - 13s 13ms/step - loss: 0.0040 - mae: 0.0130 - val_loss: 9.8472e-05 - val_mae: 0.0140\n",
            "Epoch 3/10\n",
            "1012/1014 [============================>.] - ETA: 0s - loss: 0.0036 - mae: 0.0117"
          ]
        },
        {
          "output_type": "stream",
          "name": "stderr",
          "text": [
            "WARNING:absl:Found untraced functions such as lstm_cell_43_layer_call_fn, lstm_cell_43_layer_call_and_return_conditional_losses, lstm_cell_44_layer_call_fn, lstm_cell_44_layer_call_and_return_conditional_losses while saving (showing 4 of 4). These functions will not be directly callable after loading.\n"
          ]
        },
        {
          "output_type": "stream",
          "name": "stdout",
          "text": [
            "\b\b\b\b\b\b\b\b\b\b\b\b\b\b\b\b\b\b\b\b\b\b\b\b\b\b\b\b\b\b\b\b\b\b\b\b\b\b\b\b\b\b\b\b\b\b\b\b\b\b\b\b\b\b\b\b\b\b\b\b\b\b\b\b\b\b\b\b\b\b\b\b\b\b\b\b\b\b\b\b\b\r1014/1014 [==============================] - 19s 19ms/step - loss: 0.0036 - mae: 0.0120 - val_loss: 6.5545e-06 - val_mae: 0.0017\n",
            "Epoch 4/10\n",
            "1010/1014 [============================>.] - ETA: 0s - loss: 0.0038 - mae: 0.0133"
          ]
        },
        {
          "output_type": "stream",
          "name": "stderr",
          "text": [
            "WARNING:absl:Found untraced functions such as lstm_cell_43_layer_call_fn, lstm_cell_43_layer_call_and_return_conditional_losses, lstm_cell_44_layer_call_fn, lstm_cell_44_layer_call_and_return_conditional_losses while saving (showing 4 of 4). These functions will not be directly callable after loading.\n"
          ]
        },
        {
          "output_type": "stream",
          "name": "stdout",
          "text": [
            "\b\b\b\b\b\b\b\b\b\b\b\b\b\b\b\b\b\b\b\b\b\b\b\b\b\b\b\b\b\b\b\b\b\b\b\b\b\b\b\b\b\b\b\b\b\b\b\b\b\b\b\b\b\b\b\b\b\b\b\b\b\b\b\b\b\b\b\b\b\b\b\b\b\b\b\b\b\b\b\b\b\r1014/1014 [==============================] - 19s 19ms/step - loss: 0.0037 - mae: 0.0132 - val_loss: 9.3780e-08 - val_mae: 4.3295e-04\n",
            "Epoch 5/10\n",
            "1014/1014 [==============================] - 13s 13ms/step - loss: 0.0032 - mae: 0.0113 - val_loss: 4.3891e-04 - val_mae: 0.0296\n",
            "Epoch 6/10\n",
            "1014/1014 [==============================] - 13s 13ms/step - loss: 0.0036 - mae: 0.0126 - val_loss: 6.1907e-06 - val_mae: 0.0019\n",
            "Epoch 7/10\n",
            "1014/1014 [==============================] - ETA: 0s - loss: 0.0035 - mae: 0.0121"
          ]
        },
        {
          "output_type": "stream",
          "name": "stderr",
          "text": [
            "WARNING:absl:Found untraced functions such as lstm_cell_43_layer_call_fn, lstm_cell_43_layer_call_and_return_conditional_losses, lstm_cell_44_layer_call_fn, lstm_cell_44_layer_call_and_return_conditional_losses while saving (showing 4 of 4). These functions will not be directly callable after loading.\n"
          ]
        },
        {
          "output_type": "stream",
          "name": "stdout",
          "text": [
            "\b\b\b\b\b\b\b\b\b\b\b\b\b\b\b\b\b\b\b\b\b\b\b\b\b\b\b\b\b\b\b\b\b\b\b\b\b\b\b\b\b\b\b\b\b\b\b\b\b\b\b\b\b\b\b\b\b\b\b\b\b\b\b\b\b\b\b\b\b\b\b\b\b\b\b\b\b\b\b\b\b\r1014/1014 [==============================] - 21s 21ms/step - loss: 0.0035 - mae: 0.0121 - val_loss: 8.6869e-08 - val_mae: 4.1630e-04\n",
            "Epoch 8/10\n",
            "1014/1014 [==============================] - 13s 13ms/step - loss: 0.0035 - mae: 0.0132 - val_loss: 8.9165e-04 - val_mae: 0.0422\n",
            "Epoch 9/10\n",
            "1014/1014 [==============================] - 14s 13ms/step - loss: 0.0035 - mae: 0.0125 - val_loss: 1.1800e-05 - val_mae: 0.0039\n",
            "Epoch 10/10\n",
            "1014/1014 [==============================] - ETA: 0s - loss: 0.0039 - mae: 0.0187"
          ]
        },
        {
          "output_type": "stream",
          "name": "stderr",
          "text": [
            "WARNING:absl:Found untraced functions such as lstm_cell_43_layer_call_fn, lstm_cell_43_layer_call_and_return_conditional_losses, lstm_cell_44_layer_call_fn, lstm_cell_44_layer_call_and_return_conditional_losses while saving (showing 4 of 4). These functions will not be directly callable after loading.\n"
          ]
        },
        {
          "output_type": "stream",
          "name": "stdout",
          "text": [
            "\b\b\b\b\b\b\b\b\b\b\b\b\b\b\b\b\b\b\b\b\b\b\b\b\b\b\b\b\b\b\b\b\b\b\b\b\b\b\b\b\b\b\b\b\b\b\b\b\b\b\b\b\b\b\b\b\b\b\b\b\b\b\b\b\b\b\b\b\b\b\b\b\b\b\b\b\b\b\b\b\b\r1014/1014 [==============================] - 20s 20ms/step - loss: 0.0039 - mae: 0.0187 - val_loss: 8.2296e-08 - val_mae: 3.5350e-04\n",
            "Training finished\n"
          ]
        },
        {
          "output_type": "stream",
          "name": "stderr",
          "text": [
            "WARNING:absl:Found untraced functions such as lstm_cell_43_layer_call_fn, lstm_cell_43_layer_call_and_return_conditional_losses, lstm_cell_44_layer_call_fn, lstm_cell_44_layer_call_and_return_conditional_losses while saving (showing 4 of 4). These functions will not be directly callable after loading.\n"
          ]
        },
        {
          "output_type": "stream",
          "name": "stdout",
          "text": [
            "Prev _ ticker :  3RDROCK  -- curr ticker :  5PAISA\n",
            "[*********************100%***********************]  1 of 1 completed\n",
            "[*********************100%***********************]  1 of 1 completed\n",
            "Epoch 1/10\n",
            "1036/1040 [============================>.] - ETA: 0s - loss: 0.0029 - mae: 0.0541"
          ]
        },
        {
          "output_type": "stream",
          "name": "stderr",
          "text": [
            "WARNING:absl:Found untraced functions such as lstm_cell_45_layer_call_fn, lstm_cell_45_layer_call_and_return_conditional_losses, lstm_cell_46_layer_call_fn, lstm_cell_46_layer_call_and_return_conditional_losses while saving (showing 4 of 4). These functions will not be directly callable after loading.\n"
          ]
        },
        {
          "output_type": "stream",
          "name": "stdout",
          "text": [
            "\b\b\b\b\b\b\b\b\b\b\b\b\b\b\b\b\b\b\b\b\b\b\b\b\b\b\b\b\b\b\b\b\b\b\b\b\b\b\b\b\b\b\b\b\b\b\b\b\b\b\b\b\b\b\b\b\b\b\b\b\b\b\b\b\b\b\b\b\b\b\b\b\b\b\b\b\b\b\b\b\b\r1040/1040 [==============================] - 24s 21ms/step - loss: 0.0029 - mae: 0.0541 - val_loss: 0.0055 - val_mae: 0.0787\n",
            "Epoch 2/10\n",
            "1040/1040 [==============================] - 14s 13ms/step - loss: 0.0016 - mae: 0.0426 - val_loss: 0.0092 - val_mae: 0.0909\n",
            "Epoch 3/10\n",
            "1040/1040 [==============================] - 13s 13ms/step - loss: 0.0011 - mae: 0.0351 - val_loss: 0.0084 - val_mae: 0.0896\n",
            "Epoch 4/10\n",
            "1040/1040 [==============================] - 14s 13ms/step - loss: 9.4275e-04 - mae: 0.0318 - val_loss: 0.0115 - val_mae: 0.1063\n",
            "Epoch 5/10\n",
            "1040/1040 [==============================] - 13s 13ms/step - loss: 7.5843e-04 - mae: 0.0292 - val_loss: 0.0101 - val_mae: 0.1012\n",
            "Epoch 6/10\n",
            "1040/1040 [==============================] - 14s 13ms/step - loss: 7.2788e-04 - mae: 0.0287 - val_loss: 0.0092 - val_mae: 0.0945\n",
            "Epoch 7/10\n",
            "1040/1040 [==============================] - 14s 13ms/step - loss: 6.8352e-04 - mae: 0.0275 - val_loss: 0.0095 - val_mae: 0.0965\n",
            "Epoch 8/10\n",
            "1040/1040 [==============================] - 14s 13ms/step - loss: 6.1378e-04 - mae: 0.0262 - val_loss: 0.0091 - val_mae: 0.0975\n",
            "Epoch 9/10\n",
            "1040/1040 [==============================] - 14s 13ms/step - loss: 7.1653e-04 - mae: 0.0265 - val_loss: 0.0091 - val_mae: 0.0961\n",
            "Epoch 10/10\n",
            "1040/1040 [==============================] - 13s 13ms/step - loss: 5.6609e-04 - mae: 0.0251 - val_loss: 0.0087 - val_mae: 0.0937\n",
            "Training finished\n"
          ]
        },
        {
          "output_type": "stream",
          "name": "stderr",
          "text": [
            "WARNING:absl:Found untraced functions such as lstm_cell_45_layer_call_fn, lstm_cell_45_layer_call_and_return_conditional_losses, lstm_cell_46_layer_call_fn, lstm_cell_46_layer_call_and_return_conditional_losses while saving (showing 4 of 4). These functions will not be directly callable after loading.\n"
          ]
        },
        {
          "output_type": "stream",
          "name": "stdout",
          "text": [
            "Prev _ ticker :  5PAISA  -- curr ticker :  63MOONS\n",
            "[*********************100%***********************]  1 of 1 completed\n",
            "[*********************100%***********************]  1 of 1 completed\n",
            "Epoch 1/10\n",
            "3638/3640 [============================>.] - ETA: 0s - loss: 0.0010 - mae: 0.0267"
          ]
        },
        {
          "output_type": "stream",
          "name": "stderr",
          "text": [
            "WARNING:absl:Found untraced functions such as lstm_cell_47_layer_call_fn, lstm_cell_47_layer_call_and_return_conditional_losses, lstm_cell_48_layer_call_fn, lstm_cell_48_layer_call_and_return_conditional_losses while saving (showing 4 of 4). These functions will not be directly callable after loading.\n"
          ]
        },
        {
          "output_type": "stream",
          "name": "stdout",
          "text": [
            "\b\b\b\b\b\b\b\b\b\b\b\b\b\b\b\b\b\b\b\b\b\b\b\b\b\b\b\b\b\b\b\b\b\b\b\b\b\b\b\b\b\b\b\b\b\b\b\b\b\b\b\b\b\b\b\b\b\b\b\b\b\b\b\b\b\b\b\b\b\b\b\b\b\b\b\b\b\b\b\b\b\r3640/3640 [==============================] - 57s 15ms/step - loss: 0.0010 - mae: 0.0267 - val_loss: 4.2957e-04 - val_mae: 0.0287\n",
            "Epoch 2/10\n",
            "3640/3640 [==============================] - 48s 13ms/step - loss: 7.3414e-04 - mae: 0.0233 - val_loss: 5.3446e-04 - val_mae: 0.0322\n",
            "Epoch 3/10\n",
            "3635/3640 [============================>.] - ETA: 0s - loss: 6.1287e-04 - mae: 0.0217"
          ]
        },
        {
          "output_type": "stream",
          "name": "stderr",
          "text": [
            "WARNING:absl:Found untraced functions such as lstm_cell_47_layer_call_fn, lstm_cell_47_layer_call_and_return_conditional_losses, lstm_cell_48_layer_call_fn, lstm_cell_48_layer_call_and_return_conditional_losses while saving (showing 4 of 4). These functions will not be directly callable after loading.\n"
          ]
        },
        {
          "output_type": "stream",
          "name": "stdout",
          "text": [
            "\b\b\b\b\b\b\b\b\b\b\b\b\b\b\b\b\b\b\b\b\b\b\b\b\b\b\b\b\b\b\b\b\b\b\b\b\b\b\b\b\b\b\b\b\b\b\b\b\b\b\b\b\b\b\b\b\b\b\b\b\b\b\b\b\b\b\b\b\b\b\b\b\b\b\b\b\b\b\b\b\b\b\b\b\b\r3640/3640 [==============================] - 54s 15ms/step - loss: 6.1259e-04 - mae: 0.0217 - val_loss: 4.5868e-05 - val_mae: 0.0080\n",
            "Epoch 4/10\n",
            "3640/3640 [==============================] - 48s 13ms/step - loss: 6.5645e-04 - mae: 0.0221 - val_loss: 3.8293e-04 - val_mae: 0.0272\n",
            "Epoch 5/10\n",
            "3636/3640 [============================>.] - ETA: 0s - loss: 4.4277e-04 - mae: 0.0186"
          ]
        },
        {
          "output_type": "stream",
          "name": "stderr",
          "text": [
            "WARNING:absl:Found untraced functions such as lstm_cell_47_layer_call_fn, lstm_cell_47_layer_call_and_return_conditional_losses, lstm_cell_48_layer_call_fn, lstm_cell_48_layer_call_and_return_conditional_losses while saving (showing 4 of 4). These functions will not be directly callable after loading.\n"
          ]
        },
        {
          "output_type": "stream",
          "name": "stdout",
          "text": [
            "\b\b\b\b\b\b\b\b\b\b\b\b\b\b\b\b\b\b\b\b\b\b\b\b\b\b\b\b\b\b\b\b\b\b\b\b\b\b\b\b\b\b\b\b\b\b\b\b\b\b\b\b\b\b\b\b\b\b\b\b\b\b\b\b\b\b\b\b\b\b\b\b\b\b\b\b\b\b\b\b\b\b\b\b\b\r3640/3640 [==============================] - 53s 15ms/step - loss: 4.4230e-04 - mae: 0.0186 - val_loss: 1.4767e-05 - val_mae: 0.0037\n",
            "Epoch 6/10\n",
            "3640/3640 [==============================] - 48s 13ms/step - loss: 4.7696e-04 - mae: 0.0189 - val_loss: 0.0020 - val_mae: 0.0628\n",
            "Epoch 7/10\n",
            "3640/3640 [==============================] - 47s 13ms/step - loss: 4.9743e-04 - mae: 0.0187 - val_loss: 2.1036e-04 - val_mae: 0.0197\n",
            "Epoch 8/10\n",
            "3640/3640 [==============================] - 48s 13ms/step - loss: 3.8954e-04 - mae: 0.0175 - val_loss: 6.8439e-05 - val_mae: 0.0084\n",
            "Epoch 9/10\n",
            "3640/3640 [==============================] - 48s 13ms/step - loss: 3.0079e-04 - mae: 0.0158 - val_loss: 8.9779e-04 - val_mae: 0.0418\n",
            "Epoch 10/10\n",
            "3640/3640 [==============================] - 53s 15ms/step - loss: 4.2477e-04 - mae: 0.0178 - val_loss: 0.0022 - val_mae: 0.0655\n",
            "Training finished\n"
          ]
        },
        {
          "output_type": "stream",
          "name": "stderr",
          "text": [
            "WARNING:absl:Found untraced functions such as lstm_cell_47_layer_call_fn, lstm_cell_47_layer_call_and_return_conditional_losses, lstm_cell_48_layer_call_fn, lstm_cell_48_layer_call_and_return_conditional_losses while saving (showing 4 of 4). These functions will not be directly callable after loading.\n"
          ]
        },
        {
          "output_type": "stream",
          "name": "stdout",
          "text": [
            "Prev _ ticker :  63MOONS  -- curr ticker :  AMJUMBO\n",
            "[*********************100%***********************]  1 of 1 completed\n",
            "\n",
            "1 Failed download:\n",
            "- AMJUMBO.NS: No data found for this date range, symbol may be delisted\n",
            "NOT included :  AMJUMBO\n",
            "Prev _ ticker :  63MOONS  -- curr ticker :  ABINFRA\n",
            "[*********************100%***********************]  1 of 1 completed\n",
            "\n",
            "1 Failed download:\n",
            "- ABINFRA.NS: No data found for this date range, symbol may be delisted\n",
            "NOT included :  ABINFRA\n"
          ]
        }
      ]
    },
    {
      "cell_type": "code",
      "source": [
        "\n",
        "\n",
        "stock_models_dict"
      ],
      "metadata": {
        "colab": {
          "base_uri": "https://localhost:8080/"
        },
        "id": "gPYl88Lv3Msj",
        "outputId": "1f731232-951f-456a-eda7-c94808ae33f1"
      },
      "execution_count": 36,
      "outputs": [
        {
          "output_type": "execute_result",
          "data": {
            "text/plain": [
              "{'20MICRONS': {'model': <__main__.StockModel at 0x7f6400866a90>,\n",
              "  'history': <keras.callbacks.History at 0x7f63e94b28b0>},\n",
              " '21STCENMGM': {'model': <__main__.StockModel at 0x7f63e9691640>,\n",
              "  'history': <keras.callbacks.History at 0x7f63ea666310>},\n",
              " '3MINDIA': {'model': <__main__.StockModel at 0x7f63ec9e80a0>,\n",
              "  'history': <keras.callbacks.History at 0x7f63e7e77cd0>},\n",
              " '3PLAND': {'model': <__main__.StockModel at 0x7f63e3c1c1f0>,\n",
              "  'history': <keras.callbacks.History at 0x7f63e45635b0>},\n",
              " '3RDROCK': {'model': <__main__.StockModel at 0x7f63e2ef87c0>,\n",
              "  'history': <keras.callbacks.History at 0x7f63e7c51760>},\n",
              " '5PAISA': {'model': <__main__.StockModel at 0x7f63da524ca0>,\n",
              "  'history': <keras.callbacks.History at 0x7f63e2e0cbe0>},\n",
              " '63MOONS': {'model': <__main__.StockModel at 0x7f63d92270a0>,\n",
              "  'history': <keras.callbacks.History at 0x7f63e24ea520>}}"
            ]
          },
          "metadata": {},
          "execution_count": 36
        }
      ]
    },
    {
      "cell_type": "code",
      "source": [
        "## TEst with RELIANCE DATA\n",
        "\n",
        "prev_ticker = \"63MOONS\"\n",
        "ticker = \"3PLAND\"\n",
        "rel_stock_model = StockModel(lstm_nodes = lstm_nodes , first_model = False, prev_ticker = prev_ticker, ticker = ticker, window_size = window_size, batch_size = batch_size)\n",
        "\n",
        "    \n",
        "rel_stock_model.prepare_data()\n",
        "rel_stock_model.evaluate()\n",
        "\n",
        "rel_stock_model.show_result(0,300)"
      ],
      "metadata": {
        "colab": {
          "base_uri": "https://localhost:8080/",
          "height": 482
        },
        "id": "2gPXTgEqWZE4",
        "outputId": "f2e10189-6353-4501-8d59-f79a4ea9b25f"
      },
      "execution_count": 42,
      "outputs": [
        {
          "output_type": "stream",
          "name": "stdout",
          "text": [
            "\r[*********************100%***********************]  1 of 1 completed\n"
          ]
        },
        {
          "output_type": "stream",
          "name": "stderr",
          "text": [
            "WARNING:tensorflow:6 out of the last 6 calls to <function Model.make_predict_function.<locals>.predict_function at 0x7f63f35a88b0> triggered tf.function retracing. Tracing is expensive and the excessive number of tracings could be due to (1) creating @tf.function repeatedly in a loop, (2) passing tensors with different shapes, (3) passing Python objects instead of tensors. For (1), please define your @tf.function outside of the loop. For (2), @tf.function has reduce_retracing=True option that can avoid unnecessary retracing. For (3), please refer to https://www.tensorflow.org/guide/function#controlling_retracing and https://www.tensorflow.org/api_docs/python/tf/function for  more details.\n"
          ]
        },
        {
          "output_type": "stream",
          "name": "stdout",
          "text": [
            "1/1 [==============================] - 1s 627ms/step\n"
          ]
        },
        {
          "output_type": "display_data",
          "data": {
            "text/plain": [
              "<Figure size 720x432 with 1 Axes>"
            ],
            "image/png": "[encoded data removed]"
          },
          "metadata": {}
        }
      ]
    },
    {
      "cell_type": "code",
      "source": [
        "rel_stock_model.show_result(115,7)"
      ],
      "metadata": {
        "colab": {
          "base_uri": "https://localhost:8080/",
          "height": 410
        },
        "id": "yhKAB9GoZQIc",
        "outputId": "a8052784-a459-4bee-c358-1797bfb950c8"
      },
      "execution_count": 51,
      "outputs": [
        {
          "output_type": "display_data",
          "data": {
            "text/plain": [
              "<Figure size 720x432 with 1 Axes>"
            ],
            "image/png": "[encoded data removed]"
          },
          "metadata": {}
        }
      ]
    },
    {
      "cell_type": "code",
      "source": [
        "first_model = False\n",
        "lstm_nodes = [104, 104]\n",
        "window_size = 26\n",
        "batch_size = 1\n",
        "epochs = 15\n",
        "early_stopping = 10"
      ],
      "metadata": {
        "id": "V1yiq-KxaYLv"
      },
      "execution_count": 52,
      "outputs": []
    },
    {
      "cell_type": "code",
      "source": [
        "page = pd.read_html(\"https://en.wikipedia.org/wiki/List_of_companies_listed_on_the_National_Stock_Exchange_of_India\")\n",
        "type(page[1])\n",
        "\n",
        "def get_sym(symbol):\n",
        "  return str(symbol).split()[-1]\n",
        "\n",
        "stock_symbols = pd.DataFrame()\n",
        "for p in page:\n",
        "  #print(p)\n",
        "  #user_input = input(\"y/n\")\n",
        "  if \"Symbol\" in p.columns:\n",
        "    stock_symbols = pd.concat([stock_symbols,p], axis = 0)\n",
        "    #print(stock_symbols.shape)\n",
        "\n",
        "stock_symbols['stock_sym'] = stock_symbols['Symbol'].apply(get_sym)\n",
        "\n",
        "stock_symbols = stock_symbols.reset_index(drop=True)\n",
        "\n",
        "# for ticker in random.sample(stock_symbols['stock_sym'].to_list(), 10):\n",
        "for ticker in stock_symbols['stock_sym'].to_list()[10:20]:  \n",
        "    print(\"Prev _ ticker : \", prev_ticker, \" -- curr ticker : \",ticker)\n",
        "    data = yf.download(ticker + '.ns', group_by=\"ticker\", start = '1990-01-01', end = '2022-12-18')\n",
        "    if len(data) < 600:\n",
        "      print(\"NOT included : \", ticker)\n",
        "      continue      \n",
        "    if first_model:\n",
        "      prev_ticker = \"\"\n",
        "      stock_model = StockModel(lstm_nodes = lstm_nodes , first_model = True, prev_ticker = prev_ticker, ticker = ticker, window_size = window_size, batch_size = batch_size)\n",
        "      first_model = False\n",
        "      \n",
        "    else:\n",
        "      stock_model = StockModel(lstm_nodes = lstm_nodes , first_model = False, prev_ticker = prev_ticker, ticker = ticker, window_size = window_size, batch_size = batch_size)\n",
        "\n",
        "    \n",
        "    stock_model.prepare_data()\n",
        "    history = stock_model.train(epochs,early_stopping)\n",
        "    stock_models_dict[ticker] = {'model' : stock_model, 'history':history}\n",
        "    prev_ticker = ticker\n"
      ],
      "metadata": {
        "colab": {
          "base_uri": "https://localhost:8080/"
        },
        "id": "WJb45JOXaSxx",
        "outputId": "8884da1c-c35a-4eb3-948c-ceb5fc987516"
      },
      "execution_count": 54,
      "outputs": [
        {
          "output_type": "stream",
          "name": "stdout",
          "text": [
            "Prev _ ticker :  63MOONS  -- curr ticker :  ABNINT\n",
            "\r[*********************100%***********************]  1 of 1 completed\n",
            "\n",
            "1 Failed download:\n",
            "- ABNINT.NS: No data found for this date range, symbol may be delisted\n",
            "NOT included :  ABNINT\n",
            "Prev _ ticker :  63MOONS  -- curr ticker :  A2ZINFRA\n",
            "[*********************100%***********************]  1 of 1 completed\n",
            "[*********************100%***********************]  1 of 1 completed\n",
            "Epoch 1/15\n",
            "2494/2496 [============================>.] - ETA: 0s - loss: 0.0015 - mae: 0.0211"
          ]
        },
        {
          "output_type": "stream",
          "name": "stderr",
          "text": [
            "WARNING:absl:Found untraced functions such as lstm_cell_61_layer_call_fn, lstm_cell_61_layer_call_and_return_conditional_losses, lstm_cell_62_layer_call_fn, lstm_cell_62_layer_call_and_return_conditional_losses while saving (showing 4 of 4). These functions will not be directly callable after loading.\n"
          ]
        },
        {
          "output_type": "stream",
          "name": "stdout",
          "text": [
            "\b\b\b\b\b\b\b\b\b\b\b\b\b\b\b\b\b\b\b\b\b\b\b\b\b\b\b\b\b\b\b\b\b\b\b\b\b\b\b\b\b\b\b\b\b\b\b\b\b\b\b\b\b\b\b\b\b\b\b\b\b\b\b\b\b\b\b\b\b\b\b\b\b\b\b\b\b\b\b\b\b\r2496/2496 [==============================] - 42s 16ms/step - loss: 0.0015 - mae: 0.0211 - val_loss: 1.4471e-05 - val_mae: 0.0041\n",
            "Epoch 2/15\n",
            "2496/2496 [==============================] - 33s 13ms/step - loss: 5.3998e-04 - mae: 0.0171 - val_loss: 3.6154e-04 - val_mae: 0.0260\n",
            "Epoch 3/15\n",
            "2496/2496 [==============================] - 33s 13ms/step - loss: 5.8156e-04 - mae: 0.0176 - val_loss: 0.0041 - val_mae: 0.0890\n",
            "Epoch 4/15\n",
            "2496/2496 [==============================] - 32s 13ms/step - loss: 6.9399e-04 - mae: 0.0193 - val_loss: 0.0115 - val_mae: 0.1441\n",
            "Epoch 5/15\n",
            "2496/2496 [==============================] - 32s 13ms/step - loss: 0.0011 - mae: 0.0214 - val_loss: 7.9806e-04 - val_mae: 0.0385\n",
            "Epoch 6/15\n",
            "2496/2496 [==============================] - 33s 13ms/step - loss: 6.9992e-04 - mae: 0.0193 - val_loss: 0.0040 - val_mae: 0.0881\n",
            "Epoch 7/15\n",
            "2496/2496 [==============================] - 32s 13ms/step - loss: 6.5236e-04 - mae: 0.0186 - val_loss: 7.6967e-05 - val_mae: 0.0090\n",
            "Epoch 8/15\n",
            "2496/2496 [==============================] - 32s 13ms/step - loss: 9.6596e-04 - mae: 0.0205 - val_loss: 0.0018 - val_mae: 0.0587\n",
            "Epoch 9/15\n",
            "2496/2496 [==============================] - 32s 13ms/step - loss: 0.0020 - mae: 0.0258 - val_loss: 4.1052e-04 - val_mae: 0.0274\n",
            "Epoch 10/15\n",
            "2496/2496 [==============================] - 33s 13ms/step - loss: 0.0014 - mae: 0.0223 - val_loss: 8.3937e-04 - val_mae: 0.0405\n",
            "Epoch 11/15\n",
            "2496/2496 [==============================] - 32s 13ms/step - loss: 7.1870e-04 - mae: 0.0192 - val_loss: 0.0054 - val_mae: 0.1029\n",
            "Training finished\n"
          ]
        },
        {
          "output_type": "stream",
          "name": "stderr",
          "text": [
            "WARNING:absl:Found untraced functions such as lstm_cell_61_layer_call_fn, lstm_cell_61_layer_call_and_return_conditional_losses, lstm_cell_62_layer_call_fn, lstm_cell_62_layer_call_and_return_conditional_losses while saving (showing 4 of 4). These functions will not be directly callable after loading.\n"
          ]
        },
        {
          "output_type": "stream",
          "name": "stdout",
          "text": [
            "Prev _ ticker :  A2ZINFRA  -- curr ticker :  AAKASH\n",
            "[*********************100%***********************]  1 of 1 completed\n",
            "[*********************100%***********************]  1 of 1 completed\n",
            "Epoch 1/15\n",
            "935/936 [============================>.] - ETA: 0s - loss: 5.6072e-04 - mae: 0.0170"
          ]
        },
        {
          "output_type": "stream",
          "name": "stderr",
          "text": [
            "WARNING:absl:Found untraced functions such as lstm_cell_63_layer_call_fn, lstm_cell_63_layer_call_and_return_conditional_losses, lstm_cell_64_layer_call_fn, lstm_cell_64_layer_call_and_return_conditional_losses while saving (showing 4 of 4). These functions will not be directly callable after loading.\n"
          ]
        },
        {
          "output_type": "stream",
          "name": "stdout",
          "text": [
            "\b\b\b\b\b\b\b\b\b\b\b\b\b\b\b\b\b\b\b\b\b\b\b\b\b\b\b\b\b\b\b\b\b\b\b\b\b\b\b\b\b\b\b\b\b\b\b\b\b\b\b\b\b\b\b\b\b\b\b\b\b\b\b\b\b\b\b\b\b\b\b\b\b\b\b\b\b\b\b\b\b\b\b\r936/936 [==============================] - 21s 20ms/step - loss: 5.6026e-04 - mae: 0.0170 - val_loss: 0.0110 - val_mae: 0.1124\n",
            "Epoch 2/15\n",
            "936/936 [==============================] - ETA: 0s - loss: 1.7979e-04 - mae: 0.0119"
          ]
        },
        {
          "output_type": "stream",
          "name": "stderr",
          "text": [
            "WARNING:absl:Found untraced functions such as lstm_cell_63_layer_call_fn, lstm_cell_63_layer_call_and_return_conditional_losses, lstm_cell_64_layer_call_fn, lstm_cell_64_layer_call_and_return_conditional_losses while saving (showing 4 of 4). These functions will not be directly callable after loading.\n"
          ]
        },
        {
          "output_type": "stream",
          "name": "stdout",
          "text": [
            "\b\b\b\b\b\b\b\b\b\b\b\b\b\b\b\b\b\b\b\b\b\b\b\b\b\b\b\b\b\b\b\b\b\b\b\b\b\b\b\b\b\b\b\b\b\b\b\b\b\b\b\b\b\b\b\b\b\b\b\b\b\b\b\b\b\b\b\b\b\b\b\b\b\b\b\b\b\b\b\b\b\b\b\r936/936 [==============================] - 20s 22ms/step - loss: 1.7979e-04 - mae: 0.0119 - val_loss: 0.0090 - val_mae: 0.1038\n",
            "Epoch 3/15\n",
            "936/936 [==============================] - ETA: 0s - loss: 1.5842e-04 - mae: 0.0116"
          ]
        },
        {
          "output_type": "stream",
          "name": "stderr",
          "text": [
            "WARNING:absl:Found untraced functions such as lstm_cell_63_layer_call_fn, lstm_cell_63_layer_call_and_return_conditional_losses, lstm_cell_64_layer_call_fn, lstm_cell_64_layer_call_and_return_conditional_losses while saving (showing 4 of 4). These functions will not be directly callable after loading.\n"
          ]
        },
        {
          "output_type": "stream",
          "name": "stdout",
          "text": [
            "\b\b\b\b\b\b\b\b\b\b\b\b\b\b\b\b\b\b\b\b\b\b\b\b\b\b\b\b\b\b\b\b\b\b\b\b\b\b\b\b\b\b\b\b\b\b\b\b\b\b\b\b\b\b\b\b\b\b\b\b\b\b\b\b\b\b\b\b\b\b\b\b\b\b\b\b\b\b\b\b\b\b\b\r936/936 [==============================] - 18s 19ms/step - loss: 1.5842e-04 - mae: 0.0116 - val_loss: 0.0077 - val_mae: 0.0989\n",
            "Epoch 4/15\n",
            "936/936 [==============================] - 13s 14ms/step - loss: 2.0168e-04 - mae: 0.0125 - val_loss: 0.0083 - val_mae: 0.1037\n",
            "Epoch 5/15\n",
            "935/936 [============================>.] - ETA: 0s - loss: 2.4076e-04 - mae: 0.0117"
          ]
        },
        {
          "output_type": "stream",
          "name": "stderr",
          "text": [
            "WARNING:absl:Found untraced functions such as lstm_cell_63_layer_call_fn, lstm_cell_63_layer_call_and_return_conditional_losses, lstm_cell_64_layer_call_fn, lstm_cell_64_layer_call_and_return_conditional_losses while saving (showing 4 of 4). These functions will not be directly callable after loading.\n"
          ]
        },
        {
          "output_type": "stream",
          "name": "stdout",
          "text": [
            "\b\b\b\b\b\b\b\b\b\b\b\b\b\b\b\b\b\b\b\b\b\b\b\b\b\b\b\b\b\b\b\b\b\b\b\b\b\b\b\b\b\b\b\b\b\b\b\b\b\b\b\b\b\b\b\b\b\b\b\b\b\b\b\b\b\b\b\b\b\b\b\b\b\b\b\b\b\b\b\b\b\b\b\r936/936 [==============================] - 18s 19ms/step - loss: 2.4063e-04 - mae: 0.0117 - val_loss: 0.0070 - val_mae: 0.0959\n",
            "Epoch 6/15\n",
            "934/936 [============================>.] - ETA: 0s - loss: 1.3108e-04 - mae: 0.0103"
          ]
        },
        {
          "output_type": "stream",
          "name": "stderr",
          "text": [
            "WARNING:absl:Found untraced functions such as lstm_cell_63_layer_call_fn, lstm_cell_63_layer_call_and_return_conditional_losses, lstm_cell_64_layer_call_fn, lstm_cell_64_layer_call_and_return_conditional_losses while saving (showing 4 of 4). These functions will not be directly callable after loading.\n"
          ]
        },
        {
          "output_type": "stream",
          "name": "stdout",
          "text": [
            "\b\b\b\b\b\b\b\b\b\b\b\b\b\b\b\b\b\b\b\b\b\b\b\b\b\b\b\b\b\b\b\b\b\b\b\b\b\b\b\b\b\b\b\b\b\b\b\b\b\b\b\b\b\b\b\b\b\b\b\b\b\b\b\b\b\b\b\b\b\b\b\b\b\b\b\b\b\b\b\b\b\b\b\r936/936 [==============================] - 19s 20ms/step - loss: 1.3096e-04 - mae: 0.0103 - val_loss: 0.0064 - val_mae: 0.0894\n",
            "Epoch 7/15\n",
            "935/936 [============================>.] - ETA: 0s - loss: 1.9277e-04 - mae: 0.0125"
          ]
        },
        {
          "output_type": "stream",
          "name": "stderr",
          "text": [
            "WARNING:absl:Found untraced functions such as lstm_cell_63_layer_call_fn, lstm_cell_63_layer_call_and_return_conditional_losses, lstm_cell_64_layer_call_fn, lstm_cell_64_layer_call_and_return_conditional_losses while saving (showing 4 of 4). These functions will not be directly callable after loading.\n"
          ]
        },
        {
          "output_type": "stream",
          "name": "stdout",
          "text": [
            "\b\b\b\b\b\b\b\b\b\b\b\b\b\b\b\b\b\b\b\b\b\b\b\b\b\b\b\b\b\b\b\b\b\b\b\b\b\b\b\b\b\b\b\b\b\b\b\b\b\b\b\b\b\b\b\b\b\b\b\b\b\b\b\b\b\b\b\b\b\b\b\b\b\b\b\b\b\b\b\b\b\b\b\r936/936 [==============================] - 19s 20ms/step - loss: 1.9262e-04 - mae: 0.0125 - val_loss: 0.0061 - val_mae: 0.0899\n",
            "Epoch 8/15\n",
            "931/936 [============================>.] - ETA: 0s - loss: 1.6900e-04 - mae: 0.0121"
          ]
        },
        {
          "output_type": "stream",
          "name": "stderr",
          "text": [
            "WARNING:absl:Found untraced functions such as lstm_cell_63_layer_call_fn, lstm_cell_63_layer_call_and_return_conditional_losses, lstm_cell_64_layer_call_fn, lstm_cell_64_layer_call_and_return_conditional_losses while saving (showing 4 of 4). These functions will not be directly callable after loading.\n"
          ]
        },
        {
          "output_type": "stream",
          "name": "stdout",
          "text": [
            "\b\b\b\b\b\b\b\b\b\b\b\b\b\b\b\b\b\b\b\b\b\b\b\b\b\b\b\b\b\b\b\b\b\b\b\b\b\b\b\b\b\b\b\b\b\b\b\b\b\b\b\b\b\b\b\b\b\b\b\b\b\b\b\b\b\b\b\b\b\b\b\b\b\b\b\b\b\b\b\b\b\b\b\r936/936 [==============================] - 18s 19ms/step - loss: 1.6937e-04 - mae: 0.0121 - val_loss: 0.0059 - val_mae: 0.0891\n",
            "Epoch 9/15\n",
            "936/936 [==============================] - 12s 13ms/step - loss: 1.4075e-04 - mae: 0.0102 - val_loss: 0.0080 - val_mae: 0.1046\n",
            "Epoch 10/15\n",
            "936/936 [==============================] - 12s 13ms/step - loss: 2.0313e-04 - mae: 0.0131 - val_loss: 0.0075 - val_mae: 0.1004\n",
            "Epoch 11/15\n",
            "936/936 [==============================] - 12s 13ms/step - loss: 2.3617e-04 - mae: 0.0154 - val_loss: 0.0074 - val_mae: 0.1027\n",
            "Epoch 12/15\n",
            "935/936 [============================>.] - ETA: 0s - loss: 2.3725e-04 - mae: 0.0160"
          ]
        },
        {
          "output_type": "stream",
          "name": "stderr",
          "text": [
            "WARNING:absl:Found untraced functions such as lstm_cell_63_layer_call_fn, lstm_cell_63_layer_call_and_return_conditional_losses, lstm_cell_64_layer_call_fn, lstm_cell_64_layer_call_and_return_conditional_losses while saving (showing 4 of 4). These functions will not be directly callable after loading.\n"
          ]
        },
        {
          "output_type": "stream",
          "name": "stdout",
          "text": [
            "\b\b\b\b\b\b\b\b\b\b\b\b\b\b\b\b\b\b\b\b\b\b\b\b\b\b\b\b\b\b\b\b\b\b\b\b\b\b\b\b\b\b\b\b\b\b\b\b\b\b\b\b\b\b\b\b\b\b\b\b\b\b\b\b\b\b\b\b\b\b\b\b\b\b\b\b\b\b\b\b\b\b\b\r936/936 [==============================] - 19s 21ms/step - loss: 2.3767e-04 - mae: 0.0161 - val_loss: 0.0058 - val_mae: 0.0876\n",
            "Epoch 13/15\n",
            "936/936 [==============================] - 12s 13ms/step - loss: 1.2475e-04 - mae: 0.0107 - val_loss: 0.0064 - val_mae: 0.0920\n",
            "Epoch 14/15\n",
            "936/936 [==============================] - 12s 13ms/step - loss: 2.3016e-04 - mae: 0.0143 - val_loss: 0.0071 - val_mae: 0.0967\n",
            "Epoch 15/15\n",
            "936/936 [==============================] - 12s 13ms/step - loss: 8.8161e-05 - mae: 0.0091 - val_loss: 0.0074 - val_mae: 0.1018\n",
            "Training finished\n"
          ]
        },
        {
          "output_type": "stream",
          "name": "stderr",
          "text": [
            "WARNING:absl:Found untraced functions such as lstm_cell_63_layer_call_fn, lstm_cell_63_layer_call_and_return_conditional_losses, lstm_cell_64_layer_call_fn, lstm_cell_64_layer_call_and_return_conditional_losses while saving (showing 4 of 4). These functions will not be directly callable after loading.\n"
          ]
        },
        {
          "output_type": "stream",
          "name": "stdout",
          "text": [
            "Prev _ ticker :  AAKASH  -- curr ticker :  AARON\n",
            "[*********************100%***********************]  1 of 1 completed\n",
            "[*********************100%***********************]  1 of 1 completed\n",
            "Epoch 1/15\n",
            "855/858 [============================>.] - ETA: 0s - loss: 0.0033 - mae: 0.0212"
          ]
        },
        {
          "output_type": "stream",
          "name": "stderr",
          "text": [
            "WARNING:absl:Found untraced functions such as lstm_cell_65_layer_call_fn, lstm_cell_65_layer_call_and_return_conditional_losses, lstm_cell_66_layer_call_fn, lstm_cell_66_layer_call_and_return_conditional_losses while saving (showing 4 of 4). These functions will not be directly callable after loading.\n"
          ]
        },
        {
          "output_type": "stream",
          "name": "stdout",
          "text": [
            "\b\b\b\b\b\b\b\b\b\b\b\b\b\b\b\b\b\b\b\b\b\b\b\b\b\b\b\b\b\b\b\b\b\b\b\b\b\b\b\b\b\b\b\b\b\b\b\b\b\b\b\b\b\b\b\b\b\b\b\b\b\b\b\b\b\b\b\b\b\b\b\b\b\b\b\b\b\b\b\r858/858 [==============================] - 20s 21ms/step - loss: 0.0032 - mae: 0.0212 - val_loss: 0.0298 - val_mae: 0.1831\n",
            "Epoch 2/15\n",
            "853/858 [============================>.] - ETA: 0s - loss: 0.0030 - mae: 0.0198"
          ]
        },
        {
          "output_type": "stream",
          "name": "stderr",
          "text": [
            "WARNING:absl:Found untraced functions such as lstm_cell_65_layer_call_fn, lstm_cell_65_layer_call_and_return_conditional_losses, lstm_cell_66_layer_call_fn, lstm_cell_66_layer_call_and_return_conditional_losses while saving (showing 4 of 4). These functions will not be directly callable after loading.\n"
          ]
        },
        {
          "output_type": "stream",
          "name": "stdout",
          "text": [
            "\b\b\b\b\b\b\b\b\b\b\b\b\b\b\b\b\b\b\b\b\b\b\b\b\b\b\b\b\b\b\b\b\b\b\b\b\b\b\b\b\b\b\b\b\b\b\b\b\b\b\b\b\b\b\b\b\b\b\b\b\b\b\b\b\b\b\b\b\b\b\b\b\b\b\b\b\b\b\b\r858/858 [==============================] - 17s 20ms/step - loss: 0.0030 - mae: 0.0198 - val_loss: 0.0258 - val_mae: 0.1767\n",
            "Epoch 3/15\n",
            "855/858 [============================>.] - ETA: 0s - loss: 0.0030 - mae: 0.0198"
          ]
        },
        {
          "output_type": "stream",
          "name": "stderr",
          "text": [
            "WARNING:absl:Found untraced functions such as lstm_cell_65_layer_call_fn, lstm_cell_65_layer_call_and_return_conditional_losses, lstm_cell_66_layer_call_fn, lstm_cell_66_layer_call_and_return_conditional_losses while saving (showing 4 of 4). These functions will not be directly callable after loading.\n"
          ]
        },
        {
          "output_type": "stream",
          "name": "stdout",
          "text": [
            "\b\b\b\b\b\b\b\b\b\b\b\b\b\b\b\b\b\b\b\b\b\b\b\b\b\b\b\b\b\b\b\b\b\b\b\b\b\b\b\b\b\b\b\b\b\b\b\b\b\b\b\b\b\b\b\b\b\b\b\b\b\b\b\b\b\b\b\b\b\b\b\b\b\b\b\b\b\b\b\r858/858 [==============================] - 17s 20ms/step - loss: 0.0030 - mae: 0.0198 - val_loss: 0.0176 - val_mae: 0.1494\n",
            "Epoch 4/15\n",
            "854/858 [============================>.] - ETA: 0s - loss: 0.0030 - mae: 0.0207"
          ]
        },
        {
          "output_type": "stream",
          "name": "stderr",
          "text": [
            "WARNING:absl:Found untraced functions such as lstm_cell_65_layer_call_fn, lstm_cell_65_layer_call_and_return_conditional_losses, lstm_cell_66_layer_call_fn, lstm_cell_66_layer_call_and_return_conditional_losses while saving (showing 4 of 4). These functions will not be directly callable after loading.\n"
          ]
        },
        {
          "output_type": "stream",
          "name": "stdout",
          "text": [
            "\b\b\b\b\b\b\b\b\b\b\b\b\b\b\b\b\b\b\b\b\b\b\b\b\b\b\b\b\b\b\b\b\b\b\b\b\b\b\b\b\b\b\b\b\b\b\b\b\b\b\b\b\b\b\b\b\b\b\b\b\b\b\b\b\b\b\b\b\b\b\b\b\b\b\b\b\b\b\b\r858/858 [==============================] - 17s 20ms/step - loss: 0.0030 - mae: 0.0207 - val_loss: 0.0142 - val_mae: 0.1301\n",
            "Epoch 5/15\n",
            "858/858 [==============================] - 12s 14ms/step - loss: 0.0030 - mae: 0.0194 - val_loss: 0.0144 - val_mae: 0.1306\n",
            "Epoch 6/15\n",
            "858/858 [==============================] - 11s 13ms/step - loss: 0.0029 - mae: 0.0187 - val_loss: 0.0536 - val_mae: 0.2952\n",
            "Epoch 7/15\n",
            "858/858 [==============================] - 11s 13ms/step - loss: 0.0033 - mae: 0.0202 - val_loss: 0.0169 - val_mae: 0.1434\n",
            "Epoch 8/15\n",
            "858/858 [==============================] - 11s 13ms/step - loss: 0.0029 - mae: 0.0188 - val_loss: 0.0181 - val_mae: 0.1437\n",
            "Epoch 9/15\n",
            "858/858 [==============================] - 11s 13ms/step - loss: 0.0030 - mae: 0.0201 - val_loss: 0.0177 - val_mae: 0.1512\n",
            "Epoch 10/15\n",
            "858/858 [==============================] - 13s 15ms/step - loss: 0.0029 - mae: 0.0190 - val_loss: 0.0180 - val_mae: 0.1550\n",
            "Epoch 11/15\n",
            "858/858 [==============================] - 11s 13ms/step - loss: 0.0030 - mae: 0.0200 - val_loss: 0.0241 - val_mae: 0.1839\n",
            "Epoch 12/15\n",
            "857/858 [============================>.] - ETA: 0s - loss: 0.0034 - mae: 0.0208"
          ]
        },
        {
          "output_type": "stream",
          "name": "stderr",
          "text": [
            "WARNING:absl:Found untraced functions such as lstm_cell_65_layer_call_fn, lstm_cell_65_layer_call_and_return_conditional_losses, lstm_cell_66_layer_call_fn, lstm_cell_66_layer_call_and_return_conditional_losses while saving (showing 4 of 4). These functions will not be directly callable after loading.\n"
          ]
        },
        {
          "output_type": "stream",
          "name": "stdout",
          "text": [
            "\b\b\b\b\b\b\b\b\b\b\b\b\b\b\b\b\b\b\b\b\b\b\b\b\b\b\b\b\b\b\b\b\b\b\b\b\b\b\b\b\b\b\b\b\b\b\b\b\b\b\b\b\b\b\b\b\b\b\b\b\b\b\b\b\b\b\b\b\b\b\b\b\b\b\b\b\b\b\b\r858/858 [==============================] - 20s 23ms/step - loss: 0.0034 - mae: 0.0208 - val_loss: 0.0137 - val_mae: 0.1382\n",
            "Epoch 13/15\n",
            "853/858 [============================>.] - ETA: 0s - loss: 0.0028 - mae: 0.0165"
          ]
        },
        {
          "output_type": "stream",
          "name": "stderr",
          "text": [
            "WARNING:absl:Found untraced functions such as lstm_cell_65_layer_call_fn, lstm_cell_65_layer_call_and_return_conditional_losses, lstm_cell_66_layer_call_fn, lstm_cell_66_layer_call_and_return_conditional_losses while saving (showing 4 of 4). These functions will not be directly callable after loading.\n"
          ]
        },
        {
          "output_type": "stream",
          "name": "stdout",
          "text": [
            "\b\b\b\b\b\b\b\b\b\b\b\b\b\b\b\b\b\b\b\b\b\b\b\b\b\b\b\b\b\b\b\b\b\b\b\b\b\b\b\b\b\b\b\b\b\b\b\b\b\b\b\b\b\b\b\b\b\b\b\b\b\b\b\b\b\b\b\b\b\b\b\b\b\b\b\b\b\b\b\r858/858 [==============================] - 18s 20ms/step - loss: 0.0028 - mae: 0.0165 - val_loss: 0.0132 - val_mae: 0.1377\n",
            "Epoch 14/15\n",
            "858/858 [==============================] - 11s 13ms/step - loss: 0.0029 - mae: 0.0198 - val_loss: 0.0205 - val_mae: 0.1686\n",
            "Epoch 15/15\n",
            "858/858 [==============================] - 11s 13ms/step - loss: 0.0029 - mae: 0.0180 - val_loss: 0.0162 - val_mae: 0.1473\n",
            "Training finished\n"
          ]
        },
        {
          "output_type": "stream",
          "name": "stderr",
          "text": [
            "WARNING:absl:Found untraced functions such as lstm_cell_65_layer_call_fn, lstm_cell_65_layer_call_and_return_conditional_losses, lstm_cell_66_layer_call_fn, lstm_cell_66_layer_call_and_return_conditional_losses while saving (showing 4 of 4). These functions will not be directly callable after loading.\n"
          ]
        },
        {
          "output_type": "stream",
          "name": "stdout",
          "text": [
            "Prev _ ticker :  AARON  -- curr ticker :  AARTIDRUGS\n",
            "[*********************100%***********************]  1 of 1 completed\n",
            "[*********************100%***********************]  1 of 1 completed\n",
            "Epoch 1/15\n",
            "4025/4030 [============================>.] - ETA: 0s - loss: 6.5802e-04 - mae: 0.0178"
          ]
        },
        {
          "output_type": "stream",
          "name": "stderr",
          "text": [
            "WARNING:absl:Found untraced functions such as lstm_cell_67_layer_call_fn, lstm_cell_67_layer_call_and_return_conditional_losses, lstm_cell_68_layer_call_fn, lstm_cell_68_layer_call_and_return_conditional_losses while saving (showing 4 of 4). These functions will not be directly callable after loading.\n"
          ]
        },
        {
          "output_type": "stream",
          "name": "stdout",
          "text": [
            "\b\b\b\b\b\b\b\b\b\b\b\b\b\b\b\b\b\b\b\b\b\b\b\b\b\b\b\b\b\b\b\b\b\b\b\b\b\b\b\b\b\b\b\b\b\b\b\b\b\b\b\b\b\b\b\b\b\b\b\b\b\b\b\b\b\b\b\b\b\b\b\b\b\b\b\b\b\b\b\b\b\b\b\b\b\r4030/4030 [==============================] - 62s 15ms/step - loss: 6.5722e-04 - mae: 0.0177 - val_loss: 5.2401 - val_mae: 5.6738\n",
            "Epoch 2/15\n",
            "4027/4030 [============================>.] - ETA: 0s - loss: 4.9326e-04 - mae: 0.0177"
          ]
        },
        {
          "output_type": "stream",
          "name": "stderr",
          "text": [
            "WARNING:absl:Found untraced functions such as lstm_cell_67_layer_call_fn, lstm_cell_67_layer_call_and_return_conditional_losses, lstm_cell_68_layer_call_fn, lstm_cell_68_layer_call_and_return_conditional_losses while saving (showing 4 of 4). These functions will not be directly callable after loading.\n"
          ]
        },
        {
          "output_type": "stream",
          "name": "stdout",
          "text": [
            "\b\b\b\b\b\b\b\b\b\b\b\b\b\b\b\b\b\b\b\b\b\b\b\b\b\b\b\b\b\b\b\b\b\b\b\b\b\b\b\b\b\b\b\b\b\b\b\b\b\b\b\b\b\b\b\b\b\b\b\b\b\b\b\b\b\b\b\b\b\b\b\b\b\b\b\b\b\b\b\b\b\b\b\b\b\r4030/4030 [==============================] - 76s 19ms/step - loss: 4.9290e-04 - mae: 0.0177 - val_loss: 5.2278 - val_mae: 5.6589\n",
            "Epoch 3/15\n",
            "4029/4030 [============================>.] - ETA: 0s - loss: 5.2332e-04 - mae: 0.0208"
          ]
        },
        {
          "output_type": "stream",
          "name": "stderr",
          "text": [
            "WARNING:absl:Found untraced functions such as lstm_cell_67_layer_call_fn, lstm_cell_67_layer_call_and_return_conditional_losses, lstm_cell_68_layer_call_fn, lstm_cell_68_layer_call_and_return_conditional_losses while saving (showing 4 of 4). These functions will not be directly callable after loading.\n"
          ]
        },
        {
          "output_type": "stream",
          "name": "stdout",
          "text": [
            "\b\b\b\b\b\b\b\b\b\b\b\b\b\b\b\b\b\b\b\b\b\b\b\b\b\b\b\b\b\b\b\b\b\b\b\b\b\b\b\b\b\b\b\b\b\b\b\b\b\b\b\b\b\b\b\b\b\b\b\b\b\b\b\b\b\b\b\b\b\b\b\b\b\b\b\b\b\b\b\b\b\b\b\b\b\r4030/4030 [==============================] - 74s 18ms/step - loss: 5.2327e-04 - mae: 0.0208 - val_loss: 5.1307 - val_mae: 5.5628\n",
            "Epoch 4/15\n",
            "4030/4030 [==============================] - 54s 13ms/step - loss: 4.5658e-04 - mae: 0.0193 - val_loss: 5.2056 - val_mae: 5.6387\n",
            "Epoch 5/15\n",
            "4030/4030 [==============================] - 57s 14ms/step - loss: 4.2352e-04 - mae: 0.0181 - val_loss: 5.3971 - val_mae: 5.8364\n",
            "Epoch 6/15\n",
            "4030/4030 [==============================] - 53s 13ms/step - loss: 4.2511e-04 - mae: 0.0177 - val_loss: 5.3844 - val_mae: 5.8187\n",
            "Epoch 7/15\n",
            "4030/4030 [==============================] - 53s 13ms/step - loss: 4.3243e-04 - mae: 0.0183 - val_loss: 5.6004 - val_mae: 6.0342\n",
            "Epoch 8/15\n",
            "4030/4030 [==============================] - 54s 13ms/step - loss: 4.1694e-04 - mae: 0.0184 - val_loss: 5.5501 - val_mae: 5.9821\n",
            "Epoch 9/15\n",
            "4030/4030 [==============================] - 53s 13ms/step - loss: 3.8157e-04 - mae: 0.0161 - val_loss: 5.7085 - val_mae: 6.1397\n",
            "Epoch 10/15\n",
            "4030/4030 [==============================] - 53s 13ms/step - loss: 3.3286e-04 - mae: 0.0143 - val_loss: 5.5953 - val_mae: 6.0293\n",
            "Epoch 11/15\n",
            "4030/4030 [==============================] - 53s 13ms/step - loss: 3.1905e-04 - mae: 0.0139 - val_loss: 5.7158 - val_mae: 6.1528\n",
            "Epoch 12/15\n",
            "4030/4030 [==============================] - 54s 13ms/step - loss: 3.8347e-04 - mae: 0.0155 - val_loss: 5.9551 - val_mae: 6.3897\n",
            "Epoch 13/15\n",
            "4030/4030 [==============================] - 53s 13ms/step - loss: 3.2039e-04 - mae: 0.0143 - val_loss: 5.9437 - val_mae: 6.3793\n",
            "Training finished\n"
          ]
        },
        {
          "output_type": "stream",
          "name": "stderr",
          "text": [
            "WARNING:absl:Found untraced functions such as lstm_cell_67_layer_call_fn, lstm_cell_67_layer_call_and_return_conditional_losses, lstm_cell_68_layer_call_fn, lstm_cell_68_layer_call_and_return_conditional_losses while saving (showing 4 of 4). These functions will not be directly callable after loading.\n"
          ]
        },
        {
          "output_type": "stream",
          "name": "stdout",
          "text": [
            "Prev _ ticker :  AARTIDRUGS  -- curr ticker :  AARTIIND\n",
            "[*********************100%***********************]  1 of 1 completed\n",
            "[*********************100%***********************]  1 of 1 completed\n",
            "Epoch 1/15\n",
            "4286/4290 [============================>.] - ETA: 0s - loss: 3.1359e-04 - mae: 0.0104"
          ]
        },
        {
          "output_type": "stream",
          "name": "stderr",
          "text": [
            "WARNING:absl:Found untraced functions such as lstm_cell_69_layer_call_fn, lstm_cell_69_layer_call_and_return_conditional_losses, lstm_cell_70_layer_call_fn, lstm_cell_70_layer_call_and_return_conditional_losses while saving (showing 4 of 4). These functions will not be directly callable after loading.\n"
          ]
        },
        {
          "output_type": "stream",
          "name": "stdout",
          "text": [
            "\b\b\b\b\b\b\b\b\b\b\b\b\b\b\b\b\b\b\b\b\b\b\b\b\b\b\b\b\b\b\b\b\b\b\b\b\b\b\b\b\b\b\b\b\b\b\b\b\b\b\b\b\b\b\b\b\b\b\b\b\b\b\b\b\b\b\b\b\b\b\b\b\b\b\b\b\b\b\b\b\b\b\b\b\b\r4290/4290 [==============================] - 68s 15ms/step - loss: 3.1330e-04 - mae: 0.0104 - val_loss: 1.2796 - val_mae: 1.6788\n",
            "Epoch 2/15\n",
            "4289/4290 [============================>.] - ETA: 0s - loss: 1.8857e-04 - mae: 0.0095"
          ]
        },
        {
          "output_type": "stream",
          "name": "stderr",
          "text": [
            "WARNING:absl:Found untraced functions such as lstm_cell_69_layer_call_fn, lstm_cell_69_layer_call_and_return_conditional_losses, lstm_cell_70_layer_call_fn, lstm_cell_70_layer_call_and_return_conditional_losses while saving (showing 4 of 4). These functions will not be directly callable after loading.\n"
          ]
        },
        {
          "output_type": "stream",
          "name": "stdout",
          "text": [
            "\b\b\b\b\b\b\b\b\b\b\b\b\b\b\b\b\b\b\b\b\b\b\b\b\b\b\b\b\b\b\b\b\b\b\b\b\b\b\b\b\b\b\b\b\b\b\b\b\b\b\b\b\b\b\b\b\b\b\b\b\b\b\b\b\b\b\b\b\b\b\b\b\b\b\b\b\b\b\b\b\b\b\b\b\b\r4290/4290 [==============================] - 63s 15ms/step - loss: 1.8853e-04 - mae: 0.0095 - val_loss: 1.2426 - val_mae: 1.6630\n",
            "Epoch 3/15\n",
            "4290/4290 [==============================] - 56s 13ms/step - loss: 1.8600e-04 - mae: 0.0099 - val_loss: 1.2948 - val_mae: 1.6472\n",
            "Epoch 4/15\n",
            "4290/4290 [==============================] - 57s 13ms/step - loss: 2.5499e-04 - mae: 0.0135 - val_loss: 1.2705 - val_mae: 1.6243\n",
            "Epoch 5/15\n",
            "4290/4290 [==============================] - 58s 14ms/step - loss: 5.5275e-04 - mae: 0.0221 - val_loss: 1.4499 - val_mae: 1.8302\n",
            "Epoch 6/15\n",
            "4285/4290 [============================>.] - ETA: 0s - loss: 7.1320e-04 - mae: 0.0234"
          ]
        },
        {
          "output_type": "stream",
          "name": "stderr",
          "text": [
            "WARNING:absl:Found untraced functions such as lstm_cell_69_layer_call_fn, lstm_cell_69_layer_call_and_return_conditional_losses, lstm_cell_70_layer_call_fn, lstm_cell_70_layer_call_and_return_conditional_losses while saving (showing 4 of 4). These functions will not be directly callable after loading.\n"
          ]
        },
        {
          "output_type": "stream",
          "name": "stdout",
          "text": [
            "\b\b\b\b\b\b\b\b\b\b\b\b\b\b\b\b\b\b\b\b\b\b\b\b\b\b\b\b\b\b\b\b\b\b\b\b\b\b\b\b\b\b\b\b\b\b\b\b\b\b\b\b\b\b\b\b\b\b\b\b\b\b\b\b\b\b\b\b\b\b\b\b\b\b\b\b\b\b\b\b\b\b\b\b\b\r4290/4290 [==============================] - 64s 15ms/step - loss: 7.1463e-04 - mae: 0.0235 - val_loss: 0.7509 - val_mae: 1.0474\n",
            "Epoch 7/15\n",
            "4290/4290 [==============================] - 58s 13ms/step - loss: 7.6128e-04 - mae: 0.0253 - val_loss: 0.7584 - val_mae: 1.0496\n",
            "Epoch 8/15\n",
            "4289/4290 [============================>.] - ETA: 0s - loss: 3.5733e-04 - mae: 0.0164"
          ]
        },
        {
          "output_type": "stream",
          "name": "stderr",
          "text": [
            "WARNING:absl:Found untraced functions such as lstm_cell_69_layer_call_fn, lstm_cell_69_layer_call_and_return_conditional_losses, lstm_cell_70_layer_call_fn, lstm_cell_70_layer_call_and_return_conditional_losses while saving (showing 4 of 4). These functions will not be directly callable after loading.\n"
          ]
        },
        {
          "output_type": "stream",
          "name": "stdout",
          "text": [
            "\b\b\b\b\b\b\b\b\b\b\b\b\b\b\b\b\b\b\b\b\b\b\b\b\b\b\b\b\b\b\b\b\b\b\b\b\b\b\b\b\b\b\b\b\b\b\b\b\b\b\b\b\b\b\b\b\b\b\b\b\b\b\b\b\b\b\b\b\b\b\b\b\b\b\b\b\b\b\b\b\b\b\b\b\b\r4290/4290 [==============================] - 65s 15ms/step - loss: 3.5734e-04 - mae: 0.0164 - val_loss: 0.7313 - val_mae: 1.0676\n",
            "Epoch 9/15\n",
            "4290/4290 [==============================] - 58s 14ms/step - loss: 4.9755e-04 - mae: 0.0210 - val_loss: 0.9842 - val_mae: 1.3622\n",
            "Epoch 10/15\n",
            "4290/4290 [==============================] - 65s 15ms/step - loss: 5.7215e-04 - mae: 0.0231 - val_loss: 1.1963 - val_mae: 1.6595\n",
            "Epoch 11/15\n",
            "4290/4290 [==============================] - 58s 14ms/step - loss: 8.7111e-04 - mae: 0.0275 - val_loss: 0.9713 - val_mae: 1.2730\n",
            "Epoch 12/15\n",
            "4290/4290 [==============================] - 58s 14ms/step - loss: 4.1925e-04 - mae: 0.0179 - val_loss: 0.9597 - val_mae: 1.2393\n",
            "Epoch 13/15\n",
            "4290/4290 [==============================] - 56s 13ms/step - loss: 4.0428e-04 - mae: 0.0156 - val_loss: 0.9432 - val_mae: 1.2604\n",
            "Epoch 14/15\n",
            "4290/4290 [==============================] - 56s 13ms/step - loss: 3.8921e-04 - mae: 0.0160 - val_loss: 1.0048 - val_mae: 1.3620\n",
            "Epoch 15/15\n",
            "4287/4290 [============================>.] - ETA: 0s - loss: 3.1204e-04 - mae: 0.0130"
          ]
        },
        {
          "output_type": "stream",
          "name": "stderr",
          "text": [
            "WARNING:absl:Found untraced functions such as lstm_cell_69_layer_call_fn, lstm_cell_69_layer_call_and_return_conditional_losses, lstm_cell_70_layer_call_fn, lstm_cell_70_layer_call_and_return_conditional_losses while saving (showing 4 of 4). These functions will not be directly callable after loading.\n"
          ]
        },
        {
          "output_type": "stream",
          "name": "stdout",
          "text": [
            "\b\b\b\b\b\b\b\b\b\b\b\b\b\b\b\b\b\b\b\b\b\b\b\b\b\b\b\b\b\b\b\b\b\b\b\b\b\b\b\b\b\b\b\b\b\b\b\b\b\b\b\b\b\b\b\b\b\b\b\b\b\b\b\b\b\b\b\b\b\b\b\b\b\b\b\b\b\b\b\b\b\b\b\b\b\r4290/4290 [==============================] - 63s 15ms/step - loss: 3.1182e-04 - mae: 0.0130 - val_loss: 0.7074 - val_mae: 1.0532\n",
            "Training finished\n"
          ]
        },
        {
          "output_type": "stream",
          "name": "stderr",
          "text": [
            "WARNING:absl:Found untraced functions such as lstm_cell_69_layer_call_fn, lstm_cell_69_layer_call_and_return_conditional_losses, lstm_cell_70_layer_call_fn, lstm_cell_70_layer_call_and_return_conditional_losses while saving (showing 4 of 4). These functions will not be directly callable after loading.\n"
          ]
        },
        {
          "output_type": "stream",
          "name": "stdout",
          "text": [
            "Prev _ ticker :  AARTIIND  -- curr ticker :  AARVEEDEN\n",
            "[*********************100%***********************]  1 of 1 completed\n",
            "[*********************100%***********************]  1 of 1 completed\n",
            "Epoch 1/15\n",
            "3325/3328 [============================>.] - ETA: 0s - loss: 0.0059 - mae: 0.0674"
          ]
        },
        {
          "output_type": "stream",
          "name": "stderr",
          "text": [
            "WARNING:absl:Found untraced functions such as lstm_cell_71_layer_call_fn, lstm_cell_71_layer_call_and_return_conditional_losses, lstm_cell_72_layer_call_fn, lstm_cell_72_layer_call_and_return_conditional_losses while saving (showing 4 of 4). These functions will not be directly callable after loading.\n"
          ]
        },
        {
          "output_type": "stream",
          "name": "stdout",
          "text": [
            "\b\b\b\b\b\b\b\b\b\b\b\b\b\b\b\b\b\b\b\b\b\b\b\b\b\b\b\b\b\b\b\b\b\b\b\b\b\b\b\b\b\b\b\b\b\b\b\b\b\b\b\b\b\b\b\b\b\b\b\b\b\b\b\b\b\b\b\b\b\b\b\b\b\b\b\b\b\b\b\b\b\r3328/3328 [==============================] - 53s 15ms/step - loss: 0.0059 - mae: 0.0674 - val_loss: 0.0027 - val_mae: 0.0582\n",
            "Epoch 2/15\n",
            "3328/3328 [==============================] - 44s 13ms/step - loss: 0.0031 - mae: 0.0533 - val_loss: 0.0027 - val_mae: 0.0603\n",
            "Epoch 3/15\n",
            "3326/3328 [============================>.] - ETA: 0s - loss: 0.0026 - mae: 0.0501"
          ]
        },
        {
          "output_type": "stream",
          "name": "stderr",
          "text": [
            "WARNING:absl:Found untraced functions such as lstm_cell_71_layer_call_fn, lstm_cell_71_layer_call_and_return_conditional_losses, lstm_cell_72_layer_call_fn, lstm_cell_72_layer_call_and_return_conditional_losses while saving (showing 4 of 4). These functions will not be directly callable after loading.\n"
          ]
        },
        {
          "output_type": "stream",
          "name": "stdout",
          "text": [
            "\b\b\b\b\b\b\b\b\b\b\b\b\b\b\b\b\b\b\b\b\b\b\b\b\b\b\b\b\b\b\b\b\b\b\b\b\b\b\b\b\b\b\b\b\b\b\b\b\b\b\b\b\b\b\b\b\b\b\b\b\b\b\b\b\b\b\b\b\b\b\b\b\b\b\b\b\b\b\b\b\b\r3328/3328 [==============================] - 50s 15ms/step - loss: 0.0026 - mae: 0.0501 - val_loss: 0.0011 - val_mae: 0.0342\n",
            "Epoch 4/15\n",
            "3328/3328 [==============================] - 44s 13ms/step - loss: 0.0024 - mae: 0.0485 - val_loss: 0.0330 - val_mae: 0.2466\n",
            "Epoch 5/15\n",
            "3328/3328 [==============================] - 43s 13ms/step - loss: 0.0022 - mae: 0.0467 - val_loss: 0.0165 - val_mae: 0.1570\n",
            "Epoch 6/15\n",
            "3328/3328 [==============================] - 43s 13ms/step - loss: 0.0021 - mae: 0.0453 - val_loss: 0.0033 - val_mae: 0.0645\n",
            "Epoch 7/15\n",
            "3328/3328 [==============================] - ETA: 0s - loss: 0.0019 - mae: 0.0436"
          ]
        },
        {
          "output_type": "stream",
          "name": "stderr",
          "text": [
            "WARNING:absl:Found untraced functions such as lstm_cell_71_layer_call_fn, lstm_cell_71_layer_call_and_return_conditional_losses, lstm_cell_72_layer_call_fn, lstm_cell_72_layer_call_and_return_conditional_losses while saving (showing 4 of 4). These functions will not be directly callable after loading.\n"
          ]
        },
        {
          "output_type": "stream",
          "name": "stdout",
          "text": [
            "\b\b\b\b\b\b\b\b\b\b\b\b\b\b\b\b\b\b\b\b\b\b\b\b\b\b\b\b\b\b\b\b\b\b\b\b\b\b\b\b\b\b\b\b\b\b\b\b\b\b\b\b\b\b\b\b\b\b\b\b\b\b\b\b\b\b\b\b\b\b\b\b\b\b\b\b\b\b\b\b\b\r3328/3328 [==============================] - 49s 15ms/step - loss: 0.0019 - mae: 0.0436 - val_loss: 9.2885e-04 - val_mae: 0.0346\n",
            "Epoch 8/15\n",
            "3328/3328 [==============================] - 50s 15ms/step - loss: 0.0018 - mae: 0.0423 - val_loss: 0.0034 - val_mae: 0.0738\n",
            "Epoch 9/15\n",
            "3328/3328 [==============================] - 44s 13ms/step - loss: 0.0016 - mae: 0.0403 - val_loss: 0.0011 - val_mae: 0.0337\n",
            "Epoch 10/15\n",
            "3328/3328 [==============================] - 43s 13ms/step - loss: 0.0015 - mae: 0.0388 - val_loss: 0.0012 - val_mae: 0.0385\n",
            "Epoch 11/15\n",
            "3328/3328 [==============================] - 43s 13ms/step - loss: 0.0014 - mae: 0.0379 - val_loss: 0.0014 - val_mae: 0.0400\n",
            "Epoch 12/15\n",
            "3328/3328 [==============================] - 43s 13ms/step - loss: 0.0012 - mae: 0.0353 - val_loss: 0.0119 - val_mae: 0.1448\n",
            "Epoch 13/15\n",
            "3328/3328 [==============================] - 44s 13ms/step - loss: 0.0012 - mae: 0.0353 - val_loss: 0.0037 - val_mae: 0.0585\n",
            "Epoch 14/15\n",
            "3328/3328 [==============================] - 43s 13ms/step - loss: 0.0011 - mae: 0.0343 - val_loss: 0.0075 - val_mae: 0.0778\n",
            "Epoch 15/15\n",
            "3328/3328 [==============================] - 49s 15ms/step - loss: 0.0011 - mae: 0.0334 - val_loss: 0.0037 - val_mae: 0.0587\n",
            "Training finished\n"
          ]
        },
        {
          "output_type": "stream",
          "name": "stderr",
          "text": [
            "WARNING:absl:Found untraced functions such as lstm_cell_71_layer_call_fn, lstm_cell_71_layer_call_and_return_conditional_losses, lstm_cell_72_layer_call_fn, lstm_cell_72_layer_call_and_return_conditional_losses while saving (showing 4 of 4). These functions will not be directly callable after loading.\n"
          ]
        },
        {
          "output_type": "stream",
          "name": "stdout",
          "text": [
            "Prev _ ticker :  AARVEEDEN  -- curr ticker :  AARVI\n",
            "[*********************100%***********************]  1 of 1 completed\n",
            "[*********************100%***********************]  1 of 1 completed\n",
            "Epoch 1/15\n",
            "1060/1066 [============================>.] - ETA: 0s - loss: 0.0019 - mae: 0.0413"
          ]
        },
        {
          "output_type": "stream",
          "name": "stderr",
          "text": [
            "WARNING:absl:Found untraced functions such as lstm_cell_73_layer_call_fn, lstm_cell_73_layer_call_and_return_conditional_losses, lstm_cell_74_layer_call_fn, lstm_cell_74_layer_call_and_return_conditional_losses while saving (showing 4 of 4). These functions will not be directly callable after loading.\n"
          ]
        },
        {
          "output_type": "stream",
          "name": "stdout",
          "text": [
            "\b\b\b\b\b\b\b\b\b\b\b\b\b\b\b\b\b\b\b\b\b\b\b\b\b\b\b\b\b\b\b\b\b\b\b\b\b\b\b\b\b\b\b\b\b\b\b\b\b\b\b\b\b\b\b\b\b\b\b\b\b\b\b\b\b\b\b\b\b\b\b\b\b\b\b\b\b\b\b\b\b\r1066/1066 [==============================] - 23s 19ms/step - loss: 0.0019 - mae: 0.0412 - val_loss: 0.0171 - val_mae: 0.1333\n",
            "Epoch 2/15\n",
            "1063/1066 [============================>.] - ETA: 0s - loss: 0.0011 - mae: 0.0320"
          ]
        },
        {
          "output_type": "stream",
          "name": "stderr",
          "text": [
            "WARNING:absl:Found untraced functions such as lstm_cell_73_layer_call_fn, lstm_cell_73_layer_call_and_return_conditional_losses, lstm_cell_74_layer_call_fn, lstm_cell_74_layer_call_and_return_conditional_losses while saving (showing 4 of 4). These functions will not be directly callable after loading.\n"
          ]
        },
        {
          "output_type": "stream",
          "name": "stdout",
          "text": [
            "\b\b\b\b\b\b\b\b\b\b\b\b\b\b\b\b\b\b\b\b\b\b\b\b\b\b\b\b\b\b\b\b\b\b\b\b\b\b\b\b\b\b\b\b\b\b\b\b\b\b\b\b\b\b\b\b\b\b\b\b\b\b\b\b\b\b\b\b\b\b\b\b\b\b\b\b\b\b\b\b\b\r1066/1066 [==============================] - 23s 22ms/step - loss: 0.0011 - mae: 0.0320 - val_loss: 0.0162 - val_mae: 0.1324\n",
            "Epoch 3/15\n",
            "1064/1066 [============================>.] - ETA: 0s - loss: 9.2724e-04 - mae: 0.0294"
          ]
        },
        {
          "output_type": "stream",
          "name": "stderr",
          "text": [
            "WARNING:absl:Found untraced functions such as lstm_cell_73_layer_call_fn, lstm_cell_73_layer_call_and_return_conditional_losses, lstm_cell_74_layer_call_fn, lstm_cell_74_layer_call_and_return_conditional_losses while saving (showing 4 of 4). These functions will not be directly callable after loading.\n"
          ]
        },
        {
          "output_type": "stream",
          "name": "stdout",
          "text": [
            "\b\b\b\b\b\b\b\b\b\b\b\b\b\b\b\b\b\b\b\b\b\b\b\b\b\b\b\b\b\b\b\b\b\b\b\b\b\b\b\b\b\b\b\b\b\b\b\b\b\b\b\b\b\b\b\b\b\b\b\b\b\b\b\b\b\b\b\b\b\b\b\b\b\b\b\b\b\b\b\b\b\b\b\b\b\r1066/1066 [==============================] - 20s 19ms/step - loss: 9.2654e-04 - mae: 0.0294 - val_loss: 0.0159 - val_mae: 0.1329\n",
            "Epoch 4/15\n",
            "1063/1066 [============================>.] - ETA: 0s - loss: 9.2261e-04 - mae: 0.0299"
          ]
        },
        {
          "output_type": "stream",
          "name": "stderr",
          "text": [
            "WARNING:absl:Found untraced functions such as lstm_cell_73_layer_call_fn, lstm_cell_73_layer_call_and_return_conditional_losses, lstm_cell_74_layer_call_fn, lstm_cell_74_layer_call_and_return_conditional_losses while saving (showing 4 of 4). These functions will not be directly callable after loading.\n"
          ]
        },
        {
          "output_type": "stream",
          "name": "stdout",
          "text": [
            "\b\b\b\b\b\b\b\b\b\b\b\b\b\b\b\b\b\b\b\b\b\b\b\b\b\b\b\b\b\b\b\b\b\b\b\b\b\b\b\b\b\b\b\b\b\b\b\b\b\b\b\b\b\b\b\b\b\b\b\b\b\b\b\b\b\b\b\b\b\b\b\b\b\b\b\b\b\b\b\b\b\b\b\b\b\r1066/1066 [==============================] - 20s 19ms/step - loss: 9.2078e-04 - mae: 0.0298 - val_loss: 0.0139 - val_mae: 0.1237\n",
            "Epoch 5/15\n",
            "1063/1066 [============================>.] - ETA: 0s - loss: 9.2419e-04 - mae: 0.0305"
          ]
        },
        {
          "output_type": "stream",
          "name": "stderr",
          "text": [
            "WARNING:absl:Found untraced functions such as lstm_cell_73_layer_call_fn, lstm_cell_73_layer_call_and_return_conditional_losses, lstm_cell_74_layer_call_fn, lstm_cell_74_layer_call_and_return_conditional_losses while saving (showing 4 of 4). These functions will not be directly callable after loading.\n"
          ]
        },
        {
          "output_type": "stream",
          "name": "stdout",
          "text": [
            "\b\b\b\b\b\b\b\b\b\b\b\b\b\b\b\b\b\b\b\b\b\b\b\b\b\b\b\b\b\b\b\b\b\b\b\b\b\b\b\b\b\b\b\b\b\b\b\b\b\b\b\b\b\b\b\b\b\b\b\b\b\b\b\b\b\b\b\b\b\b\b\b\b\b\b\b\b\b\b\b\b\b\b\b\b\r1066/1066 [==============================] - 21s 20ms/step - loss: 9.2421e-04 - mae: 0.0305 - val_loss: 0.0138 - val_mae: 0.1243\n",
            "Epoch 6/15\n",
            "1066/1066 [==============================] - ETA: 0s - loss: 8.2038e-04 - mae: 0.0289"
          ]
        },
        {
          "output_type": "stream",
          "name": "stderr",
          "text": [
            "WARNING:absl:Found untraced functions such as lstm_cell_73_layer_call_fn, lstm_cell_73_layer_call_and_return_conditional_losses, lstm_cell_74_layer_call_fn, lstm_cell_74_layer_call_and_return_conditional_losses while saving (showing 4 of 4). These functions will not be directly callable after loading.\n"
          ]
        },
        {
          "output_type": "stream",
          "name": "stdout",
          "text": [
            "\b\b\b\b\b\b\b\b\b\b\b\b\b\b\b\b\b\b\b\b\b\b\b\b\b\b\b\b\b\b\b\b\b\b\b\b\b\b\b\b\b\b\b\b\b\b\b\b\b\b\b\b\b\b\b\b\b\b\b\b\b\b\b\b\b\b\b\b\b\b\b\b\b\b\b\b\b\b\b\b\b\b\b\b\b\r1066/1066 [==============================] - 20s 19ms/step - loss: 8.2038e-04 - mae: 0.0289 - val_loss: 0.0137 - val_mae: 0.1261\n",
            "Epoch 7/15\n",
            "1062/1066 [============================>.] - ETA: 0s - loss: 8.5444e-04 - mae: 0.0305"
          ]
        },
        {
          "output_type": "stream",
          "name": "stderr",
          "text": [
            "WARNING:absl:Found untraced functions such as lstm_cell_73_layer_call_fn, lstm_cell_73_layer_call_and_return_conditional_losses, lstm_cell_74_layer_call_fn, lstm_cell_74_layer_call_and_return_conditional_losses while saving (showing 4 of 4). These functions will not be directly callable after loading.\n"
          ]
        },
        {
          "output_type": "stream",
          "name": "stdout",
          "text": [
            "\b\b\b\b\b\b\b\b\b\b\b\b\b\b\b\b\b\b\b\b\b\b\b\b\b\b\b\b\b\b\b\b\b\b\b\b\b\b\b\b\b\b\b\b\b\b\b\b\b\b\b\b\b\b\b\b\b\b\b\b\b\b\b\b\b\b\b\b\b\b\b\b\b\b\b\b\b\b\b\b\b\b\b\b\b\r1066/1066 [==============================] - 20s 19ms/step - loss: 8.5717e-04 - mae: 0.0305 - val_loss: 0.0136 - val_mae: 0.1236\n",
            "Epoch 8/15\n",
            "1061/1066 [============================>.] - ETA: 0s - loss: 9.4509e-04 - mae: 0.0318"
          ]
        },
        {
          "output_type": "stream",
          "name": "stderr",
          "text": [
            "WARNING:absl:Found untraced functions such as lstm_cell_73_layer_call_fn, lstm_cell_73_layer_call_and_return_conditional_losses, lstm_cell_74_layer_call_fn, lstm_cell_74_layer_call_and_return_conditional_losses while saving (showing 4 of 4). These functions will not be directly callable after loading.\n"
          ]
        },
        {
          "output_type": "stream",
          "name": "stdout",
          "text": [
            "\b\b\b\b\b\b\b\b\b\b\b\b\b\b\b\b\b\b\b\b\b\b\b\b\b\b\b\b\b\b\b\b\b\b\b\b\b\b\b\b\b\b\b\b\b\b\b\b\b\b\b\b\b\b\b\b\b\b\b\b\b\b\b\b\b\b\b\b\b\b\b\b\b\b\b\b\b\b\b\b\b\b\b\b\b\r1066/1066 [==============================] - 20s 19ms/step - loss: 9.4180e-04 - mae: 0.0317 - val_loss: 0.0132 - val_mae: 0.1216\n",
            "Epoch 9/15\n",
            "1066/1066 [==============================] - 14s 13ms/step - loss: 7.7222e-04 - mae: 0.0289 - val_loss: 0.0143 - val_mae: 0.1314\n",
            "Epoch 10/15\n",
            "1066/1066 [==============================] - 14s 13ms/step - loss: 8.1434e-04 - mae: 0.0297 - val_loss: 0.0134 - val_mae: 0.1207\n",
            "Epoch 11/15\n",
            "1066/1066 [==============================] - 14s 13ms/step - loss: 8.3860e-04 - mae: 0.0294 - val_loss: 0.0134 - val_mae: 0.1228\n",
            "Epoch 12/15\n",
            "1066/1066 [==============================] - 14s 13ms/step - loss: 7.1853e-04 - mae: 0.0274 - val_loss: 0.0175 - val_mae: 0.1422\n",
            "Epoch 13/15\n",
            "1066/1066 [==============================] - 14s 13ms/step - loss: 7.2859e-04 - mae: 0.0274 - val_loss: 0.0139 - val_mae: 0.1249\n",
            "Epoch 14/15\n",
            "1066/1066 [==============================] - 14s 13ms/step - loss: 7.6151e-04 - mae: 0.0284 - val_loss: 0.0139 - val_mae: 0.1263\n",
            "Epoch 15/15\n",
            "1066/1066 [==============================] - 14s 13ms/step - loss: 9.2551e-04 - mae: 0.0298 - val_loss: 0.0138 - val_mae: 0.1257\n",
            "Training finished\n"
          ]
        },
        {
          "output_type": "stream",
          "name": "stderr",
          "text": [
            "WARNING:absl:Found untraced functions such as lstm_cell_73_layer_call_fn, lstm_cell_73_layer_call_and_return_conditional_losses, lstm_cell_74_layer_call_fn, lstm_cell_74_layer_call_and_return_conditional_losses while saving (showing 4 of 4). These functions will not be directly callable after loading.\n"
          ]
        },
        {
          "output_type": "stream",
          "name": "stdout",
          "text": [
            "Prev _ ticker :  AARVI  -- curr ticker :  AAVAS\n",
            "[*********************100%***********************]  1 of 1 completed\n",
            "[*********************100%***********************]  1 of 1 completed\n",
            "Epoch 1/15\n",
            "853/858 [============================>.] - ETA: 0s - loss: 0.0022 - mae: 0.0456"
          ]
        },
        {
          "output_type": "stream",
          "name": "stderr",
          "text": [
            "WARNING:absl:Found untraced functions such as lstm_cell_75_layer_call_fn, lstm_cell_75_layer_call_and_return_conditional_losses, lstm_cell_76_layer_call_fn, lstm_cell_76_layer_call_and_return_conditional_losses while saving (showing 4 of 4). These functions will not be directly callable after loading.\n"
          ]
        },
        {
          "output_type": "stream",
          "name": "stdout",
          "text": [
            "\b\b\b\b\b\b\b\b\b\b\b\b\b\b\b\b\b\b\b\b\b\b\b\b\b\b\b\b\b\b\b\b\b\b\b\b\b\b\b\b\b\b\b\b\b\b\b\b\b\b\b\b\b\b\b\b\b\b\b\b\b\b\b\b\b\b\b\b\b\b\b\b\b\b\b\b\b\b\b\r858/858 [==============================] - 21s 21ms/step - loss: 0.0022 - mae: 0.0456 - val_loss: 0.0096 - val_mae: 0.1119\n",
            "Epoch 2/15\n",
            "857/858 [============================>.] - ETA: 0s - loss: 8.8220e-04 - mae: 0.0306"
          ]
        },
        {
          "output_type": "stream",
          "name": "stderr",
          "text": [
            "WARNING:absl:Found untraced functions such as lstm_cell_75_layer_call_fn, lstm_cell_75_layer_call_and_return_conditional_losses, lstm_cell_76_layer_call_fn, lstm_cell_76_layer_call_and_return_conditional_losses while saving (showing 4 of 4). These functions will not be directly callable after loading.\n"
          ]
        },
        {
          "output_type": "stream",
          "name": "stdout",
          "text": [
            "\b\b\b\b\b\b\b\b\b\b\b\b\b\b\b\b\b\b\b\b\b\b\b\b\b\b\b\b\b\b\b\b\b\b\b\b\b\b\b\b\b\b\b\b\b\b\b\b\b\b\b\b\b\b\b\b\b\b\b\b\b\b\b\b\b\b\b\b\b\b\b\b\b\b\b\b\b\b\b\b\b\b\b\r858/858 [==============================] - 18s 21ms/step - loss: 8.8226e-04 - mae: 0.0306 - val_loss: 0.0088 - val_mae: 0.1085\n",
            "Epoch 3/15\n",
            "858/858 [==============================] - 11s 13ms/step - loss: 7.7312e-04 - mae: 0.0279 - val_loss: 0.0104 - val_mae: 0.1165\n",
            "Epoch 4/15\n",
            "858/858 [==============================] - 12s 14ms/step - loss: 7.6210e-04 - mae: 0.0279 - val_loss: 0.0144 - val_mae: 0.1288\n",
            "Epoch 5/15\n",
            "858/858 [==============================] - 11s 13ms/step - loss: 8.3608e-04 - mae: 0.0286 - val_loss: 0.0112 - val_mae: 0.1242\n",
            "Epoch 6/15\n",
            "858/858 [==============================] - 11s 13ms/step - loss: 8.6060e-04 - mae: 0.0283 - val_loss: 0.0107 - val_mae: 0.1180\n",
            "Epoch 7/15\n",
            "858/858 [==============================] - 11s 13ms/step - loss: 6.5468e-04 - mae: 0.0249 - val_loss: 0.0118 - val_mae: 0.1222\n",
            "Epoch 8/15\n",
            "858/858 [==============================] - 11s 13ms/step - loss: 9.1968e-04 - mae: 0.0304 - val_loss: 0.0114 - val_mae: 0.1212\n",
            "Epoch 9/15\n",
            "858/858 [==============================] - 11s 13ms/step - loss: 7.4227e-04 - mae: 0.0273 - val_loss: 0.0128 - val_mae: 0.1222\n",
            "Epoch 10/15\n",
            "858/858 [==============================] - 11s 13ms/step - loss: 8.1381e-04 - mae: 0.0287 - val_loss: 0.0102 - val_mae: 0.1139\n",
            "Epoch 11/15\n",
            "858/858 [==============================] - 11s 13ms/step - loss: 7.8637e-04 - mae: 0.0279 - val_loss: 0.0099 - val_mae: 0.1105\n",
            "Epoch 12/15\n",
            "858/858 [==============================] - 11s 13ms/step - loss: 7.5927e-04 - mae: 0.0277 - val_loss: 0.0108 - val_mae: 0.1172\n",
            "Training finished\n"
          ]
        },
        {
          "output_type": "stream",
          "name": "stderr",
          "text": [
            "WARNING:absl:Found untraced functions such as lstm_cell_75_layer_call_fn, lstm_cell_75_layer_call_and_return_conditional_losses, lstm_cell_76_layer_call_fn, lstm_cell_76_layer_call_and_return_conditional_losses while saving (showing 4 of 4). These functions will not be directly callable after loading.\n"
          ]
        },
        {
          "output_type": "stream",
          "name": "stdout",
          "text": [
            "Prev _ ticker :  AAVAS  -- curr ticker :  ABAN\n",
            "[*********************100%***********************]  1 of 1 completed\n",
            "[*********************100%***********************]  1 of 1 completed\n",
            "Epoch 1/15\n",
            "4262/4264 [============================>.] - ETA: 0s - loss: 0.0018 - mae: 0.0202"
          ]
        },
        {
          "output_type": "stream",
          "name": "stderr",
          "text": [
            "WARNING:absl:Found untraced functions such as lstm_cell_77_layer_call_fn, lstm_cell_77_layer_call_and_return_conditional_losses, lstm_cell_78_layer_call_fn, lstm_cell_78_layer_call_and_return_conditional_losses while saving (showing 4 of 4). These functions will not be directly callable after loading.\n"
          ]
        },
        {
          "output_type": "stream",
          "name": "stdout",
          "text": [
            "\b\b\b\b\b\b\b\b\b\b\b\b\b\b\b\b\b\b\b\b\b\b\b\b\b\b\b\b\b\b\b\b\b\b\b\b\b\b\b\b\b\b\b\b\b\b\b\b\b\b\b\b\b\b\b\b\b\b\b\b\b\b\b\b\b\b\b\b\b\b\b\b\b\b\b\b\b\b\b\b\b\r4264/4264 [==============================] - 65s 15ms/step - loss: 0.0018 - mae: 0.0202 - val_loss: 6.0795e-04 - val_mae: 0.0348\n",
            "Epoch 2/15\n",
            "4264/4264 [==============================] - 57s 13ms/step - loss: 7.3765e-04 - mae: 0.0172 - val_loss: 0.0014 - val_mae: 0.0530\n",
            "Epoch 3/15\n",
            "4264/4264 [==============================] - 56s 13ms/step - loss: 7.3659e-04 - mae: 0.0175 - val_loss: 0.0098 - val_mae: 0.1397\n",
            "Epoch 4/15\n",
            "4264/4264 [==============================] - 56s 13ms/step - loss: 6.8222e-04 - mae: 0.0198 - val_loss: 0.0189 - val_mae: 0.1944\n",
            "Epoch 5/15\n",
            "4264/4264 [==============================] - 57s 13ms/step - loss: 8.9463e-04 - mae: 0.0261 - val_loss: 0.0177 - val_mae: 0.1871\n",
            "Epoch 6/15\n",
            "4264/4264 [==============================] - 56s 13ms/step - loss: 7.1184e-04 - mae: 0.0205 - val_loss: 0.0247 - val_mae: 0.2219\n",
            "Epoch 7/15\n",
            "4259/4264 [============================>.] - ETA: 0s - loss: 7.8158e-04 - mae: 0.0266"
          ]
        },
        {
          "output_type": "stream",
          "name": "stderr",
          "text": [
            "WARNING:absl:Found untraced functions such as lstm_cell_77_layer_call_fn, lstm_cell_77_layer_call_and_return_conditional_losses, lstm_cell_78_layer_call_fn, lstm_cell_78_layer_call_and_return_conditional_losses while saving (showing 4 of 4). These functions will not be directly callable after loading.\n"
          ]
        },
        {
          "output_type": "stream",
          "name": "stdout",
          "text": [
            "\b\b\b\b\b\b\b\b\b\b\b\b\b\b\b\b\b\b\b\b\b\b\b\b\b\b\b\b\b\b\b\b\b\b\b\b\b\b\b\b\b\b\b\b\b\b\b\b\b\b\b\b\b\b\b\b\b\b\b\b\b\b\b\b\b\b\b\b\b\b\b\b\b\b\b\b\b\b\b\b\b\b\b\b\b\r4264/4264 [==============================] - 62s 15ms/step - loss: 7.8071e-04 - mae: 0.0266 - val_loss: 4.2292e-04 - val_mae: 0.0288\n",
            "Epoch 8/15\n",
            "4264/4264 [==============================] - 55s 13ms/step - loss: 5.7897e-04 - mae: 0.0190 - val_loss: 0.0274 - val_mae: 0.2329\n",
            "Epoch 9/15\n",
            "4264/4264 [==============================] - 56s 13ms/step - loss: 5.9287e-04 - mae: 0.0221 - val_loss: 0.0096 - val_mae: 0.1348\n",
            "Epoch 10/15\n",
            "4264/4264 [==============================] - 55s 13ms/step - loss: 5.2933e-04 - mae: 0.0207 - val_loss: 0.2133 - val_mae: 0.6501\n",
            "Epoch 11/15\n",
            "4264/4264 [==============================] - 55s 13ms/step - loss: 5.0484e-04 - mae: 0.0178 - val_loss: 0.0192 - val_mae: 0.1946\n",
            "Epoch 12/15\n",
            "4264/4264 [==============================] - 57s 13ms/step - loss: 3.5814e-04 - mae: 0.0150 - val_loss: 0.0497 - val_mae: 0.2931\n",
            "Epoch 13/15\n",
            "4264/4264 [==============================] - 57s 13ms/step - loss: 4.7090e-04 - mae: 0.0201 - val_loss: 0.0414 - val_mae: 0.2255\n",
            "Epoch 14/15\n",
            "4264/4264 [==============================] - 55s 13ms/step - loss: 3.8943e-04 - mae: 0.0165 - val_loss: 0.0184 - val_mae: 0.1288\n",
            "Epoch 15/15\n",
            "4264/4264 [==============================] - 56s 13ms/step - loss: 5.0353e-04 - mae: 0.0167 - val_loss: 0.0432 - val_mae: 0.2666\n",
            "Training finished\n"
          ]
        },
        {
          "output_type": "stream",
          "name": "stderr",
          "text": [
            "WARNING:absl:Found untraced functions such as lstm_cell_77_layer_call_fn, lstm_cell_77_layer_call_and_return_conditional_losses, lstm_cell_78_layer_call_fn, lstm_cell_78_layer_call_and_return_conditional_losses while saving (showing 4 of 4). These functions will not be directly callable after loading.\n"
          ]
        }
      ]
    },
    {
      "cell_type": "code",
      "source": [
        "prev_ticker"
      ],
      "metadata": {
        "colab": {
          "base_uri": "https://localhost:8080/",
          "height": 35
        },
        "id": "_ZZQzJWkbKc_",
        "outputId": "906f2508-a8d6-48c5-9f38-5f752ca3094f"
      },
      "execution_count": 55,
      "outputs": [
        {
          "output_type": "execute_result",
          "data": {
            "text/plain": [
              "'ABAN'"
            ],
            "application/vnd.google.colaboratory.intrinsic+json": {
              "type": "string"
            }
          },
          "metadata": {},
          "execution_count": 55
        }
      ]
    },
    {
      "cell_type": "code",
      "source": [
        "\n",
        "def buildTestModel(prev_ticker, ticker):\n",
        "  rel_stock_model = StockModel(lstm_nodes = lstm_nodes , first_model = False, prev_ticker = prev_ticker, ticker = ticker, window_size = window_size, batch_size = batch_size)\n",
        "\n",
        "      \n",
        "  rel_stock_model.prepare_data()\n",
        "  rel_stock_model.evaluate()\n",
        "  return rel_stock_model\n",
        "def showResult(smodel , starts = 0, days = 10):\n",
        "  smodel.show_result(starts, days)"
      ],
      "metadata": {
        "id": "jT25CJ_2fFjj"
      },
      "execution_count": 56,
      "outputs": []
    },
    {
      "cell_type": "code",
      "source": [
        "ticker = \"RELIANCE\"\n",
        "\n",
        "smodel  = buildTestModel(prev_ticker, ticker)\n"
      ],
      "metadata": {
        "colab": {
          "base_uri": "https://localhost:8080/"
        },
        "id": "BOiXQ-6Muavj",
        "outputId": "48aab131-af6c-47dc-d5b5-ff119ac2408b"
      },
      "execution_count": 66,
      "outputs": [
        {
          "output_type": "stream",
          "name": "stdout",
          "text": [
            "[*********************100%***********************]  1 of 1 completed\n",
            "1/1 [==============================] - 1s 644ms/step\n"
          ]
        }
      ]
    },
    {
      "cell_type": "code",
      "source": [
        "showResult(smodel,175,10) "
      ],
      "metadata": {
        "colab": {
          "base_uri": "https://localhost:8080/",
          "height": 410
        },
        "id": "oh6rVR5Jupqa",
        "outputId": "98525a75-de56-433c-de32-f19c146bf703"
      },
      "execution_count": 67,
      "outputs": [
        {
          "output_type": "display_data",
          "data": {
            "text/plain": [
              "<Figure size 720x432 with 1 Axes>"
            ],
            "image/png": "[encoded data removed]"
          },
          "metadata": {}
        }
      ]
    },
    {
      "cell_type": "code",
      "source": [
        "stock_models_dict[list(stock_models_dict.keys())[1]]['model'].save_model()"
      ],
      "metadata": {
        "colab": {
          "base_uri": "https://localhost:8080/"
        },
        "id": "N5ClM5loAKzY",
        "outputId": "56c1e35b-5b80-40ca-9811-fc6489b89626"
      },
      "execution_count": 21,
      "outputs": [
        {
          "output_type": "stream",
          "name": "stderr",
          "text": [
            "WARNING:absl:Found untraced functions such as lstm_cell_10_layer_call_fn, lstm_cell_10_layer_call_and_return_conditional_losses, lstm_cell_11_layer_call_fn, lstm_cell_11_layer_call_and_return_conditional_losses while saving (showing 4 of 4). These functions will not be directly callable after loading.\n"
          ]
        }
      ]
    },
    {
      "cell_type": "code",
      "source": [
        "def show_history(history):\n",
        "  print(history.history.keys())\n",
        "  # summarize history for accuracy\n",
        "  plt.plot(history.history['mae'])\n",
        "  plt.plot(history.history['val_mae'])\n",
        "  plt.title('model mae')\n",
        "  plt.ylabel('mae')\n",
        "  plt.xlabel('epoch')\n",
        "  plt.legend(['train', 'test'], loc='upper left')\n",
        "  plt.show()\n",
        "  # summarize history for loss\n",
        "  plt.plot(history.history['loss'])\n",
        "  plt.plot(history.history['val_loss'])\n",
        "  plt.title('model loss')\n",
        "  plt.ylabel('loss')\n",
        "  plt.xlabel('epoch')\n",
        "  plt.legend(['train', 'test'], loc='upper left')\n",
        "  plt.show()"
      ],
      "metadata": {
        "id": "wmqckHmR3RzX"
      },
      "execution_count": 29,
      "outputs": []
    },
    {
      "cell_type": "code",
      "source": [
        "show_history(stock_models_dict[list(stock_models_dict.keys())[0]]['history'])"
      ],
      "metadata": {
        "colab": {
          "base_uri": "https://localhost:8080/",
          "height": 1000
        },
        "id": "-0bCy8V_8xm4",
        "outputId": "5382e4cc-1af3-4ff7-dd66-44ce2a2ed70f"
      },
      "execution_count": 30,
      "outputs": [
        {
          "output_type": "stream",
          "name": "stdout",
          "text": [
            "dict_keys(['loss', 'mae', 'val_loss', 'val_mae'])\n"
          ]
        },
        {
          "output_type": "display_data",
          "data": {
            "text/plain": [
              "<Figure size 720x720 with 1 Axes>"
            ],
            "image/png": "[encoded data removed]"
          },
          "metadata": {}
        },
        {
          "output_type": "display_data",
          "data": {
            "text/plain": [
              "<Figure size 720x720 with 1 Axes>"
            ],
            "image/png": "[encoded data removed]"
          },
          "metadata": {}
        }
      ]
    },
    {
      "cell_type": "code",
      "source": [
        "list(stock_models_dict.keys())"
      ],
      "metadata": {
        "colab": {
          "base_uri": "https://localhost:8080/"
        },
        "id": "0vpj9Pqo84wY",
        "outputId": "0e9418c0-841d-47d1-8ba8-a3ff427f5270"
      },
      "execution_count": null,
      "outputs": [
        {
          "output_type": "execute_result",
          "data": {
            "text/plain": [
              "['20MICRONS', '21STCENMGM']"
            ]
          },
          "metadata": {},
          "execution_count": 16
        }
      ]
    },
    {
      "cell_type": "code",
      "source": [],
      "metadata": {
        "id": "fov-gPvCPP37"
      },
      "execution_count": null,
      "outputs": []
    }
  ],
  "metadata": {
    "colab": {
      "provenance": [],
      "collapsed_sections": [
        "EPjK0l9P8OJM",
        "7EyiYesc-EPU",
        "kVkhv3sk-LlA",
        "yRBHsgYm3qhT"
      ],
      "include_colab_link": true
    },
    "kernelspec": {
      "display_name": "Python 3",
      "language": "python",
      "name": "python3"
    },
    "language_info": {
      "codemirror_mode": {
        "name": "ipython",
        "version": 3
      },
      "file_extension": ".py",
      "mimetype": "text/x-python",
      "name": "python",
      "nbconvert_exporter": "python",
      "pygments_lexer": "ipython3",
      "version": "3.7.6"
    },
    "gpuClass": "standard",
    "accelerator": "GPU"
  },
  "nbformat": 4,
  "nbformat_minor": 0
}